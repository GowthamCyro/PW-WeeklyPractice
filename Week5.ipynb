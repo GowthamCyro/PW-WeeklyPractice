{
 "cells": [
  {
   "cell_type": "markdown",
   "id": "7dcd2f18-5c14-47f3-9d49-62086f07a109",
   "metadata": {},
   "source": [
    "Files"
   ]
  },
  {
   "cell_type": "code",
   "execution_count": 1,
   "id": "d9421e4b-886b-4f03-85f9-f681e1a4c896",
   "metadata": {},
   "outputs": [],
   "source": [
    "f = open(\"test.txt\",'x')     #click on open and press \"Shift+tab\" you can see description about it"
   ]
  },
  {
   "cell_type": "markdown",
   "id": "11275991-8cee-4d6a-a4a2-fa88d0eca64e",
   "metadata": {},
   "source": [
    "'x' (exclusive creation mode): When you open a file in exclusive creation mode ('x'), it allows you to write data to a new file only if it does not already exist. If the file already exists, a FileExistsError will be raised. This mode is useful when you want to ensure that you are creating a new file and not accidentally overwriting an existing one."
   ]
  },
  {
   "cell_type": "code",
   "execution_count": 2,
   "id": "b924558a-f459-49f7-91d9-d91bb884b08f",
   "metadata": {},
   "outputs": [
    {
     "data": {
      "text/plain": [
       "21"
      ]
     },
     "execution_count": 2,
     "metadata": {},
     "output_type": "execute_result"
    }
   ],
   "source": [
    "f.write(\"Hello this is gowtham\")"
   ]
  },
  {
   "cell_type": "code",
   "execution_count": 3,
   "id": "42116685-647e-4e37-a464-d06400dc4ee5",
   "metadata": {},
   "outputs": [],
   "source": [
    "f.close()  #we should make sure that the file is closed in order to update the changes else the changes are not made to the file"
   ]
  },
  {
   "cell_type": "code",
   "execution_count": 4,
   "id": "29f09ce0-cf97-4796-a303-f59aaaa8adb5",
   "metadata": {},
   "outputs": [],
   "source": [
    "f = open(\"test.txt\",'r')  #read mode"
   ]
  },
  {
   "cell_type": "code",
   "execution_count": 5,
   "id": "56903cc9-e6cf-471f-a783-b173b0835797",
   "metadata": {},
   "outputs": [
    {
     "data": {
      "text/plain": [
       "'Hello this is gowtham'"
      ]
     },
     "execution_count": 5,
     "metadata": {},
     "output_type": "execute_result"
    }
   ],
   "source": [
    "f.read()"
   ]
  },
  {
   "cell_type": "code",
   "execution_count": 6,
   "id": "117e55f7-268a-4b15-8e81-4ac98d449aa7",
   "metadata": {},
   "outputs": [],
   "source": [
    "f.close()  "
   ]
  },
  {
   "cell_type": "code",
   "execution_count": 7,
   "id": "7ff39716-cf8b-484e-bb28-a09a8e86b425",
   "metadata": {},
   "outputs": [],
   "source": [
    "f = open(\"test.txt\",'w')"
   ]
  },
  {
   "cell_type": "markdown",
   "id": "fb8f8d62-c17c-45bb-949b-bf716d5a2eb8",
   "metadata": {},
   "source": [
    "'w' (write mode): When you open a file in write mode ('w'), it allows you to write data to the file. If the file does not exist, it will be created. If it already exists, the previous content of the file will be truncated (deleted) before writing new data. In other words, opening a file in write mode will overwrite the existing content."
   ]
  },
  {
   "cell_type": "code",
   "execution_count": 8,
   "id": "daf185a5-15ef-4bbc-b328-6d3d84ea8d0f",
   "metadata": {},
   "outputs": [
    {
     "data": {
      "text/plain": [
       "36"
      ]
     },
     "execution_count": 8,
     "metadata": {},
     "output_type": "execute_result"
    }
   ],
   "source": [
    "f.write(\"This the data science masters course\")"
   ]
  },
  {
   "cell_type": "code",
   "execution_count": 9,
   "id": "865feda6-3bc9-435a-aaf0-915d015a4d1f",
   "metadata": {},
   "outputs": [],
   "source": [
    "f.close()"
   ]
  },
  {
   "cell_type": "code",
   "execution_count": 10,
   "id": "64aed93b-8ed5-4b33-978d-39ec63ab44bd",
   "metadata": {},
   "outputs": [],
   "source": [
    "f = open(\"test.txt\",'r')"
   ]
  },
  {
   "cell_type": "code",
   "execution_count": 11,
   "id": "c04b2a3b-c324-4458-ac89-0a81f859eb32",
   "metadata": {},
   "outputs": [
    {
     "data": {
      "text/plain": [
       "'This the data science masters course'"
      ]
     },
     "execution_count": 11,
     "metadata": {},
     "output_type": "execute_result"
    }
   ],
   "source": [
    "f.read()"
   ]
  },
  {
   "cell_type": "code",
   "execution_count": 12,
   "id": "98dcc114-c13a-4e77-8396-bc59e57bf560",
   "metadata": {},
   "outputs": [],
   "source": [
    "f.close()"
   ]
  },
  {
   "cell_type": "code",
   "execution_count": 13,
   "id": "6c464269-f7b4-448c-a858-016a098698d5",
   "metadata": {},
   "outputs": [],
   "source": [
    "f = open(\"test.txt\",'a')  # open for writing, appending to the end of the file if it exists"
   ]
  },
  {
   "cell_type": "code",
   "execution_count": 14,
   "id": "8f5de7c2-45f1-4d12-a1a7-0b82f6f2e310",
   "metadata": {},
   "outputs": [
    {
     "data": {
      "text/plain": [
       "17"
      ]
     },
     "execution_count": 14,
     "metadata": {},
     "output_type": "execute_result"
    }
   ],
   "source": [
    "f.write(\"This is my week 5\")"
   ]
  },
  {
   "cell_type": "code",
   "execution_count": 15,
   "id": "16a14c93-414e-4bc5-a997-134c6978f300",
   "metadata": {},
   "outputs": [],
   "source": [
    "f.close()"
   ]
  },
  {
   "cell_type": "code",
   "execution_count": 16,
   "id": "e8b7a4b3-17c3-4b17-8c74-0e7a89a066e3",
   "metadata": {},
   "outputs": [
    {
     "data": {
      "text/plain": [
       "'This the data science masters courseThis is my week 5'"
      ]
     },
     "execution_count": 16,
     "metadata": {},
     "output_type": "execute_result"
    }
   ],
   "source": [
    "f = open(\"test.txt\",'r')\n",
    "f.read()"
   ]
  },
  {
   "cell_type": "code",
   "execution_count": 17,
   "id": "d6b096f3-437a-4526-af4f-d3037efd49b3",
   "metadata": {},
   "outputs": [],
   "source": [
    "f.close()"
   ]
  },
  {
   "cell_type": "code",
   "execution_count": 18,
   "id": "d9155d4b-9e62-4674-94d3-1527791207f2",
   "metadata": {},
   "outputs": [],
   "source": [
    "#In order to delete previously updated data in a file\n",
    "f = open(\"test.txt\",'r+')  # here if we use w+ the whole data gets deleted initially"
   ]
  },
  {
   "cell_type": "markdown",
   "id": "57317b30-f24a-4c27-8f09-fc75142d37aa",
   "metadata": {},
   "source": [
    "'r+' mode: When you open a file in 'r+' mode, it allows both reading and writing operations on the file. The file pointer is initially positioned at the beginning of the file, and any data you write will overwrite the existing content starting from the current position. However, the 'r+' mode does not automatically truncate the file or delete the existing data when you open it."
   ]
  },
  {
   "cell_type": "markdown",
   "id": "3c38a2f3-4ef1-4769-8317-09eaed1e3c96",
   "metadata": {},
   "source": [
    "'w+' mode: When you open a file in 'w+' mode, it also allows both reading and writing operations on the file. However, unlike 'r+' mode, the 'w+' mode automatically truncates the file to size 0 when you open it, effectively deleting all the existing data. Therefore, if you want to preserve the previous content and perform both read and write operations, 'w+' mode may not be suitable as it will delete the data initially."
   ]
  },
  {
   "cell_type": "code",
   "execution_count": 19,
   "id": "2849967b-ea1e-4f5e-bc31-3870f4307381",
   "metadata": {},
   "outputs": [
    {
     "data": {
      "text/plain": [
       "36"
      ]
     },
     "execution_count": 19,
     "metadata": {},
     "output_type": "execute_result"
    }
   ],
   "source": [
    "f.truncate(36) # it deletes the data from the given index of a file"
   ]
  },
  {
   "cell_type": "code",
   "execution_count": 20,
   "id": "e69ba465-01dd-4a96-a95a-9c7caf3617ce",
   "metadata": {},
   "outputs": [
    {
     "data": {
      "text/plain": [
       "'This the data science masters course'"
      ]
     },
     "execution_count": 20,
     "metadata": {},
     "output_type": "execute_result"
    }
   ],
   "source": [
    "f.read()"
   ]
  },
  {
   "cell_type": "code",
   "execution_count": 21,
   "id": "2424c6f4-b01d-4197-b292-bbd0857686aa",
   "metadata": {},
   "outputs": [
    {
     "data": {
      "text/plain": [
       "''"
      ]
     },
     "execution_count": 21,
     "metadata": {},
     "output_type": "execute_result"
    }
   ],
   "source": [
    "f.read() # here when I tried to read the file twice in a single file opening therefore it gave me blank because when I read the file once the cursor reaches to the end of the file so in order to overcome this we need change cursor to initial position again"
   ]
  },
  {
   "cell_type": "code",
   "execution_count": 22,
   "id": "2eff1489-b6a1-496a-998f-b54e9b0e95e0",
   "metadata": {},
   "outputs": [
    {
     "data": {
      "text/plain": [
       "0"
      ]
     },
     "execution_count": 22,
     "metadata": {},
     "output_type": "execute_result"
    }
   ],
   "source": [
    "f.seek(0) # changes the file cursor to initial index or starting index"
   ]
  },
  {
   "cell_type": "code",
   "execution_count": 23,
   "id": "45a53de3-5e78-49a8-8b68-c280f58aeefd",
   "metadata": {},
   "outputs": [
    {
     "data": {
      "text/plain": [
       "'This the data science masters course'"
      ]
     },
     "execution_count": 23,
     "metadata": {},
     "output_type": "execute_result"
    }
   ],
   "source": [
    "f.read()"
   ]
  },
  {
   "cell_type": "code",
   "execution_count": 24,
   "id": "1b197ea5-49be-4cdd-8287-8bb482c3565b",
   "metadata": {},
   "outputs": [],
   "source": [
    "f.close()"
   ]
  },
  {
   "cell_type": "code",
   "execution_count": 25,
   "id": "bb689f52-50de-4d30-bdb6-536e93e6dea4",
   "metadata": {},
   "outputs": [
    {
     "data": {
      "text/plain": [
       "'THis is my file'"
      ]
     },
     "execution_count": 25,
     "metadata": {},
     "output_type": "execute_result"
    }
   ],
   "source": [
    "# Read from the file\n",
    "file = open(\"example.txt\", \"x\")\n",
    "file.write(\"THis is my file\")\n",
    "file.close()\n",
    "file = open(\"example.txt\", \"rt\")  # 't' indicates the text mode\n",
    "content = file.read()\n",
    "file.close()\n",
    "content"
   ]
  },
  {
   "cell_type": "code",
   "execution_count": 26,
   "id": "bfc455d2-ad9d-4569-b917-75f7fe8a38fc",
   "metadata": {},
   "outputs": [],
   "source": [
    "# Modify the content\n",
    "modified_content = content.lower()\n",
    "\n",
    "# Write the modified content back to the file\n",
    "file = open(\"example.txt\", \"wt\")\n",
    "file.write(modified_content)\n",
    "file.close()\n"
   ]
  },
  {
   "cell_type": "code",
   "execution_count": 27,
   "id": "c4874b46-1595-4045-a6de-1349e1a664fe",
   "metadata": {},
   "outputs": [
    {
     "data": {
      "text/plain": [
       "'this is my file'"
      ]
     },
     "execution_count": 27,
     "metadata": {},
     "output_type": "execute_result"
    }
   ],
   "source": [
    "# Read from the file\n",
    "file = open(\"example.txt\", \"rt\")  # 't' indicates the text mode\n",
    "content = file.read()\n",
    "file.close()\n",
    "content"
   ]
  },
  {
   "cell_type": "code",
   "execution_count": 28,
   "id": "45480508-0cc9-4ebc-96ed-6f9409f33f28",
   "metadata": {},
   "outputs": [],
   "source": [
    "modified_content = content.upper()\n",
    "\n",
    "# Write the modified content back to the file\n",
    "file = open(\"example.txt\", \"w\")   #we can also perform same operation with 'w'\n",
    "file.write(modified_content)\n",
    "file.close()\n"
   ]
  },
  {
   "cell_type": "code",
   "execution_count": 29,
   "id": "21b4d201-5b07-4c14-92be-3ba0663faf2f",
   "metadata": {},
   "outputs": [
    {
     "data": {
      "text/plain": [
       "'THIS IS MY FILE'"
      ]
     },
     "execution_count": 29,
     "metadata": {},
     "output_type": "execute_result"
    }
   ],
   "source": [
    "# Read from the file\n",
    "file = open(\"example.txt\", \"rt\")  # 't' indicates the text mode\n",
    "content = file.read()\n",
    "file.close()\n",
    "content"
   ]
  },
  {
   "cell_type": "code",
   "execution_count": 30,
   "id": "b77200ff-2c58-4f08-88f9-c57cb4ff256d",
   "metadata": {},
   "outputs": [],
   "source": [
    "import os "
   ]
  },
  {
   "cell_type": "code",
   "execution_count": 31,
   "id": "e6c8ed8c-84c8-4f74-8f3b-f194a8304761",
   "metadata": {},
   "outputs": [
    {
     "data": {
      "text/plain": [
       "36"
      ]
     },
     "execution_count": 31,
     "metadata": {},
     "output_type": "execute_result"
    }
   ],
   "source": [
    "os.path.getsize(\"test.txt\")"
   ]
  },
  {
   "cell_type": "code",
   "execution_count": 32,
   "id": "cc22916b-7208-410c-9e39-e669855d8e88",
   "metadata": {},
   "outputs": [],
   "source": [
    "import shutil"
   ]
  },
  {
   "cell_type": "code",
   "execution_count": 33,
   "id": "0acb11ba-f028-4fa6-ba81-a69820a1e26b",
   "metadata": {},
   "outputs": [
    {
     "data": {
      "text/plain": [
       "'test1.txt'"
      ]
     },
     "execution_count": 33,
     "metadata": {},
     "output_type": "execute_result"
    }
   ],
   "source": [
    "shutil.copy('test.txt','test1.txt') # a new copy is created here"
   ]
  },
  {
   "cell_type": "code",
   "execution_count": 34,
   "id": "ddc4c346-49de-4cda-97f0-436967a5e303",
   "metadata": {},
   "outputs": [],
   "source": [
    "# if we want to remove any file we can use \n",
    "os.remove('test.txt')"
   ]
  },
  {
   "cell_type": "code",
   "execution_count": 35,
   "id": "591dd5b6-c72d-49d8-b2a6-125ed0d14c29",
   "metadata": {},
   "outputs": [],
   "source": [
    "# to rename a file\n",
    "os.rename('test1.txt','myfile.txt')"
   ]
  },
  {
   "cell_type": "code",
   "execution_count": 36,
   "id": "f26a0f73-d582-4d83-80e2-4de108d11115",
   "metadata": {},
   "outputs": [],
   "source": [
    "os.remove('example.txt')"
   ]
  },
  {
   "cell_type": "code",
   "execution_count": 37,
   "id": "43ce728d-eb76-414b-8796-8cffd2ec7d9a",
   "metadata": {},
   "outputs": [
    {
     "name": "stdout",
     "output_type": "stream",
     "text": [
      "This the data science masters course\n"
     ]
    }
   ],
   "source": [
    "# opening files in a different way\n",
    "f = open('myfile.txt')\n",
    "for i in f:\n",
    "    print(i)"
   ]
  },
  {
   "cell_type": "code",
   "execution_count": 38,
   "id": "70df5243-8806-45a5-9f2e-7532fefb087e",
   "metadata": {},
   "outputs": [
    {
     "name": "stdout",
     "output_type": "stream",
     "text": [
      "This the data science masters course\n"
     ]
    }
   ],
   "source": [
    "with open('myfile.txt','r') as f:\n",
    "    print(f.read())"
   ]
  },
  {
   "cell_type": "markdown",
   "id": "bc09dcfd-6e04-4dfb-997c-706c6b5fae0f",
   "metadata": {},
   "source": [
    "Reading and Writing Files"
   ]
  },
  {
   "cell_type": "code",
   "execution_count": 39,
   "id": "3a9d6dc1-0ae4-4944-a4f7-3a98e92e9caf",
   "metadata": {},
   "outputs": [],
   "source": [
    "data = {\n",
    "    \"name\" : \"Gowtham\",\n",
    "    \"age\" : 19,\n",
    "    \"mail_id\" : \"cyrogamer.yt@gmail.com\",\n",
    "    \"phone_num\" : 8555021351,\n",
    "    \"subject\" : [\"data science\",\"python\",\"java\"]\n",
    "}\n",
    "\n",
    "import json\n",
    "\n",
    "'''\n",
    "with open(\"test1.json\",\"w\") as f:\n",
    "    json.dump(data,f)'''\n",
    "\n",
    "file = open(\"test1.json\",'w')\n",
    "json.dump(data,file)\n",
    "file.close()"
   ]
  },
  {
   "cell_type": "code",
   "execution_count": 40,
   "id": "7cf5b219-8ff5-42dc-bf09-dc0e8c50f98d",
   "metadata": {},
   "outputs": [],
   "source": [
    "f = open(\"test1.json\",\"r\")\n",
    "data1 = json.load(f)\n",
    "data1\n",
    "f.close()\n",
    "\n",
    "#with open(\"test1.json\",'r') as f:\n",
    "   # json.load(f)\n"
   ]
  },
  {
   "cell_type": "code",
   "execution_count": 41,
   "id": "15ca7707-53b0-4047-91d8-89158f659e54",
   "metadata": {},
   "outputs": [],
   "source": [
    "import csv\n",
    "\n",
    "data = [[\"name\",'id','email'],[\"Gowtham\",\"57\",\"gowtham@gmail.com\"],[\"King\",\"76\",\"king@gmail.com\"],[\"mythili\",\"56\",\"mythili@gmail.com\"]]\n",
    "\n",
    "\n",
    "with open(\"test2.csv\",'w') as f:\n",
    "    w = csv.writer(f)\n",
    "    for i in data:\n",
    "        w.writerow(i)\n",
    "    f.close()    \n"
   ]
  },
  {
   "cell_type": "code",
   "execution_count": 42,
   "id": "7a372c08-ffbc-4e5f-a1cc-90cacebf0926",
   "metadata": {},
   "outputs": [],
   "source": [
    "import csv\n",
    "\n",
    "data = [[\"name\",\"id\",\"email\"],[\"Gowtham\",\"57\",\"gowtham@gmail.com\"],[\"Mythili\",\"56\",\"mythili@gmail.com\"],[\"Kaushik\",\"18\",\"kaushik@gmail.com\"]]\n",
    "\n",
    "\n",
    "file = open(\"test4.csv\",'w')\n",
    "w = csv.writer(file)\n",
    "for i in data:\n",
    "    w.writerow(i)\n",
    "file.close()    "
   ]
  },
  {
   "cell_type": "code",
   "execution_count": 43,
   "id": "33c81116-51a9-4669-bf2f-0c003c76d4b8",
   "metadata": {},
   "outputs": [
    {
     "name": "stdout",
     "output_type": "stream",
     "text": [
      "['name', 'id', 'email']\n",
      "['Gowtham', '57', 'gowtham@gmail.com']\n",
      "['Mythili', '56', 'mythili@gmail.com']\n",
      "['Kaushik', '18', 'kaushik@gmail.com']\n"
     ]
    }
   ],
   "source": [
    "file1 = open(\"test4.csv\",'r')\n",
    "r = csv.reader(file1)\n",
    "for i in r:\n",
    "    print(i)"
   ]
  },
  {
   "cell_type": "code",
   "execution_count": 44,
   "id": "66c467e3-6b78-48b1-9154-cd2886a40ff2",
   "metadata": {},
   "outputs": [],
   "source": [
    "with open(\"test5.bin\",'wb') as g:\n",
    "    g.write(b\"\\x01\\x02\\x03\")"
   ]
  },
  {
   "cell_type": "code",
   "execution_count": 45,
   "id": "f73dd8ad-ae67-46ce-b37f-69fc9bb3762b",
   "metadata": {},
   "outputs": [
    {
     "name": "stdout",
     "output_type": "stream",
     "text": [
      "b'\\x01\\x02\\x03'\n"
     ]
    }
   ],
   "source": [
    "with open(\"test5.bin\",'rb') as f:\n",
    "    print(f.read())"
   ]
  },
  {
   "cell_type": "markdown",
   "id": "566ee5a8-c673-4647-8c34-c2cd77dab4b1",
   "metadata": {},
   "source": [
    "Buffered Read and Write & other file methods"
   ]
  },
  {
   "cell_type": "code",
   "execution_count": 46,
   "id": "472c691b-cad0-41eb-a17d-ceb8942e7d0a",
   "metadata": {},
   "outputs": [],
   "source": [
    "import io"
   ]
  },
  {
   "cell_type": "markdown",
   "id": "7097d878-47c6-4a32-81c4-3f277e6ab5fa",
   "metadata": {},
   "source": [
    "The Buffered is used to read the data or write the data in the form of chunks(small part of data of defined size)"
   ]
  },
  {
   "cell_type": "code",
   "execution_count": 47,
   "id": "779b4165-2df0-43fa-ad2b-5a3c8e666ff7",
   "metadata": {},
   "outputs": [],
   "source": [
    "with open(\"sample.txt\",'wb') as f:\n",
    "    file = io.BufferedWriter(f)\n",
    "    file.write(b\"This is my bufferd write\\n\")\n",
    "    file.write(b\"This is my second line that I am trying to write\")\n",
    "    file.flush() # The file.flush() function is called to ensure that all the data is written to the file immediately.\n",
    "    #instead of file.flush() we can also use file.close()"
   ]
  },
  {
   "cell_type": "code",
   "execution_count": 48,
   "id": "298f0e34-f13f-42c9-a1ec-3dc0e4929392",
   "metadata": {},
   "outputs": [
    {
     "name": "stdout",
     "output_type": "stream",
     "text": [
      "b'This is my'\n",
      "b' bufferd write\\n'\n",
      "b'This is my seco'\n",
      "b'nd line that I am tr'\n",
      "b'ying to write'\n",
      "b'This is my bufferd write\\nThis is my second line that I am trying to write'\n"
     ]
    }
   ],
   "source": [
    "with open(\"sample.txt\",'rb') as f:\n",
    "    file = io.BufferedReader(f)\n",
    "    print(file.read(10))\n",
    "    print(file.read(15))\n",
    "    print(file.read(15))\n",
    "    print(file.read(20))\n",
    "    print(file.read(20))\n",
    "    file.seek(0)\n",
    "    print(file.read(100))"
   ]
  },
  {
   "cell_type": "raw",
   "id": "3f7a6207-6f4a-4a11-9f14-909a8aead8d6",
   "metadata": {},
   "source": [
    "LOGGING:\n",
    "Logging in Python is a way to capture and store information about the execution of a program. It helps in understanding the flow of the program, debugging issues, and monitoring the application's behavior. \n",
    "The Python standard library provides a module called logging for performing logging operations."
   ]
  },
  {
   "cell_type": "code",
   "execution_count": 49,
   "id": "a35cbc0a-5b2b-4f65-b771-2bbfdb9b1850",
   "metadata": {},
   "outputs": [],
   "source": [
    "import logging"
   ]
  },
  {
   "cell_type": "code",
   "execution_count": 50,
   "id": "f574bd32-c3af-4665-ad91-f860c07026dc",
   "metadata": {},
   "outputs": [],
   "source": [
    "logging.basicConfig(filename='gamer.log',level = logging.DEBUG)"
   ]
  },
  {
   "cell_type": "code",
   "execution_count": 51,
   "id": "e48dfda3-c3d6-4cb9-8db6-b3683b42c8f3",
   "metadata": {},
   "outputs": [],
   "source": [
    "logging.info(\"this is information\")"
   ]
  },
  {
   "cell_type": "markdown",
   "id": "aa0a34a9-97bc-4169-adc8-0f225ae0c6cd",
   "metadata": {},
   "source": [
    "Important Heirarchy order  # Remember the heirarchy is mainly used such that if I use logging.Debug as level then I can only use the logging operations down the Debug like (Info,Warning,Error,Critical)\n",
    "\n",
    "1. Notset\n",
    "2. DeBug\n",
    "3. Info\n",
    "4. Warning\n",
    "5. Error\n",
    "6. Critical\n",
    "\n",
    "The order of logging levels, from the lowest level to the highest level, is as follows:\n",
    "\n",
    "1. DEBUG\n",
    "2. INFO\n",
    "3. WARNING\n",
    "4. ERROR\n",
    "5. CRITICAL"
   ]
  },
  {
   "cell_type": "code",
   "execution_count": 52,
   "id": "7b711411-b151-482a-8485-6f3837e85cd9",
   "metadata": {},
   "outputs": [],
   "source": [
    "logging.debug(\"This is the debug\")"
   ]
  },
  {
   "cell_type": "code",
   "execution_count": 53,
   "id": "cf3fe11f-63fb-4814-9275-27b83ecd5412",
   "metadata": {},
   "outputs": [],
   "source": [
    "logging.warning(\"This is the warning\")"
   ]
  },
  {
   "cell_type": "code",
   "execution_count": 54,
   "id": "574efffb-1a82-40ee-82dd-c212e7c920c0",
   "metadata": {},
   "outputs": [],
   "source": [
    "logging.error(\"This is the error\")"
   ]
  },
  {
   "cell_type": "code",
   "execution_count": 55,
   "id": "c105525d-e0ff-4255-a46a-fa1d61065021",
   "metadata": {},
   "outputs": [],
   "source": [
    "logging.critical(\"This is the Critical\")"
   ]
  },
  {
   "cell_type": "code",
   "execution_count": 56,
   "id": "5af29aab-16a8-4dbf-8a98-e258dcebacc7",
   "metadata": {},
   "outputs": [],
   "source": [
    "logging.shutdown()"
   ]
  },
  {
   "cell_type": "code",
   "execution_count": 57,
   "id": "da182e83-c8d5-4503-ad33-8d5ffd3edc30",
   "metadata": {},
   "outputs": [],
   "source": [
    "logging.critical(\"This is the critical\")"
   ]
  },
  {
   "cell_type": "code",
   "execution_count": 58,
   "id": "2d0765ad-958d-452b-b6b6-52833ed9e7cc",
   "metadata": {},
   "outputs": [],
   "source": [
    "logging.error(\"This is an error in gamer.log\")"
   ]
  },
  {
   "cell_type": "code",
   "execution_count": 59,
   "id": "63b1ca04-6172-4459-979e-af44ae934b1d",
   "metadata": {},
   "outputs": [],
   "source": [
    "logging.shutdown()"
   ]
  },
  {
   "cell_type": "code",
   "execution_count": 61,
   "id": "3bcdf4d1-86c7-4249-af6d-2486b80e98f3",
   "metadata": {},
   "outputs": [],
   "source": []
  },
  {
   "cell_type": "code",
   "execution_count": 3,
   "id": "d53a2282-51f6-4ec2-ba80-b4a9e92b3526",
   "metadata": {},
   "outputs": [],
   "source": [
    "import logging\n",
    "logging.basicConfig(filename='prog.log',level = logging.NOTSET,format = '%(asctime)s %(message)s')"
   ]
  },
  {
   "cell_type": "code",
   "execution_count": 4,
   "id": "2fe1d3f9-5f28-498f-bb4b-1a9b62aaef9a",
   "metadata": {},
   "outputs": [],
   "source": [
    "logging.debug(\"This is debug\")"
   ]
  },
  {
   "cell_type": "code",
   "execution_count": 5,
   "id": "0f2e38ff-fa51-4914-a4db-8b560d221fc1",
   "metadata": {},
   "outputs": [],
   "source": [
    "logging.error(\"This is prog error\")"
   ]
  },
  {
   "cell_type": "code",
   "execution_count": 7,
   "id": "6fd96297-345b-4d8e-93c8-7e0b4d63f26e",
   "metadata": {},
   "outputs": [],
   "source": [
    "logging.shutdown()"
   ]
  },
  {
   "cell_type": "code",
   "execution_count": 1,
   "id": "0ed0b26a-eccf-473a-b4f9-3696b544b313",
   "metadata": {},
   "outputs": [],
   "source": [
    "import logging\n",
    "logging.basicConfig(filename='prog2.log',level = logging.NOTSET,format = '%(asctime)s %(name)s %(levelname)s %(message)s')"
   ]
  },
  {
   "cell_type": "code",
   "execution_count": 2,
   "id": "c059b178-8cef-4110-9529-89c23a346090",
   "metadata": {},
   "outputs": [],
   "source": [
    "logging.debug(\"This is my prog2 debug\")"
   ]
  },
  {
   "cell_type": "code",
   "execution_count": 8,
   "id": "7573069b-9c13-4d73-9829-a609f14d303d",
   "metadata": {},
   "outputs": [],
   "source": [
    "l = [1,2,3,4,5,[1,2,3,'helo','hi'],'gowtham','dataScience']\n",
    "l_int = []\n",
    "l_str=[]\n",
    "l1=[]\n",
    "l2=[]\n",
    "logging.info(\"This is the starting of the loop for iterating the list {}\".format(l))\n",
    "for i in l:\n",
    "    logging.info(\"This is the value of i in the loop {}\".format(i))\n",
    "    if type(i) is int:\n",
    "        l_int.append(i)\n",
    "    elif type(i) is str:\n",
    "        l_str.append(i)\n",
    "    else:\n",
    "        for j in i:\n",
    "            if type(j) is int:\n",
    "                l1.append(j)\n",
    "            else:\n",
    "                l2.append(j)\n",
    "        l_int.append(l1)\n",
    "        l_str.append(l2)"
   ]
  },
  {
   "cell_type": "code",
   "execution_count": 5,
   "id": "dbf9abfc-0d38-4348-8b5d-973304330ae6",
   "metadata": {},
   "outputs": [
    {
     "data": {
      "text/plain": [
       "[1, 2, 3, 4, 5, [1, 2, 3]]"
      ]
     },
     "execution_count": 5,
     "metadata": {},
     "output_type": "execute_result"
    }
   ],
   "source": [
    "l_int"
   ]
  },
  {
   "cell_type": "code",
   "execution_count": 6,
   "id": "bb1072ef-7a1e-431d-b649-560bf93e4e6a",
   "metadata": {},
   "outputs": [
    {
     "data": {
      "text/plain": [
       "[['helo', 'hi'], 'gowtham', 'dataScience']"
      ]
     },
     "execution_count": 6,
     "metadata": {},
     "output_type": "execute_result"
    }
   ],
   "source": [
    "l_str"
   ]
  },
  {
   "cell_type": "markdown",
   "id": "b46f7347-f248-4ac5-a402-fa63b1ca72ce",
   "metadata": {},
   "source": [
    "Exception Handling\n",
    "There are mainly four blocks in Exception Handling:\n",
    "1.Try\n",
    "2.Except\n",
    "3.else\n",
    "4.finally"
   ]
  },
  {
   "cell_type": "code",
   "execution_count": 1,
   "id": "0c91a8af-1807-4176-888f-66e63e014bb7",
   "metadata": {},
   "outputs": [
    {
     "ename": "ZeroDivisionError",
     "evalue": "division by zero",
     "output_type": "error",
     "traceback": [
      "\u001b[0;31m---------------------------------------------------------------------------\u001b[0m",
      "\u001b[0;31mZeroDivisionError\u001b[0m                         Traceback (most recent call last)",
      "Cell \u001b[0;32mIn[1], line 2\u001b[0m\n\u001b[1;32m      1\u001b[0m a \u001b[38;5;241m=\u001b[39m\u001b[38;5;241m1\u001b[39m \n\u001b[0;32m----> 2\u001b[0m \u001b[43ma\u001b[49m\u001b[38;5;241;43m/\u001b[39;49m\u001b[38;5;241;43m0\u001b[39;49m\n",
      "\u001b[0;31mZeroDivisionError\u001b[0m: division by zero"
     ]
    }
   ],
   "source": [
    "a =1 \n",
    "a/0"
   ]
  },
  {
   "cell_type": "code",
   "execution_count": 4,
   "id": "f37d1439-cfca-45cf-9f67-c0dfd2f857c8",
   "metadata": {},
   "outputs": [
    {
     "name": "stdout",
     "output_type": "stream",
     "text": [
      "This is to handle the error division by zero\n",
      "here with the exception handling we can handle exceptions and the next lines will be executed\n"
     ]
    }
   ],
   "source": [
    "try:\n",
    "    a/0\n",
    "except Exception as e:\n",
    "    print(\"This is to handle the error\",e)\n",
    "print(\"here with the exception handling we can handle exceptions and the next lines will be executed\")  \n",
    "a = a + 10"
   ]
  },
  {
   "cell_type": "code",
   "execution_count": 5,
   "id": "598f7bfc-133c-43fd-ac74-1852bb2b6cb8",
   "metadata": {},
   "outputs": [
    {
     "name": "stdout",
     "output_type": "stream",
     "text": [
      "There is some issue in the code [Errno 2] No such file or directory: 'hello.txt'\n"
     ]
    }
   ],
   "source": [
    "try:\n",
    "    file = open(\"hello.txt\",'r')\n",
    "except Exception as e :\n",
    "    print(\"There is some issue in the code\",e)   "
   ]
  },
  {
   "cell_type": "code",
   "execution_count": 7,
   "id": "b44cf33e-c285-4f26-b64b-09fa34d620df",
   "metadata": {},
   "outputs": [
    {
     "name": "stdout",
     "output_type": "stream",
     "text": [
      "The else block is executed only when the try block is executed with out any exceptions\n"
     ]
    }
   ],
   "source": [
    "try:\n",
    "    file = open(\"hello.txt\",'w')\n",
    "    file.write(\"Hello welcome to the data science\")\n",
    "except Exception as e :\n",
    "    print(\"There is some issue in the code\",e)\n",
    "else:\n",
    "    file.close()\n",
    "    print(\"The else block is executed only when the try block is executed with out any exceptions\")"
   ]
  },
  {
   "cell_type": "code",
   "execution_count": null,
   "id": "ba5967e3-6c49-4a8a-898e-db9ad4220c1d",
   "metadata": {},
   "outputs": [
    {
     "name": "stdout",
     "output_type": "stream",
     "text": [
      "This block is executed always eventhough error occurs\n"
     ]
    },
    {
     "ename": "FileNotFoundError",
     "evalue": "[Errno 2] No such file or directory: 'hello1.txt'",
     "output_type": "error",
     "traceback": [
      "\u001b[0;31m---------------------------------------------------------------------------\u001b[0m",
      "\u001b[0;31mFileNotFoundError\u001b[0m                         Traceback (most recent call last)",
      "Cell \u001b[0;32mIn[9], line 2\u001b[0m\n\u001b[1;32m      1\u001b[0m \u001b[38;5;28;01mtry\u001b[39;00m:\n\u001b[0;32m----> 2\u001b[0m     file \u001b[38;5;241m=\u001b[39m \u001b[38;5;28;43mopen\u001b[39;49m\u001b[43m(\u001b[49m\u001b[38;5;124;43m\"\u001b[39;49m\u001b[38;5;124;43mhello1.txt\u001b[39;49m\u001b[38;5;124;43m\"\u001b[39;49m\u001b[43m,\u001b[49m\u001b[38;5;124;43m'\u001b[39;49m\u001b[38;5;124;43mr\u001b[39;49m\u001b[38;5;124;43m'\u001b[39;49m\u001b[43m)\u001b[49m\n\u001b[1;32m      3\u001b[0m \u001b[38;5;28;01mfinally\u001b[39;00m:\n\u001b[1;32m      4\u001b[0m     \u001b[38;5;28mprint\u001b[39m(\u001b[38;5;124m\"\u001b[39m\u001b[38;5;124mThis block is executed always eventhough error occurs\u001b[39m\u001b[38;5;124m\"\u001b[39m)\n",
      "File \u001b[0;32m/opt/conda/lib/python3.10/site-packages/IPython/core/interactiveshell.py:282\u001b[0m, in \u001b[0;36m_modified_open\u001b[0;34m(file, *args, **kwargs)\u001b[0m\n\u001b[1;32m    275\u001b[0m \u001b[38;5;28;01mif\u001b[39;00m file \u001b[38;5;129;01min\u001b[39;00m {\u001b[38;5;241m0\u001b[39m, \u001b[38;5;241m1\u001b[39m, \u001b[38;5;241m2\u001b[39m}:\n\u001b[1;32m    276\u001b[0m     \u001b[38;5;28;01mraise\u001b[39;00m \u001b[38;5;167;01mValueError\u001b[39;00m(\n\u001b[1;32m    277\u001b[0m         \u001b[38;5;124mf\u001b[39m\u001b[38;5;124m\"\u001b[39m\u001b[38;5;124mIPython won\u001b[39m\u001b[38;5;124m'\u001b[39m\u001b[38;5;124mt let you open fd=\u001b[39m\u001b[38;5;132;01m{\u001b[39;00mfile\u001b[38;5;132;01m}\u001b[39;00m\u001b[38;5;124m by default \u001b[39m\u001b[38;5;124m\"\u001b[39m\n\u001b[1;32m    278\u001b[0m         \u001b[38;5;124m\"\u001b[39m\u001b[38;5;124mas it is likely to crash IPython. If you know what you are doing, \u001b[39m\u001b[38;5;124m\"\u001b[39m\n\u001b[1;32m    279\u001b[0m         \u001b[38;5;124m\"\u001b[39m\u001b[38;5;124myou can use builtins\u001b[39m\u001b[38;5;124m'\u001b[39m\u001b[38;5;124m open.\u001b[39m\u001b[38;5;124m\"\u001b[39m\n\u001b[1;32m    280\u001b[0m     )\n\u001b[0;32m--> 282\u001b[0m \u001b[38;5;28;01mreturn\u001b[39;00m \u001b[43mio_open\u001b[49m\u001b[43m(\u001b[49m\u001b[43mfile\u001b[49m\u001b[43m,\u001b[49m\u001b[43m \u001b[49m\u001b[38;5;241;43m*\u001b[39;49m\u001b[43margs\u001b[49m\u001b[43m,\u001b[49m\u001b[43m \u001b[49m\u001b[38;5;241;43m*\u001b[39;49m\u001b[38;5;241;43m*\u001b[39;49m\u001b[43mkwargs\u001b[49m\u001b[43m)\u001b[49m\n",
      "\u001b[0;31mFileNotFoundError\u001b[0m: [Errno 2] No such file or directory: 'hello1.txt'"
     ]
    }
   ],
   "source": [
    "try:\n",
    "    file = open(\"hello1.txt\",'r')\n",
    "finally:\n",
    "    print(\"This block is executed always eventhough error occurs\")"
   ]
  },
  {
   "cell_type": "markdown",
   "id": "0ffbc2c9-a73c-4dc7-843c-2c0062d0d609",
   "metadata": {},
   "source": [
    "Custom Exception Handling"
   ]
  },
  {
   "cell_type": "code",
   "execution_count": 10,
   "id": "0042c037-d865-4ec5-b1cc-6b5d6e6aace1",
   "metadata": {},
   "outputs": [
    {
     "name": "stdin",
     "output_type": "stream",
     "text": [
      "Enter your age 23\n"
     ]
    }
   ],
   "source": [
    "age = int(input(\"Enter your age\"))"
   ]
  },
  {
   "cell_type": "code",
   "execution_count": 12,
   "id": "753e01ef-6be9-4765-816c-c8b7e42ecbe5",
   "metadata": {},
   "outputs": [
    {
     "name": "stdin",
     "output_type": "stream",
     "text": [
      "Enter your age -2334\n"
     ]
    }
   ],
   "source": [
    "age = int(input(\"Enter your age\")) #Here age can not be -ve but system is accepting as -ve so we should use custom exception handlling"
   ]
  },
  {
   "cell_type": "code",
   "execution_count": 19,
   "id": "be498075-0c39-4029-ac6d-344b39754bda",
   "metadata": {},
   "outputs": [
    {
     "name": "stdin",
     "output_type": "stream",
     "text": [
      "Enter your age -234\n"
     ]
    },
    {
     "name": "stdout",
     "output_type": "stream",
     "text": [
      "age should not be less than 0\n"
     ]
    }
   ],
   "source": [
    "class validate_age(Exception):\n",
    "    def __init__(self,msg):\n",
    "        self.msg = msg\n",
    "        \n",
    "def validateage(age):\n",
    "    if age < 0 :\n",
    "        raise validate_age(\"age should not be less than 0\")\n",
    "    elif age > 200:\n",
    "        raise validate_age(\"Age should not be greater than 200\")\n",
    "    else :\n",
    "        print(\"age is valid\")\n",
    "        \n",
    "try :\n",
    "    age = int(input(\"Enter your age\"))\n",
    "    validateage(age)\n",
    "except validate_age as e:\n",
    "    print(e)\n",
    "            "
   ]
  },
  {
   "cell_type": "markdown",
   "id": "d93a0e87-85a2-4106-b225-4805e4b42122",
   "metadata": {},
   "source": [
    "General Exceptions"
   ]
  },
  {
   "cell_type": "code",
   "execution_count": 1,
   "id": "969ad539-6dec-4817-a96c-088f831b300e",
   "metadata": {},
   "outputs": [
    {
     "name": "stdout",
     "output_type": "stream",
     "text": [
      "division by zero\n"
     ]
    }
   ],
   "source": [
    "try :\n",
    "    a = 10\n",
    "    a/0\n",
    "except ZeroDivisionError as e:\n",
    "    print(e)"
   ]
  },
  {
   "cell_type": "code",
   "execution_count": 2,
   "id": "cc857978-351d-4de5-9fd4-ac927000daa0",
   "metadata": {},
   "outputs": [
    {
     "name": "stdout",
     "output_type": "stream",
     "text": [
      "No module named 'gowtham'\n"
     ]
    }
   ],
   "source": [
    "try:\n",
    "    import gowtham\n",
    "except ImportError as e:\n",
    "    print(e)"
   ]
  },
  {
   "cell_type": "code",
   "execution_count": 6,
   "id": "ae680178-4802-488b-b1f9-be09d00c8dda",
   "metadata": {},
   "outputs": [
    {
     "name": "stdout",
     "output_type": "stream",
     "text": [
      "invalid literal for int() with base 10: 'gowtham'\n"
     ]
    }
   ],
   "source": [
    "try:\n",
    "    int(\"gowtham\")\n",
    "except (TypeError,ValueError) as e:\n",
    "    print(e)\n",
    "    "
   ]
  },
  {
   "cell_type": "code",
   "execution_count": 5,
   "id": "df0a97be-4345-4a84-92c5-72680c54178b",
   "metadata": {},
   "outputs": [
    {
     "name": "stdout",
     "output_type": "stream",
     "text": [
      "This will throw an error\n"
     ]
    }
   ],
   "source": [
    "#If you dont know the error \n",
    "try:\n",
    "    a=10\n",
    "    a/0\n",
    "except :\n",
    "    print(\"This will throw an error\")\n",
    "    "
   ]
  },
  {
   "cell_type": "code",
   "execution_count": 7,
   "id": "8add0f10-c257-4171-9c75-869157ea193d",
   "metadata": {},
   "outputs": [
    {
     "name": "stdout",
     "output_type": "stream",
     "text": [
      "'gowtham'\n"
     ]
    }
   ],
   "source": [
    "try:\n",
    "    d = {1:[1,2,4,5],\"key\":\"gowtham\"}\n",
    "    d[\"gowtham\"]\n",
    "except KeyError as e:\n",
    "    print(e)"
   ]
  },
  {
   "cell_type": "code",
   "execution_count": 15,
   "id": "b64c16f6-c959-43e1-9147-c0abcfb22e12",
   "metadata": {},
   "outputs": [
    {
     "name": "stdout",
     "output_type": "stream",
     "text": [
      "'str' object has no attribute 'length'\n"
     ]
    }
   ],
   "source": [
    "try:\n",
    "    \"gowtham\".length()\n",
    "except AttributeError as e:\n",
    "    print(e)"
   ]
  },
  {
   "cell_type": "code",
   "execution_count": 22,
   "id": "6afcb4a2-04fc-4c71-80a9-04a7d8e55960",
   "metadata": {},
   "outputs": [
    {
     "name": "stdout",
     "output_type": "stream",
     "text": [
      "list index out of range\n"
     ]
    }
   ],
   "source": [
    "try:\n",
    "    l = [1,3,5,7]\n",
    "    l[10]\n",
    "except IndexError as e:\n",
    "    print(e)"
   ]
  },
  {
   "cell_type": "code",
   "execution_count": 21,
   "id": "bfabaf50-e6c3-40e8-b542-5f860c12a365",
   "metadata": {},
   "outputs": [
    {
     "name": "stdout",
     "output_type": "stream",
     "text": [
      "list index out of range\n"
     ]
    }
   ],
   "source": [
    "try:\n",
    "    l = [1,3,5,7]\n",
    "    l[10]\n",
    "except Exception as e:\n",
    "    print(e)"
   ]
  },
  {
   "cell_type": "code",
   "execution_count": 23,
   "id": "47c0bb2b-d5c8-47d6-8103-89b99b74ac61",
   "metadata": {},
   "outputs": [
    {
     "name": "stdout",
     "output_type": "stream",
     "text": [
      "unsupported operand type(s) for +: 'int' and 'str'\n"
     ]
    }
   ],
   "source": [
    "try:\n",
    "    123+\"str\"\n",
    "except TypeError as e:\n",
    "    print(e)"
   ]
  },
  {
   "cell_type": "code",
   "execution_count": 33,
   "id": "68370da1-38ed-4c2f-b56e-dbda4bf13e63",
   "metadata": {},
   "outputs": [
    {
     "name": "stdout",
     "output_type": "stream",
     "text": [
      "[Errno 2] No such file or directory: 'gowtham.txt'\n"
     ]
    }
   ],
   "source": [
    "try:\n",
    "    with open(\"gowtham.txt\",'r') as f:\n",
    "        f.read()\n",
    "except FileNotFoundError as e:\n",
    "    print(e)"
   ]
  },
  {
   "cell_type": "markdown",
   "id": "dde67427-0f35-4f7d-8e34-e5870d7ee5c7",
   "metadata": {},
   "source": [
    "Best Practices for Exception Handling\n",
    "1.Always Use Specific Exception rather than directly writing \"Exception\"\n",
    "2.Print always a Valid Message\n",
    "3.Always write a log\n",
    "4.Always try to avoid to write multiple exception handling\n",
    "5.Prepare a proper Documentation"
   ]
  },
  {
   "cell_type": "code",
   "execution_count": 29,
   "id": "24f7b80d-9ab8-44cc-be51-f08d0400e5d1",
   "metadata": {},
   "outputs": [
    {
     "name": "stdout",
     "output_type": "stream",
     "text": [
      "division by zero\n"
     ]
    }
   ],
   "source": [
    "#1\n",
    "try:\n",
    "    10/0\n",
    "except ZeroDivisionError as e:\n",
    "    print(e)\n",
    "    "
   ]
  },
  {
   "cell_type": "code",
   "execution_count": 28,
   "id": "dcf4a4e6-5c24-422f-86b1-2fe4ee1d4eb3",
   "metadata": {},
   "outputs": [
    {
     "name": "stdout",
     "output_type": "stream",
     "text": [
      "This error is occured because you tried to divide a number with zero   division by zero error\n"
     ]
    }
   ],
   "source": [
    "#2\n",
    "try:\n",
    "    10/0\n",
    "except ZeroDivisionError as e:\n",
    "    print(\"This error is occured because you tried to divide a number with zero  \",e,'error')"
   ]
  },
  {
   "cell_type": "code",
   "execution_count": 30,
   "id": "c242ebad-b616-4dc7-bc71-87c0fa5b2a47",
   "metadata": {},
   "outputs": [],
   "source": [
    "#3\n",
    "import logging\n",
    "logging.basicConfig(filename ='error.log',level=logging.NOTSET)\n",
    "\n",
    "try:\n",
    "    10/0\n",
    "except ZeroDivisionError as e:\n",
    "    logging.error(e)"
   ]
  },
  {
   "cell_type": "code",
   "execution_count": 32,
   "id": "3918c4f0-b32f-496a-b7bb-5d8013cb1c6b",
   "metadata": {},
   "outputs": [],
   "source": [
    "#4 Example (Try not to write in this way)\n",
    "try:\n",
    "    10/0\n",
    "except AttributeError as e:\n",
    "    logging.error(\"This is attribute error: %s\",e)\n",
    "except TypeError as e: \n",
    "    logging.error(\"This is Type error: %s \",e)    \n",
    "except ZeroDivisionError as e:\n",
    "    logging.error(\"This is zero division error: %s \",e)"
   ]
  },
  {
   "cell_type": "code",
   "execution_count": 36,
   "id": "e7093c20-9fb3-4c35-9265-944d86d58440",
   "metadata": {},
   "outputs": [
    {
     "name": "stdout",
     "output_type": "stream",
     "text": [
      "not readable\n"
     ]
    }
   ],
   "source": [
    "#Clean up all the resources\n",
    "try:\n",
    "    with open(\"gowtham.txt\",'w') as f:\n",
    "        f.read()  \n",
    "except Exception as e:  #Here eventhough error is handeled make sure you close the file after completion of exception such that the resources are used properly \n",
    "    print(e)\n",
    "finally:\n",
    "    f.close()"
   ]
  },
  {
   "cell_type": "markdown",
   "id": "3ff5bbfd-3a72-4097-9734-d54d459e453c",
   "metadata": {},
   "source": [
    "How can you reload a module in Python?\n",
    "\n",
    "\n",
    "importlib.reload function.\n",
    "\n",
    "import reload\n",
    "\n",
    "import logging\n",
    "\n",
    "none of the above\n",
    "\n",
    "Explanation: The importlib.reload function reloads a previously imported module, allowing you to pick up changes that have been made to the module's code. This is useful in situations where you are developing a module and need to test changes without restarting your program."
   ]
  },
  {
   "cell_type": "markdown",
   "id": "2ba8c89c-83cf-4443-b5d3-159ebd185837",
   "metadata": {},
   "source": [
    "MultiThreading"
   ]
  },
  {
   "cell_type": "code",
   "execution_count": 1,
   "id": "71e64549-f5b8-4c31-bd49-4a87b0cc2fbd",
   "metadata": {},
   "outputs": [],
   "source": [
    "def gamer(id):\n",
    "    print(\"The id of the gamer\",id)"
   ]
  },
  {
   "cell_type": "code",
   "execution_count": 2,
   "id": "217ef35e-c4fc-4b6e-9e00-731c8e74bb4c",
   "metadata": {},
   "outputs": [
    {
     "name": "stdout",
     "output_type": "stream",
     "text": [
      "The id of the gamer 10\n"
     ]
    }
   ],
   "source": [
    "gamer(10)"
   ]
  },
  {
   "cell_type": "code",
   "execution_count": 3,
   "id": "69ea9939-62c5-4dae-913f-6e665954f45e",
   "metadata": {},
   "outputs": [
    {
     "name": "stdout",
     "output_type": "stream",
     "text": [
      "The id of the gamer 0\n"
     ]
    }
   ],
   "source": [
    "gamer(0)"
   ]
  },
  {
   "cell_type": "code",
   "execution_count": 4,
   "id": "b7e40564-1455-45fe-8cbd-b7f9379bf1dd",
   "metadata": {},
   "outputs": [
    {
     "name": "stdout",
     "output_type": "stream",
     "text": [
      "The id of the gamer -10\n"
     ]
    }
   ],
   "source": [
    "gamer(-10)"
   ]
  },
  {
   "cell_type": "code",
   "execution_count": 23,
   "id": "11772fcc-01ca-41da-8fd6-9da84b43fd5e",
   "metadata": {},
   "outputs": [],
   "source": [
    "import threading\n",
    "Thread = [threading.Thread(target = gamer , args = (i,))for i in [10,0,-10]]"
   ]
  },
  {
   "cell_type": "code",
   "execution_count": 24,
   "id": "2a181689-e19d-4a0b-b5ca-08dde8fd56ca",
   "metadata": {},
   "outputs": [
    {
     "data": {
      "text/plain": [
       "[<Thread(Thread-18 (gamer), initial)>,\n",
       " <Thread(Thread-19 (gamer), initial)>,\n",
       " <Thread(Thread-20 (gamer), initial)>]"
      ]
     },
     "execution_count": 24,
     "metadata": {},
     "output_type": "execute_result"
    }
   ],
   "source": [
    "Thread"
   ]
  },
  {
   "cell_type": "code",
   "execution_count": 25,
   "id": "6ca30a96-7a27-478c-948a-8c3d9fda778b",
   "metadata": {},
   "outputs": [
    {
     "name": "stdout",
     "output_type": "stream",
     "text": [
      "The id of the gamer 10\n",
      "The id of the gamer 0\n",
      "The id of the gamer -10\n"
     ]
    }
   ],
   "source": [
    "for t in Thread:\n",
    "    t.start()"
   ]
  },
  {
   "cell_type": "code",
   "execution_count": 26,
   "id": "bac0ea39-041c-499d-a139-f56e40684b89",
   "metadata": {},
   "outputs": [],
   "source": [
    "#Retreving data from the links to the files using multithreading\n",
    "url_list = ['https://raw.githubusercontent.com/itsfoss/text-files/master/agatha.txt' , 'https://raw.githubusercontent.com/itsfoss/text-files/master/sherlock.txt' ,'https://raw.githubusercontent.com/itsfoss/text-files/master/sample_log_file.txt']"
   ]
  },
  {
   "cell_type": "code",
   "execution_count": 27,
   "id": "57af80ad-4aa5-4198-91f5-b2af6dc86b6e",
   "metadata": {},
   "outputs": [],
   "source": [
    "data_list = ['data1.txt','data2.txt','data3.txt']"
   ]
  },
  {
   "cell_type": "code",
   "execution_count": 28,
   "id": "ed70bee1-a298-4eb6-be12-b75f4951f9e7",
   "metadata": {},
   "outputs": [],
   "source": [
    "import urllib.request\n",
    "\n",
    "def data(url,filename):\n",
    "    urllib.request.urlretrieve(url,filename)"
   ]
  },
  {
   "cell_type": "code",
   "execution_count": 33,
   "id": "6b2322ac-7bbf-4632-9dd4-26832ab65599",
   "metadata": {},
   "outputs": [],
   "source": [
    "thread = [threading.Thread(target=data, args = (url_list[i],data_list[i])) for i in range(len(url_list))]"
   ]
  },
  {
   "cell_type": "code",
   "execution_count": 34,
   "id": "3c9459a8-6d9e-46bf-ad3c-d258ac528dad",
   "metadata": {},
   "outputs": [],
   "source": [
    "for t in thread:\n",
    "    t.start()"
   ]
  },
  {
   "cell_type": "code",
   "execution_count": 48,
   "id": "ea42bbb4-4e98-4883-a0f7-8b5ea0f4c0f5",
   "metadata": {},
   "outputs": [],
   "source": [
    "def test1(x):\n",
    "    for i in range(x):\n",
    "        print(\"This is printing when input is x = %d and the loop number is i = %d\"%(x,i))"
   ]
  },
  {
   "cell_type": "code",
   "execution_count": 42,
   "id": "a3a0ea33-4e46-46f5-8656-64fbfbb60d71",
   "metadata": {},
   "outputs": [],
   "source": [
    "import time\n",
    "def test2(x):\n",
    "    for i in range(x):\n",
    "        print(\"This is printing when input is x = %d and the loop number is i = %d\"%(x,i))\n",
    "        time.sleep(1)"
   ]
  },
  {
   "cell_type": "code",
   "execution_count": 49,
   "id": "959edd9c-a447-44a3-ad9a-9031abd210a3",
   "metadata": {},
   "outputs": [
    {
     "name": "stdout",
     "output_type": "stream",
     "text": [
      "This is printing when input is x = 10 and the loop number is i = 0\n",
      "This is printing when input is x = 10 and the loop number is i = 1\n",
      "This is printing when input is x = 10 and the loop number is i = 2\n",
      "This is printing when input is x = 10 and the loop number is i = 3\n",
      "This is printing when input is x = 10 and the loop number is i = 4\n",
      "This is printing when input is x = 10 and the loop number is i = 5\n",
      "This is printing when input is x = 10 and the loop number is i = 6\n",
      "This is printing when input is x = 10 and the loop number is i = 7\n",
      "This is printing when input is x = 10 and the loop number is i = 8\n",
      "This is printing when input is x = 10 and the loop number is i = 9\n"
     ]
    }
   ],
   "source": [
    "test1(10)"
   ]
  },
  {
   "cell_type": "code",
   "execution_count": 43,
   "id": "5e6ae8a5-7cff-4572-bee7-915791cd2f9a",
   "metadata": {},
   "outputs": [
    {
     "name": "stdout",
     "output_type": "stream",
     "text": [
      "This is printing when input is x = 10 and the loop number is i = 0\n",
      "This is printing when input is x = 10 and the loop number is i = 1\n",
      "This is printing when input is x = 10 and the loop number is i = 2\n",
      "This is printing when input is x = 10 and the loop number is i = 3\n",
      "This is printing when input is x = 10 and the loop number is i = 4\n",
      "This is printing when input is x = 10 and the loop number is i = 5\n",
      "This is printing when input is x = 10 and the loop number is i = 6\n",
      "This is printing when input is x = 10 and the loop number is i = 7\n",
      "This is printing when input is x = 10 and the loop number is i = 8\n",
      "This is printing when input is x = 10 and the loop number is i = 9\n"
     ]
    }
   ],
   "source": [
    "test2(10)"
   ]
  },
  {
   "cell_type": "code",
   "execution_count": 50,
   "id": "aba3dbbb-2231-4f96-93a0-57cb1fe259cc",
   "metadata": {},
   "outputs": [],
   "source": [
    "thread1 = [threading.Thread(target=test1,args = (i,)) for i in [5,6,7,8]]"
   ]
  },
  {
   "cell_type": "code",
   "execution_count": 55,
   "id": "d31cd128-f81e-48b1-b1bb-f31af51663a5",
   "metadata": {},
   "outputs": [],
   "source": [
    "thread = [threading.Thread(target=test2,args = (i,)) for i in [5,6,7,8]]"
   ]
  },
  {
   "cell_type": "markdown",
   "id": "a1042d8b-5a75-48ba-b61e-3f32ae97342b",
   "metadata": {},
   "source": [
    "Watch the difference of threads execution when we use sleep function and when we not use sleep function"
   ]
  },
  {
   "cell_type": "code",
   "execution_count": 51,
   "id": "f65588c0-8706-4cff-bfdb-421aa62b6e84",
   "metadata": {},
   "outputs": [
    {
     "name": "stdout",
     "output_type": "stream",
     "text": [
      "This is printing when input is x = 5 and the loop number is i = 0\n",
      "This is printing when input is x = 5 and the loop number is i = 1\n",
      "This is printing when input is x = 5 and the loop number is i = 2\n",
      "This is printing when input is x = 5 and the loop number is i = 3\n",
      "This is printing when input is x = 5 and the loop number is i = 4\n",
      "This is printing when input is x = 6 and the loop number is i = 0\n",
      "This is printing when input is x = 6 and the loop number is i = 1\n",
      "This is printing when input is x = 6 and the loop number is i = 2\n",
      "This is printing when input is x = 6 and the loop number is i = 3\n",
      "This is printing when input is x = 6 and the loop number is i = 4\n",
      "This is printing when input is x = 6 and the loop number is i = 5\n",
      "This is printing when input is x = 7 and the loop number is i = 0\n",
      "This is printing when input is x = 7 and the loop number is i = 1\n",
      "This is printing when input is x = 7 and the loop number is i = 2\n",
      "This is printing when input is x = 7 and the loop number is i = 3\n",
      "This is printing when input is x = 7 and the loop number is i = 4\n",
      "This is printing when input is x = 7 and the loop number is i = 5\n",
      "This is printing when input is x = 7 and the loop number is i = 6\n",
      "This is printing when input is x = 8 and the loop number is i = 0\n",
      "This is printing when input is x = 8 and the loop number is i = 1\n",
      "This is printing when input is x = 8 and the loop number is i = 2\n",
      "This is printing when input is x = 8 and the loop number is i = 3\n",
      "This is printing when input is x = 8 and the loop number is i = 4\n",
      "This is printing when input is x = 8 and the loop number is i = 5\n",
      "This is printing when input is x = 8 and the loop number is i = 6\n",
      "This is printing when input is x = 8 and the loop number is i = 7\n"
     ]
    }
   ],
   "source": [
    "for t in thread1:\n",
    "    t.start()"
   ]
  },
  {
   "cell_type": "code",
   "execution_count": 56,
   "id": "23f44680-64c3-4aa5-b2ec-79f124971374",
   "metadata": {},
   "outputs": [
    {
     "name": "stdout",
     "output_type": "stream",
     "text": [
      "This is printing when input is x = 5 and the loop number is i = 0\n",
      "This is printing when input is x = 6 and the loop number is i = 0\n",
      "This is printing when input is x = 7 and the loop number is i = 0\n",
      "This is printing when input is x = 8 and the loop number is i = 0\n",
      "This is printing when input is x = 5 and the loop number is i = 1\n",
      "This is printing when input is x = 6 and the loop number is i = 1\n",
      "This is printing when input is x = 7 and the loop number is i = 1\n",
      "This is printing when input is x = 8 and the loop number is i = 1\n",
      "This is printing when input is x = 5 and the loop number is i = 2\n",
      "This is printing when input is x = 6 and the loop number is i = 2\n",
      "This is printing when input is x = 7 and the loop number is i = 2\n",
      "This is printing when input is x = 8 and the loop number is i = 2\n",
      "This is printing when input is x = 5 and the loop number is i = 3\n",
      "This is printing when input is x = 6 and the loop number is i = 3\n",
      "This is printing when input is x = 7 and the loop number is i = 3\n",
      "This is printing when input is x = 8 and the loop number is i = 3\n",
      "This is printing when input is x = 5 and the loop number is i = 4\n",
      "This is printing when input is x = 6 and the loop number is i = 4\n",
      "This is printing when input is x = 7 and the loop number is i = 4\n",
      "This is printing when input is x = 8 and the loop number is i = 4\n",
      "This is printing when input is x = 6 and the loop number is i = 5\n",
      "This is printing when input is x = 8 and the loop number is i = 5\n",
      "This is printing when input is x = 7 and the loop number is i = 5\n",
      "This is printing when input is x = 8 and the loop number is i = 6\n",
      "This is printing when input is x = 7 and the loop number is i = 6\n",
      "This is printing when input is x = 8 and the loop number is i = 7\n"
     ]
    }
   ],
   "source": [
    "for t in thread:\n",
    "    t.start()"
   ]
  },
  {
   "cell_type": "code",
   "execution_count": 73,
   "id": "c35b201d-d3bb-4ac0-a4d8-0ba2387cc0d8",
   "metadata": {},
   "outputs": [],
   "source": [
    "shared_var = 0\n",
    "lock_var = threading.Lock()   #with this function we can lock the resources such that other programs cannot use it\n",
    "def test3(x):\n",
    "    global shared_var\n",
    "    with lock_var:\n",
    "        shared_var +=1\n",
    "        print(\"x %d then shared_var %d\"%(x,shared_var))\n",
    "        time.sleep(1)\n",
    "thread = [threading.Thread(target =test3 ,args = (i,)) for i in [1,2,3,5,5]]    "
   ]
  },
  {
   "cell_type": "code",
   "execution_count": 74,
   "id": "c150f213-8be7-4c94-9947-b8e60f0fb146",
   "metadata": {},
   "outputs": [
    {
     "name": "stdout",
     "output_type": "stream",
     "text": [
      "x 1 then shared_var 1\n",
      "x 2 then shared_var 2\n",
      "x 3 then shared_var 3\n",
      "x 5 then shared_var 4\n",
      "x 5 then shared_var 5\n"
     ]
    }
   ],
   "source": [
    "for t in thread:\n",
    "    t.start()"
   ]
  },
  {
   "cell_type": "markdown",
   "id": "e7358436-3573-43cc-925f-52c136978be0",
   "metadata": {},
   "source": [
    "Multiprocessing"
   ]
  },
  {
   "cell_type": "code",
   "execution_count": 4,
   "id": "7323f5ff-eda8-44a1-8531-5e215bc7c224",
   "metadata": {},
   "outputs": [
    {
     "name": "stdout",
     "output_type": "stream",
     "text": [
      "This is my main program\n",
      "This is Multi Processing\n"
     ]
    }
   ],
   "source": [
    "import multiprocessing\n",
    "\n",
    "def test():\n",
    "    print(\"This is Multi Processing\")\n",
    "    \n",
    "if __name__ == '__main__':\n",
    "    m = multiprocessing.Process(target = test)\n",
    "    print(\"This is my main program\")\n",
    "    m.start()\n",
    "    m.join()"
   ]
  },
  {
   "cell_type": "code",
   "execution_count": 6,
   "id": "0cea08ef-d1c0-4d78-adc8-bc6e6feed776",
   "metadata": {},
   "outputs": [
    {
     "name": "stdout",
     "output_type": "stream",
     "text": [
      "[1, 4, 9, 16, 25, 36, 49, 64, 81, 100]\n"
     ]
    }
   ],
   "source": [
    "def square(n):\n",
    "    return n**2\n",
    "\n",
    "if __name__=='__main__':\n",
    "    with multiprocessing.Pool(processes=10) as p:\n",
    "        out = p.map(square,[1,2,3,4,5,6,7,8,9,10])\n",
    "        print(out)"
   ]
  },
  {
   "cell_type": "code",
   "execution_count": 10,
   "id": "f997c520-731c-4851-8373-19f15f2574fc",
   "metadata": {},
   "outputs": [
    {
     "name": "stdout",
     "output_type": "stream",
     "text": [
      "ds\n",
      "ab\n",
      "ag\n",
      "sgsag\n",
      "xyz\n"
     ]
    },
    {
     "name": "stderr",
     "output_type": "stream",
     "text": [
      "Process Process-13:\n",
      "Traceback (most recent call last):\n",
      "  File \"/opt/conda/lib/python3.10/multiprocessing/process.py\", line 314, in _bootstrap\n",
      "    self.run()\n",
      "  File \"/opt/conda/lib/python3.10/multiprocessing/process.py\", line 108, in run\n",
      "    self._target(*self._args, **self._kwargs)\n",
      "  File \"/tmp/ipykernel_70/2805587288.py\", line 6, in consume\n",
      "    item = q.get()\n",
      "  File \"/opt/conda/lib/python3.10/multiprocessing/queues.py\", line 103, in get\n",
      "    res = self._recv_bytes()\n",
      "  File \"/opt/conda/lib/python3.10/multiprocessing/connection.py\", line 221, in recv_bytes\n",
      "    buf = self._recv_bytes(maxlength)\n",
      "  File \"/opt/conda/lib/python3.10/multiprocessing/connection.py\", line 419, in _recv_bytes\n",
      "    buf = self._recv(4)\n",
      "  File \"/opt/conda/lib/python3.10/multiprocessing/connection.py\", line 384, in _recv\n",
      "    chunk = read(handle, remaining)\n"
     ]
    },
    {
     "ename": "KeyboardInterrupt",
     "evalue": "",
     "output_type": "error",
     "traceback": [
      "\u001b[0;31m---------------------------------------------------------------------------\u001b[0m",
      "\u001b[0;31mKeyboardInterrupt\u001b[0m                         Traceback (most recent call last)",
      "Cell \u001b[0;32mIn[10], line 19\u001b[0m\n\u001b[1;32m     17\u001b[0m queue\u001b[38;5;241m.\u001b[39mput(\u001b[38;5;124m\"\u001b[39m\u001b[38;5;124mxyz\u001b[39m\u001b[38;5;124m\"\u001b[39m)\n\u001b[1;32m     18\u001b[0m m1\u001b[38;5;241m.\u001b[39mjoin()\n\u001b[0;32m---> 19\u001b[0m \u001b[43mm2\u001b[49m\u001b[38;5;241;43m.\u001b[39;49m\u001b[43mjoin\u001b[49m\u001b[43m(\u001b[49m\u001b[43m)\u001b[49m\n",
      "File \u001b[0;32m/opt/conda/lib/python3.10/multiprocessing/process.py:149\u001b[0m, in \u001b[0;36mBaseProcess.join\u001b[0;34m(self, timeout)\u001b[0m\n\u001b[1;32m    147\u001b[0m \u001b[38;5;28;01massert\u001b[39;00m \u001b[38;5;28mself\u001b[39m\u001b[38;5;241m.\u001b[39m_parent_pid \u001b[38;5;241m==\u001b[39m os\u001b[38;5;241m.\u001b[39mgetpid(), \u001b[38;5;124m'\u001b[39m\u001b[38;5;124mcan only join a child process\u001b[39m\u001b[38;5;124m'\u001b[39m\n\u001b[1;32m    148\u001b[0m \u001b[38;5;28;01massert\u001b[39;00m \u001b[38;5;28mself\u001b[39m\u001b[38;5;241m.\u001b[39m_popen \u001b[38;5;129;01mis\u001b[39;00m \u001b[38;5;129;01mnot\u001b[39;00m \u001b[38;5;28;01mNone\u001b[39;00m, \u001b[38;5;124m'\u001b[39m\u001b[38;5;124mcan only join a started process\u001b[39m\u001b[38;5;124m'\u001b[39m\n\u001b[0;32m--> 149\u001b[0m res \u001b[38;5;241m=\u001b[39m \u001b[38;5;28;43mself\u001b[39;49m\u001b[38;5;241;43m.\u001b[39;49m\u001b[43m_popen\u001b[49m\u001b[38;5;241;43m.\u001b[39;49m\u001b[43mwait\u001b[49m\u001b[43m(\u001b[49m\u001b[43mtimeout\u001b[49m\u001b[43m)\u001b[49m\n\u001b[1;32m    150\u001b[0m \u001b[38;5;28;01mif\u001b[39;00m res \u001b[38;5;129;01mis\u001b[39;00m \u001b[38;5;129;01mnot\u001b[39;00m \u001b[38;5;28;01mNone\u001b[39;00m:\n\u001b[1;32m    151\u001b[0m     _children\u001b[38;5;241m.\u001b[39mdiscard(\u001b[38;5;28mself\u001b[39m)\n",
      "File \u001b[0;32m/opt/conda/lib/python3.10/multiprocessing/popen_fork.py:43\u001b[0m, in \u001b[0;36mPopen.wait\u001b[0;34m(self, timeout)\u001b[0m\n\u001b[1;32m     41\u001b[0m             \u001b[38;5;28;01mreturn\u001b[39;00m \u001b[38;5;28;01mNone\u001b[39;00m\n\u001b[1;32m     42\u001b[0m     \u001b[38;5;66;03m# This shouldn't block if wait() returned successfully.\u001b[39;00m\n\u001b[0;32m---> 43\u001b[0m     \u001b[38;5;28;01mreturn\u001b[39;00m \u001b[38;5;28;43mself\u001b[39;49m\u001b[38;5;241;43m.\u001b[39;49m\u001b[43mpoll\u001b[49m\u001b[43m(\u001b[49m\u001b[43mos\u001b[49m\u001b[38;5;241;43m.\u001b[39;49m\u001b[43mWNOHANG\u001b[49m\u001b[43m \u001b[49m\u001b[38;5;28;43;01mif\u001b[39;49;00m\u001b[43m \u001b[49m\u001b[43mtimeout\u001b[49m\u001b[43m \u001b[49m\u001b[38;5;241;43m==\u001b[39;49m\u001b[43m \u001b[49m\u001b[38;5;241;43m0.0\u001b[39;49m\u001b[43m \u001b[49m\u001b[38;5;28;43;01melse\u001b[39;49;00m\u001b[43m \u001b[49m\u001b[38;5;241;43m0\u001b[39;49m\u001b[43m)\u001b[49m\n\u001b[1;32m     44\u001b[0m \u001b[38;5;28;01mreturn\u001b[39;00m \u001b[38;5;28mself\u001b[39m\u001b[38;5;241m.\u001b[39mreturncode\n",
      "File \u001b[0;32m/opt/conda/lib/python3.10/multiprocessing/popen_fork.py:27\u001b[0m, in \u001b[0;36mPopen.poll\u001b[0;34m(self, flag)\u001b[0m\n\u001b[1;32m     25\u001b[0m \u001b[38;5;28;01mif\u001b[39;00m \u001b[38;5;28mself\u001b[39m\u001b[38;5;241m.\u001b[39mreturncode \u001b[38;5;129;01mis\u001b[39;00m \u001b[38;5;28;01mNone\u001b[39;00m:\n\u001b[1;32m     26\u001b[0m     \u001b[38;5;28;01mtry\u001b[39;00m:\n\u001b[0;32m---> 27\u001b[0m         pid, sts \u001b[38;5;241m=\u001b[39m \u001b[43mos\u001b[49m\u001b[38;5;241;43m.\u001b[39;49m\u001b[43mwaitpid\u001b[49m\u001b[43m(\u001b[49m\u001b[38;5;28;43mself\u001b[39;49m\u001b[38;5;241;43m.\u001b[39;49m\u001b[43mpid\u001b[49m\u001b[43m,\u001b[49m\u001b[43m \u001b[49m\u001b[43mflag\u001b[49m\u001b[43m)\u001b[49m\n\u001b[1;32m     28\u001b[0m     \u001b[38;5;28;01mexcept\u001b[39;00m \u001b[38;5;167;01mOSError\u001b[39;00m:\n\u001b[1;32m     29\u001b[0m         \u001b[38;5;66;03m# Child process not yet created. See #1731717\u001b[39;00m\n\u001b[1;32m     30\u001b[0m         \u001b[38;5;66;03m# e.errno == errno.ECHILD == 10\u001b[39;00m\n\u001b[1;32m     31\u001b[0m         \u001b[38;5;28;01mreturn\u001b[39;00m \u001b[38;5;28;01mNone\u001b[39;00m\n",
      "\u001b[0;31mKeyboardInterrupt\u001b[0m: "
     ]
    },
    {
     "name": "stderr",
     "output_type": "stream",
     "text": [
      "KeyboardInterrupt\n"
     ]
    }
   ],
   "source": [
    "def producer(q):\n",
    "    for i in ['ds','ab','ag','sgsag']:\n",
    "        q.put(i)\n",
    "def consume(q):\n",
    "    while True:\n",
    "        item = q.get()\n",
    "        if item is None:\n",
    "            break\n",
    "        print(item)\n",
    "        \n",
    "if __name__ == '__main__':\n",
    "    queue = multiprocessing.Queue()\n",
    "    m1 = multiprocessing.Process(target = producer,args = (queue,))\n",
    "    m2 = multiprocessing.Process(target = consume,args = (queue,))\n",
    "    m1.start()\n",
    "    m2.start()\n",
    "    queue.put(\"xyz\")\n",
    "    m1.join()\n",
    "    m2.join()"
   ]
  },
  {
   "cell_type": "code",
   "execution_count": null,
   "id": "fc2a7854-3950-4168-af46-b71118448e9f",
   "metadata": {},
   "outputs": [],
   "source": []
  },
  {
   "cell_type": "code",
   "execution_count": null,
   "id": "2e26c8d9-a183-49b8-a50f-043c3cf11241",
   "metadata": {},
   "outputs": [],
   "source": []
  },
  {
   "cell_type": "code",
   "execution_count": null,
   "id": "f695d22c-7ef8-43c2-ae06-0fa8177c3bfe",
   "metadata": {},
   "outputs": [],
   "source": []
  },
  {
   "cell_type": "code",
   "execution_count": null,
   "id": "a7d08db5-e0cf-4df8-a2fe-cbb20141268c",
   "metadata": {},
   "outputs": [],
   "source": []
  },
  {
   "cell_type": "code",
   "execution_count": null,
   "id": "b1639675-39af-4648-a947-b1596fd12e78",
   "metadata": {},
   "outputs": [],
   "source": []
  },
  {
   "cell_type": "code",
   "execution_count": null,
   "id": "7a854dbc-d871-4be7-8433-61ed330c18a6",
   "metadata": {},
   "outputs": [],
   "source": []
  },
  {
   "cell_type": "code",
   "execution_count": null,
   "id": "c3fc829b-71a0-4b28-b92d-fa0e7a34cc17",
   "metadata": {},
   "outputs": [],
   "source": []
  },
  {
   "cell_type": "code",
   "execution_count": null,
   "id": "9a3e812d-7d46-4482-ba7c-2fa5aa35a814",
   "metadata": {},
   "outputs": [],
   "source": []
  },
  {
   "cell_type": "code",
   "execution_count": null,
   "id": "f0c40566-d244-4730-90ae-de7fe23c21ad",
   "metadata": {},
   "outputs": [],
   "source": []
  }
 ],
 "metadata": {
  "kernelspec": {
   "display_name": "Python 3 (ipykernel)",
   "language": "python",
   "name": "python3"
  },
  "language_info": {
   "codemirror_mode": {
    "name": "ipython",
    "version": 3
   },
   "file_extension": ".py",
   "mimetype": "text/x-python",
   "name": "python",
   "nbconvert_exporter": "python",
   "pygments_lexer": "ipython3",
   "version": "3.10.8"
  }
 },
 "nbformat": 4,
 "nbformat_minor": 5
}
