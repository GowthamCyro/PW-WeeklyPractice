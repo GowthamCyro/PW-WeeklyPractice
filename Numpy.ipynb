{
 "cells": [
  {
   "cell_type": "code",
   "execution_count": 1,
   "id": "b99d5b11-399c-4ccd-8bde-39bbd78708c9",
   "metadata": {},
   "outputs": [],
   "source": [
    "import numpy as np"
   ]
  },
  {
   "cell_type": "markdown",
   "id": "e52617d6-ec9c-4de2-a8ca-5ba46ebbbafb",
   "metadata": {},
   "source": [
    "Creating an Array using numpy\n",
    "i) using the np.array()\n",
    "ii) using the npasarray()"
   ]
  },
  {
   "cell_type": "code",
   "execution_count": 2,
   "id": "207d6282-e805-4f3b-8a74-ee9b6b0c2329",
   "metadata": {},
   "outputs": [],
   "source": [
    "l = [1,2,3,4,5]\n",
    "arr = np.array(l)"
   ]
  },
  {
   "cell_type": "code",
   "execution_count": 3,
   "id": "b1ae051f-c2e8-4650-96f6-7742ff513530",
   "metadata": {},
   "outputs": [
    {
     "data": {
      "text/plain": [
       "numpy.ndarray"
      ]
     },
     "execution_count": 3,
     "metadata": {},
     "output_type": "execute_result"
    }
   ],
   "source": [
    "type(arr)  # ndarray - n dimensional array"
   ]
  },
  {
   "cell_type": "code",
   "execution_count": 4,
   "id": "cfc4a5ac-f659-4166-8430-a4839926665f",
   "metadata": {},
   "outputs": [],
   "source": [
    "a = np.asarray(l)"
   ]
  },
  {
   "cell_type": "code",
   "execution_count": 5,
   "id": "dd4cd699-90c0-4859-bd42-7322073adcb8",
   "metadata": {},
   "outputs": [
    {
     "data": {
      "text/plain": [
       "numpy.ndarray"
      ]
     },
     "execution_count": 5,
     "metadata": {},
     "output_type": "execute_result"
    }
   ],
   "source": [
    "type(a)"
   ]
  },
  {
   "cell_type": "code",
   "execution_count": 6,
   "id": "129298bb-4830-42c6-a4be-92a6ed90299b",
   "metadata": {},
   "outputs": [],
   "source": [
    "arr1 = np.array([[1,2,3],[4,5,6]])"
   ]
  },
  {
   "cell_type": "code",
   "execution_count": 7,
   "id": "36256354-415c-4cfe-b93c-7412db96d55d",
   "metadata": {},
   "outputs": [
    {
     "data": {
      "text/plain": [
       "array([[1, 2, 3],\n",
       "       [4, 5, 6]])"
      ]
     },
     "execution_count": 7,
     "metadata": {},
     "output_type": "execute_result"
    }
   ],
   "source": [
    "arr1"
   ]
  },
  {
   "cell_type": "code",
   "execution_count": 8,
   "id": "3253eb13-d68b-4698-b055-f4b4d3a71426",
   "metadata": {},
   "outputs": [
    {
     "data": {
      "text/plain": [
       "array([1, 2, 3, 4, 5])"
      ]
     },
     "execution_count": 8,
     "metadata": {},
     "output_type": "execute_result"
    }
   ],
   "source": [
    "arr"
   ]
  },
  {
   "cell_type": "code",
   "execution_count": 9,
   "id": "a823b047-8879-4511-b205-742497a1f20a",
   "metadata": {},
   "outputs": [
    {
     "data": {
      "text/plain": [
       "1"
      ]
     },
     "execution_count": 9,
     "metadata": {},
     "output_type": "execute_result"
    }
   ],
   "source": [
    "arr.ndim"
   ]
  },
  {
   "cell_type": "code",
   "execution_count": 10,
   "id": "c433423a-cf2b-4a61-a750-256f16274f02",
   "metadata": {},
   "outputs": [
    {
     "data": {
      "text/plain": [
       "2"
      ]
     },
     "execution_count": 10,
     "metadata": {},
     "output_type": "execute_result"
    }
   ],
   "source": [
    "arr1.ndim"
   ]
  },
  {
   "cell_type": "code",
   "execution_count": 11,
   "id": "29dec39a-7b4d-4b8e-ae07-ac5bf3b5ac21",
   "metadata": {},
   "outputs": [
    {
     "data": {
      "text/plain": [
       "array([1, 2, 3, 4, 5])"
      ]
     },
     "execution_count": 11,
     "metadata": {},
     "output_type": "execute_result"
    }
   ],
   "source": [
    "arr"
   ]
  },
  {
   "cell_type": "code",
   "execution_count": 12,
   "id": "e676fce0-a108-4c09-ba8b-ab518a3bd43d",
   "metadata": {},
   "outputs": [],
   "source": [
    "a = arr # shallow copy is being done here"
   ]
  },
  {
   "cell_type": "code",
   "execution_count": 13,
   "id": "7d7f108e-6c3c-4cc4-b6f3-20be939db99a",
   "metadata": {},
   "outputs": [],
   "source": [
    "arr[0] = 100"
   ]
  },
  {
   "cell_type": "code",
   "execution_count": 14,
   "id": "57c488ab-381a-4ffb-bd1f-f023defb8756",
   "metadata": {},
   "outputs": [
    {
     "data": {
      "text/plain": [
       "array([100,   2,   3,   4,   5])"
      ]
     },
     "execution_count": 14,
     "metadata": {},
     "output_type": "execute_result"
    }
   ],
   "source": [
    "arr"
   ]
  },
  {
   "cell_type": "code",
   "execution_count": 15,
   "id": "a22e9658-e2df-4e9d-8c73-81c48f671e06",
   "metadata": {},
   "outputs": [
    {
     "data": {
      "text/plain": [
       "array([100,   2,   3,   4,   5])"
      ]
     },
     "execution_count": 15,
     "metadata": {},
     "output_type": "execute_result"
    }
   ],
   "source": [
    "a"
   ]
  },
  {
   "cell_type": "code",
   "execution_count": 16,
   "id": "c310c2b4-ed3f-4a6b-8493-913f3cde645e",
   "metadata": {},
   "outputs": [],
   "source": [
    "b = np.copy(arr)"
   ]
  },
  {
   "cell_type": "code",
   "execution_count": 17,
   "id": "13d1de28-8de0-41c3-8cd8-3a821fc21272",
   "metadata": {},
   "outputs": [],
   "source": [
    "arr[1]= 50"
   ]
  },
  {
   "cell_type": "code",
   "execution_count": 18,
   "id": "6638a6b8-a8fe-4892-98e3-45f1ee470c99",
   "metadata": {},
   "outputs": [
    {
     "data": {
      "text/plain": [
       "array([100,  50,   3,   4,   5])"
      ]
     },
     "execution_count": 18,
     "metadata": {},
     "output_type": "execute_result"
    }
   ],
   "source": [
    "arr"
   ]
  },
  {
   "cell_type": "code",
   "execution_count": 19,
   "id": "2a49ce5c-ab47-4ffd-b81c-ef08cf58dc60",
   "metadata": {},
   "outputs": [
    {
     "data": {
      "text/plain": [
       "array([100,   2,   3,   4,   5])"
      ]
     },
     "execution_count": 19,
     "metadata": {},
     "output_type": "execute_result"
    }
   ],
   "source": [
    "b"
   ]
  },
  {
   "cell_type": "code",
   "execution_count": 20,
   "id": "067577c8-db5a-43ed-9ea8-5d368a307ff8",
   "metadata": {},
   "outputs": [
    {
     "data": {
      "text/plain": [
       "array([[ True, False, False],\n",
       "       [False,  True, False],\n",
       "       [False, False,  True]])"
      ]
     },
     "execution_count": 20,
     "metadata": {},
     "output_type": "execute_result"
    }
   ],
   "source": [
    "np.fromfunction(lambda i,j : i==j , (3,3))"
   ]
  },
  {
   "cell_type": "code",
   "execution_count": 21,
   "id": "cc28ed3f-faac-46b4-92e0-6cf5b8fab0a7",
   "metadata": {},
   "outputs": [
    {
     "data": {
      "text/plain": [
       "array([[0., 0., 0.],\n",
       "       [0., 1., 2.],\n",
       "       [0., 2., 4.]])"
      ]
     },
     "execution_count": 21,
     "metadata": {},
     "output_type": "execute_result"
    }
   ],
   "source": [
    "x = np.fromfunction(lambda i,j : i*j , (3,3))\n",
    "x"
   ]
  },
  {
   "cell_type": "code",
   "execution_count": 22,
   "id": "8f5f7820-0e87-4dc9-bf6a-536680647ee8",
   "metadata": {},
   "outputs": [],
   "source": [
    "itera = (i*i for i in range(5))"
   ]
  },
  {
   "cell_type": "code",
   "execution_count": 23,
   "id": "5655b158-0905-4d38-8420-f9e85dd90466",
   "metadata": {},
   "outputs": [
    {
     "data": {
      "text/plain": [
       "<generator object <genexpr> at 0x7fd2e426c040>"
      ]
     },
     "execution_count": 23,
     "metadata": {},
     "output_type": "execute_result"
    }
   ],
   "source": [
    "itera"
   ]
  },
  {
   "cell_type": "code",
   "execution_count": 24,
   "id": "84bfd638-6c3b-47e1-bd62-140b6d193dbd",
   "metadata": {},
   "outputs": [
    {
     "data": {
      "text/plain": [
       "array([ 0,  1,  4,  9, 16])"
      ]
     },
     "execution_count": 24,
     "metadata": {},
     "output_type": "execute_result"
    }
   ],
   "source": [
    "np.fromiter(itera,int)"
   ]
  },
  {
   "cell_type": "code",
   "execution_count": 25,
   "id": "6172c918-d8b0-45f3-8371-6a271892ae98",
   "metadata": {},
   "outputs": [
    {
     "data": {
      "text/plain": [
       "array([23., 12., 24.])"
      ]
     },
     "execution_count": 25,
     "metadata": {},
     "output_type": "execute_result"
    }
   ],
   "source": [
    "np.fromstring('23 12 24',sep = ' ')"
   ]
  },
  {
   "cell_type": "code",
   "execution_count": 26,
   "id": "72091186-710d-4e05-9286-432bb6dbe809",
   "metadata": {},
   "outputs": [
    {
     "data": {
      "text/plain": [
       "array([23., 12., 24.])"
      ]
     },
     "execution_count": 26,
     "metadata": {},
     "output_type": "execute_result"
    }
   ],
   "source": [
    "np.fromstring('23,12,24',sep = ',')"
   ]
  },
  {
   "cell_type": "code",
   "execution_count": 27,
   "id": "79a4283f-27e0-4593-a836-daf1eeaa9813",
   "metadata": {},
   "outputs": [
    {
     "data": {
      "text/plain": [
       "2"
      ]
     },
     "execution_count": 27,
     "metadata": {},
     "output_type": "execute_result"
    }
   ],
   "source": [
    "x.ndim # returns the dimension of the array"
   ]
  },
  {
   "cell_type": "code",
   "execution_count": 28,
   "id": "6e05da56-250f-40a8-96a0-157e7c8f544a",
   "metadata": {},
   "outputs": [
    {
     "data": {
      "text/plain": [
       "9"
      ]
     },
     "execution_count": 28,
     "metadata": {},
     "output_type": "execute_result"
    }
   ],
   "source": [
    "x.size # returns total number of elements available in the array"
   ]
  },
  {
   "cell_type": "code",
   "execution_count": 29,
   "id": "8145e10b-3102-4e0e-a6ce-4a9221c31da8",
   "metadata": {},
   "outputs": [
    {
     "data": {
      "text/plain": [
       "(3, 3)"
      ]
     },
     "execution_count": 29,
     "metadata": {},
     "output_type": "execute_result"
    }
   ],
   "source": [
    "x.shape"
   ]
  },
  {
   "cell_type": "code",
   "execution_count": 30,
   "id": "babec1dd-61ac-402c-a4c9-5e3b75e366a0",
   "metadata": {},
   "outputs": [
    {
     "data": {
      "text/plain": [
       "(5,)"
      ]
     },
     "execution_count": 30,
     "metadata": {},
     "output_type": "execute_result"
    }
   ],
   "source": [
    "b.shape"
   ]
  },
  {
   "cell_type": "code",
   "execution_count": 31,
   "id": "472bbaa1-ab5a-4e3f-907c-6316afb96c16",
   "metadata": {},
   "outputs": [
    {
     "data": {
      "text/plain": [
       "dtype('int64')"
      ]
     },
     "execution_count": 31,
     "metadata": {},
     "output_type": "execute_result"
    }
   ],
   "source": [
    "b.dtype"
   ]
  },
  {
   "cell_type": "code",
   "execution_count": 32,
   "id": "6b5812b0-ae88-45c2-aa86-fe19c9317d52",
   "metadata": {},
   "outputs": [
    {
     "data": {
      "text/plain": [
       "dtype('float64')"
      ]
     },
     "execution_count": 32,
     "metadata": {},
     "output_type": "execute_result"
    }
   ],
   "source": [
    "x.dtype"
   ]
  },
  {
   "cell_type": "code",
   "execution_count": 33,
   "id": "c81b2606-1b54-4cf2-9369-9f72f9f465f8",
   "metadata": {},
   "outputs": [
    {
     "data": {
      "text/plain": [
       "[0, 1, 2, 3, 4]"
      ]
     },
     "execution_count": 33,
     "metadata": {},
     "output_type": "execute_result"
    }
   ],
   "source": [
    "list(range(5))"
   ]
  },
  {
   "cell_type": "code",
   "execution_count": 34,
   "id": "bd2320a6-d5db-4483-9e0c-045ce625b5ea",
   "metadata": {},
   "outputs": [
    {
     "data": {
      "text/plain": [
       "[0, 1, 2, 3, 4]"
      ]
     },
     "execution_count": 34,
     "metadata": {},
     "output_type": "execute_result"
    }
   ],
   "source": [
    "list(range(0,5))"
   ]
  },
  {
   "cell_type": "code",
   "execution_count": 35,
   "id": "8187edb3-c142-4fae-8d86-1d8558c993b4",
   "metadata": {},
   "outputs": [
    {
     "ename": "TypeError",
     "evalue": "'float' object cannot be interpreted as an integer",
     "output_type": "error",
     "traceback": [
      "\u001b[0;31m---------------------------------------------------------------------------\u001b[0m",
      "\u001b[0;31mTypeError\u001b[0m                                 Traceback (most recent call last)",
      "Cell \u001b[0;32mIn[35], line 1\u001b[0m\n\u001b[0;32m----> 1\u001b[0m \u001b[38;5;28mlist\u001b[39m(\u001b[38;5;28;43mrange\u001b[39;49m\u001b[43m(\u001b[49m\u001b[38;5;241;43m0.4\u001b[39;49m\u001b[43m,\u001b[49m\u001b[38;5;241;43m10.4\u001b[39;49m\u001b[43m)\u001b[49m)\n",
      "\u001b[0;31mTypeError\u001b[0m: 'float' object cannot be interpreted as an integer"
     ]
    }
   ],
   "source": [
    "list(range(0.4,10.4))"
   ]
  },
  {
   "cell_type": "code",
   "execution_count": 36,
   "id": "d44bf7b4-4c61-4043-ae4f-ab2a042f65d7",
   "metadata": {},
   "outputs": [
    {
     "data": {
      "text/plain": [
       "array([0.4, 1.4, 2.4, 3.4, 4.4, 5.4, 6.4, 7.4, 8.4, 9.4])"
      ]
     },
     "execution_count": 36,
     "metadata": {},
     "output_type": "execute_result"
    }
   ],
   "source": [
    "np.arange(0.4,10.4)"
   ]
  },
  {
   "cell_type": "code",
   "execution_count": 37,
   "id": "d46bca7d-eba6-470c-923f-7c5bee60d4dc",
   "metadata": {},
   "outputs": [
    {
     "data": {
      "text/plain": [
       "array([ 0.4,  0.6,  0.8,  1. ,  1.2,  1.4,  1.6,  1.8,  2. ,  2.2,  2.4,\n",
       "        2.6,  2.8,  3. ,  3.2,  3.4,  3.6,  3.8,  4. ,  4.2,  4.4,  4.6,\n",
       "        4.8,  5. ,  5.2,  5.4,  5.6,  5.8,  6. ,  6.2,  6.4,  6.6,  6.8,\n",
       "        7. ,  7.2,  7.4,  7.6,  7.8,  8. ,  8.2,  8.4,  8.6,  8.8,  9. ,\n",
       "        9.2,  9.4,  9.6,  9.8, 10. , 10.2])"
      ]
     },
     "execution_count": 37,
     "metadata": {},
     "output_type": "execute_result"
    }
   ],
   "source": [
    "np.arange(0.4,10.4,0.2)"
   ]
  },
  {
   "cell_type": "code",
   "execution_count": 38,
   "id": "7aa37daa-a6b1-4f9d-bad6-a0282504ffea",
   "metadata": {},
   "outputs": [
    {
     "data": {
      "text/plain": [
       "[0.4,\n",
       " 0.6000000000000001,\n",
       " 0.8000000000000002,\n",
       " 1.0000000000000002,\n",
       " 1.2000000000000002,\n",
       " 1.4000000000000004,\n",
       " 1.6000000000000005,\n",
       " 1.8000000000000003,\n",
       " 2.0000000000000004,\n",
       " 2.2000000000000006,\n",
       " 2.400000000000001,\n",
       " 2.6000000000000005,\n",
       " 2.8000000000000007,\n",
       " 3.000000000000001,\n",
       " 3.2000000000000006,\n",
       " 3.400000000000001,\n",
       " 3.600000000000001,\n",
       " 3.800000000000001,\n",
       " 4.000000000000002,\n",
       " 4.200000000000001,\n",
       " 4.400000000000002,\n",
       " 4.600000000000001,\n",
       " 4.800000000000002,\n",
       " 5.000000000000002,\n",
       " 5.200000000000002,\n",
       " 5.400000000000002,\n",
       " 5.600000000000002,\n",
       " 5.8000000000000025,\n",
       " 6.000000000000002,\n",
       " 6.200000000000002,\n",
       " 6.400000000000002,\n",
       " 6.600000000000002,\n",
       " 6.8000000000000025,\n",
       " 7.000000000000003,\n",
       " 7.200000000000003,\n",
       " 7.400000000000003,\n",
       " 7.600000000000003,\n",
       " 7.8000000000000025,\n",
       " 8.000000000000002,\n",
       " 8.200000000000003,\n",
       " 8.400000000000004,\n",
       " 8.600000000000003,\n",
       " 8.800000000000002,\n",
       " 9.000000000000004,\n",
       " 9.200000000000003,\n",
       " 9.400000000000004,\n",
       " 9.600000000000003,\n",
       " 9.800000000000004,\n",
       " 10.000000000000004,\n",
       " 10.200000000000003]"
      ]
     },
     "execution_count": 38,
     "metadata": {},
     "output_type": "execute_result"
    }
   ],
   "source": [
    "list(np.arange(0.4,10.4,0.2))"
   ]
  },
  {
   "cell_type": "code",
   "execution_count": 39,
   "id": "e9833da8-f418-4870-ad99-0be37b3d5981",
   "metadata": {},
   "outputs": [
    {
     "data": {
      "text/plain": [
       "array([1.        , 1.21052632, 1.42105263, 1.63157895, 1.84210526,\n",
       "       2.05263158, 2.26315789, 2.47368421, 2.68421053, 2.89473684,\n",
       "       3.10526316, 3.31578947, 3.52631579, 3.73684211, 3.94736842,\n",
       "       4.15789474, 4.36842105, 4.57894737, 4.78947368, 5.        ])"
      ]
     },
     "execution_count": 39,
     "metadata": {},
     "output_type": "execute_result"
    }
   ],
   "source": [
    "np.linspace(1,5,20)"
   ]
  },
  {
   "cell_type": "code",
   "execution_count": 40,
   "id": "ed80c492-5493-4525-bed3-168a54f13139",
   "metadata": {},
   "outputs": [
    {
     "data": {
      "text/plain": [
       "array([1.00000000e+01, 1.62377674e+01, 2.63665090e+01, 4.28133240e+01,\n",
       "       6.95192796e+01, 1.12883789e+02, 1.83298071e+02, 2.97635144e+02,\n",
       "       4.83293024e+02, 7.84759970e+02, 1.27427499e+03, 2.06913808e+03,\n",
       "       3.35981829e+03, 5.45559478e+03, 8.85866790e+03, 1.43844989e+04,\n",
       "       2.33572147e+04, 3.79269019e+04, 6.15848211e+04, 1.00000000e+05])"
      ]
     },
     "execution_count": 40,
     "metadata": {},
     "output_type": "execute_result"
    }
   ],
   "source": [
    "np.logspace(1,5,20,base=10)"
   ]
  },
  {
   "cell_type": "code",
   "execution_count": 41,
   "id": "7b93794a-4a4c-4aa5-8bb2-93dcbf480386",
   "metadata": {},
   "outputs": [
    {
     "data": {
      "text/plain": [
       "array([0., 0., 0., 0., 0.])"
      ]
     },
     "execution_count": 41,
     "metadata": {},
     "output_type": "execute_result"
    }
   ],
   "source": [
    "np.zeros(5)"
   ]
  },
  {
   "cell_type": "code",
   "execution_count": 42,
   "id": "3e52ffd0-fdd4-4214-87a1-7353b3ba7cd8",
   "metadata": {},
   "outputs": [
    {
     "data": {
      "text/plain": [
       "array([[0., 0., 0., 0.],\n",
       "       [0., 0., 0., 0.],\n",
       "       [0., 0., 0., 0.]])"
      ]
     },
     "execution_count": 42,
     "metadata": {},
     "output_type": "execute_result"
    }
   ],
   "source": [
    "np.zeros((3,4))"
   ]
  },
  {
   "cell_type": "code",
   "execution_count": 43,
   "id": "2b54d57c-83d5-4594-aa07-0e6aab800268",
   "metadata": {},
   "outputs": [
    {
     "data": {
      "text/plain": [
       "array([[[0., 0., 0.],\n",
       "        [0., 0., 0.]],\n",
       "\n",
       "       [[0., 0., 0.],\n",
       "        [0., 0., 0.]]])"
      ]
     },
     "execution_count": 43,
     "metadata": {},
     "output_type": "execute_result"
    }
   ],
   "source": [
    "np.zeros((2,2,3))"
   ]
  },
  {
   "cell_type": "code",
   "execution_count": 44,
   "id": "c6f7d9e1-10ee-4809-b021-5dbbd255e52e",
   "metadata": {},
   "outputs": [
    {
     "data": {
      "text/plain": [
       "array([[[0., 0.],\n",
       "        [0., 0.]],\n",
       "\n",
       "       [[0., 0.],\n",
       "        [0., 0.]],\n",
       "\n",
       "       [[0., 0.],\n",
       "        [0., 0.]]])"
      ]
     },
     "execution_count": 44,
     "metadata": {},
     "output_type": "execute_result"
    }
   ],
   "source": [
    "np.zeros((3,2,2))"
   ]
  },
  {
   "cell_type": "code",
   "execution_count": 45,
   "id": "b3a85331-3dde-4d07-85f6-e4e60b85562f",
   "metadata": {},
   "outputs": [
    {
     "data": {
      "text/plain": [
       "array([[[[0., 0., 0.],\n",
       "         [0., 0., 0.]],\n",
       "\n",
       "        [[0., 0., 0.],\n",
       "         [0., 0., 0.]],\n",
       "\n",
       "        [[0., 0., 0.],\n",
       "         [0., 0., 0.]],\n",
       "\n",
       "        [[0., 0., 0.],\n",
       "         [0., 0., 0.]]],\n",
       "\n",
       "\n",
       "       [[[0., 0., 0.],\n",
       "         [0., 0., 0.]],\n",
       "\n",
       "        [[0., 0., 0.],\n",
       "         [0., 0., 0.]],\n",
       "\n",
       "        [[0., 0., 0.],\n",
       "         [0., 0., 0.]],\n",
       "\n",
       "        [[0., 0., 0.],\n",
       "         [0., 0., 0.]]],\n",
       "\n",
       "\n",
       "       [[[0., 0., 0.],\n",
       "         [0., 0., 0.]],\n",
       "\n",
       "        [[0., 0., 0.],\n",
       "         [0., 0., 0.]],\n",
       "\n",
       "        [[0., 0., 0.],\n",
       "         [0., 0., 0.]],\n",
       "\n",
       "        [[0., 0., 0.],\n",
       "         [0., 0., 0.]]]])"
      ]
     },
     "execution_count": 45,
     "metadata": {},
     "output_type": "execute_result"
    }
   ],
   "source": [
    "np.zeros((3,4,2,3))"
   ]
  },
  {
   "cell_type": "code",
   "execution_count": 46,
   "id": "87c9dc35-54f2-4ba3-8bee-3e7c2a02179d",
   "metadata": {},
   "outputs": [
    {
     "data": {
      "text/plain": [
       "array([1., 1., 1., 1., 1.])"
      ]
     },
     "execution_count": 46,
     "metadata": {},
     "output_type": "execute_result"
    }
   ],
   "source": [
    "np.ones(5)"
   ]
  },
  {
   "cell_type": "code",
   "execution_count": 47,
   "id": "854df8a6-5740-4bbe-ace3-ea6bd1336f84",
   "metadata": {},
   "outputs": [],
   "source": [
    "arr = np.ones((3,4))"
   ]
  },
  {
   "cell_type": "code",
   "execution_count": 48,
   "id": "b10235cc-aca1-4c0c-8279-749c2c0eaf2b",
   "metadata": {},
   "outputs": [
    {
     "data": {
      "text/plain": [
       "array([[6., 6., 6., 6.],\n",
       "       [6., 6., 6., 6.],\n",
       "       [6., 6., 6., 6.]])"
      ]
     },
     "execution_count": 48,
     "metadata": {},
     "output_type": "execute_result"
    }
   ],
   "source": [
    "arr + 5"
   ]
  },
  {
   "cell_type": "code",
   "execution_count": 49,
   "id": "d0b9dc86-123a-4cf0-b32d-20edb9861b41",
   "metadata": {},
   "outputs": [
    {
     "data": {
      "text/plain": [
       "array([[4., 4., 4., 4.],\n",
       "       [4., 4., 4., 4.],\n",
       "       [4., 4., 4., 4.]])"
      ]
     },
     "execution_count": 49,
     "metadata": {},
     "output_type": "execute_result"
    }
   ],
   "source": [
    "arr*4"
   ]
  },
  {
   "cell_type": "code",
   "execution_count": 50,
   "id": "518e947c-ab7f-47db-912d-b179f1e3f9e7",
   "metadata": {},
   "outputs": [],
   "source": [
    "arr1 = np.eye(5)"
   ]
  },
  {
   "cell_type": "code",
   "execution_count": 51,
   "id": "a04f5b5c-45a0-4259-8c6b-376e9507d523",
   "metadata": {},
   "outputs": [
    {
     "data": {
      "text/plain": [
       "array([[4., 4., 4., 4.],\n",
       "       [4., 4., 4., 4.],\n",
       "       [4., 4., 4., 4.]])"
      ]
     },
     "execution_count": 51,
     "metadata": {},
     "output_type": "execute_result"
    }
   ],
   "source": [
    " np.empty((3,4))"
   ]
  },
  {
   "cell_type": "code",
   "execution_count": 52,
   "id": "f4de78a2-9e0f-444c-b8a7-e28f89ceaf76",
   "metadata": {},
   "outputs": [
    {
     "data": {
      "text/plain": [
       "numpy.ndarray"
      ]
     },
     "execution_count": 52,
     "metadata": {},
     "output_type": "execute_result"
    }
   ],
   "source": [
    "type(arr1)"
   ]
  },
  {
   "cell_type": "code",
   "execution_count": 53,
   "id": "a3b6c1e9-2310-490a-818f-c1f28b873c03",
   "metadata": {},
   "outputs": [
    {
     "data": {
      "text/html": [
       "<div>\n",
       "<style scoped>\n",
       "    .dataframe tbody tr th:only-of-type {\n",
       "        vertical-align: middle;\n",
       "    }\n",
       "\n",
       "    .dataframe tbody tr th {\n",
       "        vertical-align: top;\n",
       "    }\n",
       "\n",
       "    .dataframe thead th {\n",
       "        text-align: right;\n",
       "    }\n",
       "</style>\n",
       "<table border=\"1\" class=\"dataframe\">\n",
       "  <thead>\n",
       "    <tr style=\"text-align: right;\">\n",
       "      <th></th>\n",
       "      <th>0</th>\n",
       "      <th>1</th>\n",
       "      <th>2</th>\n",
       "      <th>3</th>\n",
       "      <th>4</th>\n",
       "    </tr>\n",
       "  </thead>\n",
       "  <tbody>\n",
       "    <tr>\n",
       "      <th>0</th>\n",
       "      <td>1.0</td>\n",
       "      <td>0.0</td>\n",
       "      <td>0.0</td>\n",
       "      <td>0.0</td>\n",
       "      <td>0.0</td>\n",
       "    </tr>\n",
       "    <tr>\n",
       "      <th>1</th>\n",
       "      <td>0.0</td>\n",
       "      <td>1.0</td>\n",
       "      <td>0.0</td>\n",
       "      <td>0.0</td>\n",
       "      <td>0.0</td>\n",
       "    </tr>\n",
       "    <tr>\n",
       "      <th>2</th>\n",
       "      <td>0.0</td>\n",
       "      <td>0.0</td>\n",
       "      <td>1.0</td>\n",
       "      <td>0.0</td>\n",
       "      <td>0.0</td>\n",
       "    </tr>\n",
       "    <tr>\n",
       "      <th>3</th>\n",
       "      <td>0.0</td>\n",
       "      <td>0.0</td>\n",
       "      <td>0.0</td>\n",
       "      <td>1.0</td>\n",
       "      <td>0.0</td>\n",
       "    </tr>\n",
       "    <tr>\n",
       "      <th>4</th>\n",
       "      <td>0.0</td>\n",
       "      <td>0.0</td>\n",
       "      <td>0.0</td>\n",
       "      <td>0.0</td>\n",
       "      <td>1.0</td>\n",
       "    </tr>\n",
       "  </tbody>\n",
       "</table>\n",
       "</div>"
      ],
      "text/plain": [
       "     0    1    2    3    4\n",
       "0  1.0  0.0  0.0  0.0  0.0\n",
       "1  0.0  1.0  0.0  0.0  0.0\n",
       "2  0.0  0.0  1.0  0.0  0.0\n",
       "3  0.0  0.0  0.0  1.0  0.0\n",
       "4  0.0  0.0  0.0  0.0  1.0"
      ]
     },
     "execution_count": 53,
     "metadata": {},
     "output_type": "execute_result"
    }
   ],
   "source": [
    "import pandas as pd\n",
    "pd.DataFrame(arr1)"
   ]
  },
  {
   "cell_type": "code",
   "execution_count": 54,
   "id": "0aecbf30-7556-4962-a214-cd381df62342",
   "metadata": {},
   "outputs": [
    {
     "data": {
      "text/plain": [
       "array([[0.70704539, 0.01912053, 0.02809768],\n",
       "       [0.55798851, 0.55436538, 0.20731848]])"
      ]
     },
     "execution_count": 54,
     "metadata": {},
     "output_type": "execute_result"
    }
   ],
   "source": [
    "np.random.rand(2,3) #noraml distribution dataset"
   ]
  },
  {
   "cell_type": "code",
   "execution_count": 55,
   "id": "075a87f8-63b2-4323-8897-a2e89d602c9f",
   "metadata": {},
   "outputs": [
    {
     "data": {
      "text/plain": [
       "array([[-0.25383069,  0.36964806, -0.93386305],\n",
       "       [ 0.89061902,  1.06575472, -0.14587578]])"
      ]
     },
     "execution_count": 55,
     "metadata": {},
     "output_type": "execute_result"
    }
   ],
   "source": [
    "np.random.randn(2,3) #standard normal distribution - mean=0,sd = 1"
   ]
  },
  {
   "cell_type": "code",
   "execution_count": 56,
   "id": "2889584d-b2df-42fb-81bc-58f32b7716f4",
   "metadata": {},
   "outputs": [],
   "source": [
    "arr2 = np.random.randint(1,7,(3,4))"
   ]
  },
  {
   "cell_type": "code",
   "execution_count": 57,
   "id": "d970338a-21e2-40a5-ab02-274442786ede",
   "metadata": {},
   "outputs": [
    {
     "data": {
      "text/plain": [
       "array([[2, 5, 6, 3],\n",
       "       [5, 3, 2, 1],\n",
       "       [3, 3, 4, 2]])"
      ]
     },
     "execution_count": 57,
     "metadata": {},
     "output_type": "execute_result"
    }
   ],
   "source": [
    "arr2"
   ]
  },
  {
   "cell_type": "code",
   "execution_count": 58,
   "id": "7ecb0a36-54d9-4594-a63f-9da33b95bcb9",
   "metadata": {},
   "outputs": [
    {
     "data": {
      "text/plain": [
       "12"
      ]
     },
     "execution_count": 58,
     "metadata": {},
     "output_type": "execute_result"
    }
   ],
   "source": [
    "arr2.size"
   ]
  },
  {
   "cell_type": "code",
   "execution_count": 59,
   "id": "a25694dc-ce8f-4b43-8d8c-6d4d4fe89ef8",
   "metadata": {},
   "outputs": [
    {
     "data": {
      "text/plain": [
       "(3, 4)"
      ]
     },
     "execution_count": 59,
     "metadata": {},
     "output_type": "execute_result"
    }
   ],
   "source": [
    "arr2.shape"
   ]
  },
  {
   "cell_type": "code",
   "execution_count": 60,
   "id": "f9b05325-cf1c-45ed-a292-e057cad77654",
   "metadata": {},
   "outputs": [
    {
     "data": {
      "text/plain": [
       "array([[2, 5, 6],\n",
       "       [3, 5, 3],\n",
       "       [2, 1, 3],\n",
       "       [3, 4, 2]])"
      ]
     },
     "execution_count": 60,
     "metadata": {},
     "output_type": "execute_result"
    }
   ],
   "source": [
    "arr2.reshape(4,3)"
   ]
  },
  {
   "cell_type": "code",
   "execution_count": 61,
   "id": "58a32d36-8f5c-449b-8f8b-fb728121ac43",
   "metadata": {},
   "outputs": [
    {
     "data": {
      "text/plain": [
       "array([[2, 5],\n",
       "       [6, 3],\n",
       "       [5, 3],\n",
       "       [2, 1],\n",
       "       [3, 3],\n",
       "       [4, 2]])"
      ]
     },
     "execution_count": 61,
     "metadata": {},
     "output_type": "execute_result"
    }
   ],
   "source": [
    "arr2.reshape(6,2)"
   ]
  },
  {
   "cell_type": "code",
   "execution_count": 62,
   "id": "73afdcda-a897-4d5f-8f27-4f60a0e5ea66",
   "metadata": {},
   "outputs": [
    {
     "data": {
      "text/plain": [
       "array([[2, 5, 6, 3, 5, 3],\n",
       "       [2, 1, 3, 3, 4, 2]])"
      ]
     },
     "execution_count": 62,
     "metadata": {},
     "output_type": "execute_result"
    }
   ],
   "source": [
    "arr2.reshape(2,6) #make sure that the r*c = size of array else u will face an error\n",
    "# for an example i will try to give the reshape value as r*c>size in next code"
   ]
  },
  {
   "cell_type": "code",
   "execution_count": 63,
   "id": "d0285ccf-fe8d-4837-96bb-31dd12f23e3a",
   "metadata": {},
   "outputs": [
    {
     "ename": "ValueError",
     "evalue": "cannot reshape array of size 12 into shape (4,4)",
     "output_type": "error",
     "traceback": [
      "\u001b[0;31m---------------------------------------------------------------------------\u001b[0m",
      "\u001b[0;31mValueError\u001b[0m                                Traceback (most recent call last)",
      "Cell \u001b[0;32mIn[63], line 1\u001b[0m\n\u001b[0;32m----> 1\u001b[0m \u001b[43marr2\u001b[49m\u001b[38;5;241;43m.\u001b[39;49m\u001b[43mreshape\u001b[49m\u001b[43m(\u001b[49m\u001b[38;5;241;43m4\u001b[39;49m\u001b[43m,\u001b[49m\u001b[38;5;241;43m4\u001b[39;49m\u001b[43m)\u001b[49m\n",
      "\u001b[0;31mValueError\u001b[0m: cannot reshape array of size 12 into shape (4,4)"
     ]
    }
   ],
   "source": [
    "arr2.reshape(4,4)"
   ]
  },
  {
   "cell_type": "code",
   "execution_count": 67,
   "id": "a6eae8c8-bf86-4e04-b05a-fd837bdc0648",
   "metadata": {},
   "outputs": [
    {
     "data": {
      "text/plain": [
       "array([[2, 5, 6],\n",
       "       [3, 5, 3],\n",
       "       [2, 1, 3],\n",
       "       [3, 4, 2]])"
      ]
     },
     "execution_count": 67,
     "metadata": {},
     "output_type": "execute_result"
    }
   ],
   "source": [
    "arr2.reshape(4,-1)"
   ]
  },
  {
   "cell_type": "code",
   "execution_count": 68,
   "id": "eb6173ec-36d1-4cf1-aac5-70c5292af624",
   "metadata": {},
   "outputs": [
    {
     "data": {
      "text/plain": [
       "array([[2, 5, 6],\n",
       "       [3, 5, 3],\n",
       "       [2, 1, 3],\n",
       "       [3, 4, 2]])"
      ]
     },
     "execution_count": 68,
     "metadata": {},
     "output_type": "execute_result"
    }
   ],
   "source": [
    "arr2.reshape(4,-124356)"
   ]
  },
  {
   "cell_type": "code",
   "execution_count": 69,
   "id": "135411a7-3d75-4f74-b15e-5d8c7fbd4f5c",
   "metadata": {},
   "outputs": [
    {
     "data": {
      "text/plain": [
       "array([[[2, 5, 6],\n",
       "        [3, 5, 3]],\n",
       "\n",
       "       [[2, 1, 3],\n",
       "        [3, 4, 2]]])"
      ]
     },
     "execution_count": 69,
     "metadata": {},
     "output_type": "execute_result"
    }
   ],
   "source": [
    "arr2.reshape(2,2,3)"
   ]
  },
  {
   "cell_type": "code",
   "execution_count": 72,
   "id": "fd6e1ce5-6692-48d8-b40c-cdd4d5ef5871",
   "metadata": {},
   "outputs": [
    {
     "data": {
      "text/plain": [
       "array([[[2, 5],\n",
       "        [6, 3]],\n",
       "\n",
       "       [[5, 3],\n",
       "        [2, 1]],\n",
       "\n",
       "       [[3, 3],\n",
       "        [4, 2]]])"
      ]
     },
     "execution_count": 72,
     "metadata": {},
     "output_type": "execute_result"
    }
   ],
   "source": [
    "arr2.reshape(3,2,2)"
   ]
  },
  {
   "cell_type": "code",
   "execution_count": 86,
   "id": "9ee9de27-4144-491e-a11e-aaf1af35787e",
   "metadata": {},
   "outputs": [
    {
     "data": {
      "text/plain": [
       "array([[9, 9, 4, 4, 6, 8],\n",
       "       [1, 5, 3, 9, 6, 4],\n",
       "       [3, 4, 8, 2, 1, 9],\n",
       "       [2, 6, 7, 3, 8, 2],\n",
       "       [5, 9, 7, 4, 5, 1]])"
      ]
     },
     "execution_count": 86,
     "metadata": {},
     "output_type": "execute_result"
    }
   ],
   "source": [
    "y = np.random.randint(1,10,(5,6))\n",
    "y"
   ]
  },
  {
   "cell_type": "code",
   "execution_count": 87,
   "id": "23ebe287-7edc-494b-ad4c-e25587f586f2",
   "metadata": {},
   "outputs": [
    {
     "data": {
      "text/plain": [
       "array([[ True,  True, False, False, False, False],\n",
       "       [False, False, False,  True, False, False],\n",
       "       [False, False, False, False, False,  True],\n",
       "       [False, False, False, False, False, False],\n",
       "       [False,  True, False, False, False, False]])"
      ]
     },
     "execution_count": 87,
     "metadata": {},
     "output_type": "execute_result"
    }
   ],
   "source": [
    "y>8"
   ]
  },
  {
   "cell_type": "code",
   "execution_count": 89,
   "id": "7ba686d7-fe39-4f3e-9241-dd12996d91bf",
   "metadata": {},
   "outputs": [
    {
     "data": {
      "text/plain": [
       "array([9, 9, 9, 9, 9])"
      ]
     },
     "execution_count": 89,
     "metadata": {},
     "output_type": "execute_result"
    }
   ],
   "source": [
    "y[y >8]"
   ]
  },
  {
   "cell_type": "code",
   "execution_count": null,
   "id": "f4e351f8-3fd4-49be-91b9-3b37caf78475",
   "metadata": {},
   "outputs": [
    {
     "data": {
      "text/plain": [
       "array([9, 9, 4, 4, 6, 8])"
      ]
     },
     "execution_count": 90,
     "metadata": {},
     "output_type": "execute_result"
    }
   ],
   "source": [
    "y[0]"
   ]
  },
  {
   "cell_type": "markdown",
   "id": "3ee1a7ac-728c-414b-96b9-0794f7dc78d6",
   "metadata": {},
   "source": [
    "Extracting first 2 elements in the matrix"
   ]
  },
  {
   "cell_type": "code",
   "execution_count": 91,
   "id": "9bd991f6-4dd1-45db-b883-82805252bb00",
   "metadata": {},
   "outputs": [
    {
     "ename": "IndexError",
     "evalue": "too many indices for array: array is 1-dimensional, but 2 were indexed",
     "output_type": "error",
     "traceback": [
      "\u001b[0;31m---------------------------------------------------------------------------\u001b[0m",
      "\u001b[0;31mIndexError\u001b[0m                                Traceback (most recent call last)",
      "Cell \u001b[0;32mIn[91], line 1\u001b[0m\n\u001b[0;32m----> 1\u001b[0m \u001b[43my\u001b[49m\u001b[43m[\u001b[49m\u001b[38;5;241;43m0\u001b[39;49m\u001b[43m]\u001b[49m\u001b[43m[\u001b[49m\u001b[38;5;241;43m0\u001b[39;49m\u001b[43m,\u001b[49m\u001b[38;5;241;43m1\u001b[39;49m\u001b[43m]\u001b[49m\n",
      "\u001b[0;31mIndexError\u001b[0m: too many indices for array: array is 1-dimensional, but 2 were indexed"
     ]
    }
   ],
   "source": [
    "y[0][0,1]"
   ]
  },
  {
   "cell_type": "code",
   "execution_count": 92,
   "id": "bbd678aa-0078-4b29-9c8e-34e23718c40b",
   "metadata": {},
   "outputs": [
    {
     "data": {
      "text/plain": [
       "array([9, 9])"
      ]
     },
     "execution_count": 92,
     "metadata": {},
     "output_type": "execute_result"
    }
   ],
   "source": [
    "y[0,[0,1]]"
   ]
  },
  {
   "cell_type": "markdown",
   "id": "123d9ec1-479e-4d36-a9aa-a35eeee3c6c1",
   "metadata": {},
   "source": [
    "Extracting 8,2,7,3 matrix from the matrix y"
   ]
  },
  {
   "cell_type": "code",
   "execution_count": 100,
   "id": "77f71540-79d7-4941-9490-714bd6d04d59",
   "metadata": {},
   "outputs": [
    {
     "data": {
      "text/plain": [
       "array([8, 3])"
      ]
     },
     "execution_count": 100,
     "metadata": {},
     "output_type": "execute_result"
    }
   ],
   "source": [
    "y[[2,3],[2,3]]"
   ]
  },
  {
   "cell_type": "code",
   "execution_count": 101,
   "id": "90bf44f9-8b50-4489-a142-392f57aeaa1e",
   "metadata": {},
   "outputs": [
    {
     "data": {
      "text/plain": [
       "array([[8, 2],\n",
       "       [7, 3]])"
      ]
     },
     "execution_count": 101,
     "metadata": {},
     "output_type": "execute_result"
    }
   ],
   "source": [
    "y[2:4,[2,3]]"
   ]
  },
  {
   "cell_type": "markdown",
   "id": "cc482551-9488-4c0a-b9bc-32b2e69e1bdc",
   "metadata": {},
   "source": [
    "Matrix operations- In numpy when we directly try to (add,subtract,multiply,divide) 2 matrices it is done through indexing"
   ]
  },
  {
   "cell_type": "code",
   "execution_count": 104,
   "id": "fe3241d2-844e-482a-aec5-bb2427e04399",
   "metadata": {},
   "outputs": [],
   "source": [
    "x = np.random.randint(1,3,(3,3))\n",
    "y = np.random.randint(1,3,(3,3))"
   ]
  },
  {
   "cell_type": "code",
   "execution_count": 105,
   "id": "98eb52c6-9d40-4a7b-a494-8d231003cbf4",
   "metadata": {},
   "outputs": [
    {
     "data": {
      "text/plain": [
       "array([[1, 2, 1],\n",
       "       [2, 2, 1],\n",
       "       [2, 2, 2]])"
      ]
     },
     "execution_count": 105,
     "metadata": {},
     "output_type": "execute_result"
    }
   ],
   "source": [
    "x"
   ]
  },
  {
   "cell_type": "code",
   "execution_count": 106,
   "id": "08a463b6-c559-4439-bb1a-a636749f34dd",
   "metadata": {},
   "outputs": [
    {
     "data": {
      "text/plain": [
       "array([[1, 2, 1],\n",
       "       [1, 2, 1],\n",
       "       [2, 1, 1]])"
      ]
     },
     "execution_count": 106,
     "metadata": {},
     "output_type": "execute_result"
    }
   ],
   "source": [
    "y"
   ]
  },
  {
   "cell_type": "code",
   "execution_count": 107,
   "id": "66baa741-5d5b-40eb-81af-f85e1e0aa747",
   "metadata": {},
   "outputs": [
    {
     "data": {
      "text/plain": [
       "array([[2, 4, 2],\n",
       "       [3, 4, 2],\n",
       "       [4, 3, 3]])"
      ]
     },
     "execution_count": 107,
     "metadata": {},
     "output_type": "execute_result"
    }
   ],
   "source": [
    "x+y"
   ]
  },
  {
   "cell_type": "code",
   "execution_count": 108,
   "id": "20e2e468-5f2e-4d1b-a899-01cb111b4a3e",
   "metadata": {},
   "outputs": [
    {
     "data": {
      "text/plain": [
       "array([[0, 0, 0],\n",
       "       [1, 0, 0],\n",
       "       [0, 1, 1]])"
      ]
     },
     "execution_count": 108,
     "metadata": {},
     "output_type": "execute_result"
    }
   ],
   "source": [
    "x-y"
   ]
  },
  {
   "cell_type": "code",
   "execution_count": 111,
   "id": "1cd91287-11fa-4f68-84d6-f1ff0f5669d6",
   "metadata": {},
   "outputs": [
    {
     "data": {
      "text/plain": [
       "array([[1, 4, 1],\n",
       "       [2, 4, 1],\n",
       "       [4, 2, 2]])"
      ]
     },
     "execution_count": 111,
     "metadata": {},
     "output_type": "execute_result"
    }
   ],
   "source": [
    "x*y #This is not matrix multiplication"
   ]
  },
  {
   "cell_type": "code",
   "execution_count": 110,
   "id": "4ef40653-8434-4f52-aea0-1dbbcfbd539e",
   "metadata": {},
   "outputs": [
    {
     "data": {
      "text/plain": [
       "array([[1., 1., 1.],\n",
       "       [2., 1., 1.],\n",
       "       [1., 2., 2.]])"
      ]
     },
     "execution_count": 110,
     "metadata": {},
     "output_type": "execute_result"
    }
   ],
   "source": [
    "x/y"
   ]
  },
  {
   "cell_type": "code",
   "execution_count": 113,
   "id": "d44159c6-ad63-41cf-8fd2-15c0c8339315",
   "metadata": {},
   "outputs": [
    {
     "data": {
      "text/plain": [
       "array([[ 5,  7,  4],\n",
       "       [ 6,  9,  5],\n",
       "       [ 8, 10,  6]])"
      ]
     },
     "execution_count": 113,
     "metadata": {},
     "output_type": "execute_result"
    }
   ],
   "source": [
    "x@y #This is matrix multiplication"
   ]
  },
  {
   "cell_type": "code",
   "execution_count": 114,
   "id": "d15d37c0-1a96-4c72-b591-6addc909a957",
   "metadata": {},
   "outputs": [
    {
     "name": "stderr",
     "output_type": "stream",
     "text": [
      "/tmp/ipykernel_1191/373018688.py:1: RuntimeWarning: divide by zero encountered in divide\n",
      "  x/0\n"
     ]
    },
    {
     "data": {
      "text/plain": [
       "array([[inf, inf, inf],\n",
       "       [inf, inf, inf],\n",
       "       [inf, inf, inf]])"
      ]
     },
     "execution_count": 114,
     "metadata": {},
     "output_type": "execute_result"
    }
   ],
   "source": [
    "x/0"
   ]
  },
  {
   "cell_type": "code",
   "execution_count": null,
   "id": "def0906e-3ba1-4b00-86fe-8142e4c984aa",
   "metadata": {},
   "outputs": [],
   "source": [
    "#Numpy Broadcasting"
   ]
  },
  {
   "cell_type": "code",
   "execution_count": 116,
   "id": "66c297b7-ddb7-4555-acc4-e859e1062f77",
   "metadata": {},
   "outputs": [],
   "source": [
    "arr = np.zeros((3,4))"
   ]
  },
  {
   "cell_type": "code",
   "execution_count": 117,
   "id": "432b1a1b-43d8-47f8-9af1-fa3ffedb6ba8",
   "metadata": {},
   "outputs": [
    {
     "data": {
      "text/plain": [
       "array([[0., 0., 0., 0.],\n",
       "       [0., 0., 0., 0.],\n",
       "       [0., 0., 0., 0.]])"
      ]
     },
     "execution_count": 117,
     "metadata": {},
     "output_type": "execute_result"
    }
   ],
   "source": [
    "arr"
   ]
  },
  {
   "cell_type": "code",
   "execution_count": 121,
   "id": "8b0c9f58-8a72-4c95-b04e-9cdcb4e2bfd3",
   "metadata": {},
   "outputs": [],
   "source": [
    "arr = arr+5"
   ]
  },
  {
   "cell_type": "code",
   "execution_count": 122,
   "id": "54fdae2e-cf47-4db2-826f-0e3e5664e381",
   "metadata": {},
   "outputs": [],
   "source": [
    "a = np.array([1,2,3,4])"
   ]
  },
  {
   "cell_type": "code",
   "execution_count": 123,
   "id": "7de0e87c-d750-4c6f-8784-49653b0f40ad",
   "metadata": {},
   "outputs": [
    {
     "data": {
      "text/plain": [
       "array([[6., 7., 8., 9.],\n",
       "       [6., 7., 8., 9.],\n",
       "       [6., 7., 8., 9.]])"
      ]
     },
     "execution_count": 123,
     "metadata": {},
     "output_type": "execute_result"
    }
   ],
   "source": [
    "arr + a "
   ]
  },
  {
   "cell_type": "code",
   "execution_count": 28,
   "id": "64293301-df9c-4c0c-97c8-f435de105827",
   "metadata": {},
   "outputs": [],
   "source": [
    "import numpy as np\n",
    "\n",
    "x = np.random.randint(1,10,(4,4))"
   ]
  },
  {
   "cell_type": "code",
   "execution_count": 29,
   "id": "0b72c18c-b7b9-4c7f-a70c-db00a3429aa1",
   "metadata": {},
   "outputs": [
    {
     "data": {
      "text/plain": [
       "array([[2, 5, 3, 4],\n",
       "       [7, 9, 5, 9],\n",
       "       [6, 8, 7, 5],\n",
       "       [2, 9, 8, 4]])"
      ]
     },
     "execution_count": 29,
     "metadata": {},
     "output_type": "execute_result"
    }
   ],
   "source": [
    "x"
   ]
  },
  {
   "cell_type": "code",
   "execution_count": 30,
   "id": "013f599f-39f5-46aa-8242-7e31c6ac064a",
   "metadata": {},
   "outputs": [
    {
     "data": {
      "text/plain": [
       "array([[2, 5],\n",
       "       [3, 4],\n",
       "       [7, 9],\n",
       "       [5, 9],\n",
       "       [6, 8],\n",
       "       [7, 5],\n",
       "       [2, 9],\n",
       "       [8, 4]])"
      ]
     },
     "execution_count": 30,
     "metadata": {},
     "output_type": "execute_result"
    }
   ],
   "source": [
    "x.reshape(8,2)"
   ]
  },
  {
   "cell_type": "code",
   "execution_count": 31,
   "id": "7512b5a6-8b1c-47b4-828d-817e9faecfa4",
   "metadata": {},
   "outputs": [],
   "source": [
    "x = x.reshape(8,2)"
   ]
  },
  {
   "cell_type": "code",
   "execution_count": 32,
   "id": "406bdceb-c4bf-4d9d-addd-20539290ca65",
   "metadata": {},
   "outputs": [
    {
     "data": {
      "text/plain": [
       "array([[2, 3, 7, 5, 6, 7, 2, 8],\n",
       "       [5, 4, 9, 9, 8, 5, 9, 4]])"
      ]
     },
     "execution_count": 32,
     "metadata": {},
     "output_type": "execute_result"
    }
   ],
   "source": [
    "x.T"
   ]
  },
  {
   "cell_type": "code",
   "execution_count": 33,
   "id": "87b2b942-833f-4a01-9f83-1ab1c748847e",
   "metadata": {},
   "outputs": [
    {
     "data": {
      "text/plain": [
       "array([2, 5, 3, 4, 7, 9, 5, 9, 6, 8, 7, 5, 2, 9, 8, 4])"
      ]
     },
     "execution_count": 33,
     "metadata": {},
     "output_type": "execute_result"
    }
   ],
   "source": [
    "x.flatten()"
   ]
  },
  {
   "cell_type": "code",
   "execution_count": 34,
   "id": "e5220dda-4276-4669-b925-6c7559e750ed",
   "metadata": {},
   "outputs": [],
   "source": [
    "x = x.reshape(8,2)"
   ]
  },
  {
   "cell_type": "code",
   "execution_count": 35,
   "id": "feea6ffa-5785-4013-ba72-38f5204f155f",
   "metadata": {},
   "outputs": [
    {
     "data": {
      "text/plain": [
       "array([[[2, 5]],\n",
       "\n",
       "       [[3, 4]],\n",
       "\n",
       "       [[7, 9]],\n",
       "\n",
       "       [[5, 9]],\n",
       "\n",
       "       [[6, 8]],\n",
       "\n",
       "       [[7, 5]],\n",
       "\n",
       "       [[2, 9]],\n",
       "\n",
       "       [[8, 4]]])"
      ]
     },
     "execution_count": 35,
     "metadata": {},
     "output_type": "execute_result"
    }
   ],
   "source": [
    "np.expand_dims(x,axis=1)"
   ]
  },
  {
   "cell_type": "markdown",
   "id": "502b0512-0c10-41ed-a447-9fd3bf413918",
   "metadata": {},
   "source": [
    "Shape: (8, 1, 2)\n",
    "Structure: This array consists of 8 elements, where each element is a row containing a single 2-element array."
   ]
  },
  {
   "cell_type": "code",
   "execution_count": 36,
   "id": "cd9f9d37-fcd8-4fa7-ab83-2d61587ad054",
   "metadata": {},
   "outputs": [
    {
     "data": {
      "text/plain": [
       "array([[[2, 5],\n",
       "        [3, 4],\n",
       "        [7, 9],\n",
       "        [5, 9],\n",
       "        [6, 8],\n",
       "        [7, 5],\n",
       "        [2, 9],\n",
       "        [8, 4]]])"
      ]
     },
     "execution_count": 36,
     "metadata": {},
     "output_type": "execute_result"
    }
   ],
   "source": [
    "np.expand_dims(x,axis=0)"
   ]
  },
  {
   "cell_type": "markdown",
   "id": "b5b592f9-0e5a-42f0-8361-8c9b3703f3ce",
   "metadata": {},
   "source": [
    "Shape: (1, 8, 2)\n",
    "Structure: This array consists of a single element (a single row), and that element contains 8 rows, where each row is a 2-element array."
   ]
  },
  {
   "cell_type": "code",
   "execution_count": 37,
   "id": "7eff3d0a-4993-4eaa-9b19-d8f8c21cef23",
   "metadata": {},
   "outputs": [],
   "source": [
    "data = np.array([[1],[2],[3]]) #2-dimensional data"
   ]
  },
  {
   "cell_type": "code",
   "execution_count": 38,
   "id": "8ffef88d-d13c-41ae-ad0c-d7d1f58f48b1",
   "metadata": {},
   "outputs": [
    {
     "data": {
      "text/plain": [
       "array([1, 2, 3])"
      ]
     },
     "execution_count": 38,
     "metadata": {},
     "output_type": "execute_result"
    }
   ],
   "source": [
    "np.squeeze(data) #squeezed into 1-dimension"
   ]
  },
  {
   "cell_type": "code",
   "execution_count": 39,
   "id": "7622ce46-62d3-414c-9548-b278bdf18163",
   "metadata": {},
   "outputs": [
    {
     "data": {
      "text/plain": [
       "array([1, 1, 2, 2, 3, 3])"
      ]
     },
     "execution_count": 39,
     "metadata": {},
     "output_type": "execute_result"
    }
   ],
   "source": [
    "np.repeat(data,2)"
   ]
  },
  {
   "cell_type": "code",
   "execution_count": 45,
   "id": "91bb1a28-9cd7-401b-82d5-76fade1f2d57",
   "metadata": {},
   "outputs": [
    {
     "data": {
      "text/plain": [
       "array([[3],\n",
       "       [1],\n",
       "       [2]])"
      ]
     },
     "execution_count": 45,
     "metadata": {},
     "output_type": "execute_result"
    }
   ],
   "source": [
    "np.roll(data,1) # rotates the data from back and push to front"
   ]
  },
  {
   "cell_type": "code",
   "execution_count": 46,
   "id": "319b3b47-fd37-438c-a8b5-bcb5b3c309cf",
   "metadata": {},
   "outputs": [
    {
     "data": {
      "text/plain": [
       "array([[2],\n",
       "       [3],\n",
       "       [1]])"
      ]
     },
     "execution_count": 46,
     "metadata": {},
     "output_type": "execute_result"
    }
   ],
   "source": [
    "np.roll(data,2)"
   ]
  },
  {
   "cell_type": "code",
   "execution_count": 51,
   "id": "c797a6a7-308c-4811-a04f-4d2d59c09fae",
   "metadata": {},
   "outputs": [
    {
     "data": {
      "text/plain": [
       "array([[1, 0, 0, 0],\n",
       "       [0, 2, 0, 0],\n",
       "       [0, 0, 3, 0],\n",
       "       [0, 0, 0, 4]])"
      ]
     },
     "execution_count": 51,
     "metadata": {},
     "output_type": "execute_result"
    }
   ],
   "source": [
    "np.diag(np.array([1,2,3,4]))"
   ]
  },
  {
   "cell_type": "code",
   "execution_count": 52,
   "id": "5aeb3a5e-2343-43a6-af81-1c63cb141f56",
   "metadata": {},
   "outputs": [],
   "source": [
    "#numpy-binary operators "
   ]
  },
  {
   "cell_type": "code",
   "execution_count": 4,
   "id": "7a9950d9-08e6-45d8-acf6-0fcc587f4466",
   "metadata": {},
   "outputs": [],
   "source": [
    "a = np.random.randint(1,4,(3,4))\n",
    "b = np.random.randint(1,4,(3,4))"
   ]
  },
  {
   "cell_type": "code",
   "execution_count": 55,
   "id": "25bd5616-25e4-4781-b568-90f7d471b89d",
   "metadata": {},
   "outputs": [
    {
     "data": {
      "text/plain": [
       "array([[3, 2, 3, 1],\n",
       "       [3, 2, 2, 1],\n",
       "       [1, 2, 2, 3]])"
      ]
     },
     "execution_count": 55,
     "metadata": {},
     "output_type": "execute_result"
    }
   ],
   "source": [
    "a"
   ]
  },
  {
   "cell_type": "code",
   "execution_count": 56,
   "id": "e76b73ff-92e6-4b85-b1c1-412d478e9869",
   "metadata": {},
   "outputs": [
    {
     "data": {
      "text/plain": [
       "array([[2, 3, 2, 1],\n",
       "       [3, 3, 1, 1],\n",
       "       [1, 2, 1, 2]])"
      ]
     },
     "execution_count": 56,
     "metadata": {},
     "output_type": "execute_result"
    }
   ],
   "source": [
    "b"
   ]
  },
  {
   "cell_type": "code",
   "execution_count": 54,
   "id": "a60bbb78-8732-4a29-a130-6896b4ba33a0",
   "metadata": {},
   "outputs": [
    {
     "data": {
      "text/plain": [
       "array([[ 9,  8,  9,  1],\n",
       "       [27,  8,  2,  1],\n",
       "       [ 1,  4,  2,  9]])"
      ]
     },
     "execution_count": 54,
     "metadata": {},
     "output_type": "execute_result"
    }
   ],
   "source": [
    "a**b"
   ]
  },
  {
   "cell_type": "code",
   "execution_count": 57,
   "id": "d9c62deb-c03e-4a8c-928d-4a2464932b38",
   "metadata": {},
   "outputs": [
    {
     "data": {
      "text/plain": [
       "array([[-4, -3, -4, -2],\n",
       "       [-4, -3, -3, -2],\n",
       "       [-2, -3, -3, -4]])"
      ]
     },
     "execution_count": 57,
     "metadata": {},
     "output_type": "execute_result"
    }
   ],
   "source": [
    "~a"
   ]
  },
  {
   "cell_type": "code",
   "execution_count": 58,
   "id": "5afcdeb5-a22e-4646-8dd6-a3c162a93048",
   "metadata": {},
   "outputs": [
    {
     "data": {
      "text/plain": [
       "array([[False, False, False, False],\n",
       "       [False, False, False, False],\n",
       "       [False, False, False, False]])"
      ]
     },
     "execution_count": 58,
     "metadata": {},
     "output_type": "execute_result"
    }
   ],
   "source": [
    "~a>b"
   ]
  },
  {
   "cell_type": "code",
   "execution_count": 75,
   "id": "18e31cf1-742e-4c4a-908e-c013e219cc78",
   "metadata": {},
   "outputs": [],
   "source": [
    "a = np.array([\"SUdh VInay\",\"kUmar\"])"
   ]
  },
  {
   "cell_type": "code",
   "execution_count": 76,
   "id": "4ffd9df6-6398-4c69-b88f-9e3737da0bb1",
   "metadata": {},
   "outputs": [
    {
     "data": {
      "text/plain": [
       "array(['SUDH VINAY', 'KUMAR'], dtype='<U10')"
      ]
     },
     "execution_count": 76,
     "metadata": {},
     "output_type": "execute_result"
    }
   ],
   "source": [
    "np.char.upper(a)"
   ]
  },
  {
   "cell_type": "code",
   "execution_count": 77,
   "id": "29f844eb-5026-4620-991a-3d92418813f4",
   "metadata": {},
   "outputs": [
    {
     "data": {
      "text/plain": [
       "array(['sudh vinay', 'kumar'], dtype='<U10')"
      ]
     },
     "execution_count": 77,
     "metadata": {},
     "output_type": "execute_result"
    }
   ],
   "source": [
    "np.char.lower(a)"
   ]
  },
  {
   "cell_type": "code",
   "execution_count": 78,
   "id": "37e61c77-6eda-4ea0-a4cc-e56fdbc4d3a1",
   "metadata": {},
   "outputs": [
    {
     "data": {
      "text/plain": [
       "array(['Sudh vinay', 'Kumar'], dtype='<U10')"
      ]
     },
     "execution_count": 78,
     "metadata": {},
     "output_type": "execute_result"
    }
   ],
   "source": [
    "np.char.capitalize(a)"
   ]
  },
  {
   "cell_type": "code",
   "execution_count": 79,
   "id": "19b779aa-036c-4cf0-a242-e18e8cca5f89",
   "metadata": {},
   "outputs": [
    {
     "data": {
      "text/plain": [
       "array(['Sudh Vinay', 'Kumar'], dtype='<U10')"
      ]
     },
     "execution_count": 79,
     "metadata": {},
     "output_type": "execute_result"
    }
   ],
   "source": [
    "np.char.title(a)"
   ]
  },
  {
   "cell_type": "code",
   "execution_count": 80,
   "id": "3b175fed-2835-4797-b1ca-bee75c680667",
   "metadata": {},
   "outputs": [],
   "source": [
    "#Numpy Mathematical Functions"
   ]
  },
  {
   "cell_type": "code",
   "execution_count": 83,
   "id": "3c8d2b06-83a9-4f3b-a2df-6605e9917388",
   "metadata": {},
   "outputs": [
    {
     "data": {
      "text/plain": [
       "array([[3, 3, 3, 2],\n",
       "       [1, 2, 3, 3],\n",
       "       [2, 2, 2, 2]])"
      ]
     },
     "execution_count": 83,
     "metadata": {},
     "output_type": "execute_result"
    }
   ],
   "source": [
    "a = np.random.randint(1,4,(3,4))\n",
    "a"
   ]
  },
  {
   "cell_type": "code",
   "execution_count": 84,
   "id": "7c015d2a-5f43-4e6c-8a10-9eb7e11e8f5e",
   "metadata": {},
   "outputs": [
    {
     "data": {
      "text/plain": [
       "array([[0.14112001, 0.14112001, 0.14112001, 0.90929743],\n",
       "       [0.84147098, 0.90929743, 0.14112001, 0.14112001],\n",
       "       [0.90929743, 0.90929743, 0.90929743, 0.90929743]])"
      ]
     },
     "execution_count": 84,
     "metadata": {},
     "output_type": "execute_result"
    }
   ],
   "source": [
    "np.sin(a)"
   ]
  },
  {
   "cell_type": "code",
   "execution_count": 85,
   "id": "93c99849-32c1-46cc-8642-673fe86f6976",
   "metadata": {},
   "outputs": [
    {
     "data": {
      "text/plain": [
       "array([[-0.9899925 , -0.9899925 , -0.9899925 , -0.41614684],\n",
       "       [ 0.54030231, -0.41614684, -0.9899925 , -0.9899925 ],\n",
       "       [-0.41614684, -0.41614684, -0.41614684, -0.41614684]])"
      ]
     },
     "execution_count": 85,
     "metadata": {},
     "output_type": "execute_result"
    }
   ],
   "source": [
    "np.cos(a)"
   ]
  },
  {
   "cell_type": "code",
   "execution_count": 86,
   "id": "4f6df63e-5efa-4579-b24a-8747a46d49cb",
   "metadata": {},
   "outputs": [
    {
     "data": {
      "text/plain": [
       "array([[-0.14254654, -0.14254654, -0.14254654, -2.18503986],\n",
       "       [ 1.55740772, -2.18503986, -0.14254654, -0.14254654],\n",
       "       [-2.18503986, -2.18503986, -2.18503986, -2.18503986]])"
      ]
     },
     "execution_count": 86,
     "metadata": {},
     "output_type": "execute_result"
    }
   ],
   "source": [
    "np.tan(a)"
   ]
  },
  {
   "cell_type": "code",
   "execution_count": 87,
   "id": "f033f9ee-59d4-45fc-84e9-bc1044585788",
   "metadata": {},
   "outputs": [
    {
     "data": {
      "text/plain": [
       "array([[0.47712125, 0.47712125, 0.47712125, 0.30103   ],\n",
       "       [0.        , 0.30103   , 0.47712125, 0.47712125],\n",
       "       [0.30103   , 0.30103   , 0.30103   , 0.30103   ]])"
      ]
     },
     "execution_count": 87,
     "metadata": {},
     "output_type": "execute_result"
    }
   ],
   "source": [
    "np.log10(a)"
   ]
  },
  {
   "cell_type": "code",
   "execution_count": 88,
   "id": "7960d9e8-ef70-4ef5-8012-0387e19924dd",
   "metadata": {},
   "outputs": [
    {
     "data": {
      "text/plain": [
       "array([[20.08553692, 20.08553692, 20.08553692,  7.3890561 ],\n",
       "       [ 2.71828183,  7.3890561 , 20.08553692, 20.08553692],\n",
       "       [ 7.3890561 ,  7.3890561 ,  7.3890561 ,  7.3890561 ]])"
      ]
     },
     "execution_count": 88,
     "metadata": {},
     "output_type": "execute_result"
    }
   ],
   "source": [
    "np.exp(a)"
   ]
  },
  {
   "cell_type": "code",
   "execution_count": 89,
   "id": "e80fcd70-0a6c-4950-a266-48a5846200de",
   "metadata": {},
   "outputs": [
    {
     "data": {
      "text/plain": [
       "array([[9, 9, 9, 4],\n",
       "       [1, 4, 9, 9],\n",
       "       [4, 4, 4, 4]])"
      ]
     },
     "execution_count": 89,
     "metadata": {},
     "output_type": "execute_result"
    }
   ],
   "source": [
    "np.power(a,2)"
   ]
  },
  {
   "cell_type": "code",
   "execution_count": 90,
   "id": "0713e0d7-f3d4-4233-b0bd-1b2e01ae2ee1",
   "metadata": {},
   "outputs": [
    {
     "data": {
      "text/plain": [
       "2.3333333333333335"
      ]
     },
     "execution_count": 90,
     "metadata": {},
     "output_type": "execute_result"
    }
   ],
   "source": [
    "np.mean(a)"
   ]
  },
  {
   "cell_type": "code",
   "execution_count": 91,
   "id": "0214349d-2489-42ae-a242-d673a2aa7f29",
   "metadata": {},
   "outputs": [
    {
     "data": {
      "text/plain": [
       "2.0"
      ]
     },
     "execution_count": 91,
     "metadata": {},
     "output_type": "execute_result"
    }
   ],
   "source": [
    "np.median(a)"
   ]
  },
  {
   "cell_type": "code",
   "execution_count": 96,
   "id": "33380192-5945-40e5-a6d2-d3458af3c8f1",
   "metadata": {},
   "outputs": [
    {
     "name": "stdout",
     "output_type": "stream",
     "text": [
      "Array: [1 2 3 4 3 2 2 4 4 5 5]\n",
      "Mode: 2\n"
     ]
    }
   ],
   "source": [
    "# Sample NumPy array\n",
    "arr = np.array([1, 2, 3, 4, 3, 2, 2, 4, 4, 5, 5])\n",
    "\n",
    "# Get unique elements and their respective counts\n",
    "unique_elements, element_counts = np.unique(arr, return_counts=True)\n",
    "\n",
    "# Find the index of the element with the highest count (mode)\n",
    "mode_index = np.argmax(element_counts)\n",
    "\n",
    "# The mode is the element with the highest count\n",
    "mode = unique_elements[mode_index]\n",
    "\n",
    "print(\"Array:\", arr)\n",
    "print(\"Mode:\", mode)\n"
   ]
  },
  {
   "cell_type": "code",
   "execution_count": 92,
   "id": "1f599c47-066f-4219-b2a3-f96d000fb040",
   "metadata": {},
   "outputs": [
    {
     "data": {
      "text/plain": [
       "0.6236095644623236"
      ]
     },
     "execution_count": 92,
     "metadata": {},
     "output_type": "execute_result"
    }
   ],
   "source": [
    "np.std(a)"
   ]
  },
  {
   "cell_type": "code",
   "execution_count": 93,
   "id": "df7517b9-8bec-4c40-b401-97e8c6cbff5c",
   "metadata": {},
   "outputs": [
    {
     "data": {
      "text/plain": [
       "0.388888888888889"
      ]
     },
     "execution_count": 93,
     "metadata": {},
     "output_type": "execute_result"
    }
   ],
   "source": [
    "np.var(a)"
   ]
  },
  {
   "cell_type": "code",
   "execution_count": 94,
   "id": "da88fd04-8b07-48b7-be9d-e61e6b623c02",
   "metadata": {},
   "outputs": [
    {
     "data": {
      "text/plain": [
       "1"
      ]
     },
     "execution_count": 94,
     "metadata": {},
     "output_type": "execute_result"
    }
   ],
   "source": [
    "np.min(a)"
   ]
  },
  {
   "cell_type": "code",
   "execution_count": 95,
   "id": "f204a60d-8dbe-4a3a-be8c-2cf056efa421",
   "metadata": {},
   "outputs": [
    {
     "data": {
      "text/plain": [
       "3"
      ]
     },
     "execution_count": 95,
     "metadata": {},
     "output_type": "execute_result"
    }
   ],
   "source": [
    "np.max(a)"
   ]
  },
  {
   "cell_type": "code",
   "execution_count": 97,
   "id": "110738aa-4c3c-4590-a105-22e71df54b61",
   "metadata": {},
   "outputs": [],
   "source": [
    "#Arthemetic Operations"
   ]
  },
  {
   "cell_type": "code",
   "execution_count": 5,
   "id": "dfc11387-cdc9-44ec-b96d-1800de187364",
   "metadata": {},
   "outputs": [
    {
     "data": {
      "text/plain": [
       "array([[1, 1, 1, 2],\n",
       "       [2, 3, 1, 2],\n",
       "       [1, 2, 1, 2]])"
      ]
     },
     "execution_count": 5,
     "metadata": {},
     "output_type": "execute_result"
    }
   ],
   "source": [
    "a "
   ]
  },
  {
   "cell_type": "code",
   "execution_count": 6,
   "id": "5dbfe06a-271c-4d6c-9d24-1ff2a5a0a8e1",
   "metadata": {},
   "outputs": [
    {
     "data": {
      "text/plain": [
       "array([[1, 1, 1, 3],\n",
       "       [3, 1, 2, 3],\n",
       "       [3, 1, 2, 1]])"
      ]
     },
     "execution_count": 6,
     "metadata": {},
     "output_type": "execute_result"
    }
   ],
   "source": [
    "b"
   ]
  },
  {
   "cell_type": "code",
   "execution_count": 7,
   "id": "6f10d28b-69cb-4b7f-8c92-a1c483ed6efd",
   "metadata": {},
   "outputs": [
    {
     "data": {
      "text/plain": [
       "array([[2, 2, 2, 5],\n",
       "       [5, 4, 3, 5],\n",
       "       [4, 3, 3, 3]])"
      ]
     },
     "execution_count": 7,
     "metadata": {},
     "output_type": "execute_result"
    }
   ],
   "source": [
    "a+b"
   ]
  },
  {
   "cell_type": "code",
   "execution_count": 11,
   "id": "083906e5-e140-45b7-a294-d40da9c0acbb",
   "metadata": {},
   "outputs": [
    {
     "data": {
      "text/plain": [
       "array([[2, 2, 2, 5],\n",
       "       [5, 4, 3, 5],\n",
       "       [4, 3, 3, 3]])"
      ]
     },
     "execution_count": 11,
     "metadata": {},
     "output_type": "execute_result"
    }
   ],
   "source": [
    "np.add(a,b)"
   ]
  },
  {
   "cell_type": "code",
   "execution_count": 10,
   "id": "0372a9c3-1a8d-415a-9005-0147739dc59d",
   "metadata": {},
   "outputs": [
    {
     "data": {
      "text/plain": [
       "array([[ 0,  0,  0, -1],\n",
       "       [-1,  2, -1, -1],\n",
       "       [-2,  1, -1,  1]])"
      ]
     },
     "execution_count": 10,
     "metadata": {},
     "output_type": "execute_result"
    }
   ],
   "source": [
    "np.subtract(a,b)"
   ]
  },
  {
   "cell_type": "code",
   "execution_count": 12,
   "id": "2e5d7f4c-e715-4b26-bd1e-29bfd042bb9f",
   "metadata": {},
   "outputs": [
    {
     "data": {
      "text/plain": [
       "array([[1, 1, 1, 6],\n",
       "       [6, 3, 2, 6],\n",
       "       [3, 2, 2, 2]])"
      ]
     },
     "execution_count": 12,
     "metadata": {},
     "output_type": "execute_result"
    }
   ],
   "source": [
    "np.multiply(a,b)"
   ]
  },
  {
   "cell_type": "code",
   "execution_count": 13,
   "id": "a851c979-1927-433a-9656-41dbee2e71e7",
   "metadata": {},
   "outputs": [
    {
     "data": {
      "text/plain": [
       "array([[0, 0, 0, 2],\n",
       "       [2, 0, 1, 2],\n",
       "       [1, 0, 1, 0]])"
      ]
     },
     "execution_count": 13,
     "metadata": {},
     "output_type": "execute_result"
    }
   ],
   "source": [
    "np.mod(a,b)"
   ]
  },
  {
   "cell_type": "code",
   "execution_count": 20,
   "id": "863d8d72-a3cd-4147-afb0-1bdba54419a3",
   "metadata": {},
   "outputs": [
    {
     "data": {
      "text/plain": [
       "array([[1, 1, 1, 8],\n",
       "       [8, 3, 1, 8],\n",
       "       [1, 2, 1, 2]])"
      ]
     },
     "execution_count": 20,
     "metadata": {},
     "output_type": "execute_result"
    }
   ],
   "source": [
    "np.power(a,b)"
   ]
  },
  {
   "cell_type": "code",
   "execution_count": 16,
   "id": "88f20f79-05eb-4a5b-b376-f948f1bd02d7",
   "metadata": {},
   "outputs": [
    {
     "data": {
      "text/plain": [
       "array([[1.        , 1.        , 1.        , 1.41421356],\n",
       "       [1.41421356, 1.73205081, 1.        , 1.41421356],\n",
       "       [1.        , 1.41421356, 1.        , 1.41421356]])"
      ]
     },
     "execution_count": 16,
     "metadata": {},
     "output_type": "execute_result"
    }
   ],
   "source": [
    "np.sqrt(a)"
   ]
  },
  {
   "cell_type": "code",
   "execution_count": 25,
   "id": "47b8970d-7977-4b4a-9238-0a7bdcf2d18e",
   "metadata": {},
   "outputs": [],
   "source": [
    "arr = np.array([7,2,3,5,6])"
   ]
  },
  {
   "cell_type": "code",
   "execution_count": 26,
   "id": "233719f4-b4b8-42c0-8caa-532b5e4fd3b0",
   "metadata": {},
   "outputs": [
    {
     "data": {
      "text/plain": [
       "array([2, 3, 5, 6, 7])"
      ]
     },
     "execution_count": 26,
     "metadata": {},
     "output_type": "execute_result"
    }
   ],
   "source": [
    "np.sort(arr)"
   ]
  },
  {
   "cell_type": "code",
   "execution_count": 29,
   "id": "c5e20899-5242-485d-98e5-f35dcb7a69e1",
   "metadata": {},
   "outputs": [
    {
     "data": {
      "text/plain": [
       "5"
      ]
     },
     "execution_count": 29,
     "metadata": {},
     "output_type": "execute_result"
    }
   ],
   "source": [
    "np.searchsorted(arr,8) #Basically this function gives you the index that where should given number in a sorted array"
   ]
  },
  {
   "cell_type": "code",
   "execution_count": 30,
   "id": "3f22522f-ec25-411f-9a44-7d701e146be8",
   "metadata": {},
   "outputs": [
    {
     "data": {
      "text/plain": [
       "3"
      ]
     },
     "execution_count": 30,
     "metadata": {},
     "output_type": "execute_result"
    }
   ],
   "source": [
    "np.searchsorted(arr,4)"
   ]
  },
  {
   "cell_type": "code",
   "execution_count": 31,
   "id": "938f965a-d0c7-4249-9ccc-53ea1400cf4a",
   "metadata": {},
   "outputs": [],
   "source": [
    "arr1 = np.array([1,2,3,4,5,0,0,0,2,3])"
   ]
  },
  {
   "cell_type": "code",
   "execution_count": 32,
   "id": "1aed3169-6f56-4a1e-96d5-f915df135d00",
   "metadata": {},
   "outputs": [
    {
     "data": {
      "text/plain": [
       "7"
      ]
     },
     "execution_count": 32,
     "metadata": {},
     "output_type": "execute_result"
    }
   ],
   "source": [
    "np.count_nonzero(arr1)"
   ]
  },
  {
   "cell_type": "code",
   "execution_count": 34,
   "id": "6ce2ff74-1e8f-488d-8c4c-58e55b859098",
   "metadata": {},
   "outputs": [
    {
     "data": {
      "text/plain": [
       "(array([0, 1, 2, 3, 4, 8, 9]),)"
      ]
     },
     "execution_count": 34,
     "metadata": {},
     "output_type": "execute_result"
    }
   ],
   "source": [
    "np.where(arr1 > 0) # gives the indexs where conditions satisfies"
   ]
  },
  {
   "cell_type": "code",
   "execution_count": 35,
   "id": "30cfa89e-ed4d-4542-a4fa-c4feb188db7b",
   "metadata": {},
   "outputs": [
    {
     "data": {
      "text/plain": [
       "array([2, 3, 4, 5, 2, 3])"
      ]
     },
     "execution_count": 35,
     "metadata": {},
     "output_type": "execute_result"
    }
   ],
   "source": [
    "np.extract(arr1 > 1,arr1)"
   ]
  },
  {
   "cell_type": "code",
   "execution_count": null,
   "id": "18281752-286b-4238-8504-a298eaea0d58",
   "metadata": {},
   "outputs": [],
   "source": [
    "#Numpy - Bite Swapping"
   ]
  },
  {
   "cell_type": "code",
   "execution_count": 36,
   "id": "97dd8cc7-9ca0-43ae-9915-bddd7a195fa0",
   "metadata": {},
   "outputs": [
    {
     "data": {
      "text/plain": [
       "array([1, 2, 3, 4, 5, 0, 0, 0, 2, 3])"
      ]
     },
     "execution_count": 36,
     "metadata": {},
     "output_type": "execute_result"
    }
   ],
   "source": [
    "arr1"
   ]
  },
  {
   "cell_type": "code",
   "execution_count": 37,
   "id": "132f5052-753d-4712-a2a8-9cf3a28ebee2",
   "metadata": {},
   "outputs": [
    {
     "data": {
      "text/plain": [
       "array([ 72057594037927936, 144115188075855872, 216172782113783808,\n",
       "       288230376151711744, 360287970189639680,                  0,\n",
       "                        0,                  0, 144115188075855872,\n",
       "       216172782113783808])"
      ]
     },
     "execution_count": 37,
     "metadata": {},
     "output_type": "execute_result"
    }
   ],
   "source": [
    "arr1.byteswap()"
   ]
  },
  {
   "cell_type": "code",
   "execution_count": 38,
   "id": "fe8c3aa3-0560-4049-9699-b4de5dac3346",
   "metadata": {},
   "outputs": [
    {
     "data": {
      "text/plain": [
       "array([1, 2, 3, 4, 5, 0, 0, 0, 2, 3])"
      ]
     },
     "execution_count": 38,
     "metadata": {},
     "output_type": "execute_result"
    }
   ],
   "source": [
    "arr1"
   ]
  },
  {
   "cell_type": "code",
   "execution_count": 39,
   "id": "39d18df6-ebc4-4cd0-9580-e1b1e38367e7",
   "metadata": {},
   "outputs": [
    {
     "data": {
      "text/plain": [
       "array([ 72057594037927936, 144115188075855872, 216172782113783808,\n",
       "       288230376151711744, 360287970189639680,                  0,\n",
       "                        0,                  0, 144115188075855872,\n",
       "       216172782113783808])"
      ]
     },
     "execution_count": 39,
     "metadata": {},
     "output_type": "execute_result"
    }
   ],
   "source": [
    "arr1.byteswap(True) #If I place True here then it will become permanent change to the variable"
   ]
  },
  {
   "cell_type": "code",
   "execution_count": 40,
   "id": "f6883926-8cb2-4e66-be5b-283639a7df20",
   "metadata": {},
   "outputs": [
    {
     "data": {
      "text/plain": [
       "array([ 72057594037927936, 144115188075855872, 216172782113783808,\n",
       "       288230376151711744, 360287970189639680,                  0,\n",
       "                        0,                  0, 144115188075855872,\n",
       "       216172782113783808])"
      ]
     },
     "execution_count": 40,
     "metadata": {},
     "output_type": "execute_result"
    }
   ],
   "source": [
    "arr1"
   ]
  },
  {
   "cell_type": "code",
   "execution_count": 41,
   "id": "e5d70a69-f7b1-4df0-a091-858488f2adc8",
   "metadata": {},
   "outputs": [],
   "source": [
    "a = np.copy(arr) #deepcopy"
   ]
  },
  {
   "cell_type": "code",
   "execution_count": 42,
   "id": "5f9af723-c875-44b7-a6f3-7944366d155e",
   "metadata": {},
   "outputs": [
    {
     "data": {
      "text/plain": [
       "array([7, 2, 3, 5, 6])"
      ]
     },
     "execution_count": 42,
     "metadata": {},
     "output_type": "execute_result"
    }
   ],
   "source": [
    "a"
   ]
  },
  {
   "cell_type": "code",
   "execution_count": 43,
   "id": "b59292f1-1f60-4364-832a-dd0b48d52bd0",
   "metadata": {},
   "outputs": [],
   "source": [
    "b = arr.view()"
   ]
  },
  {
   "cell_type": "code",
   "execution_count": 44,
   "id": "08e35c7e-e07d-4e74-b3cb-0f83598785e8",
   "metadata": {},
   "outputs": [
    {
     "data": {
      "text/plain": [
       "array([7, 2, 3, 5, 6])"
      ]
     },
     "execution_count": 44,
     "metadata": {},
     "output_type": "execute_result"
    }
   ],
   "source": [
    "b"
   ]
  },
  {
   "cell_type": "code",
   "execution_count": 45,
   "id": "2a8a5bd7-793e-4720-ac3f-bc6548d02ebd",
   "metadata": {},
   "outputs": [],
   "source": [
    "b[0] = 10 "
   ]
  },
  {
   "cell_type": "code",
   "execution_count": 46,
   "id": "299bb050-faf4-4395-89fe-68a97c64227f",
   "metadata": {},
   "outputs": [
    {
     "data": {
      "text/plain": [
       "array([10,  2,  3,  5,  6])"
      ]
     },
     "execution_count": 46,
     "metadata": {},
     "output_type": "execute_result"
    }
   ],
   "source": [
    "b"
   ]
  },
  {
   "cell_type": "code",
   "execution_count": 47,
   "id": "0e80e223-39c1-41ff-9756-0721567406c8",
   "metadata": {},
   "outputs": [
    {
     "data": {
      "text/plain": [
       "array([10,  2,  3,  5,  6])"
      ]
     },
     "execution_count": 47,
     "metadata": {},
     "output_type": "execute_result"
    }
   ],
   "source": [
    "arr"
   ]
  },
  {
   "cell_type": "code",
   "execution_count": 48,
   "id": "86d19d79-b4a7-4c5c-9cfb-b13459972004",
   "metadata": {},
   "outputs": [
    {
     "data": {
      "text/plain": [
       "array([7, 2, 3, 5, 6])"
      ]
     },
     "execution_count": 48,
     "metadata": {},
     "output_type": "execute_result"
    }
   ],
   "source": [
    "a"
   ]
  },
  {
   "cell_type": "code",
   "execution_count": 49,
   "id": "1ce51193-992c-41c3-a0af-d1a71ecb95c3",
   "metadata": {},
   "outputs": [],
   "source": [
    "import numpy.matlib as nm"
   ]
  },
  {
   "cell_type": "code",
   "execution_count": 50,
   "id": "a252a4ed-c966-47cc-8f5b-2265b3dea4af",
   "metadata": {},
   "outputs": [
    {
     "data": {
      "text/plain": [
       "matrix([[0., 0., 0., 0., 0.]])"
      ]
     },
     "execution_count": 50,
     "metadata": {},
     "output_type": "execute_result"
    }
   ],
   "source": [
    "nm.zeros(5)"
   ]
  },
  {
   "cell_type": "code",
   "execution_count": 51,
   "id": "12b2f83a-dbe2-4ae9-bfa5-c88c04f21d7e",
   "metadata": {},
   "outputs": [
    {
     "data": {
      "text/plain": [
       "matrix([[0., 0., 0., 0., 0.],\n",
       "        [0., 0., 0., 0., 0.],\n",
       "        [0., 0., 0., 0., 0.]])"
      ]
     },
     "execution_count": 51,
     "metadata": {},
     "output_type": "execute_result"
    }
   ],
   "source": [
    "nm.zeros((3,5))"
   ]
  },
  {
   "cell_type": "code",
   "execution_count": 52,
   "id": "56446975-fe78-4104-91d9-061e1bd2a71c",
   "metadata": {},
   "outputs": [
    {
     "data": {
      "text/plain": [
       "matrix([[1., 1., 1., 1.],\n",
       "        [1., 1., 1., 1.],\n",
       "        [1., 1., 1., 1.]])"
      ]
     },
     "execution_count": 52,
     "metadata": {},
     "output_type": "execute_result"
    }
   ],
   "source": [
    "nm.ones((3,4))"
   ]
  },
  {
   "cell_type": "code",
   "execution_count": 53,
   "id": "c3389eda-3eda-49be-8ac6-24a2c829db15",
   "metadata": {},
   "outputs": [
    {
     "data": {
      "text/plain": [
       "matrix([[1., 0., 0., 0.],\n",
       "        [0., 1., 0., 0.],\n",
       "        [0., 0., 1., 0.],\n",
       "        [0., 0., 0., 1.]])"
      ]
     },
     "execution_count": 53,
     "metadata": {},
     "output_type": "execute_result"
    }
   ],
   "source": [
    "nm.eye(4)"
   ]
  },
  {
   "cell_type": "code",
   "execution_count": null,
   "id": "b2f34e59-a32c-496d-9109-2b45a3dc1395",
   "metadata": {},
   "outputs": [],
   "source": [
    "#Numpy-Linear Algebra"
   ]
  },
  {
   "cell_type": "code",
   "execution_count": 73,
   "id": "be5b8a61-5837-4653-95af-44e5643db626",
   "metadata": {},
   "outputs": [],
   "source": [
    "a = np.random.randint([[2,3],[4,5]])"
   ]
  },
  {
   "cell_type": "code",
   "execution_count": 74,
   "id": "d30df53c-c3da-4a86-9994-38b957de9234",
   "metadata": {},
   "outputs": [
    {
     "data": {
      "text/plain": [
       "array([[1, 0],\n",
       "       [1, 3]])"
      ]
     },
     "execution_count": 74,
     "metadata": {},
     "output_type": "execute_result"
    }
   ],
   "source": [
    "a"
   ]
  },
  {
   "cell_type": "code",
   "execution_count": 71,
   "id": "7a4bd50f-b03e-4382-954e-8c0e8cb66b64",
   "metadata": {},
   "outputs": [],
   "source": [
    "b = np.random.randint([[5,3],[2,5]])"
   ]
  },
  {
   "cell_type": "code",
   "execution_count": 72,
   "id": "4b26d309-ad7b-4bd3-8984-a53be5fe0132",
   "metadata": {},
   "outputs": [
    {
     "data": {
      "text/plain": [
       "array([[1, 1],\n",
       "       [1, 1]])"
      ]
     },
     "execution_count": 72,
     "metadata": {},
     "output_type": "execute_result"
    }
   ],
   "source": [
    "b"
   ]
  },
  {
   "cell_type": "code",
   "execution_count": 75,
   "id": "3b9a5135-a7f2-4539-bc6d-f626d3fa6925",
   "metadata": {},
   "outputs": [
    {
     "data": {
      "text/plain": [
       "array([[1, 1],\n",
       "       [4, 4]])"
      ]
     },
     "execution_count": 75,
     "metadata": {},
     "output_type": "execute_result"
    }
   ],
   "source": [
    "np.dot(a,b)"
   ]
  },
  {
   "cell_type": "code",
   "execution_count": 76,
   "id": "75431e81-aaab-4bc9-ab70-f826ddc66892",
   "metadata": {},
   "outputs": [
    {
     "data": {
      "text/plain": [
       "array([[1, 1],\n",
       "       [4, 4]])"
      ]
     },
     "execution_count": 76,
     "metadata": {},
     "output_type": "execute_result"
    }
   ],
   "source": [
    "a@b"
   ]
  },
  {
   "cell_type": "code",
   "execution_count": 77,
   "id": "734db3e4-ef23-43b5-917f-2cfbb44f7628",
   "metadata": {},
   "outputs": [
    {
     "data": {
      "text/plain": [
       "array([[1, 1],\n",
       "       [0, 3]])"
      ]
     },
     "execution_count": 77,
     "metadata": {},
     "output_type": "execute_result"
    }
   ],
   "source": [
    "a.transpose()"
   ]
  }
 ],
 "metadata": {
  "kernelspec": {
   "display_name": "Python 3 (ipykernel)",
   "language": "python",
   "name": "python3"
  },
  "language_info": {
   "codemirror_mode": {
    "name": "ipython",
    "version": 3
   },
   "file_extension": ".py",
   "mimetype": "text/x-python",
   "name": "python",
   "nbconvert_exporter": "python",
   "pygments_lexer": "ipython3",
   "version": "3.10.8"
  }
 },
 "nbformat": 4,
 "nbformat_minor": 5
}
