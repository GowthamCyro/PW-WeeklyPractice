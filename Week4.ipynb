{
 "cells": [
  {
   "cell_type": "code",
   "execution_count": 1,
   "id": "f3c16b81-486a-4caa-8d31-791bc22d9aaa",
   "metadata": {},
   "outputs": [],
   "source": [
    "a = 1 "
   ]
  },
  {
   "cell_type": "code",
   "execution_count": 2,
   "id": "545728a6-cfb8-4072-acdc-a9bfdfcf0fdb",
   "metadata": {},
   "outputs": [
    {
     "name": "stdout",
     "output_type": "stream",
     "text": [
      "<class 'int'>\n"
     ]
    }
   ],
   "source": [
    "print(type(a))"
   ]
  },
  {
   "cell_type": "code",
   "execution_count": 3,
   "id": "4594ec4d-80f7-45af-aeaf-e4e67265c38c",
   "metadata": {},
   "outputs": [],
   "source": [
    "str = \"pwskills\""
   ]
  },
  {
   "cell_type": "code",
   "execution_count": 4,
   "id": "f3f99296-b35b-4a63-974a-10d03bae1e48",
   "metadata": {},
   "outputs": [
    {
     "name": "stdout",
     "output_type": "stream",
     "text": [
      "<class 'str'>\n"
     ]
    }
   ],
   "source": [
    "print(type(str))"
   ]
  },
  {
   "cell_type": "code",
   "execution_count": 5,
   "id": "d5b2031d-db03-4d7e-8904-8bde449f7a64",
   "metadata": {},
   "outputs": [],
   "source": [
    "class test:\n",
    "    pass"
   ]
  },
  {
   "cell_type": "code",
   "execution_count": 6,
   "id": "1151052b-f37d-49a0-8498-2a912fa9f1e4",
   "metadata": {},
   "outputs": [],
   "source": [
    "class test:   #Class test is created\n",
    "    def gaming():\n",
    "         print(\"My passion is gaming\")"
   ]
  },
  {
   "cell_type": "code",
   "execution_count": 7,
   "id": "822e75f2-e783-4aa4-99bd-9e058b230203",
   "metadata": {},
   "outputs": [],
   "source": [
    "a = test() #Object is Created"
   ]
  },
  {
   "cell_type": "code",
   "execution_count": 8,
   "id": "15dab838-3cb8-47db-8b2e-07f7ed443f31",
   "metadata": {},
   "outputs": [
    {
     "ename": "TypeError",
     "evalue": "test.gaming() takes 0 positional arguments but 1 was given",
     "output_type": "error",
     "traceback": [
      "\u001b[0;31m---------------------------------------------------------------------------\u001b[0m",
      "\u001b[0;31mTypeError\u001b[0m                                 Traceback (most recent call last)",
      "Cell \u001b[0;32mIn[8], line 1\u001b[0m\n\u001b[0;32m----> 1\u001b[0m \u001b[43ma\u001b[49m\u001b[38;5;241;43m.\u001b[39;49m\u001b[43mgaming\u001b[49m\u001b[43m(\u001b[49m\u001b[43m)\u001b[49m \u001b[38;5;66;03m#In python here error is generated because self keyword is not given in the parameters so the class is not identifying it as it is not its funciton\u001b[39;00m\n",
      "\u001b[0;31mTypeError\u001b[0m: test.gaming() takes 0 positional arguments but 1 was given"
     ]
    }
   ],
   "source": [
    "a.gaming() #In python here error is generated because self keyword is not given in the parameters so the class is not identifying it as it is not its funciton"
   ]
  },
  {
   "cell_type": "markdown",
   "id": "489dd949-7917-49be-9242-f3c3601d788d",
   "metadata": {},
   "source": [
    "self keyword or reference is used to represent the current instance of the class\n",
    "\"There is no mandatory to only use the self we can also use anything there like a word or character which will act as reference\"\n",
    "When defining methods within a class, the first parameter of each method should be self.\n",
    "This parameter represents the instance of the class and allows you to refer to the instance's attributes and call other methods on it."
   ]
  },
  {
   "cell_type": "code",
   "execution_count": 9,
   "id": "4694624b-4bb9-45c4-aaa7-ffee25ea1795",
   "metadata": {},
   "outputs": [],
   "source": [
    "class test1:   #Class test is created\n",
    "    def gaming(self):\n",
    "         print(\"My passion is gaming\")"
   ]
  },
  {
   "cell_type": "code",
   "execution_count": 10,
   "id": "9dd2225a-a91d-4938-98b5-1b6219a8916a",
   "metadata": {},
   "outputs": [],
   "source": [
    "b = test1() #Object is Created"
   ]
  },
  {
   "cell_type": "code",
   "execution_count": 11,
   "id": "fadb606c-7fef-4054-81a4-a5dd37e057c3",
   "metadata": {},
   "outputs": [
    {
     "name": "stdout",
     "output_type": "stream",
     "text": [
      "<class '__main__.test1'>\n"
     ]
    }
   ],
   "source": [
    "print(type(b))"
   ]
  },
  {
   "cell_type": "code",
   "execution_count": 12,
   "id": "9431067c-0793-425b-9c68-8b1097f2cde3",
   "metadata": {},
   "outputs": [
    {
     "name": "stdout",
     "output_type": "stream",
     "text": [
      "My passion is gaming\n"
     ]
    }
   ],
   "source": [
    "b.gaming()"
   ]
  },
  {
   "cell_type": "code",
   "execution_count": 13,
   "id": "0c743ad6-5eda-4505-8414-c4ae412e060c",
   "metadata": {},
   "outputs": [],
   "source": [
    "class test2:\n",
    "    def __init__(self,phno,email):\n",
    "        self.phno = phno\n",
    "        self.email = email\n",
    "    def student(self):\n",
    "        return self.phno"
   ]
  },
  {
   "cell_type": "code",
   "execution_count": 14,
   "id": "60d2dfd1-d0ad-49bb-8e4e-0077616cf40e",
   "metadata": {},
   "outputs": [],
   "source": [
    "c = test2(5657,\"Gowtham\")"
   ]
  },
  {
   "cell_type": "code",
   "execution_count": 15,
   "id": "d2d97028-d2f8-474d-bc43-0eda43cd901e",
   "metadata": {},
   "outputs": [
    {
     "data": {
      "text/plain": [
       "5657"
      ]
     },
     "execution_count": 15,
     "metadata": {},
     "output_type": "execute_result"
    }
   ],
   "source": [
    "c.phno"
   ]
  },
  {
   "cell_type": "code",
   "execution_count": 16,
   "id": "85070cb9-c375-40b1-9c23-7708fb1b4951",
   "metadata": {},
   "outputs": [
    {
     "data": {
      "text/plain": [
       "'Gowtham'"
      ]
     },
     "execution_count": 16,
     "metadata": {},
     "output_type": "execute_result"
    }
   ],
   "source": [
    "c.email"
   ]
  },
  {
   "cell_type": "code",
   "execution_count": 17,
   "id": "bdc64428-91ad-45e8-8415-be2b3cfc8594",
   "metadata": {},
   "outputs": [
    {
     "data": {
      "text/plain": [
       "5657"
      ]
     },
     "execution_count": 17,
     "metadata": {},
     "output_type": "execute_result"
    }
   ],
   "source": [
    "c.student()"
   ]
  },
  {
   "cell_type": "code",
   "execution_count": 18,
   "id": "443ab6e0-fccd-4732-9828-2718f0995303",
   "metadata": {},
   "outputs": [],
   "source": [
    "class test2:\n",
    "    def __init__(a,phno,email):\n",
    "        a.phno = phno\n",
    "        a.email = email\n",
    "    def student(b):\n",
    "        return b.phno,b.email"
   ]
  },
  {
   "cell_type": "markdown",
   "id": "a06bcf87-39e2-4c51-9817-497b5b4991fa",
   "metadata": {},
   "source": [
    " Using different variable names like a and b instead of the conventional self within the class will still work since they are just variable names. The important aspect is that they represent the instance of the class.\n",
    "\n",
    "In Python, the first parameter of instance methods conventionally uses the name self to represent the instance. This convention helps in making the code more readable and understandable by other developers. However, the actual name of the parameter is not significant. You can technically use any valid variable name as long as it is consistent throughout the class.\n",
    "\n",
    "In the modified code you provided, a and b are used as alternative variable names for the instance of the class in the __init__ and student methods, respectively. This will not cause any issues as long as you consistently use the same variable name within each method and access the instance attributes accordingly.\n",
    "\n",
    "To summarize, while it is possible to use different variable names instead of self, it is generally recommended to stick with the convention of using self for readability and consistency with the Python community."
   ]
  },
  {
   "cell_type": "code",
   "execution_count": 19,
   "id": "0b4dc788-f1dd-4dd3-9b01-3e55f0d96e6b",
   "metadata": {},
   "outputs": [],
   "source": [
    "d = test2(234,\"var@gmail.com\")"
   ]
  },
  {
   "cell_type": "code",
   "execution_count": 20,
   "id": "c7ad1a18-c811-46b2-8ba4-565f2921ec3f",
   "metadata": {},
   "outputs": [
    {
     "data": {
      "text/plain": [
       "234"
      ]
     },
     "execution_count": 20,
     "metadata": {},
     "output_type": "execute_result"
    }
   ],
   "source": [
    "d.phno"
   ]
  },
  {
   "cell_type": "code",
   "execution_count": 21,
   "id": "f3651b8e-3373-4b77-b239-7037edab6e7b",
   "metadata": {},
   "outputs": [
    {
     "data": {
      "text/plain": [
       "'var@gmail.com'"
      ]
     },
     "execution_count": 21,
     "metadata": {},
     "output_type": "execute_result"
    }
   ],
   "source": [
    "d.email"
   ]
  },
  {
   "cell_type": "code",
   "execution_count": 22,
   "id": "f5a20e9b-36f9-4981-b19f-213602ea8446",
   "metadata": {},
   "outputs": [
    {
     "data": {
      "text/plain": [
       "(234, 'var@gmail.com')"
      ]
     },
     "execution_count": 22,
     "metadata": {},
     "output_type": "execute_result"
    }
   ],
   "source": [
    "d.student()"
   ]
  },
  {
   "cell_type": "markdown",
   "id": "98e3e2b0-63bd-42c5-9d40-2ee71cf79abf",
   "metadata": {},
   "source": [
    "Polymorphism - Multiple state or Multiple Characteristic"
   ]
  },
  {
   "cell_type": "code",
   "execution_count": 23,
   "id": "f45bcf11-fed6-47b2-b721-a58cc42ef778",
   "metadata": {},
   "outputs": [],
   "source": [
    "def test(a,b):\n",
    "    return a+b"
   ]
  },
  {
   "cell_type": "code",
   "execution_count": 24,
   "id": "23c10766-f867-4d21-9201-079bfbbc4121",
   "metadata": {},
   "outputs": [
    {
     "data": {
      "text/plain": [
       "7"
      ]
     },
     "execution_count": 24,
     "metadata": {},
     "output_type": "execute_result"
    }
   ],
   "source": [
    "test(3,4)\n"
   ]
  },
  {
   "cell_type": "code",
   "execution_count": 25,
   "id": "5d654f50-cc3c-4557-ab49-da529010fc26",
   "metadata": {},
   "outputs": [
    {
     "data": {
      "text/plain": [
       "'GowthamVarma'"
      ]
     },
     "execution_count": 25,
     "metadata": {},
     "output_type": "execute_result"
    }
   ],
   "source": [
    "test(\"Gowtham\",\"Varma\")\n"
   ]
  },
  {
   "cell_type": "code",
   "execution_count": 26,
   "id": "aad4d8df-6f36-4b72-b792-92081ca71991",
   "metadata": {},
   "outputs": [
    {
     "data": {
      "text/plain": [
       "[1, 2, 3, 4, 5, 6]"
      ]
     },
     "execution_count": 26,
     "metadata": {},
     "output_type": "execute_result"
    }
   ],
   "source": [
    "test([1,2,3],[4,5,6])"
   ]
  },
  {
   "cell_type": "markdown",
   "id": "3fdb4511-d4bb-4c76-8c83-a76bf78d2de3",
   "metadata": {},
   "source": [
    "Here from the above program the test function is changing its mechanism according to the parameters which are being give here which indicates when we are giving integers then it is doing interger sum and when we give strings are parameters it is performing string concatenation and when giving lists it is perfroming list concatenation."
   ]
  },
  {
   "cell_type": "code",
   "execution_count": 27,
   "id": "29201778-d70c-4bf8-84c7-3e3ac30a8d94",
   "metadata": {},
   "outputs": [],
   "source": [
    "class data_science:\n",
    "    def syllabus(self):\n",
    "        print(\"Hello this is data science\")\n",
    "class web_dev:\n",
    "    def syllabus(self):\n",
    "        print(\"Hello this is web dev\")\n",
    "        "
   ]
  },
  {
   "cell_type": "code",
   "execution_count": 28,
   "id": "6ae5b1f7-48e6-4015-af9e-3b3524b8f0ad",
   "metadata": {},
   "outputs": [],
   "source": [
    "a = data_science()\n",
    "b = web_dev()\n",
    "class_obj = [a,b]"
   ]
  },
  {
   "cell_type": "code",
   "execution_count": 29,
   "id": "a661ce78-17ab-44a6-977a-69b583fe7483",
   "metadata": {},
   "outputs": [
    {
     "name": "stdout",
     "output_type": "stream",
     "text": [
      "Hello this is data science\n",
      "Hello this is web dev\n"
     ]
    }
   ],
   "source": [
    "class tng:\n",
    "    def __init__(self,obj):\n",
    "        self.ob = obj    \n",
    "        for i in self.ob:\n",
    "            i.syllabus()\n",
    "c = tng(class_obj)"
   ]
  },
  {
   "cell_type": "markdown",
   "id": "337471b9-35ce-470e-bf6b-f564ba6242f9",
   "metadata": {},
   "source": [
    "Encapsulation - Hiding all the implementation and present the required things for the user"
   ]
  },
  {
   "cell_type": "code",
   "execution_count": 30,
   "id": "70727b71-f95a-4421-9485-8ba58b890083",
   "metadata": {},
   "outputs": [],
   "source": [
    "class test():\n",
    "    def __init__(self,a,b):\n",
    "        self.a = a\n",
    "        self.b = b        "
   ]
  },
  {
   "cell_type": "code",
   "execution_count": 31,
   "id": "ceb87b7b-2f41-4b0c-89c7-2cadc1ee057c",
   "metadata": {},
   "outputs": [],
   "source": [
    "d = test(10,20) #Object of class test"
   ]
  },
  {
   "cell_type": "code",
   "execution_count": 32,
   "id": "a8d39d6b-e978-4459-8ddf-fd14648306b5",
   "metadata": {},
   "outputs": [
    {
     "data": {
      "text/plain": [
       "10"
      ]
     },
     "execution_count": 32,
     "metadata": {},
     "output_type": "execute_result"
    }
   ],
   "source": [
    "d.a"
   ]
  },
  {
   "cell_type": "code",
   "execution_count": 33,
   "id": "b11c76ff-6ca5-4d6c-b3c0-b995c075f68c",
   "metadata": {},
   "outputs": [
    {
     "data": {
      "text/plain": [
       "20"
      ]
     },
     "execution_count": 33,
     "metadata": {},
     "output_type": "execute_result"
    }
   ],
   "source": [
    "d.b"
   ]
  },
  {
   "cell_type": "code",
   "execution_count": 34,
   "id": "21f6357d-4724-4572-8d0b-70e94370e933",
   "metadata": {},
   "outputs": [],
   "source": [
    "d.a = 20\n",
    "d.b = 30 # Therefore here with the object the user can modify easily so inorder to overcome this make them private\n",
    "# We can know what varaibles and methonds present in the class by using object.Write obj. and press \"tab\"."
   ]
  },
  {
   "cell_type": "code",
   "execution_count": 35,
   "id": "fa9cf8ba-deb1-45c3-9c04-1e4a43790c98",
   "metadata": {},
   "outputs": [],
   "source": [
    "class test():\n",
    "    def __init__(self,a,b):\n",
    "        self.__a = a\n",
    "        self.__b = b\n",
    "#Here the variables are made private using the \"__\" before the variables"
   ]
  },
  {
   "cell_type": "code",
   "execution_count": 36,
   "id": "d6611c76",
   "metadata": {},
   "outputs": [],
   "source": [
    "a = data_science()\n",
    "b = web_dev()\n",
    "class_obj = [a,b]"
   ]
  },
  {
   "cell_type": "code",
   "execution_count": 37,
   "id": "80c94396-69f8-48d7-9207-0040f98fbb7b",
   "metadata": {},
   "outputs": [],
   "source": [
    "e = test(10,20)"
   ]
  },
  {
   "cell_type": "code",
   "execution_count": 38,
   "id": "235d4b65-abf5-4538-b8cd-614539433d03",
   "metadata": {},
   "outputs": [
    {
     "ename": "AttributeError",
     "evalue": "'test' object has no attribute 'a'",
     "output_type": "error",
     "traceback": [
      "\u001b[0;31m---------------------------------------------------------------------------\u001b[0m",
      "\u001b[0;31mAttributeError\u001b[0m                            Traceback (most recent call last)",
      "Cell \u001b[0;32mIn[38], line 1\u001b[0m\n\u001b[0;32m----> 1\u001b[0m \u001b[43me\u001b[49m\u001b[38;5;241;43m.\u001b[39;49m\u001b[43ma\u001b[49m \u001b[38;5;66;03m#Here even when we press tab after \".\" we cannot see variables of the class \u001b[39;00m\n",
      "\u001b[0;31mAttributeError\u001b[0m: 'test' object has no attribute 'a'"
     ]
    }
   ],
   "source": [
    "e.a #Here even when we press tab after \".\" we cannot see variables of the class "
   ]
  },
  {
   "cell_type": "code",
   "execution_count": 39,
   "id": "a2ece327-b00c-49cc-bd2b-0df972982b5f",
   "metadata": {},
   "outputs": [
    {
     "ename": "AttributeError",
     "evalue": "'test' object has no attribute '__a'",
     "output_type": "error",
     "traceback": [
      "\u001b[0;31m---------------------------------------------------------------------------\u001b[0m",
      "\u001b[0;31mAttributeError\u001b[0m                            Traceback (most recent call last)",
      "Cell \u001b[0;32mIn[39], line 1\u001b[0m\n\u001b[0;32m----> 1\u001b[0m \u001b[43me\u001b[49m\u001b[38;5;241;43m.\u001b[39;49m\u001b[43m__a\u001b[49m\n",
      "\u001b[0;31mAttributeError\u001b[0m: 'test' object has no attribute '__a'"
     ]
    }
   ],
   "source": [
    "e.__a"
   ]
  },
  {
   "cell_type": "code",
   "execution_count": 40,
   "id": "47eca9e7-fdc9-40ba-9986-40bcaaba92c3",
   "metadata": {},
   "outputs": [
    {
     "data": {
      "text/plain": [
       "10"
      ]
     },
     "execution_count": 40,
     "metadata": {},
     "output_type": "execute_result"
    }
   ],
   "source": [
    "#here only the creater knows the class name and variable name so using this syntax we can access when variables are made private\n",
    "e._test__a"
   ]
  },
  {
   "cell_type": "code",
   "execution_count": 41,
   "id": "450c65a6-b6e3-49a6-b503-b7f724d370b8",
   "metadata": {},
   "outputs": [],
   "source": [
    "e._test__a = 20"
   ]
  },
  {
   "cell_type": "code",
   "execution_count": 42,
   "id": "a6a2804f-6a16-47de-9dc5-c3fc368ee197",
   "metadata": {},
   "outputs": [
    {
     "data": {
      "text/plain": [
       "20"
      ]
     },
     "execution_count": 42,
     "metadata": {},
     "output_type": "execute_result"
    }
   ],
   "source": [
    "e._test__a"
   ]
  },
  {
   "cell_type": "markdown",
   "id": "a09593e4-5c1f-4ac8-841a-258c4b6b48da",
   "metadata": {},
   "source": [
    "So inorder to not provide direct access to the users we can provide get and set methods such that the user can set the value and get the value but does not have the direct access."
   ]
  },
  {
   "cell_type": "code",
   "execution_count": 43,
   "id": "38474641-dede-4aa4-a6c5-4a6fe3494cac",
   "metadata": {},
   "outputs": [],
   "source": [
    "class test():\n",
    "    def __init__(self,a,b):\n",
    "        self.__a = a\n",
    "        self.__b = b\n",
    "    def set(self,a):\n",
    "        self.__a = 0 if a<=0 else a\n",
    "    def get(self):\n",
    "        return self.__a"
   ]
  },
  {
   "cell_type": "code",
   "execution_count": 44,
   "id": "75f53a39-d13c-4ef3-a449-a4eab7b0ac6c",
   "metadata": {},
   "outputs": [],
   "source": [
    "f = test(10,20)"
   ]
  },
  {
   "cell_type": "code",
   "execution_count": 45,
   "id": "9a9503d8-6ae8-40cb-a75c-d80f3d785595",
   "metadata": {},
   "outputs": [],
   "source": [
    "#NOw write f. and press \"tab\" so that you can see the methods that can be accessed by the user"
   ]
  },
  {
   "cell_type": "code",
   "execution_count": 46,
   "id": "c7e115e8-c110-4ff4-b861-bcfbf88f953e",
   "metadata": {},
   "outputs": [
    {
     "data": {
      "text/plain": [
       "0"
      ]
     },
     "execution_count": 46,
     "metadata": {},
     "output_type": "execute_result"
    }
   ],
   "source": [
    "f.set(-234)\n",
    "f.get()"
   ]
  },
  {
   "cell_type": "code",
   "execution_count": 47,
   "id": "b8cad63d-a6ef-49b2-b27f-94d3a95e2df3",
   "metadata": {},
   "outputs": [
    {
     "data": {
      "text/plain": [
       "3554"
      ]
     },
     "execution_count": 47,
     "metadata": {},
     "output_type": "execute_result"
    }
   ],
   "source": [
    "f.set(3554)\n",
    "f.get()"
   ]
  },
  {
   "cell_type": "code",
   "execution_count": 48,
   "id": "f82f0240-0362-4477-a991-1abdc5575d8d",
   "metadata": {},
   "outputs": [],
   "source": [
    "#Now lets see for the banking application.\n",
    "class bank_account:\n",
    "    def __init__(self,balance):\n",
    "        self.__balance = balance\n",
    "    def deposit(self,dep):\n",
    "        self.__balance = self.__balance + dep\n",
    "        print(\"Deposit is Successful\")\n",
    "    def withdraw(self,amt):\n",
    "        if(self.__balance > amt):\n",
    "            self.__balance = self.__balance - amt\n",
    "            print(\"Withdraw is successful\")\n",
    "        else:\n",
    "            print(\"Insufficient Balance\")\n",
    "    def chk_balance(self):\n",
    "        print(\"Available Balance {}\".format(self.__balance))"
   ]
  },
  {
   "cell_type": "code",
   "execution_count": 49,
   "id": "a0078765-c764-4a8d-86c0-ef633710f98d",
   "metadata": {},
   "outputs": [
    {
     "name": "stdout",
     "output_type": "stream",
     "text": [
      "Deposit is Successful\n",
      "Available Balance 55000\n",
      "Insufficient Balance\n",
      "Available Balance 55000\n"
     ]
    }
   ],
   "source": [
    "g = bank_account(50000)\n",
    "g.deposit(5000)\n",
    "g.chk_balance()\n",
    "g.withdraw(55000)\n",
    "g.chk_balance()"
   ]
  },
  {
   "cell_type": "markdown",
   "id": "fae19a59-c641-42b5-ad34-1ed94c0a8586",
   "metadata": {},
   "source": [
    "Inheritance - When classes are Inherited the child class can access the properties of parent class"
   ]
  },
  {
   "cell_type": "code",
   "execution_count": 50,
   "id": "033c0e15-1cf2-4c8b-9ec7-c2ada148c1dd",
   "metadata": {},
   "outputs": [],
   "source": [
    "class A:      #Parent Class\n",
    "    def printA(self):\n",
    "        print(\"This is class A\")\n",
    "class B(A):          #In Python Inheritance is simply done by giving the class as its parameter  #Child Class\n",
    "    def printB(self):\n",
    "        print(\"This is class B\")        "
   ]
  },
  {
   "cell_type": "code",
   "execution_count": 51,
   "id": "8bc1b0fb-10d2-4d6a-81b6-cad47b2dd6e7",
   "metadata": {},
   "outputs": [
    {
     "name": "stdout",
     "output_type": "stream",
     "text": [
      "This is class A\n",
      "This is class B\n"
     ]
    }
   ],
   "source": [
    "b = B()\n",
    "b.printA()\n",
    "b.printB()"
   ]
  },
  {
   "cell_type": "code",
   "execution_count": 52,
   "id": "36f2c584-2dea-4ae6-a9f8-7ab8d293164c",
   "metadata": {},
   "outputs": [],
   "source": [
    "#Multilevel Inheritance\n",
    "class A:      #Parent Class\n",
    "    def printA(self):\n",
    "        print(\"This is class A\")\n",
    "class B(A):   #Child Class\n",
    "    def printB(self):      #Child of A and Parent of C\n",
    "        print(\"This is class B\")   \n",
    "class C(B):   #Child Class\n",
    "    def printC(self):      #Child of B\n",
    "        print(\"This is class C\")           "
   ]
  },
  {
   "cell_type": "code",
   "execution_count": 53,
   "id": "cc71ae5c-11cd-48bf-8862-5205b88c427b",
   "metadata": {},
   "outputs": [
    {
     "name": "stdout",
     "output_type": "stream",
     "text": [
      "This is class A\n",
      "This is class B\n",
      "This is class C\n"
     ]
    }
   ],
   "source": [
    "c = C()   #Here since B is child of A the C can indirectly access the properties of A\n",
    "c.printA()\n",
    "c.printB()\n",
    "c.printC()"
   ]
  },
  {
   "cell_type": "code",
   "execution_count": 54,
   "id": "4b4467cb-3139-4e45-ba49-99c2bad7b86f",
   "metadata": {},
   "outputs": [],
   "source": [
    "#Multiple Inheritance\n",
    "class A:      #Parent of C\n",
    "    def printA(self):\n",
    "        print(\"This is class A\")\n",
    "class B():   #Child Class\n",
    "    def printB(self):      # Parent of C\n",
    "        print(\"This is class B\")   \n",
    "class C(A,B):   #Child Class\n",
    "    def printC(self):      #Child of A,B\n",
    "        print(\"This is class C\")          "
   ]
  },
  {
   "cell_type": "code",
   "execution_count": 55,
   "id": "becff58e-747c-42fb-aeb2-12ae4ff940df",
   "metadata": {},
   "outputs": [
    {
     "name": "stdout",
     "output_type": "stream",
     "text": [
      "This is class A\n",
      "This is class B\n",
      "This is class C\n"
     ]
    }
   ],
   "source": [
    "c = C()   \n",
    "c.printA()\n",
    "c.printB()\n",
    "c.printC()"
   ]
  },
  {
   "cell_type": "markdown",
   "id": "b141cd7e-dc40-4c58-93db-2d4417117a6c",
   "metadata": {},
   "source": [
    "Abstraction - It indicates the blue print of the class.\n",
    "Abstraction is used to hide the internal functionality of the function from the users. The users only interact with the basic implementation of the function, but inner working is hidden. User is familiar with that \"what function does\" but they don't know \"how it does.\""
   ]
  },
  {
   "cell_type": "code",
   "execution_count": 56,
   "id": "38aee4e6-e11e-45a6-b0c1-3a808ee92c17",
   "metadata": {},
   "outputs": [],
   "source": [
    "import abc\n",
    "class stud_details:\n",
    "    @abc.abstractmethod\n",
    "    def student_course(self):\n",
    "        pass\n",
    "    @abc.abstractmethod\n",
    "    def student_assignment(self):\n",
    "        pass\n",
    "    @abc.abstractmethod\n",
    "    def student_marks(self):\n",
    "        pass\n"
   ]
  },
  {
   "cell_type": "code",
   "execution_count": 57,
   "id": "dfcf47e2-4aef-428f-8348-bb470eee1b75",
   "metadata": {},
   "outputs": [],
   "source": [
    "class data_science(stud_details):\n",
    "    def student_assignment(self):\n",
    "        return \"It will return the data science masters\"\n",
    "    def student_marks(self):\n",
    "        return \"It will return the data science masters\"\n",
    "        "
   ]
  },
  {
   "cell_type": "code",
   "execution_count": 58,
   "id": "536d5e67-42fb-4f82-b0af-631307fe72ab",
   "metadata": {},
   "outputs": [],
   "source": [
    "class web_dev(stud_details):\n",
    "    def student_assignment(self):\n",
    "        return \"It will return the web dev masters\"\n",
    "    def student_marks(self):\n",
    "        return \"It will return the web dev masters\"\n",
    "        "
   ]
  },
  {
   "cell_type": "code",
   "execution_count": 59,
   "id": "53107c3b-d555-46b9-b33f-e87c35813715",
   "metadata": {},
   "outputs": [
    {
     "data": {
      "text/plain": [
       "'It will return the data science masters'"
      ]
     },
     "execution_count": 59,
     "metadata": {},
     "output_type": "execute_result"
    }
   ],
   "source": [
    "ds = data_science()\n",
    "ds.student_assignment()"
   ]
  },
  {
   "cell_type": "code",
   "execution_count": 60,
   "id": "185cdf31-cbae-4600-a635-9891986edcb8",
   "metadata": {},
   "outputs": [],
   "source": [
    "ds.student_course()"
   ]
  },
  {
   "cell_type": "code",
   "execution_count": 61,
   "id": "6fbebbf2-f3cc-4c73-88b6-8529e103bccc",
   "metadata": {},
   "outputs": [
    {
     "data": {
      "text/plain": [
       "'It will return the data science masters'"
      ]
     },
     "execution_count": 61,
     "metadata": {},
     "output_type": "execute_result"
    }
   ],
   "source": [
    "ds.student_marks()"
   ]
  },
  {
   "cell_type": "code",
   "execution_count": 62,
   "id": "4f69bc3b-a0f8-43c8-a64c-e94168bd7cda",
   "metadata": {},
   "outputs": [
    {
     "data": {
      "text/plain": [
       "'It will return the web dev masters'"
      ]
     },
     "execution_count": 62,
     "metadata": {},
     "output_type": "execute_result"
    }
   ],
   "source": [
    "wd = web_dev()\n",
    "wd.student_assignment()"
   ]
  },
  {
   "cell_type": "code",
   "execution_count": 63,
   "id": "cf281f51-c1ed-42a3-bd2f-2250eb474d40",
   "metadata": {},
   "outputs": [
    {
     "data": {
      "text/plain": [
       "'It will return the web dev masters'"
      ]
     },
     "execution_count": 63,
     "metadata": {},
     "output_type": "execute_result"
    }
   ],
   "source": [
    "wd.student_marks()"
   ]
  },
  {
   "cell_type": "markdown",
   "id": "4638f2f6-5e30-4d35-ae32-91da16942dc0",
   "metadata": {},
   "source": [
    "Decorators"
   ]
  },
  {
   "cell_type": "markdown",
   "id": "393abe37-360a-45cc-aa2b-0d1a63715aac",
   "metadata": {},
   "source": [
    "Decorators are one of the most helpful and powerful tools of Python. These are used to modify the behavior of the function. Decorators provide the flexibility to wrap another function to expand the working of wrapped function, without permanently modifying it.\n",
    "\n",
    "In Decorators, functions are passed as an argument into another function and then called inside the wrapper function."
   ]
  },
  {
   "cell_type": "code",
   "execution_count": 64,
   "id": "037e80b9-5f11-43cc-af73-c2c9f1103e77",
   "metadata": {},
   "outputs": [],
   "source": [
    "def test(x,y):\n",
    "    print(\"This is the starting of the function\")\n",
    "    print(x+y)\n",
    "    print(\"This is the ending of the function\")    "
   ]
  },
  {
   "cell_type": "code",
   "execution_count": 65,
   "id": "4ff3b7ce-709b-41e2-85e8-215f29cdf102",
   "metadata": {},
   "outputs": [
    {
     "name": "stdout",
     "output_type": "stream",
     "text": [
      "This is the starting of the function\n",
      "11\n",
      "This is the ending of the function\n"
     ]
    }
   ],
   "source": [
    "test(5,6)"
   ]
  },
  {
   "cell_type": "markdown",
   "id": "81e3ab17-547c-422d-a435-2335f7d1922f",
   "metadata": {},
   "source": [
    "So from the above example code consider print statement 1,3 which you want to use for every function then you can use decorators. Understand it using below codes "
   ]
  },
  {
   "cell_type": "code",
   "execution_count": 66,
   "id": "c9ee27e5-01df-482f-8c8c-5419c6d3bffb",
   "metadata": {},
   "outputs": [],
   "source": [
    "def deco_func(fun):\n",
    "    def inner_deco():\n",
    "        print(\"This is the starting of the function\")\n",
    "        fun()\n",
    "        print(\"This is the ending of the function\")  \n",
    "    return inner_deco    "
   ]
  },
  {
   "cell_type": "code",
   "execution_count": 67,
   "id": "0ad73cb9-5ae5-43bd-955e-7f6404ae372b",
   "metadata": {},
   "outputs": [],
   "source": [
    "@deco_func\n",
    "def test():\n",
    "    print(4+5)   "
   ]
  },
  {
   "cell_type": "code",
   "execution_count": 68,
   "id": "38dbab82-01b2-4be5-bafe-d7101fe5afcc",
   "metadata": {},
   "outputs": [
    {
     "name": "stdout",
     "output_type": "stream",
     "text": [
      "This is the starting of the function\n",
      "9\n",
      "This is the ending of the function\n"
     ]
    }
   ],
   "source": [
    "test()"
   ]
  },
  {
   "cell_type": "code",
   "execution_count": 69,
   "id": "c7d37608-b0ad-45b9-a262-590024fcb05c",
   "metadata": {},
   "outputs": [],
   "source": [
    "#Now lets create a decorator fucntion which calulates the time complexity of a function\n",
    "import time\n",
    "def timer(fun):          #Make sure that your function (or) decorator name is not \"time\" else it generates an error\n",
    "    def inner():\n",
    "        start = time.time()\n",
    "        fun()\n",
    "        end = time.time()\n",
    "        print(end - start)\n",
    "    return inner"
   ]
  },
  {
   "cell_type": "code",
   "execution_count": 70,
   "id": "f1aadb5a-34bb-48d5-95ac-ab3cdd17eae7",
   "metadata": {},
   "outputs": [],
   "source": [
    "@timer\n",
    "def test():\n",
    "    for i in range(1000000):\n",
    "        pass"
   ]
  },
  {
   "cell_type": "code",
   "execution_count": 71,
   "id": "7efacf78-74f6-4a02-832d-11b5306cc1a2",
   "metadata": {},
   "outputs": [
    {
     "name": "stdout",
     "output_type": "stream",
     "text": [
      "0.022737503051757812\n"
     ]
    }
   ],
   "source": [
    "test()"
   ]
  },
  {
   "cell_type": "code",
   "execution_count": 72,
   "id": "6e08f266-a3f1-41de-bb8f-49404c11cad6",
   "metadata": {},
   "outputs": [],
   "source": [
    "# Logger Decorator\n",
    "def Logger(fun):\n",
    "    def inner(*args):\n",
    "        print(f\"Function {fun.__name__} started execution\")\n",
    "        result = fun(*args)\n",
    "        print(result)\n",
    "        print(f\"Function {fun.__name__} completed execution\")\n",
    "    return inner    "
   ]
  },
  {
   "cell_type": "code",
   "execution_count": 73,
   "id": "e0622639-0d8b-449a-8ed4-70fcd9b15488",
   "metadata": {},
   "outputs": [
    {
     "name": "stdout",
     "output_type": "stream",
     "text": [
      "Function add_numbers started execution\n",
      "9\n",
      "Function add_numbers completed execution\n"
     ]
    }
   ],
   "source": [
    "@Logger\n",
    "def add_numbers(a,b):\n",
    "    return a+b\n",
    "add_numbers(4,5)"
   ]
  },
  {
   "cell_type": "markdown",
   "id": "2ebaac87-8f93-478a-8c8f-5e742caa68b9",
   "metadata": {},
   "source": [
    "ClassMethods - decorator"
   ]
  },
  {
   "cell_type": "code",
   "execution_count": 74,
   "id": "7abaff4e-23b0-4c92-a145-edbe99dabf86",
   "metadata": {},
   "outputs": [],
   "source": [
    "class pwskills :\n",
    "    def __init__(self,name,email):\n",
    "        self.name = name\n",
    "        self.email = email\n",
    "    def student_details(self):\n",
    "        print(self.name,self.email)"
   ]
  },
  {
   "cell_type": "code",
   "execution_count": 75,
   "id": "d232fb78-665f-456a-bddb-6ec1f38f2534",
   "metadata": {},
   "outputs": [
    {
     "name": "stdout",
     "output_type": "stream",
     "text": [
      "Gowtham gowthamforwork@gmail.com\n"
     ]
    }
   ],
   "source": [
    "a = pwskills(\"Gowtham\",\"gowthamforwork@gmail.com\")\n",
    "a.student_details()"
   ]
  },
  {
   "cell_type": "code",
   "execution_count": 76,
   "id": "aa9bc2ca-4230-4cbe-a7ea-5cd4f153e610",
   "metadata": {},
   "outputs": [
    {
     "data": {
      "text/plain": [
       "'Gowtham'"
      ]
     },
     "execution_count": 76,
     "metadata": {},
     "output_type": "execute_result"
    }
   ],
   "source": [
    "a.name"
   ]
  },
  {
   "cell_type": "code",
   "execution_count": 77,
   "id": "18e43fb0-8ed5-4a8d-8f36-64cc0e75c530",
   "metadata": {},
   "outputs": [
    {
     "data": {
      "text/plain": [
       "'gowthamforwork@gmail.com'"
      ]
     },
     "execution_count": 77,
     "metadata": {},
     "output_type": "execute_result"
    }
   ],
   "source": [
    "a.email"
   ]
  },
  {
   "cell_type": "markdown",
   "id": "b9b7e2bc-e77a-47a3-8739-86e5b5990973",
   "metadata": {},
   "source": [
    "The classmethod acts as an alternative for init function in a class\n"
   ]
  },
  {
   "cell_type": "code",
   "execution_count": 78,
   "id": "ee6b9df8-8fc7-4cf0-911d-f3fabded5957",
   "metadata": {},
   "outputs": [],
   "source": [
    "#Class method acting as alternative constructor \n",
    "# When acting as a alternative constructor make sure classmethod and init function has same number of parameters\n",
    "class pwskills1 :\n",
    "    def __init__(self,name,email):\n",
    "        self.name = name\n",
    "        self.email = email\n",
    "    @classmethod\n",
    "    def altforinit(cls,peru,address):      #here cls indicates the class and what ever the classmethod returns it will be given to the init function in summary here function overloading takes place\n",
    "        return cls(peru,address)\n",
    "        \n",
    "    def student_details(self):\n",
    "        print(self.name,self.email)"
   ]
  },
  {
   "cell_type": "markdown",
   "id": "0a532b48-6588-43bc-a23c-aa7f703a9218",
   "metadata": {},
   "source": [
    "Here accessing syntax is classname.classmethodname()"
   ]
  },
  {
   "cell_type": "code",
   "execution_count": 79,
   "id": "65ceb30b-eaff-4dcf-9c86-7f60cc1f2118",
   "metadata": {},
   "outputs": [],
   "source": [
    "pw1 = pwskills1.altforinit(\"gowtham\",\"gowthamforwork@gmail.com\")"
   ]
  },
  {
   "cell_type": "code",
   "execution_count": 80,
   "id": "0ccdbd7a-5c72-41c0-b6af-14e07ca8186d",
   "metadata": {},
   "outputs": [
    {
     "data": {
      "text/plain": [
       "'gowtham'"
      ]
     },
     "execution_count": 80,
     "metadata": {},
     "output_type": "execute_result"
    }
   ],
   "source": [
    "pw1.name"
   ]
  },
  {
   "cell_type": "code",
   "execution_count": 81,
   "id": "af154e04-a28d-48db-bc04-e20acbedd94c",
   "metadata": {},
   "outputs": [
    {
     "data": {
      "text/plain": [
       "'gowthamforwork@gmail.com'"
      ]
     },
     "execution_count": 81,
     "metadata": {},
     "output_type": "execute_result"
    }
   ],
   "source": [
    "pw1.email"
   ]
  },
  {
   "cell_type": "code",
   "execution_count": 82,
   "id": "a3e6767a-d911-4cf0-b4a2-f3f328442192",
   "metadata": {},
   "outputs": [
    {
     "name": "stdout",
     "output_type": "stream",
     "text": [
      "gowtham gowthamforwork@gmail.com\n"
     ]
    }
   ],
   "source": [
    "pw1.student_details()"
   ]
  },
  {
   "cell_type": "code",
   "execution_count": 83,
   "id": "71a57ac1-bccc-4e78-a10d-3a5edb78ae65",
   "metadata": {},
   "outputs": [],
   "source": [
    "class pwskills2 :\n",
    "    count = 10\n",
    "    def __init__(self,name,email):\n",
    "        self.name = name\n",
    "        self.email = email\n",
    "    @classmethod\n",
    "    def altforinit(cls):     \n",
    "        return cls.count  # here if we use \".\" operator it is directly giving output and when you want to override then use \"()\" operator as of above example\n",
    "        \n",
    "    def student_details(self):\n",
    "        print(self.name,self.email)"
   ]
  },
  {
   "cell_type": "code",
   "execution_count": 84,
   "id": "5cade66d-265b-4846-9307-86bd5d3ad10a",
   "metadata": {},
   "outputs": [
    {
     "data": {
      "text/plain": [
       "10"
      ]
     },
     "execution_count": 84,
     "metadata": {},
     "output_type": "execute_result"
    }
   ],
   "source": [
    "pwskills2.altforinit()"
   ]
  },
  {
   "cell_type": "code",
   "execution_count": 85,
   "id": "b071c9c9-d813-4675-9d4f-576d3a2c1641",
   "metadata": {},
   "outputs": [
    {
     "name": "stdout",
     "output_type": "stream",
     "text": [
      "3\n"
     ]
    }
   ],
   "source": [
    "#Class method use - Accessing Class-Level Variables or Attributes\n",
    "class Counter:\n",
    "    count = 0\n",
    "\n",
    "    def __init__(self):\n",
    "        Counter.count += 1\n",
    "\n",
    "    @classmethod\n",
    "    def get_count(cls):\n",
    "        return cls.count\n",
    "\n",
    "counter1 = Counter()\n",
    "counter2 = Counter()\n",
    "counter3 = Counter()\n",
    "\n",
    "print(Counter.get_count()) \n"
   ]
  },
  {
   "cell_type": "markdown",
   "id": "95892d81-5a8e-4071-a40f-21f4342c4373",
   "metadata": {},
   "source": [
    "In the above example, we have a Counter class with a class-level variable count that keeps track of the number of instances created. The __init__() method increments the count each time a new instance is created. The class method get_count() returns the current count value, allowing you to access it without needing an instance of the class."
   ]
  },
  {
   "cell_type": "code",
   "execution_count": 86,
   "id": "689c66bc-a65b-4e07-b7e4-a11ff83a667c",
   "metadata": {},
   "outputs": [],
   "source": [
    "class pwskills2 :\n",
    "    mobile_number = 25832052380\n",
    "    def __init__(self,name,email):\n",
    "        self.name = name\n",
    "        self.email = email\n",
    "        \n",
    "    @classmethod\n",
    "    def altforinit(cls,peru,address):      \n",
    "        return cls(peru,address)\n",
    "    \n",
    "    @classmethod\n",
    "    def change_number(cls,mobile):\n",
    "        pwskills2.mobile_number = mobile\n",
    "        return cls.mobile_number\n",
    "        \n",
    "        \n",
    "    def student_details(self):\n",
    "        print(self.name,self.email,pwskills2.mobile_number)"
   ]
  },
  {
   "cell_type": "code",
   "execution_count": 87,
   "id": "b9f34822-4c30-4673-ab36-605c6856c3d0",
   "metadata": {},
   "outputs": [
    {
     "data": {
      "text/plain": [
       "25832052380"
      ]
     },
     "execution_count": 87,
     "metadata": {},
     "output_type": "execute_result"
    }
   ],
   "source": [
    "pwskills2.mobile_number  # We can not access a function using a classname but we can access class variables using classname "
   ]
  },
  {
   "cell_type": "code",
   "execution_count": 88,
   "id": "75b56dbf-403e-476a-a3d4-bc4d4e65ebe6",
   "metadata": {},
   "outputs": [
    {
     "data": {
      "text/plain": [
       "2452234535"
      ]
     },
     "execution_count": 88,
     "metadata": {},
     "output_type": "execute_result"
    }
   ],
   "source": [
    "pwskills2.change_number(2452234535)"
   ]
  },
  {
   "cell_type": "markdown",
   "id": "eb4ce684-95af-4e09-b057-befaf1281c53",
   "metadata": {},
   "source": [
    "Basically when we create a class method it will not replicate the methods where for object when every time a new object is created the method or functiobn is replicated and memory will be increased.Now lets try to access the class with normal objects."
   ]
  },
  {
   "cell_type": "code",
   "execution_count": 89,
   "id": "e22c1906-ae8f-4b2b-9112-3788222b166d",
   "metadata": {},
   "outputs": [],
   "source": [
    "pw5 = pwskills2(\"Gowtham\",\"gowthamforwork@gmail.com\")"
   ]
  },
  {
   "cell_type": "code",
   "execution_count": 90,
   "id": "f13ec396-44d0-468d-b2d7-4d435e2d4d0f",
   "metadata": {},
   "outputs": [
    {
     "data": {
      "text/plain": [
       "2452234535"
      ]
     },
     "execution_count": 90,
     "metadata": {},
     "output_type": "execute_result"
    }
   ],
   "source": [
    "pw5.mobile_number"
   ]
  },
  {
   "cell_type": "code",
   "execution_count": 91,
   "id": "6b2e520c-4098-4152-bae6-4897a0beb8d4",
   "metadata": {},
   "outputs": [
    {
     "data": {
      "text/plain": [
       "'Gowtham'"
      ]
     },
     "execution_count": 91,
     "metadata": {},
     "output_type": "execute_result"
    }
   ],
   "source": [
    "pw5.name"
   ]
  },
  {
   "cell_type": "code",
   "execution_count": 92,
   "id": "b993c57a-769d-4904-999c-b495ef100782",
   "metadata": {},
   "outputs": [
    {
     "data": {
      "text/plain": [
       "'gowthamforwork@gmail.com'"
      ]
     },
     "execution_count": 92,
     "metadata": {},
     "output_type": "execute_result"
    }
   ],
   "source": [
    "pw5.email"
   ]
  },
  {
   "cell_type": "code",
   "execution_count": 93,
   "id": "bb17bec7-03c0-480c-9c8d-d9ced7718168",
   "metadata": {},
   "outputs": [
    {
     "name": "stdout",
     "output_type": "stream",
     "text": [
      "Gowtham gowthamforwork@gmail.com 2452234535\n"
     ]
    }
   ],
   "source": [
    "pw5.student_details()"
   ]
  },
  {
   "cell_type": "code",
   "execution_count": 94,
   "id": "1628ec22-030b-4ffa-93a6-73aee2a77906",
   "metadata": {},
   "outputs": [
    {
     "data": {
      "text/plain": [
       "<__main__.pwskills2 at 0x7f6965c7fbb0>"
      ]
     },
     "execution_count": 94,
     "metadata": {},
     "output_type": "execute_result"
    }
   ],
   "source": [
    "pw5.altforinit(\"vardhan\",\"vardhanforwork@gmail.com\")  # eventhough I accessed the details funciton with the object the values are not overriden when try to use classmethod with an object"
   ]
  },
  {
   "cell_type": "code",
   "execution_count": 95,
   "id": "001466f7-3c68-4729-9728-3ad47fa62b43",
   "metadata": {},
   "outputs": [
    {
     "data": {
      "text/plain": [
       "'Gowtham'"
      ]
     },
     "execution_count": 95,
     "metadata": {},
     "output_type": "execute_result"
    }
   ],
   "source": [
    "pw5.name"
   ]
  },
  {
   "cell_type": "code",
   "execution_count": 96,
   "id": "490b35cd-7571-4374-97a1-04e41e47091d",
   "metadata": {},
   "outputs": [
    {
     "data": {
      "text/plain": [
       "'gowthamforwork@gmail.com'"
      ]
     },
     "execution_count": 96,
     "metadata": {},
     "output_type": "execute_result"
    }
   ],
   "source": [
    "pw5.email"
   ]
  },
  {
   "cell_type": "code",
   "execution_count": 97,
   "id": "d7e109f8-fcb3-42d1-b328-3aa0d58435ed",
   "metadata": {},
   "outputs": [
    {
     "data": {
      "text/plain": [
       "34528405"
      ]
     },
     "execution_count": 97,
     "metadata": {},
     "output_type": "execute_result"
    }
   ],
   "source": [
    "#But we can change the classvariables with classmethod by object\n",
    "pw5.change_number(34528405)"
   ]
  },
  {
   "cell_type": "code",
   "execution_count": 98,
   "id": "6d342778-1fc3-44af-9472-0a731a95c95f",
   "metadata": {},
   "outputs": [],
   "source": [
    "#Another operation using the class method : Adding external function to a class\n",
    "class pwskills4 :\n",
    "    mobile_number = 25832052380\n",
    "    def __init__(self,name,email):\n",
    "        self.name = name\n",
    "        self.email = email\n",
    "        \n",
    "    @classmethod\n",
    "    def altforinit(cls,peru,address):      \n",
    "        return cls(peru,address)\n",
    "    \n",
    "    @classmethod\n",
    "    def change_number(cls,mobile):\n",
    "        pwskills2.mobile_number = mobile\n",
    "        return cls.mobile_number\n",
    "        \n",
    "        \n",
    "    def student_details(self):\n",
    "        print(self.name,self.email,pwskills2.mobile_number)"
   ]
  },
  {
   "cell_type": "code",
   "execution_count": 99,
   "id": "d7b345b2-c728-4095-afc3-34a1b99378b7",
   "metadata": {},
   "outputs": [],
   "source": [
    "#Exernal FUnciton\n",
    "def course_details(cls , course):\n",
    "    print(\"Course Details :\",course)"
   ]
  },
  {
   "cell_type": "code",
   "execution_count": 100,
   "id": "ee7ed807-9c69-4ef6-ab5d-81dde48ffaaa",
   "metadata": {},
   "outputs": [],
   "source": [
    "#Adding course_details to the pwskills4 class using the syntax \n",
    "pwskills4.course_details = classmethod(course_details)\n",
    "#Function is added"
   ]
  },
  {
   "cell_type": "code",
   "execution_count": 101,
   "id": "3363519a-7bb3-4a5f-9be7-c57df66226e6",
   "metadata": {},
   "outputs": [
    {
     "name": "stdout",
     "output_type": "stream",
     "text": [
      "Course Details : DataScience Masters\n"
     ]
    }
   ],
   "source": [
    "pwskills4.course_details(\"DataScience Masters\")"
   ]
  },
  {
   "cell_type": "code",
   "execution_count": 102,
   "id": "86db4937-23be-4cfc-b0a2-756d85bcf832",
   "metadata": {},
   "outputs": [],
   "source": [
    "del pwskills4.change_number #in this way we can delete the function from a class\n"
   ]
  },
  {
   "cell_type": "code",
   "execution_count": 103,
   "id": "e89cdc39-01ad-4f88-b6a2-1eda14738d03",
   "metadata": {},
   "outputs": [
    {
     "ename": "AttributeError",
     "evalue": "type object 'pwskills4' has no attribute 'change_number'",
     "output_type": "error",
     "traceback": [
      "\u001b[0;31m---------------------------------------------------------------------------\u001b[0m",
      "\u001b[0;31mAttributeError\u001b[0m                            Traceback (most recent call last)",
      "Cell \u001b[0;32mIn[103], line 2\u001b[0m\n\u001b[1;32m      1\u001b[0m \u001b[38;5;66;03m#lets check\u001b[39;00m\n\u001b[0;32m----> 2\u001b[0m \u001b[43mpwskills4\u001b[49m\u001b[38;5;241;43m.\u001b[39;49m\u001b[43mchange_number\u001b[49m\n",
      "\u001b[0;31mAttributeError\u001b[0m: type object 'pwskills4' has no attribute 'change_number'"
     ]
    }
   ],
   "source": [
    "#lets check\n",
    "pwskills4.change_number"
   ]
  },
  {
   "cell_type": "code",
   "execution_count": 104,
   "id": "616c4866-ceb5-4d84-865d-bac14147d6e7",
   "metadata": {},
   "outputs": [],
   "source": [
    "#Another way to delete is by delattr() function\n",
    "delattr(pwskills4,\"student_details\")"
   ]
  },
  {
   "cell_type": "code",
   "execution_count": 105,
   "id": "93947303-3169-445d-97df-ed5404511fda",
   "metadata": {},
   "outputs": [
    {
     "ename": "AttributeError",
     "evalue": "type object 'pwskills4' has no attribute 'student_details'",
     "output_type": "error",
     "traceback": [
      "\u001b[0;31m---------------------------------------------------------------------------\u001b[0m",
      "\u001b[0;31mAttributeError\u001b[0m                            Traceback (most recent call last)",
      "Cell \u001b[0;32mIn[105], line 2\u001b[0m\n\u001b[1;32m      1\u001b[0m \u001b[38;5;66;03m#lets check\u001b[39;00m\n\u001b[0;32m----> 2\u001b[0m \u001b[43mpwskills4\u001b[49m\u001b[38;5;241;43m.\u001b[39;49m\u001b[43mstudent_details\u001b[49m\n",
      "\u001b[0;31mAttributeError\u001b[0m: type object 'pwskills4' has no attribute 'student_details'"
     ]
    }
   ],
   "source": [
    "#lets check\n",
    "pwskills4.student_details"
   ]
  },
  {
   "cell_type": "markdown",
   "id": "c2c9bd93-1354-4f16-b495-44c3046fc434",
   "metadata": {},
   "source": [
    "Static Method - Helps in memory utilization"
   ]
  },
  {
   "cell_type": "code",
   "execution_count": 106,
   "id": "f7e5f728-183a-45af-947f-a9866cd67601",
   "metadata": {},
   "outputs": [],
   "source": [
    "class pwskills:\n",
    "    def student_details(self,name,email,mobile_number):\n",
    "        print(name,email,mobile_number)"
   ]
  },
  {
   "cell_type": "code",
   "execution_count": 107,
   "id": "2109831c-0e5c-4d41-8e1e-4751242d63ff",
   "metadata": {},
   "outputs": [],
   "source": [
    "pw = pwskills()"
   ]
  },
  {
   "cell_type": "code",
   "execution_count": 108,
   "id": "12fc400e-9f7f-4692-a017-8c6fd6217517",
   "metadata": {},
   "outputs": [
    {
     "name": "stdout",
     "output_type": "stream",
     "text": [
      "Gowtham gowthamforwork@gmail.com 5457823459\n"
     ]
    }
   ],
   "source": [
    "pw.student_details(\"Gowtham\",\"gowthamforwork@gmail.com\",5457823459)"
   ]
  },
  {
   "cell_type": "code",
   "execution_count": 109,
   "id": "6a2d8eb8-2a89-4d66-83e2-36de8b1dbbf4",
   "metadata": {},
   "outputs": [],
   "source": [
    "# Here for every object the function is going to be replicated so in order to overcome this we can use static method.\n",
    "class pwskills:\n",
    "    def student_details(self,name,email,mobile_number):\n",
    "        print(name,email,mobile_number)\n",
    "        \n",
    "    @staticmethod\n",
    "    def mentor_list(mentor):          #no need to use cls or self for static methods\n",
    "        print(mentor)\n",
    "        \n",
    "    def mentor(self,mentor):\n",
    "        print(mentor)"
   ]
  },
  {
   "cell_type": "code",
   "execution_count": 110,
   "id": "4b11db90-b1e0-43da-b69e-1161b4ebe4bb",
   "metadata": {},
   "outputs": [
    {
     "name": "stdout",
     "output_type": "stream",
     "text": [
      "['game', 'hi']\n"
     ]
    }
   ],
   "source": [
    "pwskills.mentor_list([\"game\",'hi']) #accesing static class"
   ]
  },
  {
   "cell_type": "code",
   "execution_count": 111,
   "id": "ee9ca9b6-bf02-470e-9673-b8295d67aff6",
   "metadata": {},
   "outputs": [],
   "source": [
    "pw = pwskills()"
   ]
  },
  {
   "cell_type": "code",
   "execution_count": 112,
   "id": "226f7024-b64e-4fcc-8358-945fdb1eae2a",
   "metadata": {},
   "outputs": [
    {
     "name": "stdout",
     "output_type": "stream",
     "text": [
      "['game', 'hi']\n"
     ]
    }
   ],
   "source": [
    "pw.mentor([\"game\",\"hi\"])"
   ]
  },
  {
   "cell_type": "code",
   "execution_count": 113,
   "id": "d66eab85-1e0f-4d61-b7aa-46463968ae3b",
   "metadata": {},
   "outputs": [
    {
     "name": "stdout",
     "output_type": "stream",
     "text": [
      "['game', 'hi']\n"
     ]
    }
   ],
   "source": [
    "# we can access the static method with the objects also.\n",
    "pw.mentor_list([\"game\",\"hi\"])"
   ]
  },
  {
   "cell_type": "markdown",
   "id": "88597578-22e0-480b-90d5-3d7483871181",
   "metadata": {},
   "source": [
    "Depending upon the application we use this static method For example for a course we can use instance method(objects creation) for the students because there will be more students and everyone is different but for mentors they may be common for different courses so there we can use static so the memory will be utilized."
   ]
  },
  {
   "cell_type": "code",
   "execution_count": 114,
   "id": "7766db74-0339-4685-a3de-13edc6ee4eb3",
   "metadata": {},
   "outputs": [],
   "source": [
    "#Accessing Methods\n",
    "class pwskills1:\n",
    "    def student_details(self,name,email,mobile_number):\n",
    "        print(name,email,mobile_number)\n",
    "        \n",
    "    @staticmethod\n",
    "    def mentor_mail_id(mail_id):\n",
    "        print(mail_id)\n",
    "        \n",
    "    @staticmethod\n",
    "    def mentor_list(mentor):          \n",
    "        print(mentor)\n",
    "        pwskills1.mentor_mail_id(\"mythili@gmail.com\")\n",
    "        \n",
    "    @classmethod\n",
    "    def class_name(cls , name):\n",
    "        cls.mentor_list(\"2nd Class\")\n",
    "    \n",
    "    def mentor(self,mentor):\n",
    "        print(mentor)\n",
    "        self.mentor_list(\"1st Call\")"
   ]
  },
  {
   "cell_type": "markdown",
   "id": "b5dfca16-4e26-4bd0-9770-6ce29bf2ca82",
   "metadata": {},
   "source": [
    "1) If you want to call a static method make sure you call in a function where the static method is already declared above it\n",
    "2) We can call it using \"self.methodname\"\n",
    "3) We can call static method inside a instance method\n",
    "4) We can access static method inside a class method"
   ]
  },
  {
   "cell_type": "code",
   "execution_count": 115,
   "id": "6ac39e0c-a69e-4479-b6c3-3e37949019c2",
   "metadata": {},
   "outputs": [],
   "source": [
    "#Now lets call everthying \n",
    "pw1 = pwskills1()"
   ]
  },
  {
   "cell_type": "code",
   "execution_count": 116,
   "id": "5c047e46-c40f-49b3-ad89-a797d76675aa",
   "metadata": {},
   "outputs": [
    {
     "name": "stdout",
     "output_type": "stream",
     "text": [
      "Gowtham cyrogamer.yt@gmail.com 2458234870\n"
     ]
    }
   ],
   "source": [
    "pw1.student_details(\"Gowtham\",\"cyrogamer.yt@gmail.com\",2458234870)"
   ]
  },
  {
   "cell_type": "code",
   "execution_count": 117,
   "id": "e43f7d1d-ef3f-47f1-8f4d-bff098ab73ea",
   "metadata": {},
   "outputs": [
    {
     "name": "stdout",
     "output_type": "stream",
     "text": [
      "Gowtham\n",
      "1st Call\n",
      "mythili@gmail.com\n"
     ]
    }
   ],
   "source": [
    "pw1.mentor(\"Gowtham\")"
   ]
  },
  {
   "cell_type": "code",
   "execution_count": 118,
   "id": "db3ab5f3-e2d2-4160-9bfd-0be9e3476225",
   "metadata": {},
   "outputs": [
    {
     "name": "stdout",
     "output_type": "stream",
     "text": [
      "2nd Class\n",
      "mythili@gmail.com\n"
     ]
    }
   ],
   "source": [
    "pw1.class_name(\"Gowtham\")"
   ]
  },
  {
   "cell_type": "code",
   "execution_count": 119,
   "id": "83aeb564-6fea-4ef9-a4d9-9908c9303d94",
   "metadata": {},
   "outputs": [
    {
     "name": "stdout",
     "output_type": "stream",
     "text": [
      "mythili\n",
      "mythili@gmail.com\n"
     ]
    }
   ],
   "source": [
    "pwskills1.mentor_list(\"mythili\")"
   ]
  },
  {
   "cell_type": "code",
   "execution_count": 120,
   "id": "59f0c75d-4a7c-4d8f-a774-7418a9852720",
   "metadata": {},
   "outputs": [
    {
     "name": "stdout",
     "output_type": "stream",
     "text": [
      "mythili@gmail.com\n"
     ]
    }
   ],
   "source": [
    "pwskills1.mentor_mail_id(\"mythili@gmail.com\")"
   ]
  },
  {
   "cell_type": "markdown",
   "id": "d55eb36e-7671-4a8c-99e3-fe153757d42c",
   "metadata": {},
   "source": [
    "Magic Methods"
   ]
  },
  {
   "cell_type": "code",
   "execution_count": 121,
   "id": "770c5ed3-36ce-41bc-aba4-f3c29cccd6bc",
   "metadata": {},
   "outputs": [
    {
     "data": {
      "text/plain": [
       "['__abs__',\n",
       " '__add__',\n",
       " '__and__',\n",
       " '__bool__',\n",
       " '__ceil__',\n",
       " '__class__',\n",
       " '__delattr__',\n",
       " '__dir__',\n",
       " '__divmod__',\n",
       " '__doc__',\n",
       " '__eq__',\n",
       " '__float__',\n",
       " '__floor__',\n",
       " '__floordiv__',\n",
       " '__format__',\n",
       " '__ge__',\n",
       " '__getattribute__',\n",
       " '__getnewargs__',\n",
       " '__gt__',\n",
       " '__hash__',\n",
       " '__index__',\n",
       " '__init__',\n",
       " '__init_subclass__',\n",
       " '__int__',\n",
       " '__invert__',\n",
       " '__le__',\n",
       " '__lshift__',\n",
       " '__lt__',\n",
       " '__mod__',\n",
       " '__mul__',\n",
       " '__ne__',\n",
       " '__neg__',\n",
       " '__new__',\n",
       " '__or__',\n",
       " '__pos__',\n",
       " '__pow__',\n",
       " '__radd__',\n",
       " '__rand__',\n",
       " '__rdivmod__',\n",
       " '__reduce__',\n",
       " '__reduce_ex__',\n",
       " '__repr__',\n",
       " '__rfloordiv__',\n",
       " '__rlshift__',\n",
       " '__rmod__',\n",
       " '__rmul__',\n",
       " '__ror__',\n",
       " '__round__',\n",
       " '__rpow__',\n",
       " '__rrshift__',\n",
       " '__rshift__',\n",
       " '__rsub__',\n",
       " '__rtruediv__',\n",
       " '__rxor__',\n",
       " '__setattr__',\n",
       " '__sizeof__',\n",
       " '__str__',\n",
       " '__sub__',\n",
       " '__subclasshook__',\n",
       " '__truediv__',\n",
       " '__trunc__',\n",
       " '__xor__',\n",
       " 'as_integer_ratio',\n",
       " 'bit_count',\n",
       " 'bit_length',\n",
       " 'conjugate',\n",
       " 'denominator',\n",
       " 'from_bytes',\n",
       " 'imag',\n",
       " 'numerator',\n",
       " 'real',\n",
       " 'to_bytes']"
      ]
     },
     "execution_count": 121,
     "metadata": {},
     "output_type": "execute_result"
    }
   ],
   "source": [
    "dir(int)"
   ]
  },
  {
   "cell_type": "code",
   "execution_count": 122,
   "id": "567028ff-fc41-4df1-882f-e41fcda1d261",
   "metadata": {},
   "outputs": [],
   "source": [
    "a = 10"
   ]
  },
  {
   "cell_type": "code",
   "execution_count": 123,
   "id": "c2ee1134-05b3-4291-be74-070db9c43be9",
   "metadata": {},
   "outputs": [
    {
     "data": {
      "text/plain": [
       "16"
      ]
     },
     "execution_count": 123,
     "metadata": {},
     "output_type": "execute_result"
    }
   ],
   "source": [
    "a + 6"
   ]
  },
  {
   "cell_type": "code",
   "execution_count": 124,
   "id": "0b26b9b6-c88d-4766-b014-94e979dee43b",
   "metadata": {},
   "outputs": [
    {
     "data": {
      "text/plain": [
       "16"
      ]
     },
     "execution_count": 124,
     "metadata": {},
     "output_type": "execute_result"
    }
   ],
   "source": [
    "a.__add__(6)"
   ]
  },
  {
   "cell_type": "code",
   "execution_count": 125,
   "id": "309faec9-309d-4b6e-b200-2d4786f46636",
   "metadata": {},
   "outputs": [
    {
     "data": {
      "text/plain": [
       "['__add__',\n",
       " '__class__',\n",
       " '__contains__',\n",
       " '__delattr__',\n",
       " '__dir__',\n",
       " '__doc__',\n",
       " '__eq__',\n",
       " '__format__',\n",
       " '__ge__',\n",
       " '__getattribute__',\n",
       " '__getitem__',\n",
       " '__getnewargs__',\n",
       " '__gt__',\n",
       " '__hash__',\n",
       " '__init__',\n",
       " '__init_subclass__',\n",
       " '__iter__',\n",
       " '__le__',\n",
       " '__len__',\n",
       " '__lt__',\n",
       " '__mod__',\n",
       " '__mul__',\n",
       " '__ne__',\n",
       " '__new__',\n",
       " '__reduce__',\n",
       " '__reduce_ex__',\n",
       " '__repr__',\n",
       " '__rmod__',\n",
       " '__rmul__',\n",
       " '__setattr__',\n",
       " '__sizeof__',\n",
       " '__str__',\n",
       " '__subclasshook__',\n",
       " 'capitalize',\n",
       " 'casefold',\n",
       " 'center',\n",
       " 'count',\n",
       " 'encode',\n",
       " 'endswith',\n",
       " 'expandtabs',\n",
       " 'find',\n",
       " 'format',\n",
       " 'format_map',\n",
       " 'index',\n",
       " 'isalnum',\n",
       " 'isalpha',\n",
       " 'isascii',\n",
       " 'isdecimal',\n",
       " 'isdigit',\n",
       " 'isidentifier',\n",
       " 'islower',\n",
       " 'isnumeric',\n",
       " 'isprintable',\n",
       " 'isspace',\n",
       " 'istitle',\n",
       " 'isupper',\n",
       " 'join',\n",
       " 'ljust',\n",
       " 'lower',\n",
       " 'lstrip',\n",
       " 'maketrans',\n",
       " 'partition',\n",
       " 'removeprefix',\n",
       " 'removesuffix',\n",
       " 'replace',\n",
       " 'rfind',\n",
       " 'rindex',\n",
       " 'rjust',\n",
       " 'rpartition',\n",
       " 'rsplit',\n",
       " 'rstrip',\n",
       " 'split',\n",
       " 'splitlines',\n",
       " 'startswith',\n",
       " 'strip',\n",
       " 'swapcase',\n",
       " 'title',\n",
       " 'translate',\n",
       " 'upper',\n",
       " 'zfill']"
      ]
     },
     "execution_count": 125,
     "metadata": {},
     "output_type": "execute_result"
    }
   ],
   "source": [
    "dir(str)"
   ]
  },
  {
   "cell_type": "code",
   "execution_count": 126,
   "id": "5b8929cb-473d-4d5e-8c9c-bccfdca54acd",
   "metadata": {},
   "outputs": [],
   "source": [
    "#Useful concept\n",
    "class pwskills:\n",
    "    def __init__(self):\n",
    "        print(\"This is the Magic init method\")\n",
    "        "
   ]
  },
  {
   "cell_type": "code",
   "execution_count": 127,
   "id": "1dd8cb50-2864-49e0-b372-d00701307e21",
   "metadata": {},
   "outputs": [
    {
     "name": "stdout",
     "output_type": "stream",
     "text": [
      "This is the Magic init method\n"
     ]
    }
   ],
   "source": [
    "pw = pwskills()"
   ]
  },
  {
   "cell_type": "markdown",
   "id": "da07ee19-b6c4-4d70-a6c2-e357ff162279",
   "metadata": {},
   "source": [
    "Here by default python calls other magic method named \"__new__\" which directly linked to class\n",
    "Init method is used to create and assign the data to the particular object of a class"
   ]
  },
  {
   "cell_type": "code",
   "execution_count": 128,
   "id": "0bf30e25-4abd-4a22-88f9-e89769f37e97",
   "metadata": {},
   "outputs": [],
   "source": [
    "class pwskills:\n",
    "    def __new__(cls):\n",
    "        print(\"This is the magic new method\")\n",
    "    def __init__(self):\n",
    "        print(\"This is the Magic init method\")"
   ]
  },
  {
   "cell_type": "code",
   "execution_count": 129,
   "id": "29e1f60f-20c8-49e8-97c7-2e30f3dbba9a",
   "metadata": {},
   "outputs": [
    {
     "name": "stdout",
     "output_type": "stream",
     "text": [
      "This is the magic new method\n"
     ]
    }
   ],
   "source": [
    "pw = pwskills()"
   ]
  },
  {
   "cell_type": "markdown",
   "id": "90b0b0f1-2551-461b-b8e5-e4353b65ffd3",
   "metadata": {},
   "source": [
    "Property Decorators"
   ]
  },
  {
   "cell_type": "code",
   "execution_count": 130,
   "id": "8cf6183b-8cd8-4fc7-a448-bfd09437f6b7",
   "metadata": {},
   "outputs": [],
   "source": [
    "class pwskills:\n",
    "    def __init__(self,course_price,course_name):\n",
    "        self.__price = course_price\n",
    "        self.name = course_name\n",
    "    @property\n",
    "    def accprice(self):\n",
    "        return self.__price\n",
    "    \n",
    "    @accprice.setter\n",
    "    def setPrice(self,pricee):\n",
    "        if pricee<=3500:\n",
    "            pass\n",
    "        else:\n",
    "            self.__price = pricee\n",
    "        \n",
    "    @accprice.deleter\n",
    "    def price_delete(self):\n",
    "        del self.__price"
   ]
  },
  {
   "cell_type": "code",
   "execution_count": 131,
   "id": "83112a5e-7399-4c49-bdae-c79bab205cf6",
   "metadata": {},
   "outputs": [],
   "source": [
    "pw = pwskills(3500,\"DS Masters\")"
   ]
  },
  {
   "cell_type": "code",
   "execution_count": 132,
   "id": "9781a4c6-e7ea-49ea-b880-4ed6f80096e5",
   "metadata": {},
   "outputs": [
    {
     "data": {
      "text/plain": [
       "'DS Masters'"
      ]
     },
     "execution_count": 132,
     "metadata": {},
     "output_type": "execute_result"
    }
   ],
   "source": [
    "pw.name"
   ]
  },
  {
   "cell_type": "code",
   "execution_count": 133,
   "id": "2efad157-a924-44d4-a0d9-074b4df75cb2",
   "metadata": {},
   "outputs": [
    {
     "data": {
      "text/plain": [
       "3500"
      ]
     },
     "execution_count": 133,
     "metadata": {},
     "output_type": "execute_result"
    }
   ],
   "source": [
    "pw.accprice   # here we should not use paranthesis."
   ]
  },
  {
   "cell_type": "code",
   "execution_count": 134,
   "id": "9f77f52b-bca1-43cb-994b-335f43aef1e4",
   "metadata": {},
   "outputs": [],
   "source": [
    "pw.setPrice = 2300"
   ]
  },
  {
   "cell_type": "code",
   "execution_count": 135,
   "id": "0d9617f9-29c2-4ef8-8c1a-467930295fe0",
   "metadata": {},
   "outputs": [
    {
     "data": {
      "text/plain": [
       "3500"
      ]
     },
     "execution_count": 135,
     "metadata": {},
     "output_type": "execute_result"
    }
   ],
   "source": [
    "pw.accprice"
   ]
  },
  {
   "cell_type": "code",
   "execution_count": 136,
   "id": "78d4f0ce-0cbc-4deb-ab55-df5bd3a20343",
   "metadata": {},
   "outputs": [],
   "source": [
    "pw.setPrice = 4500"
   ]
  },
  {
   "cell_type": "code",
   "execution_count": 137,
   "id": "a509153b-7ee5-472e-b359-a978057df2b6",
   "metadata": {},
   "outputs": [
    {
     "data": {
      "text/plain": [
       "4500"
      ]
     },
     "execution_count": 137,
     "metadata": {},
     "output_type": "execute_result"
    }
   ],
   "source": [
    "pw.accprice"
   ]
  },
  {
   "cell_type": "code",
   "execution_count": 139,
   "id": "53d6be64-cf58-43c4-87bf-ad583c3e8b39",
   "metadata": {},
   "outputs": [],
   "source": [
    "del pw.price_delete"
   ]
  },
  {
   "cell_type": "code",
   "execution_count": 142,
   "id": "30b57f8d-7a77-497e-8dc0-eb05bb3cecb9",
   "metadata": {},
   "outputs": [
    {
     "ename": "AttributeError",
     "evalue": "'pwskills' object has no attribute '_pwskills__price'",
     "output_type": "error",
     "traceback": [
      "\u001b[0;31m---------------------------------------------------------------------------\u001b[0m",
      "\u001b[0;31mAttributeError\u001b[0m                            Traceback (most recent call last)",
      "Cell \u001b[0;32mIn[142], line 1\u001b[0m\n\u001b[0;32m----> 1\u001b[0m \u001b[43mpw\u001b[49m\u001b[38;5;241;43m.\u001b[39;49m\u001b[43m_pwskills__price\u001b[49m    \u001b[38;5;66;03m#Therefore the private variable is deleted.\u001b[39;00m\n",
      "\u001b[0;31mAttributeError\u001b[0m: 'pwskills' object has no attribute '_pwskills__price'"
     ]
    }
   ],
   "source": [
    "pw._pwskills__price    #Therefore the private variable is deleted."
   ]
  }
 ],
 "metadata": {
  "kernelspec": {
   "display_name": "Python 3 (ipykernel)",
   "language": "python",
   "name": "python3"
  },
  "language_info": {
   "codemirror_mode": {
    "name": "ipython",
    "version": 3
   },
   "file_extension": ".py",
   "mimetype": "text/x-python",
   "name": "python",
   "nbconvert_exporter": "python",
   "pygments_lexer": "ipython3",
   "version": "3.10.8"
  }
 },
 "nbformat": 4,
 "nbformat_minor": 5
}
