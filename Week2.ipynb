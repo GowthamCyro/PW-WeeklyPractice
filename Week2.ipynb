{
 "cells": [
  {
   "cell_type": "code",
   "execution_count": 1,
   "id": "af7a2c20-7e91-46aa-a48c-08d0b0934cb0",
   "metadata": {},
   "outputs": [],
   "source": [
    "str1 = \"PW Data Science Skills\""
   ]
  },
  {
   "cell_type": "code",
   "execution_count": 2,
   "id": "f6b1445f-7c05-462b-ad34-6e84756a22e5",
   "metadata": {},
   "outputs": [
    {
     "data": {
      "text/plain": [
       "'t'"
      ]
     },
     "execution_count": 2,
     "metadata": {},
     "output_type": "execute_result"
    }
   ],
   "source": [
    "str1[5]"
   ]
  },
  {
   "cell_type": "code",
   "execution_count": 3,
   "id": "9be69433-a1c4-4a04-b227-204f79e6fc2c",
   "metadata": {},
   "outputs": [
    {
     "data": {
      "text/plain": [
       "'PW'"
      ]
     },
     "execution_count": 3,
     "metadata": {},
     "output_type": "execute_result"
    }
   ],
   "source": [
    "str1[0:2]"
   ]
  },
  {
   "cell_type": "code",
   "execution_count": 4,
   "id": "55d5767d-466f-4757-b573-ef517651b2e7",
   "metadata": {},
   "outputs": [
    {
     "data": {
      "text/plain": [
       "'PW Data Science Skills'"
      ]
     },
     "execution_count": 4,
     "metadata": {},
     "output_type": "execute_result"
    }
   ],
   "source": [
    "str1[:]"
   ]
  },
  {
   "cell_type": "code",
   "execution_count": 5,
   "id": "4c9688d5-f2b6-445d-9ddb-2a73b81698cf",
   "metadata": {},
   "outputs": [
    {
     "data": {
      "text/plain": [
       "22"
      ]
     },
     "execution_count": 5,
     "metadata": {},
     "output_type": "execute_result"
    }
   ],
   "source": [
    "len(str1) #Count starts from 1 so when we try to count starting with 0 it has 21 characters"
   ]
  },
  {
   "cell_type": "code",
   "execution_count": 6,
   "id": "89e09ebd-14b1-4437-93c4-5eb84ec49dde",
   "metadata": {},
   "outputs": [
    {
     "data": {
      "text/plain": [
       "'PW Data Science Skill'"
      ]
     },
     "execution_count": 6,
     "metadata": {},
     "output_type": "execute_result"
    }
   ],
   "source": [
    "str1[0:21] #it does not print 's' because it will print upto (maxrange-1)value"
   ]
  },
  {
   "cell_type": "code",
   "execution_count": 7,
   "id": "a82d0968-8ab7-45ea-b5f5-e3f3ead6cc96",
   "metadata": {},
   "outputs": [
    {
     "data": {
      "text/plain": [
       "'PW Data Science Skills'"
      ]
     },
     "execution_count": 7,
     "metadata": {},
     "output_type": "execute_result"
    }
   ],
   "source": [
    "str1[0:22]"
   ]
  },
  {
   "cell_type": "code",
   "execution_count": 8,
   "id": "9198d299-5ba4-4b75-8a41-48c6d70cf3f0",
   "metadata": {},
   "outputs": [
    {
     "data": {
      "text/plain": [
       "'s'"
      ]
     },
     "execution_count": 8,
     "metadata": {},
     "output_type": "execute_result"
    }
   ],
   "source": [
    "str1[-1]"
   ]
  },
  {
   "cell_type": "code",
   "execution_count": 9,
   "id": "4a95e776-9cd7-4bc4-97cb-96afc333083a",
   "metadata": {},
   "outputs": [
    {
     "data": {
      "text/plain": [
       "'l'"
      ]
     },
     "execution_count": 9,
     "metadata": {},
     "output_type": "execute_result"
    }
   ],
   "source": [
    "str1[-2]"
   ]
  },
  {
   "cell_type": "code",
   "execution_count": 10,
   "id": "cd5f0d48-a4bf-4ef6-a4a5-13f7e5fd2be5",
   "metadata": {},
   "outputs": [
    {
     "data": {
      "text/plain": [
       "'PW Data Science Skill'"
      ]
     },
     "execution_count": 10,
     "metadata": {},
     "output_type": "execute_result"
    }
   ],
   "source": [
    "str1[:-1]"
   ]
  },
  {
   "cell_type": "code",
   "execution_count": 11,
   "id": "f1680dd4-3acd-4b0c-83a1-c43d50c20888",
   "metadata": {},
   "outputs": [
    {
     "data": {
      "text/plain": [
       "'PW Data Science Skill'"
      ]
     },
     "execution_count": 11,
     "metadata": {},
     "output_type": "execute_result"
    }
   ],
   "source": [
    "str1[-22:-1] #prints only upto -2 index "
   ]
  },
  {
   "cell_type": "code",
   "execution_count": 12,
   "id": "20ab59dd-a1a6-422d-9f37-0d488097f0de",
   "metadata": {},
   "outputs": [
    {
     "data": {
      "text/plain": [
       "' Sci'"
      ]
     },
     "execution_count": 12,
     "metadata": {},
     "output_type": "execute_result"
    }
   ],
   "source": [
    "str1[-15:11]   #so here when we try to give indexes with different signs make sure you convert index into one sign then you \n",
    "              #asily understand the output.So here -15 indicates \" \" between Data and Science which 7th index so inturn the \n",
    "              #question becomes str[7:11]'''"
   ]
  },
  {
   "cell_type": "code",
   "execution_count": 13,
   "id": "ea86968e-aea0-4f0e-993a-e6091e06c070",
   "metadata": {},
   "outputs": [
    {
     "data": {
      "text/plain": [
       "'sllikS ecneicS ataD WP'"
      ]
     },
     "execution_count": 13,
     "metadata": {},
     "output_type": "execute_result"
    }
   ],
   "source": [
    "#To reverse the string\n",
    "str1[::-1]    #What happening here is that when we does not give any value then python itself consider the some defalult \n",
    "            #values according to given step size and for the question I have given the step size as -1 so the python \n",
    "            #considers the maximum index value and according to the step size it will decrements the value by one and prints it"
   ]
  },
  {
   "cell_type": "code",
   "execution_count": 14,
   "id": "58e10bd2-055b-4373-8cea-c222a533435d",
   "metadata": {},
   "outputs": [
    {
     "data": {
      "text/plain": [
       "'Data Science Masters Course'"
      ]
     },
     "execution_count": 14,
     "metadata": {},
     "output_type": "execute_result"
    }
   ],
   "source": [
    "str1 = \"Data Science Masters\"\n",
    "str1 +\" Course\""
   ]
  },
  {
   "cell_type": "code",
   "execution_count": 15,
   "id": "f0f19fdf-e03d-4b94-aaa5-d122832c5675",
   "metadata": {},
   "outputs": [
    {
     "name": "stdout",
     "output_type": "stream",
     "text": [
      "Data Science MastersCourse\n"
     ]
    },
    {
     "data": {
      "text/plain": [
       "26"
      ]
     },
     "execution_count": 15,
     "metadata": {},
     "output_type": "execute_result"
    }
   ],
   "source": [
    "str1 = str1 + \"Course\"\n",
    "print(str1)\n",
    "len(str1)"
   ]
  },
  {
   "cell_type": "code",
   "execution_count": 16,
   "id": "3c83bd59-0ccf-4fd5-a7d7-0afbb1f0f961",
   "metadata": {},
   "outputs": [
    {
     "data": {
      "text/plain": [
       "-1"
      ]
     },
     "execution_count": 16,
     "metadata": {},
     "output_type": "execute_result"
    }
   ],
   "source": [
    "str1.find(\"z\")"
   ]
  },
  {
   "cell_type": "code",
   "execution_count": 17,
   "id": "588cecb8-d4e0-479a-974b-1f5216ad6dd1",
   "metadata": {},
   "outputs": [
    {
     "data": {
      "text/plain": [
       "-1"
      ]
     },
     "execution_count": 17,
     "metadata": {},
     "output_type": "execute_result"
    }
   ],
   "source": [
    "str1.find(\"xo\")"
   ]
  },
  {
   "cell_type": "code",
   "execution_count": 18,
   "id": "fef4d383-54e7-4194-a14e-add05ea1262b",
   "metadata": {},
   "outputs": [
    {
     "data": {
      "text/plain": [
       "2"
      ]
     },
     "execution_count": 18,
     "metadata": {},
     "output_type": "execute_result"
    }
   ],
   "source": [
    "str1.count('rs')"
   ]
  },
  {
   "cell_type": "code",
   "execution_count": 19,
   "id": "459e2f77-1e8a-475d-bf1c-9b4629d7573d",
   "metadata": {},
   "outputs": [
    {
     "data": {
      "text/plain": [
       "27"
      ]
     },
     "execution_count": 19,
     "metadata": {},
     "output_type": "execute_result"
    }
   ],
   "source": [
    "str1.count('')"
   ]
  },
  {
   "cell_type": "code",
   "execution_count": 20,
   "id": "064836da-c203-47ce-8e73-1253147f9c1b",
   "metadata": {},
   "outputs": [
    {
     "data": {
      "text/plain": [
       "['Data ', 'cience MastersCourse']"
      ]
     },
     "execution_count": 20,
     "metadata": {},
     "output_type": "execute_result"
    }
   ],
   "source": [
    "str1.split('S')"
   ]
  },
  {
   "cell_type": "code",
   "execution_count": 21,
   "id": "139877cf-1970-4feb-af2f-9d41a0525051",
   "metadata": {},
   "outputs": [
    {
     "data": {
      "text/plain": [
       "['Data', 'Science', 'MastersCourse']"
      ]
     },
     "execution_count": 21,
     "metadata": {},
     "output_type": "execute_result"
    }
   ],
   "source": [
    "str1.split(' ')"
   ]
  },
  {
   "cell_type": "code",
   "execution_count": 22,
   "id": "26f53938-a087-48c3-b19d-094dae962ae6",
   "metadata": {},
   "outputs": [
    {
     "data": {
      "text/plain": [
       "('Data ', 'S', 'cience MastersCourse')"
      ]
     },
     "execution_count": 22,
     "metadata": {},
     "output_type": "execute_result"
    }
   ],
   "source": [
    "str1.partition('S')"
   ]
  },
  {
   "cell_type": "code",
   "execution_count": 23,
   "id": "9e673a47-fb08-4ec5-8520-3be161728287",
   "metadata": {},
   "outputs": [
    {
     "data": {
      "text/plain": [
       "'data science masterscourse'"
      ]
     },
     "execution_count": 23,
     "metadata": {},
     "output_type": "execute_result"
    }
   ],
   "source": [
    "str1.lower()"
   ]
  },
  {
   "cell_type": "code",
   "execution_count": 24,
   "id": "0caab361-fbf3-4192-84d0-61316e583b37",
   "metadata": {},
   "outputs": [
    {
     "data": {
      "text/plain": [
       "'DATA SCIENCE MASTERSCOURSE'"
      ]
     },
     "execution_count": 24,
     "metadata": {},
     "output_type": "execute_result"
    }
   ],
   "source": [
    "str1.upper()"
   ]
  },
  {
   "cell_type": "code",
   "execution_count": 25,
   "id": "281cc4a2-fb86-4311-adac-4a97239e8913",
   "metadata": {},
   "outputs": [
    {
     "data": {
      "text/plain": [
       "'dATA sCIENCE mASTERScOURSE'"
      ]
     },
     "execution_count": 25,
     "metadata": {},
     "output_type": "execute_result"
    }
   ],
   "source": [
    "str1.swapcase()"
   ]
  },
  {
   "cell_type": "code",
   "execution_count": 26,
   "id": "d374f46a-a577-4d26-a80d-84f3ce97e5db",
   "metadata": {},
   "outputs": [
    {
     "data": {
      "text/plain": [
       "'Data Science Masterscourse'"
      ]
     },
     "execution_count": 26,
     "metadata": {},
     "output_type": "execute_result"
    }
   ],
   "source": [
    "str1.title()"
   ]
  },
  {
   "cell_type": "code",
   "execution_count": 27,
   "id": "bbc171cf-1319-4bf9-8839-16d98bb49e7f",
   "metadata": {},
   "outputs": [
    {
     "data": {
      "text/plain": [
       "'Data science masterscourse'"
      ]
     },
     "execution_count": 27,
     "metadata": {},
     "output_type": "execute_result"
    }
   ],
   "source": [
    "str1.capitalize()"
   ]
  },
  {
   "cell_type": "markdown",
   "id": "9a16e4b8-0143-435e-9955-85df09ab4ceb",
   "metadata": {},
   "source": [
    "Reverse string using inbuilt"
   ]
  },
  {
   "cell_type": "code",
   "execution_count": 28,
   "id": "ddca4d69-546e-409d-8c8e-56e7c885b8b9",
   "metadata": {},
   "outputs": [
    {
     "data": {
      "text/plain": [
       "<reversed at 0x7f2320473160>"
      ]
     },
     "execution_count": 28,
     "metadata": {},
     "output_type": "execute_result"
    }
   ],
   "source": [
    "reversed(str1) #we cannot see the output directly so we need to use any data structure or by using join() function or loops\n",
    "#Here an object is returned which is an iterator.The reversed funciton returns iterator object which contains sequence of ele."
   ]
  },
  {
   "cell_type": "code",
   "execution_count": 29,
   "id": "ee87b00a-1282-4357-9313-e62707bf4a93",
   "metadata": {},
   "outputs": [
    {
     "data": {
      "text/plain": [
       "['e',\n",
       " 's',\n",
       " 'r',\n",
       " 'u',\n",
       " 'o',\n",
       " 'C',\n",
       " 's',\n",
       " 'r',\n",
       " 'e',\n",
       " 't',\n",
       " 's',\n",
       " 'a',\n",
       " 'M',\n",
       " ' ',\n",
       " 'e',\n",
       " 'c',\n",
       " 'n',\n",
       " 'e',\n",
       " 'i',\n",
       " 'c',\n",
       " 'S',\n",
       " ' ',\n",
       " 'a',\n",
       " 't',\n",
       " 'a',\n",
       " 'D']"
      ]
     },
     "execution_count": 29,
     "metadata": {},
     "output_type": "execute_result"
    }
   ],
   "source": [
    "list(reversed(str1))"
   ]
  },
  {
   "cell_type": "code",
   "execution_count": 30,
   "id": "13e5a195-318c-4741-aa5a-deaaa91f72e5",
   "metadata": {},
   "outputs": [
    {
     "data": {
      "text/plain": [
       "'a n t'"
      ]
     },
     "execution_count": 30,
     "metadata": {},
     "output_type": "execute_result"
    }
   ],
   "source": [
    "#Join Function examples \n",
    "' '.join(\"ant\")"
   ]
  },
  {
   "cell_type": "code",
   "execution_count": 31,
   "id": "cebd5f32-0cdf-4429-9d8d-0fb7f357e64f",
   "metadata": {},
   "outputs": [
    {
     "data": {
      "text/plain": [
       "'p w s k i l l s'"
      ]
     },
     "execution_count": 31,
     "metadata": {},
     "output_type": "execute_result"
    }
   ],
   "source": [
    "' '.join(\"pwskills\")"
   ]
  },
  {
   "cell_type": "code",
   "execution_count": 32,
   "id": "f5efb3b1-adff-4b23-a0a3-8afd292f8506",
   "metadata": {},
   "outputs": [
    {
     "data": {
      "text/plain": [
       "'P great W'"
      ]
     },
     "execution_count": 32,
     "metadata": {},
     "output_type": "execute_result"
    }
   ],
   "source": [
    "' great '.join(\"PW\")"
   ]
  },
  {
   "cell_type": "code",
   "execution_count": 33,
   "id": "1adf1874-9f47-4b58-8ddf-4a8963799aa1",
   "metadata": {},
   "outputs": [
    {
     "data": {
      "text/plain": [
       "'d hlo a hlo t hlo a'"
      ]
     },
     "execution_count": 33,
     "metadata": {},
     "output_type": "execute_result"
    }
   ],
   "source": [
    "' hlo '.join(\"data\")"
   ]
  },
  {
   "cell_type": "code",
   "execution_count": 34,
   "id": "c9db07f3-f24b-4d0e-a332-2afde4e7640d",
   "metadata": {},
   "outputs": [
    {
     "data": {
      "text/plain": [
       "'dhiahithia'"
      ]
     },
     "execution_count": 34,
     "metadata": {},
     "output_type": "execute_result"
    }
   ],
   "source": [
    "'hi'.join(\"data\")"
   ]
  },
  {
   "cell_type": "code",
   "execution_count": 35,
   "id": "48abdf00-82b6-48c2-99dd-087efcf6bb71",
   "metadata": {},
   "outputs": [
    {
     "data": {
      "text/plain": [
       "'t n a'"
      ]
     },
     "execution_count": 35,
     "metadata": {},
     "output_type": "execute_result"
    }
   ],
   "source": [
    "' '.join(reversed(\"ant\"))"
   ]
  },
  {
   "cell_type": "markdown",
   "id": "b4a6f97e-98d4-4674-9f34-a806499b8a0d",
   "metadata": {},
   "source": [
    "extraction of elements using the join()"
   ]
  },
  {
   "cell_type": "code",
   "execution_count": 36,
   "id": "fd50e882-2af5-44bf-9a7d-6a4ac6175318",
   "metadata": {},
   "outputs": [
    {
     "data": {
      "text/plain": [
       "'e s r u o C s r e t s a M   e c n e i c S   a t a D'"
      ]
     },
     "execution_count": 36,
     "metadata": {},
     "output_type": "execute_result"
    }
   ],
   "source": [
    "' '.join(reversed(str1))"
   ]
  },
  {
   "cell_type": "markdown",
   "id": "ed2b92b7-1156-4ebd-8483-361fb3e0d065",
   "metadata": {},
   "source": [
    "extraction of elements using the loop"
   ]
  },
  {
   "cell_type": "code",
   "execution_count": 37,
   "id": "ee12cdc2-c529-4c42-bb46-a189557ea890",
   "metadata": {},
   "outputs": [
    {
     "name": "stdout",
     "output_type": "stream",
     "text": [
      "esruoCsretsaM ecneicS ataD"
     ]
    }
   ],
   "source": [
    "for i in reversed(str1):\n",
    "    print(i,end='')"
   ]
  },
  {
   "cell_type": "code",
   "execution_count": 38,
   "id": "6548cdc4-d1f0-40a5-b77b-045bd8cb30b3",
   "metadata": {},
   "outputs": [],
   "source": [
    "str2 = ' Data Science '"
   ]
  },
  {
   "cell_type": "code",
   "execution_count": 39,
   "id": "cfdcfd82-c5dc-42a3-8234-7452ce8c9190",
   "metadata": {},
   "outputs": [
    {
     "data": {
      "text/plain": [
       "'Data Science'"
      ]
     },
     "execution_count": 39,
     "metadata": {},
     "output_type": "execute_result"
    }
   ],
   "source": [
    "str2.strip(' ') #it is used to remove starting and ending space"
   ]
  },
  {
   "cell_type": "code",
   "execution_count": 40,
   "id": "cf7b9a41-078d-4bb4-9f75-9479968d8f2b",
   "metadata": {},
   "outputs": [
    {
     "data": {
      "text/plain": [
       "'Data Science '"
      ]
     },
     "execution_count": 40,
     "metadata": {},
     "output_type": "execute_result"
    }
   ],
   "source": [
    "str2.lstrip(' ') #used to remove left space"
   ]
  },
  {
   "cell_type": "code",
   "execution_count": 41,
   "id": "778b1444-52e5-4c3c-a5ec-5c4a07105dd0",
   "metadata": {},
   "outputs": [
    {
     "data": {
      "text/plain": [
       "' Data Science'"
      ]
     },
     "execution_count": 41,
     "metadata": {},
     "output_type": "execute_result"
    }
   ],
   "source": [
    "str2.rstrip(' ') #used to remove the right space"
   ]
  },
  {
   "cell_type": "markdown",
   "id": "a4609720-4a4a-4c39-83c5-8178a59cc318",
   "metadata": {},
   "source": [
    "We know strings are immutable so we cannot replace each characters in the string.\n",
    "But we can maipulate the strings with the words in it but everytime you replace a word in the string a new string is generated"
   ]
  },
  {
   "cell_type": "code",
   "execution_count": 42,
   "id": "1198f7f0-24a6-4683-926e-f35e51460f26",
   "metadata": {},
   "outputs": [],
   "source": [
    "str3 = \"Welcome to Data\"\n",
    "a = \"hi\""
   ]
  },
  {
   "cell_type": "code",
   "execution_count": 43,
   "id": "4d1a9205-66d8-4abd-aafd-563188d8de50",
   "metadata": {},
   "outputs": [],
   "source": [
    "str4 = str3.replace(\"to\",\"from\")\n",
    "b = a"
   ]
  },
  {
   "cell_type": "code",
   "execution_count": 44,
   "id": "65f285cd-9ffe-4ed0-ba0d-b6c4c1509dc0",
   "metadata": {},
   "outputs": [
    {
     "name": "stdout",
     "output_type": "stream",
     "text": [
      "139788888679792\n",
      "139788888679792\n"
     ]
    }
   ],
   "source": [
    "print(id(a))\n",
    "print(id(b))"
   ]
  },
  {
   "cell_type": "code",
   "execution_count": 45,
   "id": "724341e7-18e0-43d5-8e82-fe62ed9dfcf7",
   "metadata": {},
   "outputs": [
    {
     "name": "stdout",
     "output_type": "stream",
     "text": [
      "139788773256880\n",
      "139788842017824\n"
     ]
    }
   ],
   "source": [
    "print(id(str3))\n",
    "print(id(str4))"
   ]
  },
  {
   "cell_type": "markdown",
   "id": "64b434b2-9d3f-40e7-b33d-290fbac242d6",
   "metadata": {},
   "source": [
    "To remove spaces between words in string we can use following steps"
   ]
  },
  {
   "cell_type": "code",
   "execution_count": 46,
   "id": "e27b0d7a-75fb-4504-b633-64f31839f2f7",
   "metadata": {},
   "outputs": [
    {
     "data": {
      "text/plain": [
       "'DataScience'"
      ]
     },
     "execution_count": 46,
     "metadata": {},
     "output_type": "execute_result"
    }
   ],
   "source": [
    "str2.replace(\" \",\"\")"
   ]
  },
  {
   "cell_type": "code",
   "execution_count": 47,
   "id": "1b89d070-0988-4a22-888b-bb58e8ce410c",
   "metadata": {},
   "outputs": [
    {
     "data": {
      "text/plain": [
       "'Welcome to PW Skills.Welcome to Data Science Masters'"
      ]
     },
     "execution_count": 47,
     "metadata": {},
     "output_type": "execute_result"
    }
   ],
   "source": [
    "str1 = \"Welcome to PW Skills.Welcome to Dat cience Masters\"\n",
    "str1.replace(\"Dat\",\"Data\").replace(\"cience\",\"Science\")#we can mutliple replace funtions at a time."
   ]
  },
  {
   "cell_type": "code",
   "execution_count": 48,
   "id": "2b56c5e0-bcd1-4d6d-abc5-23473fa7f106",
   "metadata": {},
   "outputs": [
    {
     "data": {
      "text/plain": [
       "False"
      ]
     },
     "execution_count": 48,
     "metadata": {},
     "output_type": "execute_result"
    }
   ],
   "source": [
    "#to check whether a string is upper case or not\n",
    "str1.isupper()"
   ]
  },
  {
   "cell_type": "code",
   "execution_count": 49,
   "id": "3e52c616-32ca-416f-9d62-122da8db879d",
   "metadata": {},
   "outputs": [],
   "source": [
    "str5 = \"KING\"\n",
    "str6 = \"queen\""
   ]
  },
  {
   "cell_type": "code",
   "execution_count": 50,
   "id": "565fdfad-9e21-4003-8b6b-fdd5df126269",
   "metadata": {},
   "outputs": [
    {
     "name": "stdout",
     "output_type": "stream",
     "text": [
      "True\n",
      "True\n"
     ]
    }
   ],
   "source": [
    "print(str5.isupper()) #returns true if the string contains the characters which are only in upper case\n",
    "print(str6.islower()) #returns true if the string contains the characters which ate only in lower case"
   ]
  },
  {
   "cell_type": "code",
   "execution_count": 51,
   "id": "0f47a6b2-527d-4c7e-a1ba-eb3557a6d207",
   "metadata": {},
   "outputs": [
    {
     "data": {
      "text/plain": [
       "True"
      ]
     },
     "execution_count": 51,
     "metadata": {},
     "output_type": "execute_result"
    }
   ],
   "source": [
    "str7 = \"      \"\n",
    "str7.isspace() #returns true if and only if the string contains only spaces"
   ]
  },
  {
   "cell_type": "code",
   "execution_count": 52,
   "id": "6f48f5f0-ca36-4ebe-87c8-abc1fd669dcf",
   "metadata": {},
   "outputs": [
    {
     "name": "stdout",
     "output_type": "stream",
     "text": [
      "True\n",
      "False\n",
      "True\n"
     ]
    }
   ],
   "source": [
    "#endswith function is used to check whether the string is ending with the given character or not \n",
    "str8 = \"DataScience\"\n",
    "print(str8.endswith('e'))\n",
    "print(str8.endswith('s'))\n",
    "print(str8.startswith('D'))"
   ]
  },
  {
   "cell_type": "markdown",
   "id": "517b15f7-1098-4cf1-9ff0-cb5c7272152a",
   "metadata": {},
   "source": [
    "Printing Reverse of the string using the while loop"
   ]
  },
  {
   "cell_type": "code",
   "execution_count": 53,
   "id": "cfb44ee0-0778-435b-8620-72222d4c82db",
   "metadata": {},
   "outputs": [
    {
     "name": "stdout",
     "output_type": "stream",
     "text": [
      "e\n",
      "c\n",
      "n\n",
      "e\n",
      "i\n",
      "c\n",
      "S\n",
      "a\n",
      "t\n",
      "a\n",
      "D\n"
     ]
    }
   ],
   "source": [
    "k = len(str8)\n",
    "while(k>0):\n",
    "    k = k - 1\n",
    "    print(str8[k])"
   ]
  },
  {
   "cell_type": "markdown",
   "id": "91b732d9-5c67-437e-ac7c-c1c1834d69cf",
   "metadata": {},
   "source": [
    "Printing Reverse of the string using the for loop"
   ]
  },
  {
   "cell_type": "code",
   "execution_count": 54,
   "id": "35a575f6-d702-4f4b-a2ea-3df336a4935c",
   "metadata": {},
   "outputs": [
    {
     "name": "stdout",
     "output_type": "stream",
     "text": [
      "e\n",
      "c\n",
      "n\n",
      "e\n",
      "i\n",
      "c\n",
      "S\n",
      "a\n",
      "t\n",
      "a\n",
      "D\n"
     ]
    }
   ],
   "source": [
    "for i in range(len(str8)-1,-1,-1):\n",
    "    print(str8[i])"
   ]
  },
  {
   "cell_type": "code",
   "execution_count": 55,
   "id": "94d18b1b-388c-46bb-b68d-221f4122b323",
   "metadata": {},
   "outputs": [
    {
     "name": "stdout",
     "output_type": "stream",
     "text": [
      "p is not a vowel\n",
      "w is not a vowel\n",
      "s is not a vowel\n",
      "k is not a vowel\n",
      "i is a vowel\n",
      "l is not a vowel\n",
      "l is not a vowel\n",
      "s is not a vowel\n"
     ]
    }
   ],
   "source": [
    "string = \"pwskills\"\n",
    "vowels = \"AaEeIiOoUu\"\n",
    "for i in string:\n",
    "    if i in vowels:  #The \"in\" keyword is used to check whether a character is prsenet in other string or any strucutres\n",
    "        print(\"{} is a vowel\".format(i))\n",
    "    else:    \n",
    "        print(\"{} is not a vowel\".format(i))"
   ]
  },
  {
   "cell_type": "markdown",
   "id": "341294f8-0451-4799-aae9-0adacc5d75a0",
   "metadata": {},
   "source": [
    "List"
   ]
  },
  {
   "cell_type": "code",
   "execution_count": 56,
   "id": "b430e21e-6cfe-4396-a9ce-bf0ca2e352c0",
   "metadata": {},
   "outputs": [
    {
     "data": {
      "text/plain": [
       "list"
      ]
     },
     "execution_count": 56,
     "metadata": {},
     "output_type": "execute_result"
    }
   ],
   "source": [
    "type([])"
   ]
  },
  {
   "cell_type": "code",
   "execution_count": 57,
   "id": "c32554f3-c1d4-4186-83e2-7a0adb53fb23",
   "metadata": {},
   "outputs": [
    {
     "data": {
      "text/plain": [
       "20"
      ]
     },
     "execution_count": 57,
     "metadata": {},
     "output_type": "execute_result"
    }
   ],
   "source": [
    "li = ['Gowtham','Data Science Master',20]\n",
    "li[2]"
   ]
  },
  {
   "cell_type": "code",
   "execution_count": 58,
   "id": "fb05563a-3c62-4192-bb35-a139e715468e",
   "metadata": {},
   "outputs": [
    {
     "name": "stdout",
     "output_type": "stream",
     "text": [
      "['Gowtham', 'Data Science Master', 19]\n"
     ]
    }
   ],
   "source": [
    "li[2] = 19\n",
    "print(li)"
   ]
  },
  {
   "cell_type": "code",
   "execution_count": 59,
   "id": "d285f485-f6c9-45fe-9322-00f64e71f066",
   "metadata": {},
   "outputs": [
    {
     "data": {
      "text/plain": [
       "int"
      ]
     },
     "execution_count": 59,
     "metadata": {},
     "output_type": "execute_result"
    }
   ],
   "source": [
    "type(li[2])"
   ]
  },
  {
   "cell_type": "code",
   "execution_count": 60,
   "id": "8a1153f1-c5ee-4678-bccb-62c3701b3c8d",
   "metadata": {},
   "outputs": [
    {
     "name": "stdout",
     "output_type": "stream",
     "text": [
      "['D', 'a', 't', 'a', ' ', 'S', 'c', 'i', 'e', 'n', 'c', 'e']\n"
     ]
    },
    {
     "data": {
      "text/plain": [
       "['Data', 'Science']"
      ]
     },
     "execution_count": 60,
     "metadata": {},
     "output_type": "execute_result"
    }
   ],
   "source": [
    "s = 'Data Science'\n",
    "print(list(s))\n",
    "s.split(\" \") #By default split and partition function of string returns list only."
   ]
  },
  {
   "cell_type": "code",
   "execution_count": 61,
   "id": "351626a7-b555-4333-b4f2-b03114ae54a1",
   "metadata": {},
   "outputs": [
    {
     "name": "stdout",
     "output_type": "stream",
     "text": [
      "[1, 2, 3, 1, 3]\n",
      "[1, 2, 3]\n"
     ]
    }
   ],
   "source": [
    "list1 = [1,2,3]\n",
    "print(list1+[1,3])\n",
    "print(list1)"
   ]
  },
  {
   "cell_type": "code",
   "execution_count": 62,
   "id": "cb536710-e4e7-416d-8d78-4da0ca7b3701",
   "metadata": {},
   "outputs": [
    {
     "name": "stdout",
     "output_type": "stream",
     "text": [
      "[1, 2, 3, ['Data', 3]]\n",
      "Data\n"
     ]
    }
   ],
   "source": [
    "list1 = list1 + [['Data',3]]\n",
    "print(list1)\n",
    "print(list1[3][0])"
   ]
  },
  {
   "cell_type": "code",
   "execution_count": 63,
   "id": "a194fb4d-5f3f-4dfd-a94d-cd5d4c0c246b",
   "metadata": {},
   "outputs": [
    {
     "data": {
      "text/plain": [
       "[1, 2, 3, ['Data', 3], 1, 2, 3, ['Data', 3]]"
      ]
     },
     "execution_count": 63,
     "metadata": {},
     "output_type": "execute_result"
    }
   ],
   "source": [
    "list1*2"
   ]
  },
  {
   "cell_type": "code",
   "execution_count": 64,
   "id": "f3a2e95b-7c4c-4437-8212-c1461075f0e9",
   "metadata": {},
   "outputs": [
    {
     "name": "stdout",
     "output_type": "stream",
     "text": [
      "[1, 2, 3, ['Data', 3]]\n",
      "2 is present\n"
     ]
    }
   ],
   "source": [
    "print(list1)\n",
    "#Now check whether element 2 is  present in the list\n",
    "if 2 in list1:\n",
    "    print(\"{} is present\".format(2))"
   ]
  },
  {
   "cell_type": "code",
   "execution_count": 65,
   "id": "c760f8cf-e862-433f-9098-3497f5d8a263",
   "metadata": {},
   "outputs": [
    {
     "name": "stdout",
     "output_type": "stream",
     "text": [
      "2 is present in the list\n"
     ]
    }
   ],
   "source": [
    "for i in range(len(list1)):\n",
    "    if(2 == list1[i]):\n",
    "        print(\"{} is present in the list\".format(2))"
   ]
  },
  {
   "cell_type": "code",
   "execution_count": 66,
   "id": "3fdb42b3-7e1c-4f15-a05a-31daa2c57608",
   "metadata": {},
   "outputs": [
    {
     "data": {
      "text/plain": [
       "True"
      ]
     },
     "execution_count": 66,
     "metadata": {},
     "output_type": "execute_result"
    }
   ],
   "source": [
    "2 in list1"
   ]
  },
  {
   "cell_type": "code",
   "execution_count": 67,
   "id": "4dd42eec-4cb5-4ab8-93b3-b22e80da88e5",
   "metadata": {},
   "outputs": [
    {
     "name": "stdout",
     "output_type": "stream",
     "text": [
      "7\n",
      "gowtham\n",
      "1\n",
      "apple\n"
     ]
    }
   ],
   "source": [
    "list1 = [1,2,3,4,5,6,7]\n",
    "list2 = ['gowtham','good','apple']\n",
    "print(max(list1))\n",
    "print(max(list2)) #since list2 contains strings the pyhton will check first character of every string with high ascii value\n",
    "                  #and if the first characters are similar it checks consequtive until it gets result.\n",
    "print(min(list1))\n",
    "print(min(list2))# viceversa to max"
   ]
  },
  {
   "cell_type": "code",
   "execution_count": 68,
   "id": "7d9dbc7e-ad82-49f0-8bd3-5bd8e9b83cf9",
   "metadata": {},
   "outputs": [
    {
     "name": "stdout",
     "output_type": "stream",
     "text": [
      "[1, 2, 3, 4, 5, 6, 7, 'pwskills']\n"
     ]
    }
   ],
   "source": [
    "list1.append('pwskills') \n",
    "print(list1)"
   ]
  },
  {
   "cell_type": "code",
   "execution_count": 69,
   "id": "c5ff02f9-d17a-4f3b-8ed0-30214307ceab",
   "metadata": {},
   "outputs": [
    {
     "data": {
      "text/plain": [
       "'pwskills'"
      ]
     },
     "execution_count": 69,
     "metadata": {},
     "output_type": "execute_result"
    }
   ],
   "source": [
    "list1.pop()"
   ]
  },
  {
   "cell_type": "code",
   "execution_count": 70,
   "id": "27c012ab-df67-488e-b5d0-205d56658f01",
   "metadata": {},
   "outputs": [
    {
     "name": "stdout",
     "output_type": "stream",
     "text": [
      "5\n",
      "[1, 2, 3, 4, 6, 7]\n"
     ]
    }
   ],
   "source": [
    "print(list1.pop(4))\n",
    "print(list1)"
   ]
  },
  {
   "cell_type": "code",
   "execution_count": 71,
   "id": "8189631a-f9ee-467e-ad79-31a5abf68843",
   "metadata": {},
   "outputs": [],
   "source": [
    "newlist = [1,2,3,'a','b','c']"
   ]
  },
  {
   "cell_type": "code",
   "execution_count": 72,
   "id": "9b6212e1-96aa-4ce8-b2ba-456345b719ca",
   "metadata": {},
   "outputs": [
    {
     "data": {
      "text/plain": [
       "['c', 'b', 'a', 3, 2, 1]"
      ]
     },
     "execution_count": 72,
     "metadata": {},
     "output_type": "execute_result"
    }
   ],
   "source": [
    "newlist[::-1]"
   ]
  },
  {
   "cell_type": "code",
   "execution_count": 73,
   "id": "3b3fa655-a4eb-4996-a49b-d2ffd2ce5425",
   "metadata": {},
   "outputs": [],
   "source": [
    "newlist.reverse() #inplace operation"
   ]
  },
  {
   "cell_type": "code",
   "execution_count": 74,
   "id": "73c951e4-0fb4-4c21-86dd-04f2a4caaedc",
   "metadata": {},
   "outputs": [
    {
     "data": {
      "text/plain": [
       "['c', 'b', 'a', 3, 2, 1]"
      ]
     },
     "execution_count": 74,
     "metadata": {},
     "output_type": "execute_result"
    }
   ],
   "source": [
    "newlist"
   ]
  },
  {
   "cell_type": "code",
   "execution_count": 75,
   "id": "42eee22a-1259-4dbe-9602-59b7e331c08d",
   "metadata": {},
   "outputs": [
    {
     "data": {
      "text/plain": [
       "'A'"
      ]
     },
     "execution_count": 75,
     "metadata": {},
     "output_type": "execute_result"
    }
   ],
   "source": [
    "chr(65) #remember these"
   ]
  },
  {
   "cell_type": "code",
   "execution_count": 76,
   "id": "53b6ae3c-345f-45b1-9d30-c970c5a1d714",
   "metadata": {},
   "outputs": [
    {
     "data": {
      "text/plain": [
       "99"
      ]
     },
     "execution_count": 76,
     "metadata": {},
     "output_type": "execute_result"
    }
   ],
   "source": [
    "ord('c') #remember these"
   ]
  },
  {
   "cell_type": "code",
   "execution_count": 77,
   "id": "d9baade0-7fa6-4b8b-b3bb-1360b275055e",
   "metadata": {},
   "outputs": [],
   "source": [
    "for i in range(len(newlist)):\n",
    "    if(type(newlist[i]) == str):\n",
    "        newlist[i] = ord(newlist[i])"
   ]
  },
  {
   "cell_type": "code",
   "execution_count": 78,
   "id": "b700093a-555e-4ecc-b4a8-4d8dfc485c0b",
   "metadata": {},
   "outputs": [
    {
     "data": {
      "text/plain": [
       "[99, 98, 97, 3, 2, 1]"
      ]
     },
     "execution_count": 78,
     "metadata": {},
     "output_type": "execute_result"
    }
   ],
   "source": [
    "newlist"
   ]
  },
  {
   "cell_type": "code",
   "execution_count": 79,
   "id": "4a7628e5-c84f-416b-af19-447c5afc15ba",
   "metadata": {},
   "outputs": [],
   "source": [
    "newlist.sort()"
   ]
  },
  {
   "cell_type": "code",
   "execution_count": 80,
   "id": "10994480-2dbf-48ea-adfe-2631bdd6279f",
   "metadata": {},
   "outputs": [
    {
     "data": {
      "text/plain": [
       "[1, 2, 3, 97, 98, 99]"
      ]
     },
     "execution_count": 80,
     "metadata": {},
     "output_type": "execute_result"
    }
   ],
   "source": [
    "newlist"
   ]
  },
  {
   "cell_type": "code",
   "execution_count": 81,
   "id": "3fc5c261-ae27-47d8-8edf-437498dd86e1",
   "metadata": {},
   "outputs": [
    {
     "data": {
      "text/plain": [
       "[99, 98, 97, 3, 2, 1]"
      ]
     },
     "execution_count": 81,
     "metadata": {},
     "output_type": "execute_result"
    }
   ],
   "source": [
    "#for descending order\n",
    "newlist.sort(reverse=True)\n",
    "newlist"
   ]
  },
  {
   "cell_type": "markdown",
   "id": "3f89be43-01a3-4e74-aea5-cfe5d19e5e93",
   "metadata": {},
   "source": [
    "Nested List"
   ]
  },
  {
   "cell_type": "code",
   "execution_count": 82,
   "id": "6b1a69aa-b80c-465f-bc43-9468f7fd782f",
   "metadata": {},
   "outputs": [
    {
     "data": {
      "text/plain": [
       "[[1, 2, 3], [4, 5, 6], [7, 8, 9]]"
      ]
     },
     "execution_count": 82,
     "metadata": {},
     "output_type": "execute_result"
    }
   ],
   "source": [
    "l1 = [1,2,3]\n",
    "l2 = [4,5,6]\n",
    "l3 = [7,8,9]\n",
    "\n",
    "matrix = [l1,l2,l3]\n",
    "matrix"
   ]
  },
  {
   "cell_type": "code",
   "execution_count": 83,
   "id": "24147a12-3b0c-4ddd-b62b-96fe113f00ac",
   "metadata": {},
   "outputs": [
    {
     "data": {
      "text/plain": [
       "2"
      ]
     },
     "execution_count": 83,
     "metadata": {},
     "output_type": "execute_result"
    }
   ],
   "source": [
    "#get element 2\n",
    "matrix[0][1]"
   ]
  },
  {
   "cell_type": "code",
   "execution_count": 84,
   "id": "9fe5920c-09e9-401e-a758-1ba8070c9f10",
   "metadata": {},
   "outputs": [
    {
     "data": {
      "text/plain": [
       "[8, 9]"
      ]
     },
     "execution_count": 84,
     "metadata": {},
     "output_type": "execute_result"
    }
   ],
   "source": [
    "#get elements 8,9\n",
    "matrix[2][1:]"
   ]
  },
  {
   "cell_type": "markdown",
   "id": "b64f1635-fa2a-498d-9205-63d63ec0f57c",
   "metadata": {},
   "source": [
    "List Comprehension"
   ]
  },
  {
   "cell_type": "code",
   "execution_count": 85,
   "id": "f3785e40-4a40-491e-92be-b59cd0dd9ef5",
   "metadata": {},
   "outputs": [
    {
     "data": {
      "text/plain": [
       "[0, 1, 2, 3, 4, 5, 6, 7, 8, 9, 10, 11, 12, 13, 14, 15, 16, 17, 18, 19]"
      ]
     },
     "execution_count": 85,
     "metadata": {},
     "output_type": "execute_result"
    }
   ],
   "source": [
    "[i for i in range(20)]"
   ]
  },
  {
   "cell_type": "code",
   "execution_count": 86,
   "id": "b1c50977-0b3d-402b-ba72-354f2545510a",
   "metadata": {},
   "outputs": [
    {
     "data": {
      "text/plain": [
       "[(0, 'is even'),\n",
       " 'odd',\n",
       " (2, 'is even'),\n",
       " 'odd',\n",
       " (4, 'is even'),\n",
       " 'odd',\n",
       " (6, 'is even'),\n",
       " 'odd',\n",
       " (8, 'is even'),\n",
       " 'odd',\n",
       " (10, 'is even'),\n",
       " 'odd',\n",
       " (12, 'is even'),\n",
       " 'odd',\n",
       " (14, 'is even'),\n",
       " 'odd',\n",
       " (16, 'is even'),\n",
       " 'odd',\n",
       " (18, 'is even'),\n",
       " 'odd']"
      ]
     },
     "execution_count": 86,
     "metadata": {},
     "output_type": "execute_result"
    }
   ],
   "source": [
    "[(i,\"is even\") if i%2==0 else \"odd\" for i in range(20)]"
   ]
  },
  {
   "cell_type": "code",
   "execution_count": 87,
   "id": "f00b1249-3ff5-46b2-ae62-92ae0deebe94",
   "metadata": {},
   "outputs": [
    {
     "name": "stdout",
     "output_type": "stream",
     "text": [
      "20\n",
      "16\n"
     ]
    }
   ],
   "source": [
    "li = [1,2,3,4,5,6,7,8]\n",
    "odd = 0\n",
    "even = 0\n",
    "for i in li:\n",
    "    if i%2==0:\n",
    "        even = even + i\n",
    "    else:\n",
    "        odd = odd + i\n",
    "print(even)\n",
    "print(odd)"
   ]
  },
  {
   "cell_type": "markdown",
   "id": "40d944bb-b665-4df1-9f9f-4e646c1bd6d7",
   "metadata": {},
   "source": [
    "Using list comprehension"
   ]
  },
  {
   "cell_type": "markdown",
   "id": "035b312d-c478-45fc-8662-a24cdaffbd75",
   "metadata": {},
   "source": [
    "here we have a drawback in list comprehension that if we try to write the if condition at starting of list then it expects the else block aslo and when you write the if condition in end of the loop it does not expect the else block"
   ]
  },
  {
   "cell_type": "code",
   "execution_count": 88,
   "id": "5bd0dd05-30d3-48eb-91ef-852f57073ef0",
   "metadata": {},
   "outputs": [
    {
     "data": {
      "text/plain": [
       "[1, 2, 3, 4, 5, 6, 7, 8]"
      ]
     },
     "execution_count": 88,
     "metadata": {},
     "output_type": "execute_result"
    }
   ],
   "source": [
    "[i  for i in li ]"
   ]
  },
  {
   "cell_type": "code",
   "execution_count": 89,
   "id": "7cf3f17a-4cf5-4f0d-a743-a3e746614f38",
   "metadata": {},
   "outputs": [
    {
     "data": {
      "text/plain": [
       "[2, 4, 6, 8]"
      ]
     },
     "execution_count": 89,
     "metadata": {},
     "output_type": "execute_result"
    }
   ],
   "source": [
    "#now to get the even numnbers\n",
    "[i  for i in li if i%2==0]"
   ]
  },
  {
   "cell_type": "code",
   "execution_count": 90,
   "id": "a3973531-cd70-4006-afef-bf8094e5ed71",
   "metadata": {},
   "outputs": [
    {
     "name": "stdout",
     "output_type": "stream",
     "text": [
      "20\n"
     ]
    }
   ],
   "source": [
    "#now we can add using\n",
    "even = sum([i  for i in li if i%2==0])\n",
    "print(even)"
   ]
  },
  {
   "cell_type": "code",
   "execution_count": 91,
   "id": "c1481146-0ae1-4530-80cc-ec42f9185496",
   "metadata": {},
   "outputs": [
    {
     "name": "stdout",
     "output_type": "stream",
     "text": [
      "16\n"
     ]
    }
   ],
   "source": [
    "odd = sum([i  for i in li if i%2!=0])\n",
    "print(odd)"
   ]
  },
  {
   "cell_type": "code",
   "execution_count": 92,
   "id": "847dbc7f-01e1-4f9f-b521-0e4e152545cb",
   "metadata": {},
   "outputs": [
    {
     "data": {
      "text/plain": [
       "[1, 4, 9, 16, 25, 36, 49, 64]"
      ]
     },
     "execution_count": 92,
     "metadata": {},
     "output_type": "execute_result"
    }
   ],
   "source": [
    "[i*i for i in li]"
   ]
  },
  {
   "cell_type": "code",
   "execution_count": 93,
   "id": "7eb7ad53-8d1d-4423-b1fc-987d1eac4b2e",
   "metadata": {},
   "outputs": [
    {
     "data": {
      "text/plain": [
       "[0, 1, 2]"
      ]
     },
     "execution_count": 93,
     "metadata": {},
     "output_type": "execute_result"
    }
   ],
   "source": [
    "#create the a list only contianing only the positive numbers\n",
    "num = [-2,-1,0,1,2]\n",
    "[i for i in num if i>=0]"
   ]
  },
  {
   "cell_type": "code",
   "execution_count": 94,
   "id": "ced21206-1edd-4838-af20-bbe0a8911d45",
   "metadata": {},
   "outputs": [
    {
     "data": {
      "text/plain": [
       "['a', 'b', 'c', 'd']"
      ]
     },
     "execution_count": 94,
     "metadata": {},
     "output_type": "execute_result"
    }
   ],
   "source": [
    "name = ['apple','banana','cat','dog'] \n",
    "# [name[i][0][0] for i in range(len(name))] or\n",
    "[i[0] for i in name]"
   ]
  },
  {
   "cell_type": "code",
   "execution_count": 95,
   "id": "7e3c69ac-8fa5-4aca-bfe0-3a02e84a1b6c",
   "metadata": {},
   "outputs": [
    {
     "data": {
      "text/plain": [
       "[89.6, 113.0, 150.8, 113.0, 93.2]"
      ]
     },
     "execution_count": 95,
     "metadata": {},
     "output_type": "execute_result"
    }
   ],
   "source": [
    "temp = [32,45,66,45,34]\n",
    "[((9/5)*i+32) for i in temp]"
   ]
  },
  {
   "cell_type": "code",
   "execution_count": 96,
   "id": "41ebc64c-4a55-45d0-85ba-032b598f4fc1",
   "metadata": {},
   "outputs": [
    {
     "name": "stdout",
     "output_type": "stream",
     "text": [
      "[[1, 2, 3], [4, 5, 6], [7, 8, 9]]\n"
     ]
    },
    {
     "data": {
      "text/plain": [
       "[1, 2, 3, 4, 5, 6, 7, 8, 9]"
      ]
     },
     "execution_count": 96,
     "metadata": {},
     "output_type": "execute_result"
    }
   ],
   "source": [
    "print(matrix) #Flattening the multidimensional list in to single list\n",
    "# [matrix[i][j] for i in range(len(matrix)) for j in range(len(matrix))]\n",
    "# easy method\n",
    "[num for sublist in matrix for num in sublist]"
   ]
  },
  {
   "cell_type": "code",
   "execution_count": 97,
   "id": "cef3fbdf-599b-4539-b0f8-fe76a43d9adf",
   "metadata": {},
   "outputs": [],
   "source": [
    "li = [1,2,3,4,5,6,7,8,9] #make a list which only contiaing prime numbers using list comprehesion\n",
    "li1 = [1,2,3,4] #using list comprehension make the list with combinations of elements"
   ]
  },
  {
   "cell_type": "code",
   "execution_count": 98,
   "id": "9c764fb9-06cf-40fc-8690-c597e4bea7de",
   "metadata": {},
   "outputs": [
    {
     "name": "stdout",
     "output_type": "stream",
     "text": [
      "[2, 3, 5, 7]\n"
     ]
    }
   ],
   "source": [
    "newli = []\n",
    "for i in li:\n",
    "    flag = 0\n",
    "    n=1\n",
    "    while(i>=n):\n",
    "        if(i%n==0):\n",
    "            flag = flag+1\n",
    "        n = n+1\n",
    "    if(flag==2):\n",
    "        newli.append(i)\n",
    "print(newli)        "
   ]
  },
  {
   "cell_type": "markdown",
   "id": "8d5d83d8-da52-48dc-a32f-413f32370c36",
   "metadata": {},
   "source": [
    "li = [1, 2, 3, 4, 5, 6, 7, 8, 9]\n",
    "newli = [i for i in li if sum(1 for n in range(1, i + 1) if i % n == 0) == 2]\n",
    "print(newli)"
   ]
  },
  {
   "cell_type": "code",
   "execution_count": 99,
   "id": "b6a2e1fc-f504-4811-b380-dd190cbee5e2",
   "metadata": {},
   "outputs": [
    {
     "data": {
      "text/plain": [
       "[(1, 1),\n",
       " (1, 2),\n",
       " (1, 3),\n",
       " (1, 4),\n",
       " (2, 1),\n",
       " (2, 2),\n",
       " (2, 3),\n",
       " (2, 4),\n",
       " (3, 1),\n",
       " (3, 2),\n",
       " (3, 3),\n",
       " (3, 4),\n",
       " (4, 1),\n",
       " (4, 2),\n",
       " (4, 3),\n",
       " (4, 4)]"
      ]
     },
     "execution_count": 99,
     "metadata": {},
     "output_type": "execute_result"
    }
   ],
   "source": [
    "[(li1[i],li1[j]) for i in range(len(li1)) for j in range(len(li1))]"
   ]
  },
  {
   "cell_type": "markdown",
   "id": "68394ffc-b102-4784-8fab-5e1daf884618",
   "metadata": {},
   "source": [
    "Tuples #Protip in python use \"Shift+tab\" to know about the funtion and tab to know what kind of funtions available for the data structure"
   ]
  },
  {
   "cell_type": "code",
   "execution_count": 100,
   "id": "84d9eea9-9ae5-400f-810d-82b2a7a3d2e2",
   "metadata": {},
   "outputs": [
    {
     "data": {
      "text/plain": [
       "tuple"
      ]
     },
     "execution_count": 100,
     "metadata": {},
     "output_type": "execute_result"
    }
   ],
   "source": [
    "tup = ()\n",
    "type(tup)"
   ]
  },
  {
   "cell_type": "code",
   "execution_count": 101,
   "id": "6559027d-150b-477c-875c-ba9f2f906791",
   "metadata": {},
   "outputs": [],
   "source": [
    "tup = (1,2,3,4,5,6,7,'gowtham',True)"
   ]
  },
  {
   "cell_type": "code",
   "execution_count": 102,
   "id": "7aaf8c5b-a1ea-4ecf-81b1-ba35b6558716",
   "metadata": {},
   "outputs": [
    {
     "data": {
      "text/plain": [
       "tuple"
      ]
     },
     "execution_count": 102,
     "metadata": {},
     "output_type": "execute_result"
    }
   ],
   "source": [
    "type(tup)"
   ]
  },
  {
   "cell_type": "code",
   "execution_count": 103,
   "id": "b80744a0-0f9e-43da-8141-75d5c5c71d69",
   "metadata": {},
   "outputs": [
    {
     "name": "stdout",
     "output_type": "stream",
     "text": [
      "1\n",
      "gowtham\n"
     ]
    }
   ],
   "source": [
    "print(tup[0])\n",
    "print(tup[7])"
   ]
  },
  {
   "cell_type": "code",
   "execution_count": 104,
   "id": "df69b347-1566-43bd-af6b-b0bbe3018a5f",
   "metadata": {},
   "outputs": [
    {
     "data": {
      "text/plain": [
       "(True, 'gowtham', 7, 6, 5, 4, 3, 2, 1)"
      ]
     },
     "execution_count": 104,
     "metadata": {},
     "output_type": "execute_result"
    }
   ],
   "source": [
    "tup[::-1]"
   ]
  },
  {
   "cell_type": "code",
   "execution_count": 105,
   "id": "9ea7f73b-c728-48f0-a00c-c670a93393b9",
   "metadata": {},
   "outputs": [
    {
     "data": {
      "text/plain": [
       "(1, 2, 3)"
      ]
     },
     "execution_count": 105,
     "metadata": {},
     "output_type": "execute_result"
    }
   ],
   "source": [
    "tup[:3]"
   ]
  },
  {
   "cell_type": "code",
   "execution_count": 106,
   "id": "e43ab1ff-9210-4d13-b404-853d8c7e4ded",
   "metadata": {},
   "outputs": [
    {
     "data": {
      "text/plain": [
       "(1, 2, 3, 4, 5, 6, 7, 8, 9, 10)"
      ]
     },
     "execution_count": 106,
     "metadata": {},
     "output_type": "execute_result"
    }
   ],
   "source": [
    "tup = (1,2,3,4,5,6,7)\n",
    "tup1 = (8,9,10)\n",
    "tup + tup1"
   ]
  },
  {
   "cell_type": "code",
   "execution_count": 107,
   "id": "3d320255-4481-42a8-a838-de151c7df5a4",
   "metadata": {},
   "outputs": [
    {
     "data": {
      "text/plain": [
       "1"
      ]
     },
     "execution_count": 107,
     "metadata": {},
     "output_type": "execute_result"
    }
   ],
   "source": [
    "tup.count(7)"
   ]
  },
  {
   "cell_type": "code",
   "execution_count": 108,
   "id": "25658e33-83c6-450a-a7b9-e7379fc2a57a",
   "metadata": {},
   "outputs": [
    {
     "data": {
      "text/plain": [
       "6"
      ]
     },
     "execution_count": 108,
     "metadata": {},
     "output_type": "execute_result"
    }
   ],
   "source": [
    "tup.index(7) #Return the first index of the value."
   ]
  },
  {
   "cell_type": "markdown",
   "id": "046d6d16-8d57-46d8-8d98-6b2242dd4271",
   "metadata": {},
   "source": [
    "Tuples are immutable so reassignment is not possible here."
   ]
  },
  {
   "cell_type": "code",
   "execution_count": 109,
   "id": "29ea1ef2-c78e-47b4-b3cf-512dbf44cbe6",
   "metadata": {},
   "outputs": [
    {
     "name": "stdout",
     "output_type": "stream",
     "text": [
      "1 <class 'int'>\n",
      "2 <class 'int'>\n",
      "3 <class 'int'>\n",
      "4 <class 'int'>\n",
      "5 <class 'int'>\n",
      "6 <class 'int'>\n",
      "7 <class 'int'>\n"
     ]
    }
   ],
   "source": [
    "#extraction of data from the tuple\n",
    "for i in tup:\n",
    "    print(i,type(i))"
   ]
  },
  {
   "cell_type": "code",
   "execution_count": 110,
   "id": "d87e01f4-5603-424d-be3f-8658c31372b0",
   "metadata": {},
   "outputs": [
    {
     "data": {
      "text/plain": [
       "(1, 2, 3, 4, 5, 6, 7, 1, 2, 3, 4, 5, 6, 7)"
      ]
     },
     "execution_count": 110,
     "metadata": {},
     "output_type": "execute_result"
    }
   ],
   "source": [
    "tup*2"
   ]
  },
  {
   "cell_type": "code",
   "execution_count": 111,
   "id": "6a205267-832c-4d5b-a66d-85e38045e314",
   "metadata": {},
   "outputs": [
    {
     "name": "stdout",
     "output_type": "stream",
     "text": [
      "45\n",
      "1\n"
     ]
    }
   ],
   "source": [
    "tup1 = (1,2,34,45,5)\n",
    "print(max(tup1))\n",
    "print(min(tup1))"
   ]
  },
  {
   "cell_type": "code",
   "execution_count": 112,
   "id": "5bbaba31-2632-4871-9c12-515cf16c4648",
   "metadata": {},
   "outputs": [],
   "source": [
    "del tup1"
   ]
  },
  {
   "cell_type": "code",
   "execution_count": 113,
   "id": "af02f3fb-58ef-4941-85ff-4aff7accb9cf",
   "metadata": {},
   "outputs": [
    {
     "ename": "NameError",
     "evalue": "name 'tup1' is not defined",
     "output_type": "error",
     "traceback": [
      "\u001b[0;31m---------------------------------------------------------------------------\u001b[0m",
      "\u001b[0;31mNameError\u001b[0m                                 Traceback (most recent call last)",
      "Cell \u001b[0;32mIn[113], line 1\u001b[0m\n\u001b[0;32m----> 1\u001b[0m \u001b[43mtup1\u001b[49m \u001b[38;5;66;03m#tuple tup1 is deleted.\u001b[39;00m\n",
      "\u001b[0;31mNameError\u001b[0m: name 'tup1' is not defined"
     ]
    }
   ],
   "source": [
    "tup1 #tuple tup1 is deleted."
   ]
  },
  {
   "cell_type": "code",
   "execution_count": null,
   "id": "3db0c5d1-a41c-4aaa-a757-f1bd583d240f",
   "metadata": {},
   "outputs": [],
   "source": [
    "len(tup)"
   ]
  },
  {
   "cell_type": "code",
   "execution_count": 114,
   "id": "31269215-872e-4678-b8db-9d47a49fa6d8",
   "metadata": {},
   "outputs": [],
   "source": [
    "t2 = (1,2,3,4)\n",
    "t1 = [1,2,3,4]\n",
    "tup = (t1,t2)"
   ]
  },
  {
   "cell_type": "code",
   "execution_count": 115,
   "id": "62c5195d-c387-42ee-9e5f-f8047004f394",
   "metadata": {},
   "outputs": [
    {
     "data": {
      "text/plain": [
       "([1, 2, 3, 4], (1, 2, 3, 4))"
      ]
     },
     "execution_count": 115,
     "metadata": {},
     "output_type": "execute_result"
    }
   ],
   "source": [
    "tup"
   ]
  },
  {
   "cell_type": "code",
   "execution_count": 116,
   "id": "8dfd4997-5d33-4d1f-aedc-c9808a3a8378",
   "metadata": {},
   "outputs": [],
   "source": [
    "tup[0][3] = 5 #we can change the values in a tuple if it contains mutable objects like list in it."
   ]
  },
  {
   "cell_type": "code",
   "execution_count": 117,
   "id": "4c45ce50-72af-4066-ba82-f9b2b3a6107c",
   "metadata": {},
   "outputs": [
    {
     "data": {
      "text/plain": [
       "([1, 2, 3, 5], (1, 2, 3, 4))"
      ]
     },
     "execution_count": 117,
     "metadata": {},
     "output_type": "execute_result"
    }
   ],
   "source": [
    "tup"
   ]
  },
  {
   "cell_type": "code",
   "execution_count": 118,
   "id": "466a6e05-828f-44eb-81a3-8cd62be49e6f",
   "metadata": {},
   "outputs": [],
   "source": [
    "l = [1,2,3,(1,2,3)]"
   ]
  },
  {
   "cell_type": "code",
   "execution_count": 119,
   "id": "270fb53a-cd19-4c93-8ec5-9b596d110c3e",
   "metadata": {},
   "outputs": [
    {
     "data": {
      "text/plain": [
       "[1, 2, 3, (1, 2, 3)]"
      ]
     },
     "execution_count": 119,
     "metadata": {},
     "output_type": "execute_result"
    }
   ],
   "source": [
    "l\n"
   ]
  },
  {
   "cell_type": "code",
   "execution_count": 120,
   "id": "55efc955-5a22-444f-86f9-0698b7300d79",
   "metadata": {},
   "outputs": [
    {
     "ename": "TypeError",
     "evalue": "'tuple' object does not support item assignment",
     "output_type": "error",
     "traceback": [
      "\u001b[0;31m---------------------------------------------------------------------------\u001b[0m",
      "\u001b[0;31mTypeError\u001b[0m                                 Traceback (most recent call last)",
      "Cell \u001b[0;32mIn[120], line 1\u001b[0m\n\u001b[0;32m----> 1\u001b[0m \u001b[43ml\u001b[49m\u001b[43m[\u001b[49m\u001b[38;5;241;43m3\u001b[39;49m\u001b[43m]\u001b[49m\u001b[43m[\u001b[49m\u001b[38;5;241;43m0\u001b[39;49m\u001b[43m]\u001b[49m \u001b[38;5;241m=\u001b[39m \u001b[38;5;241m5\u001b[39m \u001b[38;5;66;03m#we can not change values in the tuple even it is in the mutable object\u001b[39;00m\n",
      "\u001b[0;31mTypeError\u001b[0m: 'tuple' object does not support item assignment"
     ]
    }
   ],
   "source": [
    "l[3][0] = 5 #we can not change values in the tuple even it is in the mutable object"
   ]
  },
  {
   "cell_type": "markdown",
   "id": "182cfae4-708b-4c91-9916-633514879e73",
   "metadata": {},
   "source": [
    "Sets"
   ]
  },
  {
   "cell_type": "code",
   "execution_count": 121,
   "id": "dc361cc4-9925-48e9-8875-26b106ccd711",
   "metadata": {},
   "outputs": [
    {
     "data": {
      "text/plain": [
       "dict"
      ]
     },
     "execution_count": 121,
     "metadata": {},
     "output_type": "execute_result"
    }
   ],
   "source": [
    "type({})"
   ]
  },
  {
   "cell_type": "code",
   "execution_count": 122,
   "id": "384d744b-aef7-4878-87a0-0017b05f7fc5",
   "metadata": {},
   "outputs": [
    {
     "data": {
      "text/plain": [
       "dict"
      ]
     },
     "execution_count": 122,
     "metadata": {},
     "output_type": "execute_result"
    }
   ],
   "source": [
    "s1 = {} #curly braces with no elements is considered as a dictionary \n",
    "type(s1)"
   ]
  },
  {
   "cell_type": "code",
   "execution_count": 123,
   "id": "4984760c-2d05-4376-85e2-8f21bd905fba",
   "metadata": {},
   "outputs": [
    {
     "data": {
      "text/plain": [
       "set"
      ]
     },
     "execution_count": 123,
     "metadata": {},
     "output_type": "execute_result"
    }
   ],
   "source": [
    "s1 = {1,2,3,4} #curly braces with values is considered as a set\n",
    "type(s1)"
   ]
  },
  {
   "cell_type": "code",
   "execution_count": 124,
   "id": "e8bdf783-0ef1-4c1f-929f-a6865e6fac3f",
   "metadata": {},
   "outputs": [
    {
     "data": {
      "text/plain": [
       "{2, 4, 5, 6, 7}"
      ]
     },
     "execution_count": 124,
     "metadata": {},
     "output_type": "execute_result"
    }
   ],
   "source": [
    "s1 = {5,2,4,4,6,7,7,4,7,7,7,7,5,7,7,7,7,7,7,6,7}\n",
    "s1 #set is a kind of data structure which is used to store the data and it ensures that data is unique and does not have any duplicates in it"
   ]
  },
  {
   "cell_type": "code",
   "execution_count": 125,
   "id": "3a38e6e4-e981-4aee-9907-dbaeebe29d70",
   "metadata": {},
   "outputs": [
    {
     "data": {
      "text/plain": [
       "{2, 4, 5, 6, 7}"
      ]
     },
     "execution_count": 125,
     "metadata": {},
     "output_type": "execute_result"
    }
   ],
   "source": [
    "s1"
   ]
  },
  {
   "cell_type": "code",
   "execution_count": 126,
   "id": "67b33f58-c10a-489f-886a-569de458e82c",
   "metadata": {},
   "outputs": [
    {
     "ename": "TypeError",
     "evalue": "'set' object does not support item assignment",
     "output_type": "error",
     "traceback": [
      "\u001b[0;31m---------------------------------------------------------------------------\u001b[0m",
      "\u001b[0;31mTypeError\u001b[0m                                 Traceback (most recent call last)",
      "Cell \u001b[0;32mIn[126], line 1\u001b[0m\n\u001b[0;32m----> 1\u001b[0m \u001b[43ms1\u001b[49m\u001b[43m[\u001b[49m\u001b[38;5;241;43m0\u001b[39;49m\u001b[43m]\u001b[49m \u001b[38;5;241m=\u001b[39m \u001b[38;5;241m9\u001b[39m \u001b[38;5;66;03m#generates error beacuse sets are immutable\u001b[39;00m\n",
      "\u001b[0;31mTypeError\u001b[0m: 'set' object does not support item assignment"
     ]
    }
   ],
   "source": [
    "s1[0] = 9 #generates error beacuse sets are immutable"
   ]
  },
  {
   "cell_type": "code",
   "execution_count": 127,
   "id": "bf802a0c-c9a1-4025-9cc4-bbbab313e064",
   "metadata": {},
   "outputs": [
    {
     "ename": "TypeError",
     "evalue": "unhashable type: 'list'",
     "output_type": "error",
     "traceback": [
      "\u001b[0;31m---------------------------------------------------------------------------\u001b[0m",
      "\u001b[0;31mTypeError\u001b[0m                                 Traceback (most recent call last)",
      "Cell \u001b[0;32mIn[127], line 2\u001b[0m\n\u001b[1;32m      1\u001b[0m \u001b[38;5;66;03m#since set is a collection of data lets try some combinations\u001b[39;00m\n\u001b[0;32m----> 2\u001b[0m s1 \u001b[38;5;241m=\u001b[39m {\u001b[38;5;241m1\u001b[39m,\u001b[38;5;241m2\u001b[39m,\u001b[38;5;241m4\u001b[39m,\u001b[38;5;241m5\u001b[39m,[\u001b[38;5;241m1\u001b[39m,\u001b[38;5;241m2\u001b[39m,\u001b[38;5;241m4\u001b[39m,\u001b[38;5;241m5\u001b[39m,\u001b[38;5;241m5\u001b[39m]} \u001b[38;5;66;03m#The Set does not accept list as its data because the list can have capability of changing data so set dont accept it.\u001b[39;00m\n",
      "\u001b[0;31mTypeError\u001b[0m: unhashable type: 'list'"
     ]
    }
   ],
   "source": [
    "#since set is a collection of data lets try some combinations\n",
    "s1 = {1,2,4,5,[1,2,4,5,5]} #The Set does not accept list as its data because the list can have capability of changing data so set dont accept it."
   ]
  },
  {
   "cell_type": "code",
   "execution_count": 128,
   "id": "0595a5fe-03a6-428b-ac6d-ec0b741935f4",
   "metadata": {},
   "outputs": [
    {
     "data": {
      "text/plain": [
       "{(1, 2), 1, 2, 4, 5}"
      ]
     },
     "execution_count": 128,
     "metadata": {},
     "output_type": "execute_result"
    }
   ],
   "source": [
    "s1 = {1,2,4,5,(1,2)}\n",
    "s1 #other good feature of set is it automatically sorts the data and by seeing following examples you can understand how it is sorting and removing duplicates"
   ]
  },
  {
   "cell_type": "code",
   "execution_count": 129,
   "id": "8489d76e-3fbc-4c86-a137-3e51b820431e",
   "metadata": {},
   "outputs": [
    {
     "data": {
      "text/plain": [
       "{1, 2, 3, 4}"
      ]
     },
     "execution_count": 129,
     "metadata": {},
     "output_type": "execute_result"
    }
   ],
   "source": [
    "s1 = {1,2,3,4,(1),(2),(3)}\n",
    "s1"
   ]
  },
  {
   "cell_type": "code",
   "execution_count": 130,
   "id": "78a4c42c-94d9-4ee5-8669-d90dfefacdfc",
   "metadata": {},
   "outputs": [
    {
     "data": {
      "text/plain": [
       "{(1, 2), 1, 2, 4, 5, 6}"
      ]
     },
     "execution_count": 130,
     "metadata": {},
     "output_type": "execute_result"
    }
   ],
   "source": [
    "s1 = {1,2,5,6,4,5,(1,2)}\n",
    "s1"
   ]
  },
  {
   "cell_type": "code",
   "execution_count": 131,
   "id": "84561b79-e7f9-4fa9-a93a-edc467626b42",
   "metadata": {},
   "outputs": [
    {
     "ename": "TypeError",
     "evalue": "'set' object is not subscriptable",
     "output_type": "error",
     "traceback": [
      "\u001b[0;31m---------------------------------------------------------------------------\u001b[0m",
      "\u001b[0;31mTypeError\u001b[0m                                 Traceback (most recent call last)",
      "Cell \u001b[0;32mIn[131], line 1\u001b[0m\n\u001b[0;32m----> 1\u001b[0m \u001b[43ms1\u001b[49m\u001b[43m[\u001b[49m\u001b[38;5;241;43m0\u001b[39;49m\u001b[43m]\u001b[49m \u001b[38;5;66;03m# sets does not support indexing.\u001b[39;00m\n",
      "\u001b[0;31mTypeError\u001b[0m: 'set' object is not subscriptable"
     ]
    }
   ],
   "source": [
    "s1[0] # sets does not support indexing."
   ]
  },
  {
   "cell_type": "code",
   "execution_count": 132,
   "id": "417b3d6d-2c8d-4be6-8767-bf1f154e714f",
   "metadata": {},
   "outputs": [
    {
     "ename": "TypeError",
     "evalue": "'set' object is not subscriptable",
     "output_type": "error",
     "traceback": [
      "\u001b[0;31m---------------------------------------------------------------------------\u001b[0m",
      "\u001b[0;31mTypeError\u001b[0m                                 Traceback (most recent call last)",
      "Cell \u001b[0;32mIn[132], line 1\u001b[0m\n\u001b[0;32m----> 1\u001b[0m \u001b[43ms1\u001b[49m\u001b[43m[\u001b[49m\u001b[43m:\u001b[49m\u001b[43m:\u001b[49m\u001b[38;5;241;43m-\u001b[39;49m\u001b[38;5;241;43m1\u001b[39;49m\u001b[43m]\u001b[49m \u001b[38;5;66;03m#sets does not support slicing also\u001b[39;00m\n",
      "\u001b[0;31mTypeError\u001b[0m: 'set' object is not subscriptable"
     ]
    }
   ],
   "source": [
    "s1[::-1] #sets does not support slicing also"
   ]
  },
  {
   "cell_type": "markdown",
   "id": "8b71c5b1-a69c-474a-be78-edc619129149",
   "metadata": {},
   "source": [
    "This is because unlike the tuples and the lists the sets does not store the data in a ordered way (or) sequential order  and it uses the hashing concept to store so indexing is not worked in sets.But we can convert the set into lists and tuples and use them , we can also convert lists,tuples into the set"
   ]
  },
  {
   "cell_type": "code",
   "execution_count": 133,
   "id": "1d41a3c8-12e7-495a-9ed4-f46e6e1a71bc",
   "metadata": {},
   "outputs": [
    {
     "name": "stdout",
     "output_type": "stream",
     "text": [
      "{1, 2, (1, 2), 4, 5, 6}\n"
     ]
    },
    {
     "data": {
      "text/plain": [
       "set"
      ]
     },
     "execution_count": 133,
     "metadata": {},
     "output_type": "execute_result"
    }
   ],
   "source": [
    "print(s1)\n",
    "type(s1)"
   ]
  },
  {
   "cell_type": "code",
   "execution_count": 134,
   "id": "4f417cea-b8f7-4c8f-8543-90a49af68718",
   "metadata": {},
   "outputs": [
    {
     "name": "stdout",
     "output_type": "stream",
     "text": [
      "[1, 2, (1, 2), 4, 5, 6] <class 'list'>\n"
     ]
    }
   ],
   "source": [
    "l1 = list(s1)\n",
    "print(l1,type(l1))"
   ]
  },
  {
   "cell_type": "code",
   "execution_count": 135,
   "id": "c2be2dad-6856-4275-8543-ee53c890a298",
   "metadata": {},
   "outputs": [
    {
     "name": "stdout",
     "output_type": "stream",
     "text": [
      "(1, 2, (1, 2), 4, 5, 6) <class 'tuple'>\n"
     ]
    }
   ],
   "source": [
    "t1 = tuple(s1)\n",
    "print(t1,type(t1))"
   ]
  },
  {
   "cell_type": "code",
   "execution_count": 136,
   "id": "da1efc66-0384-4815-aee7-2ad50ddabde8",
   "metadata": {},
   "outputs": [
    {
     "data": {
      "text/plain": [
       "{(1, 2), 1, 2, 4, 5, 6}"
      ]
     },
     "execution_count": 136,
     "metadata": {},
     "output_type": "execute_result"
    }
   ],
   "source": [
    "s2 = set(l1)\n",
    "s2"
   ]
  },
  {
   "cell_type": "code",
   "execution_count": 137,
   "id": "3ebedd0f-3bfb-4435-a2c2-dc53bc471b12",
   "metadata": {},
   "outputs": [
    {
     "data": {
      "text/plain": [
       "{(1, 2), 1, 2, 4, 5, 6}"
      ]
     },
     "execution_count": 137,
     "metadata": {},
     "output_type": "execute_result"
    }
   ],
   "source": [
    "s3 = set(t1)\n",
    "s3"
   ]
  },
  {
   "cell_type": "code",
   "execution_count": 138,
   "id": "84e60422-b3df-4789-b332-53f57b02ed28",
   "metadata": {},
   "outputs": [
    {
     "name": "stdout",
     "output_type": "stream",
     "text": [
      "139788773468512\n",
      "139788773466496\n",
      "139788773469632\n"
     ]
    }
   ],
   "source": [
    "print(id(s1))\n",
    "print(id(s2))\n",
    "print(id(s3))"
   ]
  },
  {
   "cell_type": "markdown",
   "id": "1310d613-26d6-456c-b0ca-571e3ea1650d",
   "metadata": {},
   "source": [
    "Funtions in set #tip write set. and press\"tab\" to know all the funtions in it"
   ]
  },
  {
   "cell_type": "code",
   "execution_count": 139,
   "id": "1427c458-d9dc-431f-8ed6-a0eb5b82be97",
   "metadata": {},
   "outputs": [
    {
     "data": {
      "text/plain": [
       "{1, 2, 4, 5, 6}"
      ]
     },
     "execution_count": 139,
     "metadata": {},
     "output_type": "execute_result"
    }
   ],
   "source": [
    "s1 = { 2, 4, 5, 1, 6}\n",
    "s1"
   ]
  },
  {
   "cell_type": "code",
   "execution_count": 140,
   "id": "bd2cc19b-af47-427c-b44b-9c2755dc71da",
   "metadata": {},
   "outputs": [
    {
     "data": {
      "text/plain": [
       "{1, 2, 4, 5, 6, 56}"
      ]
     },
     "execution_count": 140,
     "metadata": {},
     "output_type": "execute_result"
    }
   ],
   "source": [
    "s1.add(56) #adds element\n",
    "s1"
   ]
  },
  {
   "cell_type": "code",
   "execution_count": 141,
   "id": "957f43ca-e843-4063-b45b-f2541d73ee55",
   "metadata": {},
   "outputs": [
    {
     "name": "stdout",
     "output_type": "stream",
     "text": [
      "None\n"
     ]
    },
    {
     "data": {
      "text/plain": [
       "{1, 2, 4, 5, 6}"
      ]
     },
     "execution_count": 141,
     "metadata": {},
     "output_type": "execute_result"
    }
   ],
   "source": [
    "x = s1.remove(56) #the removed element is not able to stored in varaible when we remove() funtion but it allows us to choose to remove which element\n",
    "print(x) \n",
    "s1"
   ]
  },
  {
   "cell_type": "code",
   "execution_count": 142,
   "id": "ed8504b6-27e5-424e-8323-2b34ff9154ea",
   "metadata": {},
   "outputs": [
    {
     "name": "stdout",
     "output_type": "stream",
     "text": [
      "1\n",
      "{2, 4, 5, 6}\n"
     ]
    }
   ],
   "source": [
    "x = s1.pop() # it allows us to store element after poping it but there is no choice to remove specific element when we pop() funtion\n",
    "print(x)  #it pops first element from the set \n",
    "print(s1)"
   ]
  },
  {
   "cell_type": "code",
   "execution_count": 143,
   "id": "cf0346ef-af78-4c88-a920-aea71a8dc066",
   "metadata": {},
   "outputs": [],
   "source": [
    "s2 = {1,2,3,(1,2,3)}"
   ]
  },
  {
   "cell_type": "code",
   "execution_count": 144,
   "id": "7c10c24f-68b9-49a6-b9c9-7e68b44fc828",
   "metadata": {},
   "outputs": [
    {
     "data": {
      "text/plain": [
       "{(1, 2, 3), 2, 3}"
      ]
     },
     "execution_count": 144,
     "metadata": {},
     "output_type": "execute_result"
    }
   ],
   "source": [
    "s2.pop()\n",
    "s2"
   ]
  },
  {
   "cell_type": "code",
   "execution_count": 145,
   "id": "9d59d1ec-9025-428d-a6ae-4b028d0d59b6",
   "metadata": {},
   "outputs": [],
   "source": [
    "s3 = {1,2,3,(1)} # it makes the set as {1,2,3} becuse it considers (1) as duplicate"
   ]
  },
  {
   "cell_type": "code",
   "execution_count": 146,
   "id": "4ae96003-15a0-4bcb-a745-127adc2e97fe",
   "metadata": {},
   "outputs": [
    {
     "name": "stdout",
     "output_type": "stream",
     "text": [
      "1\n"
     ]
    },
    {
     "data": {
      "text/plain": [
       "{2, 3}"
      ]
     },
     "execution_count": 146,
     "metadata": {},
     "output_type": "execute_result"
    }
   ],
   "source": [
    "print(s3.pop())\n",
    "s3"
   ]
  },
  {
   "cell_type": "code",
   "execution_count": 147,
   "id": "ddd9163e-66a8-4747-90af-51ef9664fbc2",
   "metadata": {},
   "outputs": [],
   "source": [
    "s4 = {1,2,3,(1,2)}\n"
   ]
  },
  {
   "cell_type": "code",
   "execution_count": 148,
   "id": "264f6b9a-8d57-481b-b74c-6eac3603648b",
   "metadata": {},
   "outputs": [
    {
     "name": "stdout",
     "output_type": "stream",
     "text": [
      "3\n"
     ]
    },
    {
     "data": {
      "text/plain": [
       "{(1, 2), 1, 2}"
      ]
     },
     "execution_count": 148,
     "metadata": {},
     "output_type": "execute_result"
    }
   ],
   "source": [
    "print(s4.pop())\n",
    "s4"
   ]
  },
  {
   "cell_type": "code",
   "execution_count": 149,
   "id": "837fa61b-bbd3-4ea9-8d9a-bf75d91af44f",
   "metadata": {},
   "outputs": [
    {
     "name": "stdout",
     "output_type": "stream",
     "text": [
      "1\n",
      "2\n",
      "3\n",
      "4\n",
      "5\n",
      "6\n",
      "7\n",
      "(4, 5)\n"
     ]
    }
   ],
   "source": [
    "s5 = {1,2,3,(4,5),4,5,6,7}\n",
    "#we can extract the data from the set using for loop\n",
    "for i in s5:\n",
    "    print(i)"
   ]
  },
  {
   "cell_type": "code",
   "execution_count": 150,
   "id": "4f128c27-0c56-4380-a638-c7fb3cb645d7",
   "metadata": {},
   "outputs": [],
   "source": [
    "s5.clear() #delets all elements in set."
   ]
  },
  {
   "cell_type": "code",
   "execution_count": 151,
   "id": "fe025fa4-0b5c-44fc-84d0-a80c60e56fc9",
   "metadata": {},
   "outputs": [
    {
     "data": {
      "text/plain": [
       "set()"
      ]
     },
     "execution_count": 151,
     "metadata": {},
     "output_type": "execute_result"
    }
   ],
   "source": [
    "s5"
   ]
  },
  {
   "cell_type": "code",
   "execution_count": 152,
   "id": "b58de71d-e4f2-419a-b40f-78e5e78d132a",
   "metadata": {},
   "outputs": [
    {
     "data": {
      "text/plain": [
       "{4}"
      ]
     },
     "execution_count": 152,
     "metadata": {},
     "output_type": "execute_result"
    }
   ],
   "source": [
    "s5 = {1,2,3,4}\n",
    "s6 = {1,2,3,5}\n",
    "s5.difference(s6) #its just like setA - setB in maths"
   ]
  },
  {
   "cell_type": "code",
   "execution_count": 153,
   "id": "70bf483d-5f8e-474c-b75c-260152ec9dfa",
   "metadata": {},
   "outputs": [
    {
     "data": {
      "text/plain": [
       "{5}"
      ]
     },
     "execution_count": 153,
     "metadata": {},
     "output_type": "execute_result"
    }
   ],
   "source": [
    "s5 = {1,2,3,4}\n",
    "s6 = {1,2,3,5}\n",
    "s6.difference(s5) #its just like setB - setA in maths"
   ]
  },
  {
   "cell_type": "markdown",
   "id": "8b1daf1c-48ec-427c-ac49-fb9fa253cc17",
   "metadata": {},
   "source": [
    "Dictionary"
   ]
  },
  {
   "cell_type": "code",
   "execution_count": 154,
   "id": "65a9ea15-8095-485d-a24a-daa9f57a560f",
   "metadata": {},
   "outputs": [],
   "source": [
    "d = {}"
   ]
  },
  {
   "cell_type": "code",
   "execution_count": 155,
   "id": "ab68ea47-516f-4582-a97f-3d4a4a42bfcf",
   "metadata": {},
   "outputs": [
    {
     "data": {
      "text/plain": [
       "dict"
      ]
     },
     "execution_count": 155,
     "metadata": {},
     "output_type": "execute_result"
    }
   ],
   "source": [
    "type(d)"
   ]
  },
  {
   "cell_type": "code",
   "execution_count": 156,
   "id": "f820df25-7a19-45bd-bd96-966a05814bb8",
   "metadata": {},
   "outputs": [],
   "source": [
    "d = {\"id\":\"57\",\"name\":\"gowtham\",\"age\":\"25\"}"
   ]
  },
  {
   "cell_type": "code",
   "execution_count": 157,
   "id": "da0ed4f0-a653-4dff-9bbe-1c6039f822d4",
   "metadata": {},
   "outputs": [
    {
     "data": {
      "text/plain": [
       "{'id': '57', 'name': 'gowtham', 'age': '25'}"
      ]
     },
     "execution_count": 157,
     "metadata": {},
     "output_type": "execute_result"
    }
   ],
   "source": [
    "d"
   ]
  },
  {
   "cell_type": "markdown",
   "id": "0c2532de-c9c3-40df-8530-8f9be7c99096",
   "metadata": {},
   "source": [
    "Now lets check what are different types we can assign as keys"
   ]
  },
  {
   "cell_type": "code",
   "execution_count": 158,
   "id": "6772ac5d-e22b-49b5-b969-3d3d9a1ed418",
   "metadata": {},
   "outputs": [],
   "source": [
    "d1 = {12 : \"x\"} # numbers are accepted as keys"
   ]
  },
  {
   "cell_type": "code",
   "execution_count": 159,
   "id": "b64d2518-f8fa-45cc-8a3f-9243278c7fde",
   "metadata": {},
   "outputs": [],
   "source": [
    "d = {1.1:\"x\"}  # float are accepted as keys"
   ]
  },
  {
   "cell_type": "code",
   "execution_count": 160,
   "id": "f835308e-24b2-41b0-86d6-1dc2c8cea764",
   "metadata": {},
   "outputs": [],
   "source": [
    "d = {True:\"x\"}  # Boolean are accepted as keys"
   ]
  },
  {
   "cell_type": "code",
   "execution_count": 161,
   "id": "45d4caa4-e8b9-4f93-a588-3b8cca5d8c56",
   "metadata": {},
   "outputs": [],
   "source": [
    "d = {'c':\"x\"}  # character are accepted as keys"
   ]
  },
  {
   "cell_type": "code",
   "execution_count": 162,
   "id": "1d53a6a5-e779-40a0-98d2-b7683dfa0aba",
   "metadata": {},
   "outputs": [],
   "source": [
    "d = {\"str\":\"x\"}  # strings are accepted as keys"
   ]
  },
  {
   "cell_type": "code",
   "execution_count": 163,
   "id": "d62c9d93-e482-4628-86b8-515100a7b526",
   "metadata": {},
   "outputs": [],
   "source": [
    "d = { 1+2j : \"x\"}  # complex number are accepted as keys"
   ]
  },
  {
   "cell_type": "code",
   "execution_count": 164,
   "id": "fb71514e-d37a-4d2c-a8f2-5224afcd8450",
   "metadata": {},
   "outputs": [
    {
     "ename": "TypeError",
     "evalue": "unhashable type: 'dict'",
     "output_type": "error",
     "traceback": [
      "\u001b[0;31m---------------------------------------------------------------------------\u001b[0m",
      "\u001b[0;31mTypeError\u001b[0m                                 Traceback (most recent call last)",
      "Cell \u001b[0;32mIn[164], line 1\u001b[0m\n\u001b[0;32m----> 1\u001b[0m d \u001b[38;5;241m=\u001b[39m { _ :\u001b[38;5;124m\"\u001b[39m\u001b[38;5;124mx\u001b[39m\u001b[38;5;124m\"\u001b[39m}  \u001b[38;5;66;03m# special character are accepted as keys\u001b[39;00m\n",
      "\u001b[0;31mTypeError\u001b[0m: unhashable type: 'dict'"
     ]
    }
   ],
   "source": [
    "d = { _ :\"x\"}  # special character are accepted as keys"
   ]
  },
  {
   "cell_type": "code",
   "execution_count": 165,
   "id": "b8a39612-568d-4c15-9975-8ea9f55b56ac",
   "metadata": {},
   "outputs": [
    {
     "ename": "SyntaxError",
     "evalue": "invalid syntax (2663682795.py, line 1)",
     "output_type": "error",
     "traceback": [
      "\u001b[0;36m  Cell \u001b[0;32mIn[165], line 1\u001b[0;36m\u001b[0m\n\u001b[0;31m    d = {@ :\"x\"}  # special character are not accepted as keys\u001b[0m\n\u001b[0m         ^\u001b[0m\n\u001b[0;31mSyntaxError\u001b[0m\u001b[0;31m:\u001b[0m invalid syntax\n"
     ]
    }
   ],
   "source": [
    "d = {@ :\"x\"}  # special character are not accepted as keys"
   ]
  },
  {
   "cell_type": "code",
   "execution_count": 166,
   "id": "ec1a2673-ffbe-4e67-a41b-b43f86545f71",
   "metadata": {},
   "outputs": [
    {
     "ename": "SyntaxError",
     "evalue": "invalid syntax (1464130667.py, line 1)",
     "output_type": "error",
     "traceback": [
      "\u001b[0;36m  Cell \u001b[0;32mIn[166], line 1\u001b[0;36m\u001b[0m\n\u001b[0;31m    d = {$:\"x\"}  # special character are not accepted as keys\u001b[0m\n\u001b[0m         ^\u001b[0m\n\u001b[0;31mSyntaxError\u001b[0m\u001b[0;31m:\u001b[0m invalid syntax\n"
     ]
    }
   ],
   "source": [
    "d = {$:\"x\"}  # special character are not accepted as keys"
   ]
  },
  {
   "cell_type": "code",
   "execution_count": 167,
   "id": "9aa935d3-ea05-4bc8-a64c-e819e2ef3a92",
   "metadata": {},
   "outputs": [
    {
     "ename": "TypeError",
     "evalue": "unhashable type: 'list'",
     "output_type": "error",
     "traceback": [
      "\u001b[0;31m---------------------------------------------------------------------------\u001b[0m",
      "\u001b[0;31mTypeError\u001b[0m                                 Traceback (most recent call last)",
      "Cell \u001b[0;32mIn[167], line 1\u001b[0m\n\u001b[0;32m----> 1\u001b[0m d \u001b[38;5;241m=\u001b[39m {[\u001b[38;5;241m1\u001b[39m,\u001b[38;5;241m2\u001b[39m,\u001b[38;5;241m3\u001b[39m] : \u001b[38;5;124m\"\u001b[39m\u001b[38;5;124mx\u001b[39m\u001b[38;5;124m\"\u001b[39m}  \u001b[38;5;66;03m# list are not accepted as keys\u001b[39;00m\n",
      "\u001b[0;31mTypeError\u001b[0m: unhashable type: 'list'"
     ]
    }
   ],
   "source": [
    "d = {[1,2,3] : \"x\"}  # list are not accepted as keys"
   ]
  },
  {
   "cell_type": "code",
   "execution_count": 168,
   "id": "fb58706f-f82a-4cca-b09a-ac061cfe8918",
   "metadata": {},
   "outputs": [],
   "source": [
    "d = {(1,2):\"x\"}  # tuples are accepted as keys"
   ]
  },
  {
   "cell_type": "code",
   "execution_count": 169,
   "id": "6f7e158e-34e2-47ef-b697-86f9e39542fb",
   "metadata": {},
   "outputs": [
    {
     "ename": "TypeError",
     "evalue": "unhashable type: 'set'",
     "output_type": "error",
     "traceback": [
      "\u001b[0;31m---------------------------------------------------------------------------\u001b[0m",
      "\u001b[0;31mTypeError\u001b[0m                                 Traceback (most recent call last)",
      "Cell \u001b[0;32mIn[169], line 1\u001b[0m\n\u001b[0;32m----> 1\u001b[0m d \u001b[38;5;241m=\u001b[39m {{\u001b[38;5;241m1\u001b[39m,\u001b[38;5;241m2\u001b[39m}:\u001b[38;5;124m\"\u001b[39m\u001b[38;5;124mx\u001b[39m\u001b[38;5;124m\"\u001b[39m}  \u001b[38;5;66;03m# sets are accepted as keys\u001b[39;00m\n",
      "\u001b[0;31mTypeError\u001b[0m: unhashable type: 'set'"
     ]
    }
   ],
   "source": [
    "d = {{1,2}:\"x\"}  # sets are accepted as keys"
   ]
  },
  {
   "cell_type": "code",
   "execution_count": 170,
   "id": "624e62c4-0ce3-4872-9659-e12414516f56",
   "metadata": {},
   "outputs": [
    {
     "ename": "TypeError",
     "evalue": "unhashable type: 'dict'",
     "output_type": "error",
     "traceback": [
      "\u001b[0;31m---------------------------------------------------------------------------\u001b[0m",
      "\u001b[0;31mTypeError\u001b[0m                                 Traceback (most recent call last)",
      "Cell \u001b[0;32mIn[170], line 1\u001b[0m\n\u001b[0;32m----> 1\u001b[0m d \u001b[38;5;241m=\u001b[39m {{\u001b[38;5;124m\"\u001b[39m\u001b[38;5;124ma\u001b[39m\u001b[38;5;124m\"\u001b[39m:\u001b[38;5;124m\"\u001b[39m\u001b[38;5;124mx\u001b[39m\u001b[38;5;124m\"\u001b[39m}:\u001b[38;5;124m\"\u001b[39m\u001b[38;5;124ms\u001b[39m\u001b[38;5;124m\"\u001b[39m}  \u001b[38;5;66;03m# dictionary are accepted as keys\u001b[39;00m\n",
      "\u001b[0;31mTypeError\u001b[0m: unhashable type: 'dict'"
     ]
    }
   ],
   "source": [
    "d = {{\"a\":\"x\"}:\"s\"}  # dictionary are accepted as keys"
   ]
  },
  {
   "cell_type": "markdown",
   "id": "1dce67d8-a11d-4f07-a382-1f20f5e6ece4",
   "metadata": {},
   "source": [
    "For values except special characters it can be anything "
   ]
  },
  {
   "cell_type": "code",
   "execution_count": 171,
   "id": "b48409ad-53d2-46fc-870c-c6dfd9b24fd6",
   "metadata": {},
   "outputs": [],
   "source": [
    "d = {\"$\": 'a'} "
   ]
  },
  {
   "cell_type": "code",
   "execution_count": 172,
   "id": "fdb778c9-cef8-42f5-a74d-bebc450108a7",
   "metadata": {},
   "outputs": [
    {
     "data": {
      "text/plain": [
       "{'course': ['ds', 'hadoop'], 'dates': (1, 2, 3), 'lectures': {'me', 'myself'}}"
      ]
     },
     "execution_count": 172,
     "metadata": {},
     "output_type": "execute_result"
    }
   ],
   "source": [
    "d = {\"course\" : [\"ds\",\"hadoop\"],\"dates\":(1,2,3),\"lectures\":{\"me\",\"myself\"}}\n",
    "d"
   ]
  },
  {
   "cell_type": "code",
   "execution_count": 173,
   "id": "c27a1b9e-2083-422c-9953-7d54e7590c23",
   "metadata": {},
   "outputs": [],
   "source": [
    "#we can also add new key and its value to the dictionary easily , you can understand using following example\n",
    "d[\"timings\"] = (5,6,7)"
   ]
  },
  {
   "cell_type": "code",
   "execution_count": 174,
   "id": "f2b7c546-764d-4e68-bb94-066a1edf17fe",
   "metadata": {},
   "outputs": [
    {
     "data": {
      "text/plain": [
       "{'course': ['ds', 'hadoop'],\n",
       " 'dates': (1, 2, 3),\n",
       " 'lectures': {'me', 'myself'},\n",
       " 'timings': (5, 6, 7)}"
      ]
     },
     "execution_count": 174,
     "metadata": {},
     "output_type": "execute_result"
    }
   ],
   "source": [
    "d"
   ]
  },
  {
   "cell_type": "code",
   "execution_count": 175,
   "id": "fa4cec5c-b50f-47e2-893f-49aa7351a557",
   "metadata": {},
   "outputs": [],
   "source": [
    "#if we try to add another key and data but with same key value it updates but not create another one\n",
    "d[\"timings\"] = {5,7}"
   ]
  },
  {
   "cell_type": "code",
   "execution_count": 176,
   "id": "f9d829f1-5226-4085-a02d-f343d81abd44",
   "metadata": {},
   "outputs": [
    {
     "data": {
      "text/plain": [
       "{'course': ['ds', 'hadoop'],\n",
       " 'dates': (1, 2, 3),\n",
       " 'lectures': {'me', 'myself'},\n",
       " 'timings': {5, 7}}"
      ]
     },
     "execution_count": 176,
     "metadata": {},
     "output_type": "execute_result"
    }
   ],
   "source": [
    "d"
   ]
  },
  {
   "cell_type": "code",
   "execution_count": 177,
   "id": "9b293e61-6719-4bf8-af9a-87229b533604",
   "metadata": {},
   "outputs": [],
   "source": [
    "d = {\"course\" : [\"ds\",\"hadoop\"],\"dates\":(1,2,3),\"lectures\":{\"me\",\"myself\"},\"course\" : (\"java\",\"ds\")}"
   ]
  },
  {
   "cell_type": "code",
   "execution_count": 178,
   "id": "b209442c-fc08-4749-9a69-7121a3a34477",
   "metadata": {},
   "outputs": [
    {
     "data": {
      "text/plain": [
       "{'course': ('java', 'ds'), 'dates': (1, 2, 3), 'lectures': {'me', 'myself'}}"
      ]
     },
     "execution_count": 178,
     "metadata": {},
     "output_type": "execute_result"
    }
   ],
   "source": [
    "d"
   ]
  },
  {
   "cell_type": "code",
   "execution_count": 179,
   "id": "52a1e980-018b-4da0-98aa-a037c1778751",
   "metadata": {},
   "outputs": [
    {
     "data": {
      "text/plain": [
       "('java', 'ds')"
      ]
     },
     "execution_count": 179,
     "metadata": {},
     "output_type": "execute_result"
    }
   ],
   "source": [
    "d['course'] #keys are used as the indexes to get the respective data"
   ]
  },
  {
   "cell_type": "code",
   "execution_count": 180,
   "id": "cad0a491-18ce-4c92-a5c0-d82745261ee6",
   "metadata": {},
   "outputs": [],
   "source": [
    "d = {\"course\" : {\"c1\":\"hadoop\",\"c2\":\"java\"}}"
   ]
  },
  {
   "cell_type": "code",
   "execution_count": 181,
   "id": "280874f3-fe60-41cc-ba83-ee3f4419d54d",
   "metadata": {},
   "outputs": [
    {
     "data": {
      "text/plain": [
       "{'c1': 'hadoop', 'c2': 'java'}"
      ]
     },
     "execution_count": 181,
     "metadata": {},
     "output_type": "execute_result"
    }
   ],
   "source": [
    "d[\"course\"]"
   ]
  },
  {
   "cell_type": "code",
   "execution_count": 182,
   "id": "4447882b-1f74-43c3-8695-87023877a5ff",
   "metadata": {},
   "outputs": [
    {
     "data": {
      "text/plain": [
       "'hadoop'"
      ]
     },
     "execution_count": 182,
     "metadata": {},
     "output_type": "execute_result"
    }
   ],
   "source": [
    "d[\"course\"][\"c1\"]"
   ]
  },
  {
   "cell_type": "code",
   "execution_count": 183,
   "id": "25cf7d24-f6a6-4a92-93cc-bff4f3ce36b2",
   "metadata": {},
   "outputs": [
    {
     "data": {
      "text/plain": [
       "{'course': {'c1': 'hadoop', 'c2': 'java', 'c3': 'python'}}"
      ]
     },
     "execution_count": 183,
     "metadata": {},
     "output_type": "execute_result"
    }
   ],
   "source": [
    "d[\"course\"][\"c3\"] = \"python\"\n",
    "d"
   ]
  },
  {
   "cell_type": "code",
   "execution_count": 184,
   "id": "43497a09-146a-492b-bd61-5b592dfe4367",
   "metadata": {},
   "outputs": [
    {
     "data": {
      "text/plain": [
       "{'course': {'c1': 'hadoop', 'c2': 'java'}}"
      ]
     },
     "execution_count": 184,
     "metadata": {},
     "output_type": "execute_result"
    }
   ],
   "source": [
    "del d[\"course\"][\"c3\"]\n",
    "d"
   ]
  },
  {
   "cell_type": "markdown",
   "id": "ed94d144-eebc-4ec5-b094-b3a679b07d80",
   "metadata": {},
   "source": [
    "Dictinary Functions #Protip in python use \"Shift+tab\" to know about the funtion and tab to know what kind of funtions available for the data structure"
   ]
  },
  {
   "cell_type": "code",
   "execution_count": 185,
   "id": "9576b733-e032-4c85-8edf-fb3dd514c38c",
   "metadata": {},
   "outputs": [
    {
     "name": "stdout",
     "output_type": "stream",
     "text": [
      "{'course': {'c1': 'hadoop', 'c2': 'java'}}\n"
     ]
    },
    {
     "data": {
      "text/plain": [
       "1"
      ]
     },
     "execution_count": 185,
     "metadata": {},
     "output_type": "execute_result"
    }
   ],
   "source": [
    "print(d)\n",
    "len(d)\n",
    "#gives total number of key value parls available "
   ]
  },
  {
   "cell_type": "code",
   "execution_count": 186,
   "id": "77d579ee-c3f4-4788-90fd-610af0d42f74",
   "metadata": {},
   "outputs": [
    {
     "data": {
      "text/plain": [
       "2"
      ]
     },
     "execution_count": 186,
     "metadata": {},
     "output_type": "execute_result"
    }
   ],
   "source": [
    "len(d['course'])"
   ]
  },
  {
   "cell_type": "code",
   "execution_count": 187,
   "id": "91537a51-6b30-4783-8cdb-07438a932cb5",
   "metadata": {},
   "outputs": [
    {
     "data": {
      "text/plain": [
       "dict_keys(['course'])"
      ]
     },
     "execution_count": 187,
     "metadata": {},
     "output_type": "execute_result"
    }
   ],
   "source": [
    "d.keys()"
   ]
  },
  {
   "cell_type": "code",
   "execution_count": 188,
   "id": "0863cd0b-9461-46ac-957e-15e4e83b924a",
   "metadata": {},
   "outputs": [
    {
     "data": {
      "text/plain": [
       "dict_values([{'c1': 'hadoop', 'c2': 'java'}])"
      ]
     },
     "execution_count": 188,
     "metadata": {},
     "output_type": "execute_result"
    }
   ],
   "source": [
    "d.values()"
   ]
  },
  {
   "cell_type": "code",
   "execution_count": 189,
   "id": "e22b2f7f-f4e0-4629-9aa2-4e6bbb0ba11b",
   "metadata": {},
   "outputs": [
    {
     "data": {
      "text/plain": [
       "['course']"
      ]
     },
     "execution_count": 189,
     "metadata": {},
     "output_type": "execute_result"
    }
   ],
   "source": [
    "list(d.keys())"
   ]
  },
  {
   "cell_type": "code",
   "execution_count": 190,
   "id": "ceb5e47e-7f6e-4968-8d12-9c582e63f6e9",
   "metadata": {},
   "outputs": [
    {
     "data": {
      "text/plain": [
       "dict_items([('course', {'c1': 'hadoop', 'c2': 'java'})])"
      ]
     },
     "execution_count": 190,
     "metadata": {},
     "output_type": "execute_result"
    }
   ],
   "source": [
    "d.items()"
   ]
  },
  {
   "cell_type": "code",
   "execution_count": 191,
   "id": "ce05091b-d237-428d-bddf-1edd75a4f1d5",
   "metadata": {},
   "outputs": [
    {
     "data": {
      "text/plain": [
       "[('course', {'c1': 'hadoop', 'c2': 'java'})]"
      ]
     },
     "execution_count": 191,
     "metadata": {},
     "output_type": "execute_result"
    }
   ],
   "source": [
    "list(d.items())"
   ]
  },
  {
   "cell_type": "code",
   "execution_count": 192,
   "id": "d9df309e-1651-4ee6-86f7-76046524e698",
   "metadata": {},
   "outputs": [
    {
     "data": {
      "text/plain": [
       "{'course': {'c1': 'hadoop', 'c2': 'java'}}"
      ]
     },
     "execution_count": 192,
     "metadata": {},
     "output_type": "execute_result"
    }
   ],
   "source": [
    "import copy\n",
    "d1 = copy.deepcopy(d) #to replicate the dictionary we use this funciton\n",
    "d1 #First method - This method creates a new memory location for the copy of the data and if any change in d does not effect d1"
   ]
  },
  {
   "cell_type": "code",
   "execution_count": 193,
   "id": "0a1676a6-af5f-482f-84c0-9a046f8b6b35",
   "metadata": {},
   "outputs": [],
   "source": [
    "d2 = d #here changes in d gets reflected in d2\n",
    "# or d2 = copy.copy(d) similar "
   ]
  },
  {
   "cell_type": "code",
   "execution_count": 194,
   "id": "824e5a21-0949-4466-a65d-37dac0c68661",
   "metadata": {},
   "outputs": [],
   "source": [
    "del d[\"course\"]['c1']"
   ]
  },
  {
   "cell_type": "code",
   "execution_count": 195,
   "id": "6316771f-ee72-41d2-b822-03b38c7035a1",
   "metadata": {},
   "outputs": [
    {
     "data": {
      "text/plain": [
       "{'course': {'c2': 'java'}}"
      ]
     },
     "execution_count": 195,
     "metadata": {},
     "output_type": "execute_result"
    }
   ],
   "source": [
    "d"
   ]
  },
  {
   "cell_type": "code",
   "execution_count": 196,
   "id": "f78e64c2-bdcc-446e-91b7-d573c4d7e34d",
   "metadata": {},
   "outputs": [
    {
     "data": {
      "text/plain": [
       "{'course': {'c1': 'hadoop', 'c2': 'java'}}"
      ]
     },
     "execution_count": 196,
     "metadata": {},
     "output_type": "execute_result"
    }
   ],
   "source": [
    "d1"
   ]
  },
  {
   "cell_type": "code",
   "execution_count": 197,
   "id": "050be9eb-4a35-4bc9-89a0-04825bf495aa",
   "metadata": {},
   "outputs": [
    {
     "data": {
      "text/plain": [
       "{'course': {'c2': 'java'}}"
      ]
     },
     "execution_count": 197,
     "metadata": {},
     "output_type": "execute_result"
    }
   ],
   "source": [
    "d2"
   ]
  },
  {
   "cell_type": "code",
   "execution_count": 198,
   "id": "ed4f8109-c2b3-4434-92bf-5198e714a754",
   "metadata": {},
   "outputs": [
    {
     "data": {
      "text/plain": [
       "'java'"
      ]
     },
     "execution_count": 198,
     "metadata": {},
     "output_type": "execute_result"
    }
   ],
   "source": [
    "d1['course'].pop('c2')"
   ]
  },
  {
   "cell_type": "code",
   "execution_count": 199,
   "id": "6cedbd70-e2ad-4337-9083-2c0eeb3e7301",
   "metadata": {},
   "outputs": [
    {
     "data": {
      "text/plain": [
       "{'course': {'c1': 'hadoop'}}"
      ]
     },
     "execution_count": 199,
     "metadata": {},
     "output_type": "execute_result"
    }
   ],
   "source": [
    "d1"
   ]
  },
  {
   "cell_type": "code",
   "execution_count": 200,
   "id": "2749a9b7-a5d3-4bad-a579-1c24ea271b7b",
   "metadata": {},
   "outputs": [],
   "source": [
    "d1 = d1.fromkeys((1,2,3),('a','b'))"
   ]
  },
  {
   "cell_type": "code",
   "execution_count": 201,
   "id": "137fd48b-adcd-4e4b-b6d4-fb9b8fd03442",
   "metadata": {},
   "outputs": [
    {
     "data": {
      "text/plain": [
       "{1: ('a', 'b'), 2: ('a', 'b'), 3: ('a', 'b')}"
      ]
     },
     "execution_count": 201,
     "metadata": {},
     "output_type": "execute_result"
    }
   ],
   "source": [
    "d1"
   ]
  },
  {
   "cell_type": "code",
   "execution_count": 202,
   "id": "ada357b9-fd45-4b29-93a4-a63c7d8f4f4a",
   "metadata": {},
   "outputs": [],
   "source": [
    "d3 = {\"key1\":\"value1\",\"key2\":\"value2\"}\n",
    "d4 = {\"key3\":\"value3\",\"key4\":\"value4\"}"
   ]
  },
  {
   "cell_type": "code",
   "execution_count": 203,
   "id": "b51d9a66-d04f-48c8-be2a-7ea938f4c008",
   "metadata": {},
   "outputs": [
    {
     "data": {
      "text/plain": [
       "{'key1': 'value1', 'key2': 'value2'}"
      ]
     },
     "execution_count": 203,
     "metadata": {},
     "output_type": "execute_result"
    }
   ],
   "source": [
    "d3"
   ]
  },
  {
   "cell_type": "code",
   "execution_count": 204,
   "id": "b1134f49-26a3-4f21-b7ef-15afccaf8af6",
   "metadata": {},
   "outputs": [
    {
     "data": {
      "text/plain": [
       "{'key3': 'value3', 'key4': 'value4'}"
      ]
     },
     "execution_count": 204,
     "metadata": {},
     "output_type": "execute_result"
    }
   ],
   "source": [
    "d4"
   ]
  },
  {
   "cell_type": "code",
   "execution_count": 205,
   "id": "2e7af21c-3b95-470b-88cb-16527fe6f82e",
   "metadata": {},
   "outputs": [
    {
     "data": {
      "text/plain": [
       "{'key1': 'value1', 'key2': 'value2', 'key3': 'value3', 'key4': 'value4'}"
      ]
     },
     "execution_count": 205,
     "metadata": {},
     "output_type": "execute_result"
    }
   ],
   "source": [
    "d3.update(d4)\n",
    "d3"
   ]
  },
  {
   "cell_type": "code",
   "execution_count": 206,
   "id": "7a118372-b7f7-4f93-bc30-ee5935f20958",
   "metadata": {},
   "outputs": [
    {
     "data": {
      "text/plain": [
       "{'key3': 'value3', 'key4': 'value4'}"
      ]
     },
     "execution_count": 206,
     "metadata": {},
     "output_type": "execute_result"
    }
   ],
   "source": [
    "d4"
   ]
  },
  {
   "cell_type": "code",
   "execution_count": 207,
   "id": "e9cd59b3-9571-4f9c-8001-1779886f0a7e",
   "metadata": {},
   "outputs": [],
   "source": [
    "d4.update(d3)"
   ]
  },
  {
   "cell_type": "code",
   "execution_count": 208,
   "id": "539bb7d0-2343-424a-bf98-31dd600d9777",
   "metadata": {},
   "outputs": [
    {
     "data": {
      "text/plain": [
       "{'key3': 'value3', 'key4': 'value4', 'key1': 'value1', 'key2': 'value2'}"
      ]
     },
     "execution_count": 208,
     "metadata": {},
     "output_type": "execute_result"
    }
   ],
   "source": [
    "d4"
   ]
  },
  {
   "cell_type": "code",
   "execution_count": 209,
   "id": "08e8af0d-6b63-4156-8d73-ca107df42518",
   "metadata": {},
   "outputs": [],
   "source": [
    "d4.get('key5') #this funtion is similar to normally getting data through indexing but while indexing method if we try to give a key which does not exist in the dictionary it generates an error whereas get funtion does not generate the error"
   ]
  },
  {
   "cell_type": "code",
   "execution_count": 210,
   "id": "34f66588-8f9d-4c42-8c05-12a203647a82",
   "metadata": {},
   "outputs": [
    {
     "ename": "KeyError",
     "evalue": "'key5'",
     "output_type": "error",
     "traceback": [
      "\u001b[0;31m---------------------------------------------------------------------------\u001b[0m",
      "\u001b[0;31mKeyError\u001b[0m                                  Traceback (most recent call last)",
      "Cell \u001b[0;32mIn[210], line 1\u001b[0m\n\u001b[0;32m----> 1\u001b[0m \u001b[43md4\u001b[49m\u001b[43m[\u001b[49m\u001b[38;5;124;43m'\u001b[39;49m\u001b[38;5;124;43mkey5\u001b[39;49m\u001b[38;5;124;43m'\u001b[39;49m\u001b[43m]\u001b[49m\n",
      "\u001b[0;31mKeyError\u001b[0m: 'key5'"
     ]
    }
   ],
   "source": [
    "d4['key5']"
   ]
  },
  {
   "cell_type": "markdown",
   "id": "bf578726-5f08-4fff-99c3-0163fdba7d22",
   "metadata": {},
   "source": [
    "Dictionary Comprehension"
   ]
  },
  {
   "cell_type": "code",
   "execution_count": 211,
   "id": "596781f0-f6f7-4469-a96a-d8856700867d",
   "metadata": {},
   "outputs": [
    {
     "data": {
      "text/plain": [
       "{1: 1, 2: 4, 3: 9, 4: 16, 5: 25, 6: 36, 7: 49, 8: 64, 9: 81, 10: 100}"
      ]
     },
     "execution_count": 211,
     "metadata": {},
     "output_type": "execute_result"
    }
   ],
   "source": [
    "{i:i*i for i in range(1,11)}"
   ]
  },
  {
   "cell_type": "code",
   "execution_count": 212,
   "id": "9e4be19f-a12e-4b0d-967c-760989f27976",
   "metadata": {},
   "outputs": [],
   "source": [
    "d5 = {i:i+10 for i in range(1,11)}"
   ]
  },
  {
   "cell_type": "code",
   "execution_count": 213,
   "id": "279fa840-cd6b-4fd0-9a41-9a05d1543aca",
   "metadata": {},
   "outputs": [
    {
     "name": "stdout",
     "output_type": "stream",
     "text": [
      "12\n",
      "14\n",
      "16\n",
      "18\n",
      "20\n"
     ]
    }
   ],
   "source": [
    "for i in d5.keys():\n",
    "    if i%2 == 0:\n",
    "        print(d5[i])"
   ]
  },
  {
   "cell_type": "code",
   "execution_count": 214,
   "id": "8bf5bd13-4f82-4065-baca-91f36e8f9279",
   "metadata": {},
   "outputs": [],
   "source": [
    "l1 = [1,2,3,4,5]\n",
    "l2 = l1"
   ]
  },
  {
   "cell_type": "code",
   "execution_count": 215,
   "id": "4a3398b4-ef99-4c1e-8fd2-4b157ea3934a",
   "metadata": {},
   "outputs": [],
   "source": [
    "l1.append(6)"
   ]
  },
  {
   "cell_type": "code",
   "execution_count": 216,
   "id": "d7de436b-4c4f-472a-88e0-cb0d2091735a",
   "metadata": {},
   "outputs": [
    {
     "data": {
      "text/plain": [
       "[1, 2, 3, 4, 5, 6]"
      ]
     },
     "execution_count": 216,
     "metadata": {},
     "output_type": "execute_result"
    }
   ],
   "source": [
    "l2"
   ]
  }
 ],
 "metadata": {
  "kernelspec": {
   "display_name": "Python 3 (ipykernel)",
   "language": "python",
   "name": "python3"
  },
  "language_info": {
   "codemirror_mode": {
    "name": "ipython",
    "version": 3
   },
   "file_extension": ".py",
   "mimetype": "text/x-python",
   "name": "python",
   "nbconvert_exporter": "python",
   "pygments_lexer": "ipython3",
   "version": "3.10.8"
  }
 },
 "nbformat": 4,
 "nbformat_minor": 5
}
