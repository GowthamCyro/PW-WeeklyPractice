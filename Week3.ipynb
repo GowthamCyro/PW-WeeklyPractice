{
 "cells": [
  {
   "cell_type": "markdown",
   "id": "d238e8b2-a6e1-43f8-9590-4980241a8a9c",
   "metadata": {},
   "source": [
    "Functions"
   ]
  },
  {
   "cell_type": "code",
   "execution_count": 1,
   "id": "0354dd81-413d-4d82-bab1-31de082d0d42",
   "metadata": {},
   "outputs": [
    {
     "name": "stdout",
     "output_type": "stream",
     "text": [
      "[1, 2, 3, 4, 5]\n"
     ]
    }
   ],
   "source": [
    "#Examples of some inbuilt functions : \"print()\",\"len()\" etc.\n",
    "l = [1,2,3,4,5]\n",
    "print(l)"
   ]
  },
  {
   "cell_type": "code",
   "execution_count": 7,
   "id": "bd0fdf7a-9b10-4794-b72e-155dd92d7740",
   "metadata": {},
   "outputs": [
    {
     "data": {
      "text/plain": [
       "5"
      ]
     },
     "execution_count": 7,
     "metadata": {},
     "output_type": "execute_result"
    }
   ],
   "source": [
    "len(l)"
   ]
  },
  {
   "cell_type": "code",
   "execution_count": 3,
   "id": "cd397839-af4e-42f0-bb12-961f89d7925d",
   "metadata": {},
   "outputs": [],
   "source": [
    "#User Defined function and to create a funtion we need to use a keyword def:\n",
    "def test():\n",
    "    pass"
   ]
  },
  {
   "cell_type": "code",
   "execution_count": 5,
   "id": "f67de86f-77d0-4883-a6dc-0c6f0a6b4daa",
   "metadata": {},
   "outputs": [
    {
     "name": "stdout",
     "output_type": "stream",
     "text": [
      "HelloWorld\n"
     ]
    }
   ],
   "source": [
    "def test():\n",
    "    print(\"HelloWorld\")\n",
    "test()    "
   ]
  },
  {
   "cell_type": "code",
   "execution_count": 11,
   "id": "fe0c035c-9528-4467-9cc8-654edc7007d8",
   "metadata": {},
   "outputs": [
    {
     "name": "stdout",
     "output_type": "stream",
     "text": [
      "HelloWorld\n"
     ]
    },
    {
     "ename": "TypeError",
     "evalue": "unsupported operand type(s) for +: 'NoneType' and 'str'",
     "output_type": "error",
     "traceback": [
      "\u001b[0;31m---------------------------------------------------------------------------\u001b[0m",
      "\u001b[0;31mTypeError\u001b[0m                                 Traceback (most recent call last)",
      "Cell \u001b[0;32mIn[11], line 2\u001b[0m\n\u001b[1;32m      1\u001b[0m \u001b[38;5;66;03m#Now try to understand this as the funtion is giving an output as a string \"HelloWorld\" and now try to concatenate using another string\u001b[39;00m\n\u001b[0;32m----> 2\u001b[0m \u001b[43mtest\u001b[49m\u001b[43m(\u001b[49m\u001b[43m)\u001b[49m\u001b[43m \u001b[49m\u001b[38;5;241;43m+\u001b[39;49m\u001b[43m \u001b[49m\u001b[38;5;124;43m\"\u001b[39;49m\u001b[38;5;124;43mWelcome\u001b[39;49m\u001b[38;5;124;43m\"\u001b[39;49m\n",
      "\u001b[0;31mTypeError\u001b[0m: unsupported operand type(s) for +: 'NoneType' and 'str'"
     ]
    }
   ],
   "source": [
    "#Now try to understand this as the funtion is giving an output as a string \"HelloWorld\" and now try to concatenate using another string\n",
    "test() + \"Welcome\""
   ]
  },
  {
   "cell_type": "markdown",
   "id": "454a4fa2-f902-456c-a506-a8556ac64a21",
   "metadata": {},
   "source": [
    "So From above error we can understand that thr function contains a print statement which is returning a NoneType but not string because the print statement by default returns the NoneType(which is not any datatype) now try to rewrite the function using return statement."
   ]
  },
  {
   "cell_type": "code",
   "execution_count": 12,
   "id": "724f7e7b-a160-4413-94d7-864fc89e5393",
   "metadata": {},
   "outputs": [
    {
     "data": {
      "text/plain": [
       "'Hello World'"
      ]
     },
     "execution_count": 12,
     "metadata": {},
     "output_type": "execute_result"
    }
   ],
   "source": [
    "def test():\n",
    "    return \"Hello World\"\n",
    "test()"
   ]
  },
  {
   "cell_type": "code",
   "execution_count": 14,
   "id": "8f755c1d-5646-4a88-a6b1-9f1a53f74993",
   "metadata": {},
   "outputs": [
    {
     "data": {
      "text/plain": [
       "'Hello World Welcome'"
      ]
     },
     "execution_count": 14,
     "metadata": {},
     "output_type": "execute_result"
    }
   ],
   "source": [
    "test() + \" Welcome\""
   ]
  },
  {
   "cell_type": "code",
   "execution_count": 17,
   "id": "e0d61aa4-8824-4e35-ae23-a59924aa70b6",
   "metadata": {},
   "outputs": [
    {
     "data": {
      "text/plain": [
       "(1, 2, 3, 4, 'skills')"
      ]
     },
     "execution_count": 17,
     "metadata": {},
     "output_type": "execute_result"
    }
   ],
   "source": [
    "# A thing I basically dont know and got to know now is that we can give mutliple values to a variable\n",
    "a = 1,2,3,4,\"skills\"\n",
    "a"
   ]
  },
  {
   "cell_type": "code",
   "execution_count": 18,
   "id": "67bca740-e516-419b-82c0-0a945eb05095",
   "metadata": {},
   "outputs": [
    {
     "data": {
      "text/plain": [
       "tuple"
      ]
     },
     "execution_count": 18,
     "metadata": {},
     "output_type": "execute_result"
    }
   ],
   "source": [
    "type(a) #By default if we give multiple values at a time it is being considered as a tuple"
   ]
  },
  {
   "cell_type": "code",
   "execution_count": 19,
   "id": "8f0147c7-13c3-4a71-a558-eff88ac9e906",
   "metadata": {},
   "outputs": [],
   "source": [
    "#We can declare mutliple variables in a single line in a consequtive way\n",
    "a,b,c,d = 1,1.23,True,'pwskills'"
   ]
  },
  {
   "cell_type": "code",
   "execution_count": 20,
   "id": "bd6db9db-c573-45b1-938a-c42f3d6df7ca",
   "metadata": {},
   "outputs": [
    {
     "data": {
      "text/plain": [
       "1"
      ]
     },
     "execution_count": 20,
     "metadata": {},
     "output_type": "execute_result"
    }
   ],
   "source": [
    "a"
   ]
  },
  {
   "cell_type": "code",
   "execution_count": 21,
   "id": "1adc5686-f71d-4de1-a20f-4babd85ec1f8",
   "metadata": {},
   "outputs": [
    {
     "data": {
      "text/plain": [
       "1.23"
      ]
     },
     "execution_count": 21,
     "metadata": {},
     "output_type": "execute_result"
    }
   ],
   "source": [
    "b"
   ]
  },
  {
   "cell_type": "code",
   "execution_count": 22,
   "id": "b4bc7172-979b-4225-9c72-a993eb3b5a2f",
   "metadata": {},
   "outputs": [
    {
     "data": {
      "text/plain": [
       "True"
      ]
     },
     "execution_count": 22,
     "metadata": {},
     "output_type": "execute_result"
    }
   ],
   "source": [
    "c"
   ]
  },
  {
   "cell_type": "code",
   "execution_count": 23,
   "id": "bc9ccab3-ef50-42aa-8100-a05cfc761768",
   "metadata": {},
   "outputs": [
    {
     "data": {
      "text/plain": [
       "'pwskills'"
      ]
     },
     "execution_count": 23,
     "metadata": {},
     "output_type": "execute_result"
    }
   ],
   "source": [
    "d"
   ]
  },
  {
   "cell_type": "code",
   "execution_count": 27,
   "id": "52b8831d-87c4-425f-9762-5c41382794fd",
   "metadata": {},
   "outputs": [
    {
     "data": {
      "text/plain": [
       "(1, 2, 3, 4, 5, 'pwkils')"
      ]
     },
     "execution_count": 27,
     "metadata": {},
     "output_type": "execute_result"
    }
   ],
   "source": [
    "#The function can also return mutliple values with different data types at a time and the output as by default converted into a tuple\n",
    "def test1():\n",
    "    return 1,2,3,4,5,'pwkils'\n",
    "test1()"
   ]
  },
  {
   "cell_type": "code",
   "execution_count": 28,
   "id": "a1a5bfb1-35e0-47ea-b9b5-57786f46524d",
   "metadata": {},
   "outputs": [
    {
     "data": {
      "text/plain": [
       "1"
      ]
     },
     "execution_count": 28,
     "metadata": {},
     "output_type": "execute_result"
    }
   ],
   "source": [
    "test1()[0]"
   ]
  },
  {
   "cell_type": "code",
   "execution_count": 29,
   "id": "add7ec2a-4898-45f7-a131-8931bd557bdf",
   "metadata": {},
   "outputs": [
    {
     "data": {
      "text/plain": [
       "(1, 2, 3, 4, 5, 'pwkils')"
      ]
     },
     "execution_count": 29,
     "metadata": {},
     "output_type": "execute_result"
    }
   ],
   "source": [
    "test1()[:]"
   ]
  },
  {
   "cell_type": "code",
   "execution_count": 30,
   "id": "90b5524e-8808-40ca-a58d-cf0ba8b7fd17",
   "metadata": {},
   "outputs": [
    {
     "data": {
      "text/plain": [
       "('pwkils', 5, 4, 3, 2, 1)"
      ]
     },
     "execution_count": 30,
     "metadata": {},
     "output_type": "execute_result"
    }
   ],
   "source": [
    "test1()[::-1]"
   ]
  },
  {
   "cell_type": "code",
   "execution_count": null,
   "id": "554c9479-2209-4225-8211-0585dbb99a85",
   "metadata": {},
   "outputs": [],
   "source": [
    "#We can assign all these values at a time"
   ]
  },
  {
   "cell_type": "code",
   "execution_count": 32,
   "id": "c16f1a00-f2e3-47a0-9afd-19dc7880421f",
   "metadata": {},
   "outputs": [
    {
     "ename": "ValueError",
     "evalue": "too many values to unpack (expected 2)",
     "output_type": "error",
     "traceback": [
      "\u001b[0;31m---------------------------------------------------------------------------\u001b[0m",
      "\u001b[0;31mValueError\u001b[0m                                Traceback (most recent call last)",
      "Cell \u001b[0;32mIn[32], line 1\u001b[0m\n\u001b[0;32m----> 1\u001b[0m a,b \u001b[38;5;241m=\u001b[39m test1() \u001b[38;5;66;03m#So here I tried to give only two variables and thought it will store first 2 values and it did not accept \u001b[39;00m\n",
      "\u001b[0;31mValueError\u001b[0m: too many values to unpack (expected 2)"
     ]
    }
   ],
   "source": [
    "a,b = test1() #So here I tried to give only two variables and thought it will store first 2 values and it did not accept "
   ]
  },
  {
   "cell_type": "code",
   "execution_count": 33,
   "id": "483cdb24-5e5c-48cb-ae31-8280241c6a93",
   "metadata": {},
   "outputs": [],
   "source": [
    "a,b,c,d,e,f = test1()"
   ]
  },
  {
   "cell_type": "code",
   "execution_count": 37,
   "id": "25a908aa-dd96-4215-870b-f9db2ef3b98f",
   "metadata": {},
   "outputs": [
    {
     "name": "stdout",
     "output_type": "stream",
     "text": [
      "1\n",
      "2\n",
      "3\n",
      "4\n",
      "5\n",
      "pwkils\n"
     ]
    }
   ],
   "source": [
    "print(a)\n",
    "print(b)\n",
    "print(c)\n",
    "print(d)\n",
    "print(e)\n",
    "print(f)"
   ]
  },
  {
   "cell_type": "code",
   "execution_count": 38,
   "id": "eb66320a-c419-40cd-b053-024f5d265cbe",
   "metadata": {},
   "outputs": [
    {
     "data": {
      "text/plain": [
       "17"
      ]
     },
     "execution_count": 38,
     "metadata": {},
     "output_type": "execute_result"
    }
   ],
   "source": [
    "def test2():\n",
    "    a = (3 * 4) + 5\n",
    "    return a\n",
    "test2()"
   ]
  },
  {
   "cell_type": "code",
   "execution_count": 41,
   "id": "23d95f2b-29ab-4098-9f02-e8adfb950b74",
   "metadata": {},
   "outputs": [
    {
     "name": "stdout",
     "output_type": "stream",
     "text": [
      "4 <class 'int'>\n",
      "Hello Gowtham <class 'str'>\n",
      "[1, 2, 3, 4] <class 'list'>\n"
     ]
    }
   ],
   "source": [
    "def test2(a,b):\n",
    "    c = a + b\n",
    "    return c\n",
    "print(test2(1,3),type(test2(1,3)))\n",
    "print(test2(\"Hello \",\"Gowtham\"),type(test2(\"Hello \",\"Gowtham\")))\n",
    "print(test2([1,2],[3,4]),type(test2([1,2],[3,4])))"
   ]
  },
  {
   "cell_type": "code",
   "execution_count": 42,
   "id": "1b169231-95b9-414d-aca8-d550630f48d2",
   "metadata": {},
   "outputs": [
    {
     "data": {
      "text/plain": [
       "'Gowtham Hello'"
      ]
     },
     "execution_count": 42,
     "metadata": {},
     "output_type": "execute_result"
    }
   ],
   "source": [
    "#We can also pass arguments in this way\n",
    "test2(b=\"Hello\",a=\"Gowtham \")"
   ]
  },
  {
   "cell_type": "code",
   "execution_count": 43,
   "id": "b5527d15-c65c-435c-a465-fc3669c9d14f",
   "metadata": {},
   "outputs": [
    {
     "data": {
      "text/plain": [
       "[1, 2, 3, 4, 5]"
      ]
     },
     "execution_count": 43,
     "metadata": {},
     "output_type": "execute_result"
    }
   ],
   "source": [
    "#Example Program\n",
    "#try to get all the numbers in list \n",
    "l = [1,2,3,4,5,\"pwskills\",\"Gowtham\"]\n",
    "def test(a):\n",
    "    n = []\n",
    "    for i in a:\n",
    "        if type(i) == int or type(i) == float:\n",
    "            n.append(i)\n",
    "    return n\n",
    "test(l)"
   ]
  },
  {
   "cell_type": "code",
   "execution_count": 44,
   "id": "10451636-15ee-4821-8d78-a427cec5b8d0",
   "metadata": {},
   "outputs": [
    {
     "data": {
      "text/plain": [
       "[1, 2, 3, 4, 5, [4, 5, 6, 7, 8]]"
      ]
     },
     "execution_count": 44,
     "metadata": {},
     "output_type": "execute_result"
    }
   ],
   "source": [
    "#Now consider nested list\n",
    "l = [1,2,3,4,5,\"pwskills\",\"Gowtham\",[4,5,6,\"BGMI\",7,8,\"Gamer\"]]\n",
    "def test(a):\n",
    "    n = []\n",
    "    for i in a:\n",
    "        if type(i) == list:\n",
    "            x = []\n",
    "            for b in i:\n",
    "                if type(b) == int or type(i) == float:\n",
    "                    x.append(b)\n",
    "            n.append(x)\n",
    "        if type(i) == int or type(i) == float:\n",
    "            n.append(i)\n",
    "    return n\n",
    "test(l)"
   ]
  },
  {
   "cell_type": "code",
   "execution_count": 50,
   "id": "76622321-b2ef-4724-a073-0513605c37ca",
   "metadata": {},
   "outputs": [
    {
     "name": "stdout",
     "output_type": "stream",
     "text": [
      "(1,)\n",
      "(1, 2)\n",
      "(12, 'pwskills', [2, 3, 4, 5, 56])\n",
      "([1, 23, 4], {32, 1, 4, 5}, (1, 3, 5, 66))\n"
     ]
    }
   ],
   "source": [
    "#passing arguments dynamically when we dont know how many to pass\n",
    "def test(*args):\n",
    "    return args\n",
    "print(test(1))\n",
    "print(test(1,2))\n",
    "print(test(12,\"pwskills\",[2,3,4,5,56]))\n",
    "print(test([1,23,4],{1,32,4,5},(1,3,5,66)))   #the returned arguments are by default considering as a tuple"
   ]
  },
  {
   "cell_type": "code",
   "execution_count": 56,
   "id": "90eabc07-0fb5-4760-a9e6-609655f20d9f",
   "metadata": {},
   "outputs": [
    {
     "ename": "TypeError",
     "evalue": "test() missing 1 required keyword-only argument: 'a'",
     "output_type": "error",
     "traceback": [
      "\u001b[0;31m---------------------------------------------------------------------------\u001b[0m",
      "\u001b[0;31mTypeError\u001b[0m                                 Traceback (most recent call last)",
      "Cell \u001b[0;32mIn[56], line 3\u001b[0m\n\u001b[1;32m      1\u001b[0m \u001b[38;5;28;01mdef\u001b[39;00m \u001b[38;5;21mtest\u001b[39m(\u001b[38;5;241m*\u001b[39margs,a):\n\u001b[1;32m      2\u001b[0m     \u001b[38;5;28;01mreturn\u001b[39;00m args,a\n\u001b[0;32m----> 3\u001b[0m \u001b[38;5;28mprint\u001b[39m(\u001b[43mtest\u001b[49m\u001b[43m(\u001b[49m\u001b[38;5;241;43m1\u001b[39;49m\u001b[43m)\u001b[49m) \u001b[38;5;66;03m#Here error is generated because I have given only argument and the funtion minimum of two one for a and one for args\u001b[39;00m\n",
      "\u001b[0;31mTypeError\u001b[0m: test() missing 1 required keyword-only argument: 'a'"
     ]
    }
   ],
   "source": [
    "def test(*args,a):\n",
    "    return args,a\n",
    "print(test(1)) #Here error is generated because I have given only argument and the funtion minimum of two one for a and one for args"
   ]
  },
  {
   "cell_type": "code",
   "execution_count": 55,
   "id": "433c15d8-782a-48ec-9173-2613229af424",
   "metadata": {},
   "outputs": [
    {
     "ename": "TypeError",
     "evalue": "test() missing 1 required keyword-only argument: 'a'",
     "output_type": "error",
     "traceback": [
      "\u001b[0;31m---------------------------------------------------------------------------\u001b[0m",
      "\u001b[0;31mTypeError\u001b[0m                                 Traceback (most recent call last)",
      "Cell \u001b[0;32mIn[55], line 1\u001b[0m\n\u001b[0;32m----> 1\u001b[0m \u001b[38;5;28mprint\u001b[39m(\u001b[43mtest\u001b[49m\u001b[43m(\u001b[49m\u001b[38;5;241;43m1\u001b[39;49m\u001b[43m,\u001b[49m\u001b[38;5;241;43m2\u001b[39;49m\u001b[43m)\u001b[49m) \u001b[38;5;66;03m#Here error is generated because it is considering all the arguments to *args so to solve this we need to use declarative arguments like a=value.\u001b[39;00m\n",
      "\u001b[0;31mTypeError\u001b[0m: test() missing 1 required keyword-only argument: 'a'"
     ]
    }
   ],
   "source": [
    "print(test(1,2)) #Here error is generated because it is considering all the arguments to *args so to solve this we need to use declarative arguments like a=value."
   ]
  },
  {
   "cell_type": "code",
   "execution_count": 54,
   "id": "a8ea11df-fb70-4f81-b039-9cfca7f6bdc0",
   "metadata": {},
   "outputs": [
    {
     "name": "stdout",
     "output_type": "stream",
     "text": [
      "((12, 'pwskills'), [2, 3, 4, 5, 56])\n"
     ]
    }
   ],
   "source": [
    "print(test(12,\"pwskills\", a = [2,3,4,5,56])) #error for above resolved using another example"
   ]
  },
  {
   "cell_type": "markdown",
   "id": "51d9cc48-c8aa-4827-9fda-c038cf345238",
   "metadata": {},
   "source": [
    "To pass multiple key value pairs we use the following syntax (**) in arguments"
   ]
  },
  {
   "cell_type": "code",
   "execution_count": 59,
   "id": "31f5dce4-6556-400e-a838-482668fe9265",
   "metadata": {},
   "outputs": [
    {
     "data": {
      "text/plain": [
       "{'a': 1, 'b': 2, 'c': 44, 'd': 5}"
      ]
     },
     "execution_count": 59,
     "metadata": {},
     "output_type": "execute_result"
    }
   ],
   "source": [
    "def test(**kvargs):\n",
    "    return kvargs\n",
    "test(a=1,b=2,c=44,d=5) \n",
    "#here make sure that you give arguments as key word argumnets such that a=1 because a is considered as key and 1 is considerea as its key value else it generates an error"
   ]
  },
  {
   "cell_type": "code",
   "execution_count": 72,
   "id": "20202dd2-77a9-4a0e-8125-c39f02e7a792",
   "metadata": {},
   "outputs": [
    {
     "data": {
      "text/plain": [
       "('a', [1, 2, 3])"
      ]
     },
     "execution_count": 72,
     "metadata": {},
     "output_type": "execute_result"
    }
   ],
   "source": [
    "#Lets write an example program where it takes multiple kv pairs and if the value is a list or tuple then it should return that key and value \n",
    "def test(**kvargs):\n",
    "    for i in kvargs.keys():\n",
    "        if type(kvargs[i]) == list or type(kvargs[i]) == tuple:\n",
    "            return i,kvargs[i]\n",
    "test(a=[1,2,3],d=[1,3,4,5]) # Only a is getting printed because when only return is executed it will stop the execution of the function"
   ]
  },
  {
   "cell_type": "code",
   "execution_count": 73,
   "id": "c2e8e212-c726-40b4-bca0-f20635688c54",
   "metadata": {},
   "outputs": [
    {
     "data": {
      "text/plain": [
       "[('a', [1, 2, 3]), ('b', (1, 2, 3))]"
      ]
     },
     "execution_count": 73,
     "metadata": {},
     "output_type": "execute_result"
    }
   ],
   "source": [
    "#Modified version of code \n",
    "\n",
    "def test(**kwargs):\n",
    "    result = []\n",
    "    for key, value in kwargs.items():\n",
    "        if isinstance(value, (list, tuple)):\n",
    "            result.append((key, value))\n",
    "    return result\n",
    "test(a=[1,2,3],b=(1,2,3),c=12)"
   ]
  },
  {
   "cell_type": "markdown",
   "id": "61706dd0-8e4c-4e12-8e42-2e8afa32d5f3",
   "metadata": {},
   "source": [
    "The isinstance() function is a built-in Python method used to check if an object belongs to a specified class or if it is an instance of a subclass. It returns True if the object matches the specified class or subclass, and False otherwise.\n",
    "\n",
    "The syntax of the isinstance() function is as follows:\n",
    "isinstance(object, classinfo)\n",
    "\n",
    "object: The object that you want to check the class or instance of.\n",
    "classinfo: A class, type, or tuple of classes/types to compare the object against."
   ]
  },
  {
   "cell_type": "code",
   "execution_count": 74,
   "id": "5420409e-2a02-4a6d-abee-244930ca2149",
   "metadata": {},
   "outputs": [
    {
     "data": {
      "text/plain": [
       "((1, 2, 4, 54), {'a': 4, 'b': 5})"
      ]
     },
     "execution_count": 74,
     "metadata": {},
     "output_type": "execute_result"
    }
   ],
   "source": [
    "def test(*args,**kvargs):\n",
    "    return args,kvargs\n",
    "test(1,2,4,54,a=4,b=5)"
   ]
  },
  {
   "cell_type": "markdown",
   "id": "f88e8b9a-e04b-411a-b851-b683e0c04c0f",
   "metadata": {},
   "source": [
    "Generator Funtions "
   ]
  },
  {
   "cell_type": "markdown",
   "id": "b581969d-d330-4cc2-a2e6-581ddefd1c12",
   "metadata": {},
   "source": [
    "The generator function does not use more memory because it generates and prints directly and do not wait to complete the whole loop so more memory is not used."
   ]
  },
  {
   "cell_type": "code",
   "execution_count": 2,
   "id": "bc939f70-4ad1-4467-876e-e1270081372a",
   "metadata": {},
   "outputs": [
    {
     "data": {
      "text/plain": [
       "range(1, 11)"
      ]
     },
     "execution_count": 2,
     "metadata": {},
     "output_type": "execute_result"
    }
   ],
   "source": [
    "range(1,11) "
   ]
  },
  {
   "cell_type": "code",
   "execution_count": 3,
   "id": "b4c3ad92-31d4-4163-a531-0de519f8f399",
   "metadata": {},
   "outputs": [
    {
     "name": "stdout",
     "output_type": "stream",
     "text": [
      "1\n",
      "2\n",
      "3\n",
      "4\n",
      "5\n",
      "6\n",
      "7\n",
      "8\n",
      "9\n",
      "10\n"
     ]
    }
   ],
   "source": [
    "for i in range(1,11):\n",
    "    print(i)"
   ]
  },
  {
   "cell_type": "code",
   "execution_count": 14,
   "id": "937ae783-c976-4c21-ba10-c3fa6546c85b",
   "metadata": {},
   "outputs": [
    {
     "data": {
      "text/plain": [
       "<generator object fabonicii at 0x7fab1dc9e0a0>"
      ]
     },
     "execution_count": 14,
     "metadata": {},
     "output_type": "execute_result"
    }
   ],
   "source": [
    "#Fabonicci Series\n",
    "def fabonicii(n):\n",
    "    a,b = 0,1\n",
    "    for i in range(n):\n",
    "        yield a \n",
    "        b,a = a+b,b   #This is a special statement such that it assigns computed values to b,a but for computation it uses  the a=0,b=1 for first iteration \n",
    "        \n",
    "fabonicii(10)    "
   ]
  },
  {
   "cell_type": "code",
   "execution_count": 13,
   "id": "5bc56c19-6130-4117-9d7c-553328a40454",
   "metadata": {},
   "outputs": [
    {
     "data": {
      "text/plain": [
       "[0, 1, 1, 2, 3, 5, 8, 13, 21, 34]"
      ]
     },
     "execution_count": 13,
     "metadata": {},
     "output_type": "execute_result"
    }
   ],
   "source": [
    "list(fabonicii(10))"
   ]
  },
  {
   "cell_type": "markdown",
   "id": "4238432a-266c-4caf-b6b4-776827d616f0",
   "metadata": {},
   "source": [
    "Yeild function: Makes memory efficient.\n",
    "\n",
    "The generator object created when using yield in a generator function does store the values internally. However,the generator object stores and generates the values on-demand as they are requested, rather than precomputing and storing all the values upfront.\n",
    "\n",
    "When you use print a, the values will be immediately printed to the console, but they are not stored in a data structure or accessible for further processing within the program. Each value will be printed as it is generated, but once it is printed, it is essentially discarded.\n",
    "\n",
    "In contrast, when you use yield a, the values are generated and returned as part of a generator object. The generator object can be iterated over, allowing you to access and process each value as needed. "
   ]
  },
  {
   "cell_type": "markdown",
   "id": "d7b7183a-d08a-44d2-bdc3-e86495b7c6db",
   "metadata": {},
   "source": [
    "#Lambda Function\n",
    "These are also called as oneline functions or shorthand fucntions.\n",
    "These are the only functions with no names.\n",
    "Also called as Adhoc Function,Anonymus Function"
   ]
  },
  {
   "cell_type": "code",
   "execution_count": 15,
   "id": "98390acb-eecf-4dd2-a51b-a047976260bd",
   "metadata": {},
   "outputs": [
    {
     "data": {
      "text/plain": [
       "27"
      ]
     },
     "execution_count": 15,
     "metadata": {},
     "output_type": "execute_result"
    }
   ],
   "source": [
    "#Consider a fucntion to perform power\n",
    "def test(n,p):\n",
    "    return n**p\n",
    "test(3,3)"
   ]
  },
  {
   "cell_type": "code",
   "execution_count": 16,
   "id": "5a82f047-9bc1-4a38-a82c-268a6ae3a3f7",
   "metadata": {},
   "outputs": [
    {
     "data": {
      "text/plain": [
       "27"
      ]
     },
     "execution_count": 16,
     "metadata": {},
     "output_type": "execute_result"
    }
   ],
   "source": [
    "#the above example can be written like this\n",
    "a = lambda n,p : n**p\n",
    "a(3,3)"
   ]
  },
  {
   "cell_type": "code",
   "execution_count": 18,
   "id": "f761e34b-c398-407d-bccc-800124835572",
   "metadata": {},
   "outputs": [
    {
     "data": {
      "text/plain": [
       "56"
      ]
     },
     "execution_count": 18,
     "metadata": {},
     "output_type": "execute_result"
    }
   ],
   "source": [
    "b = lambda a,b : a+b\n",
    "b(28,28)"
   ]
  },
  {
   "cell_type": "code",
   "execution_count": 20,
   "id": "e9300cff-c0ed-426d-9418-153b56545ee6",
   "metadata": {},
   "outputs": [
    {
     "data": {
      "text/plain": [
       "93.2"
      ]
     },
     "execution_count": 20,
     "metadata": {},
     "output_type": "execute_result"
    }
   ],
   "source": [
    "#Celcius to Fareheit\n",
    "c_to_f = lambda c : (9/5)*c+32\n",
    "c_to_f(34)"
   ]
  },
  {
   "cell_type": "code",
   "execution_count": 21,
   "id": "c075362c-fb9e-40d7-949c-3b28c47fb2ef",
   "metadata": {},
   "outputs": [
    {
     "data": {
      "text/plain": [
       "57"
      ]
     },
     "execution_count": 21,
     "metadata": {},
     "output_type": "execute_result"
    }
   ],
   "source": [
    "#Maximum of Two Numbers\n",
    "max = lambda a,b : a if a>b else b\n",
    "max(56,57)"
   ]
  },
  {
   "cell_type": "markdown",
   "id": "3ecf1cb4-df86-4584-a0d7-4608fdfb1009",
   "metadata": {},
   "source": [
    "Mapper Funtion"
   ]
  },
  {
   "cell_type": "code",
   "execution_count": 23,
   "id": "ba000c7c-af2c-4581-b7bf-85b54c2926fa",
   "metadata": {},
   "outputs": [
    {
     "data": {
      "text/plain": [
       "[1, 4, 9, 16, 25]"
      ]
     },
     "execution_count": 23,
     "metadata": {},
     "output_type": "execute_result"
    }
   ],
   "source": [
    "# Consider an function where you need to perform square for values in a list\n",
    "li = [1,2,3,4,5]\n",
    "def test(li):\n",
    "    l = []\n",
    "    for i in li:\n",
    "        l.append(i*i)\n",
    "    return l    \n",
    "test(li)    "
   ]
  },
  {
   "cell_type": "markdown",
   "id": "1d27db20-1659-48af-a133-d9e4bdaa7629",
   "metadata": {},
   "source": [
    "This can be done easily using a mapper Funtion \n",
    "Syntax : map(func, *iterables)"
   ]
  },
  {
   "cell_type": "code",
   "execution_count": 41,
   "id": "92d502e5-1f0f-457a-ade6-e7707316a639",
   "metadata": {},
   "outputs": [
    {
     "data": {
      "text/plain": [
       "<map at 0x7fab1c16f010>"
      ]
     },
     "execution_count": 41,
     "metadata": {},
     "output_type": "execute_result"
    }
   ],
   "source": [
    "#lets creaate a function and give it to map function\n",
    "li = [1,2,3,4,5]\n",
    "def sq(i):\n",
    "    return i**2\n",
    "map(sq,li)"
   ]
  },
  {
   "cell_type": "code",
   "execution_count": 42,
   "id": "922b78b2-6ca0-4ff9-88a7-716577b5a61d",
   "metadata": {},
   "outputs": [
    {
     "data": {
      "text/plain": [
       "[1, 4, 9, 16, 25]"
      ]
     },
     "execution_count": 42,
     "metadata": {},
     "output_type": "execute_result"
    }
   ],
   "source": [
    "list(map(sq,li))"
   ]
  },
  {
   "cell_type": "code",
   "execution_count": 43,
   "id": "773d66a7-5d7a-4179-aecb-df566d45cb18",
   "metadata": {},
   "outputs": [
    {
     "data": {
      "text/plain": [
       "[1, 4, 9, 16, 25]"
      ]
     },
     "execution_count": 43,
     "metadata": {},
     "output_type": "execute_result"
    }
   ],
   "source": [
    "#We can write this in other way using lambda function\n",
    "list(map(lambda x : x**2 , li))"
   ]
  },
  {
   "cell_type": "code",
   "execution_count": 44,
   "id": "4c08e6a0-fa3f-4164-9ede-4c5c4257341f",
   "metadata": {},
   "outputs": [
    {
     "data": {
      "text/plain": [
       "[11, 12, 13, 14, 15]"
      ]
     },
     "execution_count": 44,
     "metadata": {},
     "output_type": "execute_result"
    }
   ],
   "source": [
    "#Other Example\n",
    "list(map(lambda x : x+10 , li))"
   ]
  },
  {
   "cell_type": "code",
   "execution_count": 45,
   "id": "e1d81e11-ddb1-45a1-9e7e-7ce9a816b520",
   "metadata": {},
   "outputs": [
    {
     "data": {
      "text/plain": [
       "['1', '2', '3', '4', '5']"
      ]
     },
     "execution_count": 45,
     "metadata": {},
     "output_type": "execute_result"
    }
   ],
   "source": [
    "#Type conversion of elements in list using map function\n",
    "list(map(lambda x : str(x), li))"
   ]
  },
  {
   "cell_type": "code",
   "execution_count": 46,
   "id": "21bf3b84-10db-4f38-9255-cdcba1c91856",
   "metadata": {},
   "outputs": [
    {
     "data": {
      "text/plain": [
       "[124, 27, 7, 10]"
      ]
     },
     "execution_count": 46,
     "metadata": {},
     "output_type": "execute_result"
    }
   ],
   "source": [
    "#Consider two list and add two the values in the two list and generate a final list\n",
    "l1 = [1,23,4,5]\n",
    "l2 = [123,4,3,5]\n",
    "\n",
    "list(map(lambda x,y : x+y ,l1,l2 ))"
   ]
  },
  {
   "cell_type": "code",
   "execution_count": 47,
   "id": "58fdc41d-bb95-444a-8678-f3fc89240a2b",
   "metadata": {},
   "outputs": [
    {
     "data": {
      "text/plain": [
       "[124, 27, 7, 10]"
      ]
     },
     "execution_count": 47,
     "metadata": {},
     "output_type": "execute_result"
    }
   ],
   "source": [
    "# The Above example can be easily structured and can be written like this also\n",
    "l1 = [1,23,4,5]\n",
    "l2 = [123,4,3,5]\n",
    "a = lambda x,y : x+y\n",
    "list(map(a,l1,l2 ))"
   ]
  },
  {
   "cell_type": "code",
   "execution_count": 48,
   "id": "8ccc5baf-b2ac-4c6a-961c-99d910797e9e",
   "metadata": {},
   "outputs": [
    {
     "data": {
      "text/plain": [
       "['P', 'W', 'S', 'K', 'I', 'L', 'L', 'S']"
      ]
     },
     "execution_count": 48,
     "metadata": {},
     "output_type": "execute_result"
    }
   ],
   "source": [
    "#Converting all the characters in a string into uppercase\n",
    "s = \"pwskills\"\n",
    "list(map(lambda x : x.upper(),s))"
   ]
  },
  {
   "cell_type": "markdown",
   "id": "2998c32e-b75c-4d72-bf89-6188c4a07dc6",
   "metadata": {},
   "source": [
    "Reduce Function #By default not available.Check Implementation in notes \n",
    "Syntax : reduce(function, iterable)"
   ]
  },
  {
   "cell_type": "code",
   "execution_count": 51,
   "id": "11bab894-6bbc-4e36-8bd9-1f147b08f36d",
   "metadata": {},
   "outputs": [],
   "source": [
    "from functools import reduce"
   ]
  },
  {
   "cell_type": "code",
   "execution_count": 53,
   "id": "f91c3280-1b6b-4f50-97a9-b27b0f93d70a",
   "metadata": {},
   "outputs": [
    {
     "data": {
      "text/plain": [
       "18"
      ]
     },
     "execution_count": 53,
     "metadata": {},
     "output_type": "execute_result"
    }
   ],
   "source": [
    "l = [1,2,4,5,6]\n",
    "reduce(lambda x,y : x+y, l)"
   ]
  },
  {
   "cell_type": "code",
   "execution_count": 57,
   "id": "4e1405b9-69a5-480b-83ef-49a46e4af35d",
   "metadata": {},
   "outputs": [
    {
     "data": {
      "text/plain": [
       "18"
      ]
     },
     "execution_count": 57,
     "metadata": {},
     "output_type": "execute_result"
    }
   ],
   "source": [
    "# Another way of writing.\n",
    "def add(x,y):\n",
    "    return x+y\n",
    "reduce(add,l)"
   ]
  },
  {
   "cell_type": "markdown",
   "id": "afb783d7-9770-4fc7-8d54-411d8b4430ce",
   "metadata": {},
   "source": [
    "Some Exceptions of reduce funtion\n",
    "1) It gives preper values when and only we use two parameters \n",
    "2) The iterables can not be empty\n",
    "3) The main exception is it can have 1 value and that value will be ouptut"
   ]
  },
  {
   "cell_type": "code",
   "execution_count": 58,
   "id": "0f31da19-232d-4464-b90f-148c814a692f",
   "metadata": {},
   "outputs": [
    {
     "ename": "TypeError",
     "evalue": "<lambda>() missing 1 required positional argument: 'z'",
     "output_type": "error",
     "traceback": [
      "\u001b[0;31m---------------------------------------------------------------------------\u001b[0m",
      "\u001b[0;31mTypeError\u001b[0m                                 Traceback (most recent call last)",
      "Cell \u001b[0;32mIn[58], line 2\u001b[0m\n\u001b[1;32m      1\u001b[0m l \u001b[38;5;241m=\u001b[39m [\u001b[38;5;241m1\u001b[39m,\u001b[38;5;241m2\u001b[39m,\u001b[38;5;241m4\u001b[39m,\u001b[38;5;241m5\u001b[39m,\u001b[38;5;241m6\u001b[39m]\n\u001b[0;32m----> 2\u001b[0m \u001b[43mreduce\u001b[49m\u001b[43m(\u001b[49m\u001b[38;5;28;43;01mlambda\u001b[39;49;00m\u001b[43m \u001b[49m\u001b[43mx\u001b[49m\u001b[43m,\u001b[49m\u001b[43my\u001b[49m\u001b[43m,\u001b[49m\u001b[43mz\u001b[49m\u001b[43m \u001b[49m\u001b[43m:\u001b[49m\u001b[43m \u001b[49m\u001b[43mx\u001b[49m\u001b[38;5;241;43m+\u001b[39;49m\u001b[43my\u001b[49m\u001b[38;5;241;43m+\u001b[39;49m\u001b[43mz\u001b[49m\u001b[43m,\u001b[49m\u001b[43m \u001b[49m\u001b[43ml\u001b[49m\u001b[43m)\u001b[49m\n",
      "\u001b[0;31mTypeError\u001b[0m: <lambda>() missing 1 required positional argument: 'z'"
     ]
    }
   ],
   "source": [
    "l = [1,2,4,5,6]\n",
    "reduce(lambda x,y,z : x+y+z, l)"
   ]
  },
  {
   "cell_type": "code",
   "execution_count": 59,
   "id": "5fa5375a-0d30-4181-b2d6-761b607943e3",
   "metadata": {},
   "outputs": [
    {
     "ename": "TypeError",
     "evalue": "reduce() of empty iterable with no initial value",
     "output_type": "error",
     "traceback": [
      "\u001b[0;31m---------------------------------------------------------------------------\u001b[0m",
      "\u001b[0;31mTypeError\u001b[0m                                 Traceback (most recent call last)",
      "Cell \u001b[0;32mIn[59], line 2\u001b[0m\n\u001b[1;32m      1\u001b[0m l \u001b[38;5;241m=\u001b[39m [\u001b[38;5;241m1\u001b[39m,\u001b[38;5;241m2\u001b[39m,\u001b[38;5;241m4\u001b[39m,\u001b[38;5;241m5\u001b[39m,\u001b[38;5;241m6\u001b[39m]\n\u001b[0;32m----> 2\u001b[0m \u001b[43mreduce\u001b[49m\u001b[43m(\u001b[49m\u001b[38;5;28;43;01mlambda\u001b[39;49;00m\u001b[43m \u001b[49m\u001b[43mx\u001b[49m\u001b[43m,\u001b[49m\u001b[43my\u001b[49m\u001b[43m \u001b[49m\u001b[43m:\u001b[49m\u001b[43m \u001b[49m\u001b[43mx\u001b[49m\u001b[38;5;241;43m+\u001b[39;49m\u001b[43my\u001b[49m\u001b[43m,\u001b[49m\u001b[43m[\u001b[49m\u001b[43m]\u001b[49m\u001b[43m)\u001b[49m\n",
      "\u001b[0;31mTypeError\u001b[0m: reduce() of empty iterable with no initial value"
     ]
    }
   ],
   "source": [
    "l = [1,2,4,5,6]\n",
    "reduce(lambda x,y : x+y,[])"
   ]
  },
  {
   "cell_type": "code",
   "execution_count": 60,
   "id": "9e3c5ec4-3eea-4476-b477-3e63a5434360",
   "metadata": {},
   "outputs": [
    {
     "data": {
      "text/plain": [
       "5"
      ]
     },
     "execution_count": 60,
     "metadata": {},
     "output_type": "execute_result"
    }
   ],
   "source": [
    "l = [1,2,4,5,6]\n",
    "reduce(lambda x,y : x+y,[5])"
   ]
  },
  {
   "cell_type": "code",
   "execution_count": 61,
   "id": "09464e43-9917-477c-bab2-fc3f6b804d71",
   "metadata": {},
   "outputs": [
    {
     "data": {
      "text/plain": [
       "3"
      ]
     },
     "execution_count": 61,
     "metadata": {},
     "output_type": "execute_result"
    }
   ],
   "source": [
    "l = [1,2,4,5,6]\n",
    "reduce(lambda x,y : x+y,[3])"
   ]
  },
  {
   "cell_type": "code",
   "execution_count": 62,
   "id": "76502cd4-07d5-4b31-9b17-e6a542138618",
   "metadata": {},
   "outputs": [
    {
     "data": {
      "text/plain": [
       "6"
      ]
     },
     "execution_count": 62,
     "metadata": {},
     "output_type": "execute_result"
    }
   ],
   "source": [
    "reduce(lambda x,y : x if x>y else y,l)"
   ]
  },
  {
   "cell_type": "markdown",
   "id": "f960147b-677e-4e47-9d35-2c75b93f83d8",
   "metadata": {},
   "source": [
    "Filter Function : Filters the values according to the condition\n",
    "filter(function or None, iterable)"
   ]
  },
  {
   "cell_type": "code",
   "execution_count": 64,
   "id": "3cd4e20d-5156-49ce-aec0-580d5ba9f39d",
   "metadata": {},
   "outputs": [
    {
     "data": {
      "text/plain": [
       "[2, 4, 56, 8]"
      ]
     },
     "execution_count": 64,
     "metadata": {},
     "output_type": "execute_result"
    }
   ],
   "source": [
    "# Filter even numbers from the list\n",
    "l = [1,2,4,5,56,7,8]\n",
    "list(filter(lambda x : x%2==0 , l))"
   ]
  },
  {
   "cell_type": "code",
   "execution_count": 65,
   "id": "264a3380-51f3-44db-a7d9-c41a01093c19",
   "metadata": {},
   "outputs": [
    {
     "data": {
      "text/plain": [
       "[1, 5, 7]"
      ]
     },
     "execution_count": 65,
     "metadata": {},
     "output_type": "execute_result"
    }
   ],
   "source": [
    "# Filter odd numbers from the list\n",
    "l = [1,2,4,5,56,7,8]\n",
    "list(filter(lambda x : x%2!=0 , l))"
   ]
  },
  {
   "cell_type": "code",
   "execution_count": 68,
   "id": "08a837d5-1bb0-473d-a328-a17b45429985",
   "metadata": {},
   "outputs": [
    {
     "data": {
      "text/plain": [
       "[1, 2, 3]"
      ]
     },
     "execution_count": 68,
     "metadata": {},
     "output_type": "execute_result"
    }
   ],
   "source": [
    "# Give positive numbers from the list\n",
    "l = [1,2,3,-1,-2,-3]\n",
    "list(filter(lambda x : x>0,l))"
   ]
  },
  {
   "cell_type": "code",
   "execution_count": 69,
   "id": "1a4ebc1f-0a6a-48bf-bf43-ea5dbe8c4b67",
   "metadata": {},
   "outputs": [
    {
     "data": {
      "text/plain": [
       "[-1, -2, -3]"
      ]
     },
     "execution_count": 69,
     "metadata": {},
     "output_type": "execute_result"
    }
   ],
   "source": [
    "# Give negative numbers from the list\n",
    "l = [1,2,3,-1,-2,-3]\n",
    "list(filter(lambda x : x<0,l))"
   ]
  },
  {
   "cell_type": "code",
   "execution_count": 70,
   "id": "4ffe9352-2fc4-4e4a-b0b3-d9d60f674013",
   "metadata": {},
   "outputs": [
    {
     "data": {
      "text/plain": [
       "['pwskils', 'data', 'Science']"
      ]
     },
     "execution_count": 70,
     "metadata": {},
     "output_type": "execute_result"
    }
   ],
   "source": [
    "# Filter out the values length greater than 8\n",
    "l = [\"Gowtham Varma\",\"pwskils\",\"data\",\"Science\"]\n",
    "list(filter(lambda x : len(x) < 8,l))"
   ]
  }
 ],
 "metadata": {
  "kernelspec": {
   "display_name": "Python 3 (ipykernel)",
   "language": "python",
   "name": "python3"
  },
  "language_info": {
   "codemirror_mode": {
    "name": "ipython",
    "version": 3
   },
   "file_extension": ".py",
   "mimetype": "text/x-python",
   "name": "python",
   "nbconvert_exporter": "python",
   "pygments_lexer": "ipython3",
   "version": "3.10.8"
  }
 },
 "nbformat": 4,
 "nbformat_minor": 5
}
