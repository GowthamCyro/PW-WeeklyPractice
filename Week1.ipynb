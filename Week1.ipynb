{
 "cells": [
  {
   "cell_type": "code",
   "execution_count": 1,
   "id": "2c60fd80-609d-47e7-9dcc-f7a7b049a0a9",
   "metadata": {},
   "outputs": [
    {
     "name": "stdout",
     "output_type": "stream",
     "text": [
      "Hello World I am gonna be data scientist\n"
     ]
    }
   ],
   "source": [
    "print(\"Hello World I am gonna be data scientist\")"
   ]
  },
  {
   "cell_type": "code",
   "execution_count": 2,
   "id": "e603dddd-3836-42d4-99d5-7a94a42c9bc7",
   "metadata": {},
   "outputs": [],
   "source": [
    "a = 10\n",
    "b = 10.0\n",
    "c = \"Gowtham\"\n",
    "d = True\n",
    "e = 10.0000000"
   ]
  },
  {
   "cell_type": "code",
   "execution_count": 3,
   "id": "22d909cf-82f2-42c9-a69f-40f1da2ed690",
   "metadata": {},
   "outputs": [
    {
     "name": "stdout",
     "output_type": "stream",
     "text": [
      "Type of a <class 'int'>\n",
      "Type of b <class 'float'>\n",
      "Type of c <class 'str'>\n",
      "Type of d <class 'bool'>\n",
      "Type of e <class 'float'>\n"
     ]
    }
   ],
   "source": [
    "print(\"Type of a\",type(a))\n",
    "print(\"Type of b\",type(b))\n",
    "print(\"Type of c\",type(c))\n",
    "print(\"Type of d\",type(d))\n",
    "print(\"Type of e\",type(e))"
   ]
  },
  {
   "cell_type": "code",
   "execution_count": 4,
   "id": "21b633f9-7184-47d3-aeb2-a4b24ce4ca7f",
   "metadata": {},
   "outputs": [
    {
     "data": {
      "text/plain": [
       "1"
      ]
     },
     "execution_count": 4,
     "metadata": {},
     "output_type": "execute_result"
    }
   ],
   "source": [
    "True - False"
   ]
  },
  {
   "cell_type": "code",
   "execution_count": 5,
   "id": "c7437586-ac6f-416b-8f9a-f7964ea7dff9",
   "metadata": {},
   "outputs": [
    {
     "data": {
      "text/plain": [
       "-1"
      ]
     },
     "execution_count": 5,
     "metadata": {},
     "output_type": "execute_result"
    }
   ],
   "source": [
    "False - True"
   ]
  },
  {
   "cell_type": "code",
   "execution_count": 6,
   "id": "37ad1e7d-9d65-47f4-a291-6d4a3a0cb5a4",
   "metadata": {},
   "outputs": [
    {
     "ename": "ZeroDivisionError",
     "evalue": "division by zero",
     "output_type": "error",
     "traceback": [
      "\u001b[0;31m---------------------------------------------------------------------------\u001b[0m",
      "\u001b[0;31mZeroDivisionError\u001b[0m                         Traceback (most recent call last)",
      "Cell \u001b[0;32mIn[6], line 1\u001b[0m\n\u001b[0;32m----> 1\u001b[0m \u001b[38;5;28;43;01mTrue\u001b[39;49;00m\u001b[43m \u001b[49m\u001b[38;5;241;43m/\u001b[39;49m\u001b[43m \u001b[49m\u001b[38;5;28;43;01mFalse\u001b[39;49;00m\n",
      "\u001b[0;31mZeroDivisionError\u001b[0m: division by zero"
     ]
    }
   ],
   "source": [
    "True / False"
   ]
  },
  {
   "cell_type": "code",
   "execution_count": 7,
   "id": "756e7159-c6ab-45ce-b13c-897ff33d4ad3",
   "metadata": {},
   "outputs": [
    {
     "data": {
      "text/plain": [
       "0.0"
      ]
     },
     "execution_count": 7,
     "metadata": {},
     "output_type": "execute_result"
    }
   ],
   "source": [
    "False / True"
   ]
  },
  {
   "cell_type": "code",
   "execution_count": 8,
   "id": "1986bffc-b5b0-4df9-b966-3c319a083fc1",
   "metadata": {},
   "outputs": [
    {
     "data": {
      "text/plain": [
       "0"
      ]
     },
     "execution_count": 8,
     "metadata": {},
     "output_type": "execute_result"
    }
   ],
   "source": [
    "False % True"
   ]
  },
  {
   "cell_type": "code",
   "execution_count": 9,
   "id": "a15c4e88-8daf-411c-85b9-bac9cfb1ffa3",
   "metadata": {},
   "outputs": [
    {
     "ename": "ZeroDivisionError",
     "evalue": "integer division or modulo by zero",
     "output_type": "error",
     "traceback": [
      "\u001b[0;31m---------------------------------------------------------------------------\u001b[0m",
      "\u001b[0;31mZeroDivisionError\u001b[0m                         Traceback (most recent call last)",
      "Cell \u001b[0;32mIn[9], line 1\u001b[0m\n\u001b[0;32m----> 1\u001b[0m \u001b[38;5;28;43;01mTrue\u001b[39;49;00m\u001b[43m \u001b[49m\u001b[38;5;241;43m%\u001b[39;49m\u001b[43m \u001b[49m\u001b[38;5;28;43;01mFalse\u001b[39;49;00m\n",
      "\u001b[0;31mZeroDivisionError\u001b[0m: integer division or modulo by zero"
     ]
    }
   ],
   "source": [
    "True % False"
   ]
  },
  {
   "cell_type": "code",
   "execution_count": 10,
   "id": "142da174-4ed5-4063-9905-c6f4751cdb4c",
   "metadata": {},
   "outputs": [],
   "source": [
    "f = a + 4j"
   ]
  },
  {
   "cell_type": "code",
   "execution_count": 11,
   "id": "66b261e6-32c8-4022-8f6f-3e46283bb9df",
   "metadata": {},
   "outputs": [
    {
     "data": {
      "text/plain": [
       "complex"
      ]
     },
     "execution_count": 11,
     "metadata": {},
     "output_type": "execute_result"
    }
   ],
   "source": [
    "type(f)"
   ]
  },
  {
   "cell_type": "code",
   "execution_count": 12,
   "id": "ad06c176-2004-476b-acf4-30121099f680",
   "metadata": {},
   "outputs": [
    {
     "data": {
      "text/plain": [
       "(10+4j)"
      ]
     },
     "execution_count": 12,
     "metadata": {},
     "output_type": "execute_result"
    }
   ],
   "source": [
    "f #This is complex type variable because it is of the form a+ib"
   ]
  },
  {
   "cell_type": "code",
   "execution_count": 13,
   "id": "ad4a006b-6ff7-45c5-aba4-5740e3a7ced3",
   "metadata": {},
   "outputs": [
    {
     "data": {
      "text/plain": [
       "10.0"
      ]
     },
     "execution_count": 13,
     "metadata": {},
     "output_type": "execute_result"
    }
   ],
   "source": [
    "f.real"
   ]
  },
  {
   "cell_type": "code",
   "execution_count": 14,
   "id": "96809060-c334-4fd7-9184-5a19772e4cef",
   "metadata": {},
   "outputs": [
    {
     "data": {
      "text/plain": [
       "4.0"
      ]
     },
     "execution_count": 14,
     "metadata": {},
     "output_type": "execute_result"
    }
   ],
   "source": [
    "f.imag"
   ]
  },
  {
   "cell_type": "code",
   "execution_count": 15,
   "id": "2837e15b-096e-4c30-95fc-615389450358",
   "metadata": {},
   "outputs": [
    {
     "name": "stdin",
     "output_type": "stream",
     "text": [
      " 10\n"
     ]
    }
   ],
   "source": [
    "a = input()\n",
    "b = \"Gowtham\""
   ]
  },
  {
   "cell_type": "code",
   "execution_count": 16,
   "id": "46b74593-68c2-4573-8b67-ad07f24e27e4",
   "metadata": {},
   "outputs": [
    {
     "data": {
      "text/plain": [
       "'10Gowtham'"
      ]
     },
     "execution_count": 16,
     "metadata": {},
     "output_type": "execute_result"
    }
   ],
   "source": [
    "a+b"
   ]
  },
  {
   "cell_type": "code",
   "execution_count": 18,
   "id": "a5574c36-94b4-465a-b302-20e89df7c8c7",
   "metadata": {},
   "outputs": [
    {
     "ename": "TypeError",
     "evalue": "unsupported operand type(s) for +: 'int' and 'str'",
     "output_type": "error",
     "traceback": [
      "\u001b[0;31m---------------------------------------------------------------------------\u001b[0m",
      "\u001b[0;31mTypeError\u001b[0m                                 Traceback (most recent call last)",
      "Cell \u001b[0;32mIn[18], line 3\u001b[0m\n\u001b[1;32m      1\u001b[0m a \u001b[38;5;241m=\u001b[39m \u001b[38;5;241m20\u001b[39m\n\u001b[1;32m      2\u001b[0m b \u001b[38;5;241m=\u001b[39m \u001b[38;5;124m\"\u001b[39m\u001b[38;5;124mGowtham\u001b[39m\u001b[38;5;124m\"\u001b[39m\n\u001b[0;32m----> 3\u001b[0m \u001b[43ma\u001b[49m\u001b[38;5;241;43m+\u001b[39;49m\u001b[43mb\u001b[49m\n",
      "\u001b[0;31mTypeError\u001b[0m: unsupported operand type(s) for +: 'int' and 'str'"
     ]
    }
   ],
   "source": [
    "a = 20\n",
    "b = \"Gowtham\"\n",
    "a+b"
   ]
  },
  {
   "cell_type": "code",
   "execution_count": 19,
   "id": "4bdc9f60-b421-475d-a080-5f6fb473c334",
   "metadata": {},
   "outputs": [
    {
     "name": "stdout",
     "output_type": "stream",
     "text": [
      "20Gowtham\n",
      "10Gowtham\n"
     ]
    }
   ],
   "source": [
    "print(str(a) + b)\n",
    "# or we can perform like this\n",
    "print(str(10) + b)"
   ]
  },
  {
   "cell_type": "code",
   "execution_count": 20,
   "id": "3322962c-6920-4caf-97ff-19cc6d27bd25",
   "metadata": {},
   "outputs": [
    {
     "name": "stdin",
     "output_type": "stream",
     "text": [
      "Enter Number: 12\n"
     ]
    }
   ],
   "source": [
    "#The input we take from keyboard can be changed in following way\n",
    "#for integer\n",
    "c = int(input(\"Enter Number:\"))"
   ]
  },
  {
   "cell_type": "code",
   "execution_count": 21,
   "id": "6facf590-4625-4199-b0e2-a247a9fedaa5",
   "metadata": {},
   "outputs": [
    {
     "data": {
      "text/plain": [
       "int"
      ]
     },
     "execution_count": 21,
     "metadata": {},
     "output_type": "execute_result"
    }
   ],
   "source": [
    "type(c)"
   ]
  },
  {
   "cell_type": "code",
   "execution_count": null,
   "id": "b6e587b2-4057-4cc8-86da-3218cdda9779",
   "metadata": {},
   "outputs": [],
   "source": [
    "#Mutability and Immutability of Objects"
   ]
  },
  {
   "cell_type": "code",
   "execution_count": 22,
   "id": "547bc870-0d24-4107-ae50-10889d9426df",
   "metadata": {},
   "outputs": [
    {
     "name": "stdout",
     "output_type": "stream",
     "text": [
      "w\n",
      "w\n"
     ]
    }
   ],
   "source": [
    "s = \"Gowtham\" # string\n",
    "print(s[2])\n",
    "print(s[-5])"
   ]
  },
  {
   "cell_type": "code",
   "execution_count": 24,
   "id": "b4b3df75-3016-4957-ad7f-154537a1ea99",
   "metadata": {},
   "outputs": [
    {
     "name": "stdout",
     "output_type": "stream",
     "text": [
      "hlo\n",
      "hlo\n"
     ]
    }
   ],
   "source": [
    "l = [1,2,3,4,5,\"gowtham\",\"hlo\",True] #lists\n",
    "print(l[-2])\n",
    "print(l[6])"
   ]
  },
  {
   "cell_type": "code",
   "execution_count": 28,
   "id": "22e85548-ca8b-4188-b591-bfa02e1315ec",
   "metadata": {},
   "outputs": [
    {
     "ename": "TypeError",
     "evalue": "'str' object does not support item assignment",
     "output_type": "error",
     "traceback": [
      "\u001b[0;31m---------------------------------------------------------------------------\u001b[0m",
      "\u001b[0;31mTypeError\u001b[0m                                 Traceback (most recent call last)",
      "Cell \u001b[0;32mIn[28], line 1\u001b[0m\n\u001b[0;32m----> 1\u001b[0m \u001b[43ms\u001b[49m\u001b[43m[\u001b[49m\u001b[38;5;241;43m2\u001b[39;49m\u001b[43m]\u001b[49m \u001b[38;5;241m=\u001b[39m \u001b[38;5;124m'\u001b[39m\u001b[38;5;124mm\u001b[39m\u001b[38;5;124m'\u001b[39m \u001b[38;5;66;03m#immutable so error is generated\u001b[39;00m\n",
      "\u001b[0;31mTypeError\u001b[0m: 'str' object does not support item assignment"
     ]
    }
   ],
   "source": [
    "s[2] = 'm' #immutable so error is generated"
   ]
  },
  {
   "cell_type": "code",
   "execution_count": 27,
   "id": "42a71652-8056-44ea-b5fe-a8e5755fc97f",
   "metadata": {},
   "outputs": [],
   "source": [
    "l[2] = 'u' # mutable so values can be changed"
   ]
  },
  {
   "cell_type": "code",
   "execution_count": null,
   "id": "698169af-4b90-4859-b08b-d7618fa99235",
   "metadata": {},
   "outputs": [],
   "source": []
  }
 ],
 "metadata": {
  "kernelspec": {
   "display_name": "Python 3 (ipykernel)",
   "language": "python",
   "name": "python3"
  },
  "language_info": {
   "codemirror_mode": {
    "name": "ipython",
    "version": 3
   },
   "file_extension": ".py",
   "mimetype": "text/x-python",
   "name": "python",
   "nbconvert_exporter": "python",
   "pygments_lexer": "ipython3",
   "version": "3.10.8"
  }
 },
 "nbformat": 4,
 "nbformat_minor": 5
}
